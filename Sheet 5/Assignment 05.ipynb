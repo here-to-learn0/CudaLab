{
 "cells": [
  {
   "cell_type": "code",
   "execution_count": 1,
   "metadata": {
    "id": "HfIlsf1m-W-e"
   },
   "outputs": [],
   "source": [
    "import os\n",
    "from tqdm import tqdm\n",
    "import numpy as np\n",
    "import matplotlib.pyplot as plt\n",
    "import math\n",
    "import torch\n",
    "import torch.nn as nn\n",
    "import torch.nn.functional as F\n",
    "import torchvision\n",
    "from torchvision import datasets, models, transforms"
   ]
  },
  {
   "cell_type": "code",
   "execution_count": 2,
   "metadata": {
    "id": "UvUJWNh5-oL-"
   },
   "outputs": [],
   "source": [
    "# Downloading and Loading Dataset\n",
    "t = transforms.Compose([transforms.ToTensor()\n",
    "                       ])\n",
    "target_t = lambda label: F.one_hot(torch.tensor(label), num_classes=10).type(torch.float32)\n",
    "\n",
    "train_dataset = datasets.FashionMNIST(root=\"./data\", train=True, transform=t, target_transform=target_t, download=True)\n",
    " \n",
    "test_dataset =  datasets.FashionMNIST(root=\"./data\", train=False, transform=t, target_transform=target_t, download=True)\n",
    "\n",
    "classes = [\"T-shirt/top\",\n",
    "\"Trouser\",\n",
    "\"Pullover\",\n",
    "\"Dress\",\n",
    "\"Coat\",\n",
    "\"Sandal\",\n",
    "\"Shirt\",\n",
    "\"Sneaker\",\n",
    "\"Bag\",\n",
    "\"Ankle boot\"] "
   ]
  },
  {
   "cell_type": "code",
   "execution_count": 3,
   "metadata": {
    "id": "3zDDe_Hf-yt1"
   },
   "outputs": [],
   "source": [
    "# Fitting data loaders for iterating\n",
    "B_SIZE = 256\n",
    "\n",
    "train_loader = torch.utils.data.DataLoader(dataset=train_dataset, \n",
    "                                           batch_size=B_SIZE, \n",
    "                                           shuffle=True) \n",
    "test_loader = torch.utils.data.DataLoader(dataset=test_dataset, \n",
    "                                          batch_size=B_SIZE,\n",
    "                                          shuffle=False)"
   ]
  },
  {
   "cell_type": "code",
   "execution_count": 16,
   "metadata": {},
   "outputs": [
    {
     "name": "stdout",
     "output_type": "stream",
     "text": [
      "Visualizig image in dataset\n"
     ]
    },
    {
     "data": {
      "image/png": "[encoded data removed]",
      "text/plain": [
       "<Figure size 1080x360 with 2 Axes>"
      ]
     },
     "metadata": {
      "needs_background": "light"
     },
     "output_type": "display_data"
    }
   ],
   "source": [
    "# img = next(iter(test_loader))[0][0].permute(1,2,0)\n",
    "img = train_dataset[0][0].permute(1,2,0)\n",
    "label = next(iter(test_loader))[1][0].argmax()\n",
    "\n",
    "def visual(img, label):\n",
    "    print(\"Visualizig image in dataset\")\n",
    "\n",
    "    fig, ax = plt.subplots()\n",
    "    fig.set_size_inches(15,5)\n",
    "\n",
    "    img = img.numpy()\n",
    "    im = ax.imshow(img, cmap=\"gray\")\n",
    "\n",
    "    fig.colorbar(im)\n",
    "    ax.set_title(f\"The label of the image is {label}\")\n",
    "    \n",
    "visual(img, classes[label])"
   ]
  },
  {
   "cell_type": "code",
   "execution_count": 5,
   "metadata": {},
   "outputs": [
    {
     "name": "stdout",
     "output_type": "stream",
     "text": [
      "cuda\n"
     ]
    }
   ],
   "source": [
    "device = torch.device(\"cuda\" if torch.cuda.is_available() else \"cpu\")\n",
    "print(device)"
   ]
  },
  {
   "cell_type": "code",
   "execution_count": 6,
   "metadata": {},
   "outputs": [],
   "source": [
    "def train_epoch(model, train_loader, optimizer, criterion, epoch, device):\n",
    "    \"\"\" Training a model for one epoch \"\"\"\n",
    "    \n",
    "    loss_list = []\n",
    "    progress_bar = tqdm(enumerate(train_loader), total=len(train_loader))\n",
    "    for i, (images, labels) in progress_bar:\n",
    "        images = images.to(device)\n",
    "        labels = labels.to(device)\n",
    "        \n",
    "        # Clear gradients w.r.t. parameters\n",
    "        optimizer.zero_grad()\n",
    "         \n",
    "        # Forward pass to get output/logits\n",
    "        outputs = model(images)\n",
    "         \n",
    "        # Calculate Loss: softmax --> cross entropy loss\n",
    "        loss = criterion(outputs, labels)\n",
    "        loss_list.append(loss.item())\n",
    "         \n",
    "        # Getting gradients w.r.t. parameters\n",
    "        loss.backward()\n",
    "         \n",
    "        # Updating parameters\n",
    "        optimizer.step()\n",
    "        \n",
    "        progress_bar.set_description(f\"Epoch {epoch+1} Iter {i+1}: loss {loss.item():.5f}. \")\n",
    "        \n",
    "    mean_loss = np.mean(loss_list)\n",
    "    return mean_loss, loss_list\n",
    "\n",
    "\n",
    "@torch.no_grad()\n",
    "def eval_model(model, eval_loader, criterion, device):\n",
    "    \"\"\" Evaluating the model for either validation or test \"\"\"\n",
    "    correct = 0\n",
    "    total = 0\n",
    "    loss_list = []\n",
    "    \n",
    "    for images, labels in eval_loader:\n",
    "        images = images.to(device)\n",
    "        labels = labels.to(device)\n",
    "        \n",
    "        # Forward pass only to get logits/output\n",
    "        outputs = model(images)\n",
    "                 \n",
    "        loss = criterion(outputs, labels)\n",
    "        loss_list.append(loss.item())\n",
    "            \n",
    "        # Get predictions from the maximum value\n",
    "        preds = torch.argmax(outputs, dim=1)\n",
    "        labels = torch.argmax(labels, dim=1)\n",
    "        correct += len( torch.where(preds==labels)[0] )\n",
    "        total += len(labels)\n",
    "                 \n",
    "    # Total correct predictions and loss\n",
    "    accuracy = correct / total * 100\n",
    "    loss = np.mean(loss_list)\n",
    "    \n",
    "    return accuracy, loss\n",
    "\n",
    "\n",
    "def train_model(model, optimizer, scheduler, criterion, train_loader, valid_loader, num_epochs):\n",
    "    \"\"\" Training a model for a given number of epochs\"\"\"\n",
    "    \n",
    "    train_loss = []\n",
    "    val_loss =  []\n",
    "    loss_iters = []\n",
    "    valid_acc = []\n",
    "    epochs = []\n",
    "    \n",
    "    for epoch in range(num_epochs):\n",
    "           \n",
    "        # validation epoch\n",
    "        model.eval()  # important for dropout and batch norms\n",
    "        accuracy, loss = eval_model(\n",
    "                    model=model, eval_loader=valid_loader,\n",
    "                    criterion=criterion, device=device\n",
    "            )\n",
    "        valid_acc.append(accuracy)\n",
    "        val_loss.append(loss)\n",
    "        epochs.append(epoch+1)\n",
    "        \n",
    "        # training epoch\n",
    "        model.train()  # important for dropout and batch norms\n",
    "        mean_loss, cur_loss_iters = train_epoch(\n",
    "                model=model, train_loader=train_loader, optimizer=optimizer,\n",
    "                criterion=criterion, epoch=epoch, device=device\n",
    "            )\n",
    "        scheduler.step()\n",
    "        train_loss.append(mean_loss)\n",
    "        loss_iters = loss_iters + cur_loss_iters\n",
    "        \n",
    "        print(f\"Epoch {epoch+1}/{num_epochs}\")\n",
    "        print(f\"    Train loss: {round(mean_loss, 5)}\")\n",
    "        print(f\"    Valid loss: {round(loss, 5)}\")\n",
    "        print(f\"    Accuracy: {accuracy}%\")\n",
    "        print(\"\\n\")\n",
    "    \n",
    "    print(f\"Training completed\")\n",
    "    return train_loss, val_loss, loss_iters, valid_acc, epochs\n",
    "\n",
    "\n",
    "def smooth(f, K=5):\n",
    "    \"\"\" Smoothing a function using a low-pass filter (mean) of size K \"\"\"\n",
    "    kernel = np.ones(K) / K\n",
    "    f = np.concatenate([f[:int(K//2)], f, f[int(-K//2):]])  # to account for boundaries\n",
    "    smooth_f = np.convolve(f, kernel, mode=\"same\")\n",
    "    smooth_f = smooth_f[K//2: -K//2]  # removing boundary-fixes\n",
    "    return smooth_f\n",
    "\n",
    "def count_model_params(model):\n",
    "    \"\"\" Counting the number of learnable parameters in a nn.Module \"\"\"\n",
    "    num_params = sum(p.numel() for p in model.parameters() if p.requires_grad)\n",
    "    return num_params"
   ]
  },
  {
   "cell_type": "markdown",
   "metadata": {},
   "source": [
    "### Implementing PyTorch LSTM model (using nn.LSTM)"
   ]
  },
  {
   "cell_type": "code",
   "execution_count": 7,
   "metadata": {},
   "outputs": [],
   "source": [
    "class torch_LSTM(nn.Module):\n",
    "    def __init__(self, input_dims, emd_dim, hidden_dim, num_layers, mode):\n",
    "        super().__init__()\n",
    "        self.hidden_dim = hidden_dim\n",
    "        self.num_layers = num_layers\n",
    "        self.mode = mode\n",
    "        \n",
    "        self.encoder = nn.Linear(in_features=input_dims, out_features=emd_dim)\n",
    "        self.lstm = nn.LSTM(input_size=emd_dim, hidden_size=hidden_dim, num_layers=num_layers, batch_first=True)\n",
    "        self.classifier = nn.Linear(in_features=hidden_dim, out_features=10)\n",
    "        return\n",
    "    \n",
    "    \n",
    "    def forward(self, x):\n",
    "        b_size, n_channels, n_rows, n_cols = x.shape\n",
    "        h,c = self.init_state(b_size=b_size, device=x.device)\n",
    "        \n",
    "        x_rowed = x.view(b_size, n_channels*n_rows, n_cols)\n",
    "        embeddings = self.encoder(x_rowed)\n",
    "        \n",
    "        lstm_out , (h_out, c_out) = self.lstm(embeddings, (h,c))\n",
    "        \n",
    "        y = self.classifier(lstm_out[:, -1, :])\n",
    "        \n",
    "        return y\n",
    "    \n",
    "    def init_state(self, b_size, device):\n",
    "        if(self.mode == \"zeros\"):\n",
    "            h = torch.zeros(self.num_layers, b_size, self.hidden_dim)\n",
    "            c = torch.zeros(self.num_layers, b_size, self.hidden_dim)\n",
    "        elif(self.mode == \"random\"):\n",
    "            h = torch.randn(self.num_layers, b_size, self.hidden_dim)\n",
    "            c = torch.randn(self.num_layers, b_size, self.hidden_dim)\n",
    "        elif(self.mode == \"learned\"):\n",
    "            h = self.learned_h.repeat(1, b_size, 1)\n",
    "            c = self.learned_c.repeat(1, b_size, 1)\n",
    "        h = h.to(device)\n",
    "        c = c.to(device)\n",
    "        return h, c"
   ]
  },
  {
   "cell_type": "code",
   "execution_count": 8,
   "metadata": {},
   "outputs": [
    {
     "name": "stdout",
     "output_type": "stream",
     "text": [
      "torch_LSTM(\n",
      "  (encoder): Linear(in_features=28, out_features=64, bias=True)\n",
      "  (lstm): LSTM(64, 128, batch_first=True)\n",
      "  (classifier): Linear(in_features=128, out_features=10, bias=True)\n",
      ")\n"
     ]
    }
   ],
   "source": [
    "model_torch = torch_LSTM(input_dims=28, emd_dim=64, hidden_dim=128, num_layers=1 , mode=\"zeros\")\n",
    "model_torch=model_torch.to(device)\n",
    "print(model_torch)"
   ]
  },
  {
   "cell_type": "code",
   "execution_count": 9,
   "metadata": {},
   "outputs": [],
   "source": [
    "# classification loss function\n",
    "criterion = nn.CrossEntropyLoss()\n",
    "\n",
    "# Observe that all parameters are being optimized\n",
    "optimizer = torch.optim.Adam(model_torch.parameters(), lr=3e-4)\n",
    "\n",
    "# Decay LR by a factor of 0.1 every 5 epochs\n",
    "scheduler = torch.optim.lr_scheduler.StepLR(optimizer, step_size=5, gamma=0.2)"
   ]
  },
  {
   "cell_type": "code",
   "execution_count": 10,
   "metadata": {},
   "outputs": [
    {
     "name": "stderr",
     "output_type": "stream",
     "text": [
      "Epoch 1 Iter 235: loss 0.66519. : 100%|██████████████████████████████████████████████| 235/235 [00:36<00:00,  6.47it/s]\n"
     ]
    },
    {
     "name": "stdout",
     "output_type": "stream",
     "text": [
      "Epoch 1/20\n",
      "    Train loss: 1.23416\n",
      "    Valid loss: 2.30792\n",
      "    Accuracy: 10.0%\n",
      "\n",
      "\n"
     ]
    },
    {
     "name": "stderr",
     "output_type": "stream",
     "text": [
      "Epoch 2 Iter 235: loss 0.51780. : 100%|██████████████████████████████████████████████| 235/235 [00:37<00:00,  6.32it/s]\n"
     ]
    },
    {
     "name": "stdout",
     "output_type": "stream",
     "text": [
      "Epoch 2/20\n",
      "    Train loss: 0.60403\n",
      "    Valid loss: 0.69008\n",
      "    Accuracy: 75.4%\n",
      "\n",
      "\n"
     ]
    },
    {
     "name": "stderr",
     "output_type": "stream",
     "text": [
      "Epoch 3 Iter 235: loss 0.42706. : 100%|██████████████████████████████████████████████| 235/235 [00:36<00:00,  6.46it/s]\n"
     ]
    },
    {
     "name": "stdout",
     "output_type": "stream",
     "text": [
      "Epoch 3/20\n",
      "    Train loss: 0.52069\n",
      "    Valid loss: 0.55803\n",
      "    Accuracy: 79.65%\n",
      "\n",
      "\n"
     ]
    },
    {
     "name": "stderr",
     "output_type": "stream",
     "text": [
      "Epoch 4 Iter 235: loss 0.45911. : 100%|██████████████████████████████████████████████| 235/235 [00:36<00:00,  6.47it/s]\n"
     ]
    },
    {
     "name": "stdout",
     "output_type": "stream",
     "text": [
      "Epoch 4/20\n",
      "    Train loss: 0.47996\n",
      "    Valid loss: 0.51299\n",
      "    Accuracy: 81.35%\n",
      "\n",
      "\n"
     ]
    },
    {
     "name": "stderr",
     "output_type": "stream",
     "text": [
      "Epoch 5 Iter 235: loss 0.38651. : 100%|██████████████████████████████████████████████| 235/235 [00:36<00:00,  6.48it/s]\n"
     ]
    },
    {
     "name": "stdout",
     "output_type": "stream",
     "text": [
      "Epoch 5/20\n",
      "    Train loss: 0.45376\n",
      "    Valid loss: 0.4733\n",
      "    Accuracy: 82.52000000000001%\n",
      "\n",
      "\n"
     ]
    },
    {
     "name": "stderr",
     "output_type": "stream",
     "text": [
      "Epoch 6 Iter 235: loss 0.46801. : 100%|██████████████████████████████████████████████| 235/235 [00:36<00:00,  6.43it/s]\n"
     ]
    },
    {
     "name": "stdout",
     "output_type": "stream",
     "text": [
      "Epoch 6/20\n",
      "    Train loss: 0.42192\n",
      "    Valid loss: 0.45644\n",
      "    Accuracy: 82.98%\n",
      "\n",
      "\n"
     ]
    },
    {
     "name": "stderr",
     "output_type": "stream",
     "text": [
      "Epoch 7 Iter 235: loss 0.52444. : 100%|██████████████████████████████████████████████| 235/235 [00:36<00:00,  6.47it/s]\n"
     ]
    },
    {
     "name": "stdout",
     "output_type": "stream",
     "text": [
      "Epoch 7/20\n",
      "    Train loss: 0.41545\n",
      "    Valid loss: 0.44005\n",
      "    Accuracy: 83.71%\n",
      "\n",
      "\n"
     ]
    },
    {
     "name": "stderr",
     "output_type": "stream",
     "text": [
      "Epoch 8 Iter 235: loss 0.36290. : 100%|██████████████████████████████████████████████| 235/235 [00:37<00:00,  6.20it/s]\n"
     ]
    },
    {
     "name": "stdout",
     "output_type": "stream",
     "text": [
      "Epoch 8/20\n",
      "    Train loss: 0.41099\n",
      "    Valid loss: 0.43623\n",
      "    Accuracy: 83.91999999999999%\n",
      "\n",
      "\n"
     ]
    },
    {
     "name": "stderr",
     "output_type": "stream",
     "text": [
      "Epoch 9 Iter 235: loss 0.38067. : 100%|██████████████████████████████████████████████| 235/235 [00:37<00:00,  6.35it/s]\n"
     ]
    },
    {
     "name": "stdout",
     "output_type": "stream",
     "text": [
      "Epoch 9/20\n",
      "    Train loss: 0.40542\n",
      "    Valid loss: 0.43479\n",
      "    Accuracy: 84.14%\n",
      "\n",
      "\n"
     ]
    },
    {
     "name": "stderr",
     "output_type": "stream",
     "text": [
      "Epoch 10 Iter 235: loss 0.26237. : 100%|█████████████████████████████████████████████| 235/235 [00:36<00:00,  6.50it/s]\n"
     ]
    },
    {
     "name": "stdout",
     "output_type": "stream",
     "text": [
      "Epoch 10/20\n",
      "    Train loss: 0.40115\n",
      "    Valid loss: 0.42966\n",
      "    Accuracy: 84.16%\n",
      "\n",
      "\n"
     ]
    },
    {
     "name": "stderr",
     "output_type": "stream",
     "text": [
      "Epoch 11 Iter 235: loss 0.37128. : 100%|█████████████████████████████████████████████| 235/235 [00:37<00:00,  6.33it/s]\n"
     ]
    },
    {
     "name": "stdout",
     "output_type": "stream",
     "text": [
      "Epoch 11/20\n",
      "    Train loss: 0.39348\n",
      "    Valid loss: 0.4251\n",
      "    Accuracy: 84.28999999999999%\n",
      "\n",
      "\n"
     ]
    },
    {
     "name": "stderr",
     "output_type": "stream",
     "text": [
      "Epoch 12 Iter 235: loss 0.40508. : 100%|█████████████████████████████████████████████| 235/235 [00:36<00:00,  6.46it/s]\n"
     ]
    },
    {
     "name": "stdout",
     "output_type": "stream",
     "text": [
      "Epoch 12/20\n",
      "    Train loss: 0.39245\n",
      "    Valid loss: 0.42177\n",
      "    Accuracy: 84.41%\n",
      "\n",
      "\n"
     ]
    },
    {
     "name": "stderr",
     "output_type": "stream",
     "text": [
      "Epoch 13 Iter 235: loss 0.34848. : 100%|█████████████████████████████████████████████| 235/235 [00:37<00:00,  6.32it/s]\n"
     ]
    },
    {
     "name": "stdout",
     "output_type": "stream",
     "text": [
      "Epoch 13/20\n",
      "    Train loss: 0.39127\n",
      "    Valid loss: 0.42008\n",
      "    Accuracy: 84.39%\n",
      "\n",
      "\n"
     ]
    },
    {
     "name": "stderr",
     "output_type": "stream",
     "text": [
      "Epoch 14 Iter 235: loss 0.44902. : 100%|█████████████████████████████████████████████| 235/235 [00:37<00:00,  6.24it/s]\n"
     ]
    },
    {
     "name": "stdout",
     "output_type": "stream",
     "text": [
      "Epoch 14/20\n",
      "    Train loss: 0.39068\n",
      "    Valid loss: 0.41997\n",
      "    Accuracy: 84.47%\n",
      "\n",
      "\n"
     ]
    },
    {
     "name": "stderr",
     "output_type": "stream",
     "text": [
      "Epoch 15 Iter 235: loss 0.52681. : 100%|█████████████████████████████████████████████| 235/235 [00:36<00:00,  6.39it/s]\n"
     ]
    },
    {
     "name": "stdout",
     "output_type": "stream",
     "text": [
      "Epoch 15/20\n",
      "    Train loss: 0.38991\n",
      "    Valid loss: 0.41896\n",
      "    Accuracy: 84.5%\n",
      "\n",
      "\n"
     ]
    },
    {
     "name": "stderr",
     "output_type": "stream",
     "text": [
      "Epoch 16 Iter 235: loss 0.50334. : 100%|█████████████████████████████████████████████| 235/235 [00:37<00:00,  6.19it/s]\n"
     ]
    },
    {
     "name": "stdout",
     "output_type": "stream",
     "text": [
      "Epoch 16/20\n",
      "    Train loss: 0.38827\n",
      "    Valid loss: 0.41767\n",
      "    Accuracy: 84.58%\n",
      "\n",
      "\n"
     ]
    },
    {
     "name": "stderr",
     "output_type": "stream",
     "text": [
      "Epoch 17 Iter 235: loss 0.30314. : 100%|█████████████████████████████████████████████| 235/235 [00:37<00:00,  6.22it/s]\n"
     ]
    },
    {
     "name": "stdout",
     "output_type": "stream",
     "text": [
      "Epoch 17/20\n",
      "    Train loss: 0.38734\n",
      "    Valid loss: 0.41729\n",
      "    Accuracy: 84.53%\n",
      "\n",
      "\n"
     ]
    },
    {
     "name": "stderr",
     "output_type": "stream",
     "text": [
      "Epoch 18 Iter 235: loss 0.36496. : 100%|█████████████████████████████████████████████| 235/235 [00:37<00:00,  6.33it/s]\n"
     ]
    },
    {
     "name": "stdout",
     "output_type": "stream",
     "text": [
      "Epoch 18/20\n",
      "    Train loss: 0.38732\n",
      "    Valid loss: 0.41725\n",
      "    Accuracy: 84.53%\n",
      "\n",
      "\n"
     ]
    },
    {
     "name": "stderr",
     "output_type": "stream",
     "text": [
      "Epoch 19 Iter 235: loss 0.44436. : 100%|█████████████████████████████████████████████| 235/235 [00:36<00:00,  6.36it/s]\n"
     ]
    },
    {
     "name": "stdout",
     "output_type": "stream",
     "text": [
      "Epoch 19/20\n",
      "    Train loss: 0.38734\n",
      "    Valid loss: 0.41704\n",
      "    Accuracy: 84.55%\n",
      "\n",
      "\n"
     ]
    },
    {
     "name": "stderr",
     "output_type": "stream",
     "text": [
      "Epoch 20 Iter 235: loss 0.40662. : 100%|█████████████████████████████████████████████| 235/235 [00:36<00:00,  6.49it/s]"
     ]
    },
    {
     "name": "stdout",
     "output_type": "stream",
     "text": [
      "Epoch 20/20\n",
      "    Train loss: 0.38707\n",
      "    Valid loss: 0.4171\n",
      "    Accuracy: 84.50999999999999%\n",
      "\n",
      "\n",
      "Training completed\n"
     ]
    },
    {
     "name": "stderr",
     "output_type": "stream",
     "text": [
      "\n"
     ]
    }
   ],
   "source": [
    "train_loss_lstm, val_loss_lstm, loss_iters_lstm, valid_acc_lstm, epochs_lstm = train_model(\n",
    "        model=model_torch, optimizer=optimizer, scheduler=scheduler, criterion=criterion,\n",
    "        train_loader=train_loader, valid_loader=test_loader, num_epochs=20\n",
    "    )"
   ]
  },
  {
   "cell_type": "markdown",
   "metadata": {},
   "source": [
    "### Implementing own custom LSTM model without using nn.LSTM"
   ]
  },
  {
   "cell_type": "code",
   "execution_count": 11,
   "metadata": {
    "id": "G3F_oG5zr1lQ"
   },
   "outputs": [],
   "source": [
    "class LSTM_Cells(torch.nn.Module):\n",
    "   \n",
    "    def __init__(self, in_dim, hidden_dim, bias=True):\n",
    "        super(LSTM_Cells, self).__init__()\n",
    "        self.in_dim = in_dim\n",
    "        self.hidden_dim = hidden_dim\n",
    "        self.bias = bias\n",
    "        self.layer1 = nn.Linear(in_dim, 4 * hidden_dim, bias=bias)\n",
    "        self.layer2 = nn.Linear(hidden_dim, 4 * hidden_dim, bias=bias)\n",
    "        self.reset_parameters()\n",
    "\n",
    "    def reset_parameters(self):\n",
    "        std = 1.0 / math.sqrt(self.hidden_dim)\n",
    "        for w in self.parameters():\n",
    "            w.data.uniform_(-std, std)\n",
    "    \n",
    "    def forward(self, x, hidden):\n",
    "        \n",
    "        x = x.view(-1, x.size(1))\n",
    "        hx, cx = hidden\n",
    "        \n",
    "        gates = self.layer1(x) + self.layer2(hx)\n",
    "        gates = gates.squeeze()\n",
    "        \n",
    "        input_gate, forget_gate, next_gate, out_gate = gates.chunk(4, 1)\n",
    "        \n",
    "        input_gate = torch.sigmoid(input_gate)\n",
    "        \n",
    "        forget_gate = torch.sigmoid(forget_gate)\n",
    "        \n",
    "        next_gate = torch.tanh(next_gate)\n",
    "        \n",
    "        out_gate = torch.sigmoid(out_gate)  \n",
    "        \n",
    "        c_y = forget_gate * cx + input_gate * next_gate\n",
    "        h_y = out_gate * torch.tanh(c_y)\n",
    "        \n",
    "        return (c_y, h_y)\n",
    "class Custom_LSTM(nn.Module):\n",
    "    \"\"\" \n",
    "    Sequential classifier for images. Embedded image rows are fed to a RNN\n",
    "    \n",
    "    Args:\n",
    "    -----\n",
    "    input_dim: integer\n",
    "        dimensionality of the rows to embed\n",
    "    emb_dim: integer \n",
    "        dimensionality of the vectors fed to the LSTM\n",
    "    hidden_dim: integer\n",
    "        dimensionality of the states in the cell\n",
    "    num_layers: integer\n",
    "        number of stacked LSTMS\n",
    "    mode: string\n",
    "        intialization of the states\n",
    "    \"\"\"\n",
    "    \n",
    "    def __init__(self, input_dim, emb_dim, hidden_dim, num_layers=1, mode=\"zeros\"):\n",
    "        \"\"\" Module initializer \"\"\"\n",
    "        assert mode in [\"zeros\", \"random\", \"learned\"]\n",
    "        super().__init__()\n",
    "        self.hidden_dim =  hidden_dim\n",
    "        self.input_dim =  input_dim\n",
    "        self.num_layers = num_layers\n",
    "        self.mode = mode\n",
    "        if(mode == \"learned\"):\n",
    "            self.learned_h = nn.Parameter(\n",
    "                    torch.randn(num_layers, 1, hidden_dim).requires_grad_()\n",
    "                )\n",
    "            self.learned_c = nn.Parameter(\n",
    "                    torch.randn(num_layers, 1, hidden_dim).requires_grad_()\n",
    "                )\n",
    "        \n",
    "        # for embedding rows into vector representations\n",
    "        self.encoder = nn.Linear(in_features=input_dim, out_features=emb_dim)\n",
    "\n",
    "        lstms = []\n",
    "        for i in range(num_layers):\n",
    "            in_size = emb_dim if i == 0 else hidden_dim\n",
    "            lstms.append(LSTM_Cells(in_dim=in_size, hidden_dim=hidden_dim))\n",
    "        self.lstm = nn.ModuleList(lstms)\n",
    "        \n",
    "        # classifier\n",
    "        self.classifier = nn.Linear(in_features=hidden_dim, out_features=10)\n",
    "        \n",
    "        return\n",
    "    \n",
    "\n",
    "    def forward(self, x):\n",
    "        \"\"\" Forward pass through model \"\"\"\n",
    "        \n",
    "        b_size, n_channels, n_rows, n_cols = x.shape\n",
    "        h, c = self.init_state(b_size=b_size, device=x.device) \n",
    "        \n",
    "        # embedding rows\n",
    "        x_rowed = x.view(b_size, n_channels*n_rows, n_cols)\n",
    "\n",
    "        embeddings = self.encoder(x_rowed)\n",
    "\n",
    "\n",
    "        lstm_out = []\n",
    "        for i in range(embeddings.shape[1]):\n",
    "            lstm_input = embeddings[:, i, :]\n",
    "            # iterating over LSTM Cells\n",
    "            for j, lstm_cell in enumerate(self.lstm):\n",
    "                h[j], c[j] = lstm_cell(lstm_input, (h[j].clone(), c[j].clone()))\n",
    "                lstm_input = h[j]\n",
    "            lstm_out.append(lstm_input)\n",
    "        lstm_out = torch.stack(lstm_out, dim=1)\n",
    "\n",
    "        # classifying\n",
    "        y = self.classifier(lstm_out[:, -1, :])  # feeding only output at last layer\n",
    "        return y\n",
    "    \n",
    "        \n",
    "    def init_state(self, b_size, device):\n",
    "        \"\"\" Initializing hidden and cell state \"\"\"\n",
    "        if(self.mode == \"zeros\"):\n",
    "            h = torch.zeros(self.num_layers, b_size, self.hidden_dim)\n",
    "            c = torch.zeros(self.num_layers, b_size, self.hidden_dim)\n",
    "        elif(self.mode == \"random\"):\n",
    "            h = torch.randn(self.num_layers, b_size, self.hidden_dim)\n",
    "            c = torch.randn(self.num_layers, b_size, self.hidden_dim)\n",
    "        elif(self.mode == \"learned\"):\n",
    "            h = self.learned_h.repeat(1, b_size, 1)\n",
    "            c = self.learned_c.repeat(1, b_size, 1)\n",
    "        h = h.to(device)\n",
    "        c = c.to(device)\n",
    "        return h, c"
   ]
  },
  {
   "cell_type": "code",
   "execution_count": 12,
   "metadata": {
    "colab": {
     "base_uri": "https://localhost:8080/"
    },
    "id": "aAgjXYfZnekC",
    "outputId": "02de2f34-ba16-4f8f-be52-d1bac6e6f49f"
   },
   "outputs": [
    {
     "data": {
      "text/plain": [
       "102474"
      ]
     },
     "execution_count": 12,
     "metadata": {},
     "output_type": "execute_result"
    }
   ],
   "source": [
    "model_customlstm = Custom_LSTM(input_dim=28, emb_dim=64, hidden_dim=128, num_layers=1, mode=\"zeros\")\n",
    "count_model_params(model_customlstm)"
   ]
  },
  {
   "cell_type": "code",
   "execution_count": 13,
   "metadata": {
    "id": "Cv7AShZ6npUY"
   },
   "outputs": [
    {
     "name": "stdout",
     "output_type": "stream",
     "text": [
      "Custom_LSTM(\n",
      "  (encoder): Linear(in_features=28, out_features=64, bias=True)\n",
      "  (lstm): ModuleList(\n",
      "    (0): LSTM_Cells(\n",
      "      (layer1): Linear(in_features=64, out_features=512, bias=True)\n",
      "      (layer2): Linear(in_features=128, out_features=512, bias=True)\n",
      "    )\n",
      "  )\n",
      "  (classifier): Linear(in_features=128, out_features=10, bias=True)\n",
      ")\n"
     ]
    }
   ],
   "source": [
    "model_customlstm = model_customlstm.to(device)\n",
    "print(model_customlstm)"
   ]
  },
  {
   "cell_type": "code",
   "execution_count": 14,
   "metadata": {
    "id": "xa1WGinznv-g"
   },
   "outputs": [],
   "source": [
    "# classification loss function\n",
    "criterion = nn.CrossEntropyLoss()\n",
    "\n",
    "# Observe that all parameters are being optimized\n",
    "optimizer = torch.optim.Adam(model_customlstm.parameters(), lr=3e-4)\n",
    "\n",
    "# Decay LR by a factor of 0.1 every 5 epochs\n",
    "scheduler = torch.optim.lr_scheduler.StepLR(optimizer, step_size=5, gamma=0.2)"
   ]
  },
  {
   "cell_type": "code",
   "execution_count": 15,
   "metadata": {
    "id": "8-Yeg-r6M3lK"
   },
   "outputs": [
    {
     "name": "stderr",
     "output_type": "stream",
     "text": [
      "Epoch 1 Iter 235: loss 0.81441. : 100%|██████████████████████████████████████████████| 235/235 [00:59<00:00,  3.97it/s]\n"
     ]
    },
    {
     "name": "stdout",
     "output_type": "stream",
     "text": [
      "Epoch 1/20\n",
      "    Train loss: 1.26764\n",
      "    Valid loss: 2.30494\n",
      "    Accuracy: 10.32%\n",
      "\n",
      "\n"
     ]
    },
    {
     "name": "stderr",
     "output_type": "stream",
     "text": [
      "Epoch 2 Iter 235: loss 0.55637. : 100%|██████████████████████████████████████████████| 235/235 [00:59<00:00,  3.97it/s]\n"
     ]
    },
    {
     "name": "stdout",
     "output_type": "stream",
     "text": [
      "Epoch 2/20\n",
      "    Train loss: 0.68665\n",
      "    Valid loss: 0.78817\n",
      "    Accuracy: 69.89999999999999%\n",
      "\n",
      "\n"
     ]
    },
    {
     "name": "stderr",
     "output_type": "stream",
     "text": [
      "Epoch 3 Iter 235: loss 0.44169. : 100%|██████████████████████████████████████████████| 235/235 [00:59<00:00,  3.95it/s]\n"
     ]
    },
    {
     "name": "stdout",
     "output_type": "stream",
     "text": [
      "Epoch 3/20\n",
      "    Train loss: 0.57337\n",
      "    Valid loss: 0.6347\n",
      "    Accuracy: 75.71%\n",
      "\n",
      "\n"
     ]
    },
    {
     "name": "stderr",
     "output_type": "stream",
     "text": [
      "Epoch 4 Iter 235: loss 0.51653. : 100%|██████████████████████████████████████████████| 235/235 [00:58<00:00,  4.01it/s]\n"
     ]
    },
    {
     "name": "stdout",
     "output_type": "stream",
     "text": [
      "Epoch 4/20\n",
      "    Train loss: 0.51399\n",
      "    Valid loss: 0.547\n",
      "    Accuracy: 79.49000000000001%\n",
      "\n",
      "\n"
     ]
    },
    {
     "name": "stderr",
     "output_type": "stream",
     "text": [
      "Epoch 5 Iter 235: loss 0.43215. : 100%|██████████████████████████████████████████████| 235/235 [00:59<00:00,  3.97it/s]\n"
     ]
    },
    {
     "name": "stdout",
     "output_type": "stream",
     "text": [
      "Epoch 5/20\n",
      "    Train loss: 0.48376\n",
      "    Valid loss: 0.55849\n",
      "    Accuracy: 78.96%\n",
      "\n",
      "\n"
     ]
    },
    {
     "name": "stderr",
     "output_type": "stream",
     "text": [
      "Epoch 6 Iter 235: loss 0.44699. : 100%|██████████████████████████████████████████████| 235/235 [00:57<00:00,  4.12it/s]\n"
     ]
    },
    {
     "name": "stdout",
     "output_type": "stream",
     "text": [
      "Epoch 6/20\n",
      "    Train loss: 0.44223\n",
      "    Valid loss: 0.48266\n",
      "    Accuracy: 82.04%\n",
      "\n",
      "\n"
     ]
    },
    {
     "name": "stderr",
     "output_type": "stream",
     "text": [
      "Epoch 7 Iter 235: loss 0.30767. : 100%|██████████████████████████████████████████████| 235/235 [01:00<00:00,  3.91it/s]\n"
     ]
    },
    {
     "name": "stdout",
     "output_type": "stream",
     "text": [
      "Epoch 7/20\n",
      "    Train loss: 0.43372\n",
      "    Valid loss: 0.45681\n",
      "    Accuracy: 83.1%\n",
      "\n",
      "\n"
     ]
    },
    {
     "name": "stderr",
     "output_type": "stream",
     "text": [
      "Epoch 8 Iter 235: loss 0.51533. : 100%|██████████████████████████████████████████████| 235/235 [00:58<00:00,  3.99it/s]\n"
     ]
    },
    {
     "name": "stdout",
     "output_type": "stream",
     "text": [
      "Epoch 8/20\n",
      "    Train loss: 0.42964\n",
      "    Valid loss: 0.45649\n",
      "    Accuracy: 83.35000000000001%\n",
      "\n",
      "\n"
     ]
    },
    {
     "name": "stderr",
     "output_type": "stream",
     "text": [
      "Epoch 9 Iter 235: loss 0.27995. : 100%|██████████████████████████████████████████████| 235/235 [00:59<00:00,  3.95it/s]\n"
     ]
    },
    {
     "name": "stdout",
     "output_type": "stream",
     "text": [
      "Epoch 9/20\n",
      "    Train loss: 0.42448\n",
      "    Valid loss: 0.45546\n",
      "    Accuracy: 83.31%\n",
      "\n",
      "\n"
     ]
    },
    {
     "name": "stderr",
     "output_type": "stream",
     "text": [
      "Epoch 10 Iter 235: loss 0.43528. : 100%|█████████████████████████████████████████████| 235/235 [00:59<00:00,  3.97it/s]\n"
     ]
    },
    {
     "name": "stdout",
     "output_type": "stream",
     "text": [
      "Epoch 10/20\n",
      "    Train loss: 0.42105\n",
      "    Valid loss: 0.44764\n",
      "    Accuracy: 83.62%\n",
      "\n",
      "\n"
     ]
    },
    {
     "name": "stderr",
     "output_type": "stream",
     "text": [
      "Epoch 11 Iter 235: loss 0.27694. : 100%|█████████████████████████████████████████████| 235/235 [00:58<00:00,  3.98it/s]\n"
     ]
    },
    {
     "name": "stdout",
     "output_type": "stream",
     "text": [
      "Epoch 11/20\n",
      "    Train loss: 0.4114\n",
      "    Valid loss: 0.44053\n",
      "    Accuracy: 84.02%\n",
      "\n",
      "\n"
     ]
    },
    {
     "name": "stderr",
     "output_type": "stream",
     "text": [
      "Epoch 12 Iter 235: loss 0.52280. : 100%|█████████████████████████████████████████████| 235/235 [00:59<00:00,  3.97it/s]\n"
     ]
    },
    {
     "name": "stdout",
     "output_type": "stream",
     "text": [
      "Epoch 12/20\n",
      "    Train loss: 0.41074\n",
      "    Valid loss: 0.43634\n",
      "    Accuracy: 83.88%\n",
      "\n",
      "\n"
     ]
    },
    {
     "name": "stderr",
     "output_type": "stream",
     "text": [
      "Epoch 13 Iter 235: loss 0.37634. : 100%|█████████████████████████████████████████████| 235/235 [00:58<00:00,  3.98it/s]\n"
     ]
    },
    {
     "name": "stdout",
     "output_type": "stream",
     "text": [
      "Epoch 13/20\n",
      "    Train loss: 0.40959\n",
      "    Valid loss: 0.43576\n",
      "    Accuracy: 84.05%\n",
      "\n",
      "\n"
     ]
    },
    {
     "name": "stderr",
     "output_type": "stream",
     "text": [
      "Epoch 14 Iter 235: loss 0.35303. : 100%|█████████████████████████████████████████████| 235/235 [01:00<00:00,  3.89it/s]\n"
     ]
    },
    {
     "name": "stdout",
     "output_type": "stream",
     "text": [
      "Epoch 14/20\n",
      "    Train loss: 0.40835\n",
      "    Valid loss: 0.43588\n",
      "    Accuracy: 83.94%\n",
      "\n",
      "\n"
     ]
    },
    {
     "name": "stderr",
     "output_type": "stream",
     "text": [
      "Epoch 15 Iter 235: loss 0.35433. : 100%|█████████████████████████████████████████████| 235/235 [00:58<00:00,  3.99it/s]\n"
     ]
    },
    {
     "name": "stdout",
     "output_type": "stream",
     "text": [
      "Epoch 15/20\n",
      "    Train loss: 0.408\n",
      "    Valid loss: 0.43663\n",
      "    Accuracy: 83.91999999999999%\n",
      "\n",
      "\n"
     ]
    },
    {
     "name": "stderr",
     "output_type": "stream",
     "text": [
      "Epoch 16 Iter 235: loss 0.33446. : 100%|█████████████████████████████████████████████| 235/235 [01:01<00:00,  3.80it/s]\n"
     ]
    },
    {
     "name": "stdout",
     "output_type": "stream",
     "text": [
      "Epoch 16/20\n",
      "    Train loss: 0.40572\n",
      "    Valid loss: 0.43424\n",
      "    Accuracy: 84.02%\n",
      "\n",
      "\n"
     ]
    },
    {
     "name": "stderr",
     "output_type": "stream",
     "text": [
      "Epoch 17 Iter 235: loss 0.57805. : 100%|█████████████████████████████████████████████| 235/235 [01:00<00:00,  3.90it/s]\n"
     ]
    },
    {
     "name": "stdout",
     "output_type": "stream",
     "text": [
      "Epoch 17/20\n",
      "    Train loss: 0.40612\n",
      "    Valid loss: 0.43289\n",
      "    Accuracy: 84.13000000000001%\n",
      "\n",
      "\n"
     ]
    },
    {
     "name": "stderr",
     "output_type": "stream",
     "text": [
      "Epoch 18 Iter 235: loss 0.42534. : 100%|█████████████████████████████████████████████| 235/235 [00:59<00:00,  3.98it/s]\n"
     ]
    },
    {
     "name": "stdout",
     "output_type": "stream",
     "text": [
      "Epoch 18/20\n",
      "    Train loss: 0.4055\n",
      "    Valid loss: 0.43277\n",
      "    Accuracy: 84.05%\n",
      "\n",
      "\n"
     ]
    },
    {
     "name": "stderr",
     "output_type": "stream",
     "text": [
      "Epoch 19 Iter 235: loss 0.42056. : 100%|█████████████████████████████████████████████| 235/235 [00:58<00:00,  3.98it/s]\n"
     ]
    },
    {
     "name": "stdout",
     "output_type": "stream",
     "text": [
      "Epoch 19/20\n",
      "    Train loss: 0.40525\n",
      "    Valid loss: 0.43272\n",
      "    Accuracy: 84.11999999999999%\n",
      "\n",
      "\n"
     ]
    },
    {
     "name": "stderr",
     "output_type": "stream",
     "text": [
      "Epoch 20 Iter 235: loss 0.35088. : 100%|█████████████████████████████████████████████| 235/235 [00:59<00:00,  3.96it/s]"
     ]
    },
    {
     "name": "stdout",
     "output_type": "stream",
     "text": [
      "Epoch 20/20\n",
      "    Train loss: 0.40483\n",
      "    Valid loss: 0.43247\n",
      "    Accuracy: 84.05%\n",
      "\n",
      "\n",
      "Training completed\n"
     ]
    },
    {
     "name": "stderr",
     "output_type": "stream",
     "text": [
      "\n"
     ]
    }
   ],
   "source": [
    "train_loss_cuslstm, val_loss_cuslstm, loss_iters_cuslstm, valid_acc_cuslstm, epochs_cuslstm = train_model(\n",
    "        model=model_customlstm, optimizer=optimizer, scheduler=scheduler, criterion=criterion,\n",
    "        train_loader=train_loader, valid_loader=test_loader, num_epochs=20\n",
    "    )"
   ]
  },
  {
   "cell_type": "markdown",
   "metadata": {},
   "source": [
    "### Learning curves of the model trained using Pytorch LSTM and custom LSTM\n",
    "#TODO\n",
    "Add conv LSTM\n"
   ]
  },
  {
   "cell_type": "code",
   "execution_count": 17,
   "metadata": {},
   "outputs": [
    {
     "data": {
      "image/png": "[encoded data removed]",
      "text/plain": [
       "<Figure size 1296x360 with 2 Axes>"
      ]
     },
     "metadata": {},
     "output_type": "display_data"
    }
   ],
   "source": [
    "plt.style.use('seaborn')\n",
    "fig, ax = plt.subplots(1,2)\n",
    "fig.set_size_inches(18, 5)\n",
    "\n",
    "ax[0].plot(epochs_cuslstm, train_loss_cuslstm, label=\"Train_loss\", linewidth=2)\n",
    "ax[0].plot(epochs_cuslstm, val_loss_cuslstm, label=\"Val Loss\", c='red', linewidth=2)\n",
    "ax[0].legend(loc='best')\n",
    "ax[0].set_xlabel(\"Epochs\")\n",
    "ax[0].set_ylabel(\"Error\")\n",
    "ax[0].set_xticks(np.arange(2, 19, step=2))\n",
    "\n",
    "ax[0].set_title(\"Loss curves of Custom LSTM\")\n",
    "\n",
    "ax[1].plot(epochs_lstm, train_loss_lstm, label=\"Train_loss\", linewidth=2)\n",
    "ax[1].plot(epochs_lstm, val_loss_lstm , label=\"Val Loss\", c='red', linewidth=2)\n",
    "ax[1].legend(loc='best')\n",
    "ax[1].set_xlabel(\"Epochs\")\n",
    "ax[1].set_ylabel(\"Error\")\n",
    "ax[1].set_xticks(np.arange(2, 19, step=2))\n",
    "\n",
    "ax[1].set_title(\"Loss curves of Pytorch LSTM\")\n",
    "\n",
    "\n",
    "plt.show()"
   ]
  },
  {
   "cell_type": "markdown",
   "metadata": {},
   "source": [
    "The curves show that the models have learned quite well and reach a stability point. The custom LSTM model works at par with Pytorchs inbuilt LSTM. However, it takes a little more time to reach stability(very minimal, almost negligible).\n"
   ]
  },
  {
   "cell_type": "code",
   "execution_count": 18,
   "metadata": {},
   "outputs": [
    {
     "data": {
      "image/png": "[encoded data removed]",
      "text/plain": [
       "<Figure size 720x360 with 1 Axes>"
      ]
     },
     "metadata": {},
     "output_type": "display_data"
    }
   ],
   "source": [
    "plt.style.use('seaborn')\n",
    "fig, ax = plt.subplots(1,1)\n",
    "fig.set_size_inches(10, 5)\n",
    "\n",
    "ax.plot(epochs_cuslstm, valid_acc_cuslstm, linewidth=2,label=\"Accuracy of Custom LSTM\")\n",
    "ax.plot(epochs_lstm, valid_acc_lstm, label=\"Accuracy of Pytorch LSTM\",c='red', linewidth=2)\n",
    "ax.legend(loc='best')\n",
    "ax.set_xlabel(\"Epochs\")\n",
    "ax.set_ylabel(\"Accuracy\")\n",
    "ax.set_xticks(np.arange(2, 19, step=2))\n",
    "\n",
    "ax.set_title(f\"Valdiation Accuracy of both models\")\n",
    "\n",
    "plt.show()"
   ]
  },
  {
   "cell_type": "markdown",
   "metadata": {},
   "source": [
    "Pytorch LSTM model reaches an accuracy of 84.5% while the custom LSTM reaches a maximum accuracy of 84.1%. "
   ]
  },
  {
   "cell_type": "markdown",
   "metadata": {},
   "source": [
    "### Implementing GRU"
   ]
  },
  {
   "cell_type": "code",
   "execution_count": 19,
   "metadata": {},
   "outputs": [],
   "source": [
    "class GRU(nn.Module):\n",
    "\n",
    "    def __init__(self, in_dim, hidden_dim, bias=True):\n",
    "        super(GRU, self).__init__()\n",
    "        self.in_dim = in_dim\n",
    "        self.hidden_dim = hidden_dim\n",
    "        self.bias = bias\n",
    "        self.layer1 = nn.Linear(in_dim, 3 * hidden_dim, bias=bias)\n",
    "        self.layer2 = nn.Linear(hidden_dim, 3 * hidden_dim, bias=bias)\n",
    "        self.reset_parameters()\n",
    "\n",
    "    def reset_parameters(self):\n",
    "        std = 1.0 / math.sqrt(self.hidden_dim)\n",
    "        for w in self.parameters():\n",
    "            w.data.uniform_(-std, std)\n",
    "\n",
    "    def forward(self, x, hidden):\n",
    "\n",
    "        x = x.view(-1, x.size(1))\n",
    "\n",
    "        gate_x = self.layer1(x) \n",
    "        gate_h = self.layer2(hidden)\n",
    "\n",
    "        gate_x = gate_x.squeeze()\n",
    "        gate_h = gate_h.squeeze()\n",
    "        i_r, i_i, i_n = gate_x.chunk(3, 1)\n",
    "        h_r, h_i, h_n = gate_h.chunk(3, 1)\n",
    "\n",
    "\n",
    "        reset_gate = torch.sigmoid(i_r + h_r)\n",
    "        update_gate = torch.sigmoid(i_i + h_i)\n",
    "        next_gate = torch.tanh(i_n + (reset_gate * h_n))\n",
    "\n",
    "        h_y = next_gate + update_gate * (hidden - next_gate)\n",
    "\n",
    "        return h_y\n",
    "\n",
    "#create GRU model class\n",
    "class GRUModel(nn.Module):\n",
    "    def __init__(self, in_dim, emb_dim, hidden_dim, num_layers, out_size, bias=True, mode=\"zeros\"):\n",
    "        super(GRUModel, self).__init__()\n",
    "        self.hidden_dim = hidden_dim\n",
    "        self.num_layers = num_layers\n",
    "        self.mode = mode\n",
    "        self.encoder = nn.Linear(in_features=in_dim, out_features=emb_dim)\n",
    "        \n",
    "        grus = []\n",
    "        for i in range(num_layers):\n",
    "            in_size = emb_dim if i == 0 else hidden_dim\n",
    "            grus.append(GRU(in_dim=in_size, hidden_dim=hidden_dim))\n",
    "        self.gru = nn.ModuleList(grus)\n",
    "        \n",
    "        # classifier\n",
    "        self.fc = nn.Linear(hidden_dim, out_size)\n",
    "        \n",
    "    def init_state(self, b_size, device):\n",
    "        \"\"\" Initializing hidden and cell state \"\"\"\n",
    "        if(self.mode == \"zeros\"):\n",
    "            h = torch.zeros(self.num_layers,b_size, self.hidden_dim).to(device) \n",
    "            c = torch.zeros(self.num_layers,b_size, self.hidden_dim).to(device) \n",
    "        elif(self.mode == \"random\"):\n",
    "            h = torch.zeros(self.num_layers,b_size, self.hidden_dim).to(device) \n",
    "            c = torch.zeros(self.num_layers,b_size, self.hidden_dim).to(device) \n",
    "        return h, c\n",
    "    \n",
    "    \n",
    "    def forward(self, x):\n",
    "        b_size, n_channels, n_rows, n_cols = x.shape\n",
    "        # Initialize hidden state with zeros\n",
    "        h, c = self.init_state(b_size=b_size, device=x.device) \n",
    "        \n",
    "        # embedding rows\n",
    "        x_rowed = x.view(b_size, n_channels*n_rows, n_cols)\n",
    "\n",
    "        embeddings = self.encoder(x_rowed)\n",
    "        \n",
    "        out = []\n",
    "        for i in range(embeddings.shape[1]):\n",
    "            gru_input = embeddings[:, i, :]\n",
    "            # iterating over GRU Cells\n",
    "            for j, lstm_cell in enumerate(self.gru):\n",
    "                h[j] = lstm_cell(gru_input, (h[j].clone()))\n",
    "                gru_input = h[j]\n",
    "            out.append(gru_input)\n",
    "        out = torch.stack(out, dim=1)\n",
    "\n",
    "        # classifying\n",
    "        y = self.fc(out[:, -1, :])  # feeding only output at last layer\n",
    "        return y\n",
    "        "
   ]
  },
  {
   "cell_type": "code",
   "execution_count": 20,
   "metadata": {},
   "outputs": [
    {
     "data": {
      "text/plain": [
       "77642"
      ]
     },
     "execution_count": 20,
     "metadata": {},
     "output_type": "execute_result"
    }
   ],
   "source": [
    "model_GRU = GRUModel(in_dim=28, emb_dim=64, hidden_dim=128, num_layers=1,out_size=10, mode=\"zeros\")\n",
    "count_model_params(model_GRU)"
   ]
  },
  {
   "cell_type": "code",
   "execution_count": 21,
   "metadata": {},
   "outputs": [
    {
     "name": "stdout",
     "output_type": "stream",
     "text": [
      "GRUModel(\n",
      "  (encoder): Linear(in_features=28, out_features=64, bias=True)\n",
      "  (gru): ModuleList(\n",
      "    (0): GRU(\n",
      "      (layer1): Linear(in_features=64, out_features=384, bias=True)\n",
      "      (layer2): Linear(in_features=128, out_features=384, bias=True)\n",
      "    )\n",
      "  )\n",
      "  (fc): Linear(in_features=128, out_features=10, bias=True)\n",
      ")\n"
     ]
    }
   ],
   "source": [
    "model_GRU = model_GRU.to(device)\n",
    "print(model_GRU)"
   ]
  },
  {
   "cell_type": "code",
   "execution_count": 22,
   "metadata": {},
   "outputs": [],
   "source": [
    "# classification loss function\n",
    "criterion = nn.CrossEntropyLoss()\n",
    "\n",
    "# Observe that all parameters are being optimized\n",
    "optimizer = torch.optim.Adam(model_GRU.parameters(), lr=3e-4)\n",
    "\n",
    "# Decay LR by a factor of 0.1 every 5 epochs\n",
    "scheduler = torch.optim.lr_scheduler.StepLR(optimizer, step_size=5, gamma=0.2)"
   ]
  },
  {
   "cell_type": "code",
   "execution_count": 23,
   "metadata": {},
   "outputs": [
    {
     "name": "stderr",
     "output_type": "stream",
     "text": [
      "Epoch 1 Iter 235: loss 0.94428. : 100%|██████████████████████████████████████████████| 235/235 [00:56<00:00,  4.12it/s]\n"
     ]
    },
    {
     "name": "stdout",
     "output_type": "stream",
     "text": [
      "Epoch 1/20\n",
      "    Train loss: 1.39716\n",
      "    Valid loss: 2.30364\n",
      "    Accuracy: 8.34%\n",
      "\n",
      "\n"
     ]
    },
    {
     "name": "stderr",
     "output_type": "stream",
     "text": [
      "Epoch 2 Iter 235: loss 0.70401. : 100%|██████████████████████████████████████████████| 235/235 [00:57<00:00,  4.09it/s]\n"
     ]
    },
    {
     "name": "stdout",
     "output_type": "stream",
     "text": [
      "Epoch 2/20\n",
      "    Train loss: 0.76485\n",
      "    Valid loss: 0.89537\n",
      "    Accuracy: 67.01%\n",
      "\n",
      "\n"
     ]
    },
    {
     "name": "stderr",
     "output_type": "stream",
     "text": [
      "Epoch 3 Iter 235: loss 0.43433. : 100%|██████████████████████████████████████████████| 235/235 [00:58<00:00,  4.01it/s]\n"
     ]
    },
    {
     "name": "stdout",
     "output_type": "stream",
     "text": [
      "Epoch 3/20\n",
      "    Train loss: 0.61834\n",
      "    Valid loss: 0.68966\n",
      "    Accuracy: 73.29%\n",
      "\n",
      "\n"
     ]
    },
    {
     "name": "stderr",
     "output_type": "stream",
     "text": [
      "Epoch 4 Iter 235: loss 0.51473. : 100%|██████████████████████████████████████████████| 235/235 [00:57<00:00,  4.07it/s]\n"
     ]
    },
    {
     "name": "stdout",
     "output_type": "stream",
     "text": [
      "Epoch 4/20\n",
      "    Train loss: 0.55144\n",
      "    Valid loss: 0.58989\n",
      "    Accuracy: 77.47%\n",
      "\n",
      "\n"
     ]
    },
    {
     "name": "stderr",
     "output_type": "stream",
     "text": [
      "Epoch 5 Iter 235: loss 0.56007. : 100%|██████████████████████████████████████████████| 235/235 [00:57<00:00,  4.08it/s]\n"
     ]
    },
    {
     "name": "stdout",
     "output_type": "stream",
     "text": [
      "Epoch 5/20\n",
      "    Train loss: 0.50612\n",
      "    Valid loss: 0.53458\n",
      "    Accuracy: 79.86999999999999%\n",
      "\n",
      "\n"
     ]
    },
    {
     "name": "stderr",
     "output_type": "stream",
     "text": [
      "Epoch 6 Iter 235: loss 0.60247. : 100%|██████████████████████████████████████████████| 235/235 [00:56<00:00,  4.15it/s]\n"
     ]
    },
    {
     "name": "stdout",
     "output_type": "stream",
     "text": [
      "Epoch 6/20\n",
      "    Train loss: 0.47282\n",
      "    Valid loss: 0.49645\n",
      "    Accuracy: 81.38%\n",
      "\n",
      "\n"
     ]
    },
    {
     "name": "stderr",
     "output_type": "stream",
     "text": [
      "Epoch 7 Iter 235: loss 0.53065. : 100%|██████████████████████████████████████████████| 235/235 [00:56<00:00,  4.14it/s]\n"
     ]
    },
    {
     "name": "stdout",
     "output_type": "stream",
     "text": [
      "Epoch 7/20\n",
      "    Train loss: 0.46393\n",
      "    Valid loss: 0.48309\n",
      "    Accuracy: 82.35%\n",
      "\n",
      "\n"
     ]
    },
    {
     "name": "stderr",
     "output_type": "stream",
     "text": [
      "Epoch 8 Iter 235: loss 0.40967. : 100%|██████████████████████████████████████████████| 235/235 [00:56<00:00,  4.14it/s]\n"
     ]
    },
    {
     "name": "stdout",
     "output_type": "stream",
     "text": [
      "Epoch 8/20\n",
      "    Train loss: 0.45666\n",
      "    Valid loss: 0.47222\n",
      "    Accuracy: 82.89999999999999%\n",
      "\n",
      "\n"
     ]
    },
    {
     "name": "stderr",
     "output_type": "stream",
     "text": [
      "Epoch 9 Iter 235: loss 0.40404. : 100%|██████████████████████████████████████████████| 235/235 [00:57<00:00,  4.11it/s]\n"
     ]
    },
    {
     "name": "stdout",
     "output_type": "stream",
     "text": [
      "Epoch 9/20\n",
      "    Train loss: 0.44902\n",
      "    Valid loss: 0.46909\n",
      "    Accuracy: 82.93%\n",
      "\n",
      "\n"
     ]
    },
    {
     "name": "stderr",
     "output_type": "stream",
     "text": [
      "Epoch 10 Iter 235: loss 0.43162. : 100%|█████████████████████████████████████████████| 235/235 [00:56<00:00,  4.15it/s]\n"
     ]
    },
    {
     "name": "stdout",
     "output_type": "stream",
     "text": [
      "Epoch 10/20\n",
      "    Train loss: 0.44241\n",
      "    Valid loss: 0.46056\n",
      "    Accuracy: 83.24000000000001%\n",
      "\n",
      "\n"
     ]
    },
    {
     "name": "stderr",
     "output_type": "stream",
     "text": [
      "Epoch 11 Iter 235: loss 0.37875. : 100%|█████████████████████████████████████████████| 235/235 [00:57<00:00,  4.09it/s]\n"
     ]
    },
    {
     "name": "stdout",
     "output_type": "stream",
     "text": [
      "Epoch 11/20\n",
      "    Train loss: 0.43617\n",
      "    Valid loss: 0.45428\n",
      "    Accuracy: 83.23%\n",
      "\n",
      "\n"
     ]
    },
    {
     "name": "stderr",
     "output_type": "stream",
     "text": [
      "Epoch 12 Iter 235: loss 0.37876. : 100%|█████████████████████████████████████████████| 235/235 [00:56<00:00,  4.14it/s]\n"
     ]
    },
    {
     "name": "stdout",
     "output_type": "stream",
     "text": [
      "Epoch 12/20\n",
      "    Train loss: 0.43445\n",
      "    Valid loss: 0.45066\n",
      "    Accuracy: 83.67999999999999%\n",
      "\n",
      "\n"
     ]
    },
    {
     "name": "stderr",
     "output_type": "stream",
     "text": [
      "Epoch 13 Iter 235: loss 0.32705. : 100%|█████████████████████████████████████████████| 235/235 [00:56<00:00,  4.13it/s]\n"
     ]
    },
    {
     "name": "stdout",
     "output_type": "stream",
     "text": [
      "Epoch 13/20\n",
      "    Train loss: 0.43316\n",
      "    Valid loss: 0.44919\n",
      "    Accuracy: 83.67999999999999%\n",
      "\n",
      "\n"
     ]
    },
    {
     "name": "stderr",
     "output_type": "stream",
     "text": [
      "Epoch 14 Iter 235: loss 0.41808. : 100%|█████████████████████████████████████████| 235/235 [11:48:48<00:00, 180.97s/it]\n"
     ]
    },
    {
     "name": "stdout",
     "output_type": "stream",
     "text": [
      "Epoch 14/20\n",
      "    Train loss: 0.43211\n",
      "    Valid loss: 0.44777\n",
      "    Accuracy: 83.75%\n",
      "\n",
      "\n"
     ]
    },
    {
     "name": "stderr",
     "output_type": "stream",
     "text": [
      "Epoch 15 Iter 235: loss 0.31176. : 100%|█████████████████████████████████████████████| 235/235 [00:30<00:00,  7.66it/s]\n"
     ]
    },
    {
     "name": "stdout",
     "output_type": "stream",
     "text": [
      "Epoch 15/20\n",
      "    Train loss: 0.43068\n",
      "    Valid loss: 0.44686\n",
      "    Accuracy: 83.67999999999999%\n",
      "\n",
      "\n"
     ]
    },
    {
     "name": "stderr",
     "output_type": "stream",
     "text": [
      "Epoch 16 Iter 235: loss 0.38403. : 100%|█████████████████████████████████████████████| 235/235 [00:33<00:00,  7.11it/s]\n"
     ]
    },
    {
     "name": "stdout",
     "output_type": "stream",
     "text": [
      "Epoch 16/20\n",
      "    Train loss: 0.42971\n",
      "    Valid loss: 0.44529\n",
      "    Accuracy: 83.67999999999999%\n",
      "\n",
      "\n"
     ]
    },
    {
     "name": "stderr",
     "output_type": "stream",
     "text": [
      "Epoch 17 Iter 235: loss 0.42646. : 100%|█████████████████████████████████████████████| 235/235 [01:04<00:00,  3.65it/s]\n"
     ]
    },
    {
     "name": "stdout",
     "output_type": "stream",
     "text": [
      "Epoch 17/20\n",
      "    Train loss: 0.42952\n",
      "    Valid loss: 0.44531\n",
      "    Accuracy: 83.78999999999999%\n",
      "\n",
      "\n"
     ]
    },
    {
     "name": "stderr",
     "output_type": "stream",
     "text": [
      "Epoch 18 Iter 235: loss 0.44656. : 100%|█████████████████████████████████████████████| 235/235 [01:05<00:00,  3.58it/s]\n"
     ]
    },
    {
     "name": "stdout",
     "output_type": "stream",
     "text": [
      "Epoch 18/20\n",
      "    Train loss: 0.42932\n",
      "    Valid loss: 0.44492\n",
      "    Accuracy: 83.76%\n",
      "\n",
      "\n"
     ]
    },
    {
     "name": "stderr",
     "output_type": "stream",
     "text": [
      "Epoch 19 Iter 235: loss 0.39831. : 100%|█████████████████████████████████████████████| 235/235 [01:08<00:00,  3.41it/s]\n"
     ]
    },
    {
     "name": "stdout",
     "output_type": "stream",
     "text": [
      "Epoch 19/20\n",
      "    Train loss: 0.42894\n",
      "    Valid loss: 0.44475\n",
      "    Accuracy: 83.83%\n",
      "\n",
      "\n"
     ]
    },
    {
     "name": "stderr",
     "output_type": "stream",
     "text": [
      "Epoch 20 Iter 235: loss 0.48688. : 100%|█████████████████████████████████████████████| 235/235 [00:58<00:00,  4.01it/s]"
     ]
    },
    {
     "name": "stdout",
     "output_type": "stream",
     "text": [
      "Epoch 20/20\n",
      "    Train loss: 0.42893\n",
      "    Valid loss: 0.44456\n",
      "    Accuracy: 83.85000000000001%\n",
      "\n",
      "\n",
      "Training completed\n"
     ]
    },
    {
     "name": "stderr",
     "output_type": "stream",
     "text": [
      "\n"
     ]
    }
   ],
   "source": [
    "train_loss_gru, val_loss_gru, loss_iters_gru, valid_acc_gru, epochs_gru = train_model(\n",
    "        model=model_GRU, optimizer=optimizer, scheduler=scheduler, criterion=criterion,\n",
    "        train_loader=train_loader, valid_loader=test_loader, num_epochs=20\n",
    "    )"
   ]
  },
  {
   "cell_type": "code",
   "execution_count": 24,
   "metadata": {},
   "outputs": [
    {
     "data": {
      "image/png": "[encoded data removed]",
      "text/plain": [
       "<Figure size 1296x360 with 2 Axes>"
      ]
     },
     "metadata": {},
     "output_type": "display_data"
    }
   ],
   "source": [
    "plt.style.use('seaborn')\n",
    "fig, ax = plt.subplots(1,2)\n",
    "fig.set_size_inches(18, 5)\n",
    "\n",
    "ax[0].plot(epochs_gru, val_loss_gru, label=\"Train_loss\", linewidth=2)\n",
    "ax[0].plot(epochs_gru, train_loss_gru, label=\"Val Loss\", c='red', linewidth=2)\n",
    "ax[0].legend(loc='best')\n",
    "ax[0].set_xlabel(\"Epochs\")\n",
    "ax[0].set_ylabel(\"Error\")\n",
    "ax[0].set_xticks(np.arange(2, 19, step=2))\n",
    "\n",
    "ax[0].set_title(\"Loss curves\")\n",
    "\n",
    "\n",
    "ax[1].plot(epochs_gru, valid_acc_gru, label=\"Accuracy\", linewidth=2)\n",
    "ax[1].set_xlabel(\"Epochs\")\n",
    "ax[1].set_ylabel(\"Accuracy\")\n",
    "ax[1].set_xticks(np.arange(2, 19, step=2))\n",
    "\n",
    "ax[1].set_title(f\"Valdiation Accuracy (max={round(np.max(valid_acc_gru),2)}% @ epoch {np.argmax(valid_acc_gru)+1})\")\n",
    "\n",
    "plt.show()"
   ]
  },
  {
   "cell_type": "code",
   "execution_count": 25,
   "metadata": {},
   "outputs": [
    {
     "data": {
      "image/png": "[encoded data removed]",
      "text/plain": [
       "<Figure size 720x360 with 1 Axes>"
      ]
     },
     "metadata": {},
     "output_type": "display_data"
    }
   ],
   "source": [
    "plt.style.use('seaborn')\n",
    "fig, ax = plt.subplots(1,1)\n",
    "fig.set_size_inches(10, 5)\n",
    "\n",
    "ax.plot(epochs_cuslstm, valid_acc_cuslstm, linewidth=2,label=\"Accuracy of Custom GRU\")\n",
    "ax.plot(epochs_lstm, valid_acc_lstm, label=\"Accuracy of Pytorch LSTM\",c='red', linewidth=2)\n",
    "ax.plot(epochs_gru, valid_acc_gru, label=\"Accuracy of GRU\",c='green', linewidth=2)\n",
    "ax.legend(loc='best')\n",
    "ax.set_xlabel(\"Epochs\")\n",
    "ax.set_ylabel(\"Accuracy\")\n",
    "ax.set_xticks(np.arange(2, 19, step=2))\n",
    "\n",
    "ax.set_title(f\"Valdiation Accuracy of all models\")\n",
    "\n",
    "plt.show()"
   ]
  },
  {
   "cell_type": "markdown",
   "metadata": {},
   "source": [
    "Model trained with GRU achieves almost the same results as the model trained using Pytorchs LSTM."
   ]
  },
  {
   "cell_type": "markdown",
   "metadata": {},
   "source": [
    "## References\n",
    "https://towardsdatascience.com/building-a-lstm-by-hand-on-pytorch-59c02a4ec091\n"
   ]
  },
  {
   "cell_type": "code",
   "execution_count": null,
   "metadata": {},
   "outputs": [],
   "source": []
  }
 ],
 "metadata": {
  "accelerator": "GPU",
  "colab": {
   "collapsed_sections": [],
   "name": "Sheet5.ipynb",
   "provenance": []
  },
  "kernelspec": {
   "display_name": "Python 3 (ipykernel)",
   "language": "python",
   "name": "python3"
  },
  "language_info": {
   "codemirror_mode": {
    "name": "ipython",
    "version": 3
   },
   "file_extension": ".py",
   "mimetype": "text/x-python",
   "name": "python",
   "nbconvert_exporter": "python",
   "pygments_lexer": "ipython3",
   "version": "3.8.12"
  }
 },
 "nbformat": 4,
 "nbformat_minor": 1
}

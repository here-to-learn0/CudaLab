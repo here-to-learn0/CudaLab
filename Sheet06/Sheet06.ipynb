{
 "cells": [
  {
   "cell_type": "code",
   "execution_count": 1,
   "id": "38ffb224",
   "metadata": {},
   "outputs": [],
   "source": [
    "import torch\n",
    "from torchvision import datasets, transforms, models\n",
    "from torch.utils.data import DataLoader, Dataset\n",
    "import torch.nn as nn\n",
    "import torch.nn.functional as F\n",
    "import torch.optim as optim\n",
    "from torchsummary import summary\n",
    "import os\n",
    "\n",
    "from PIL import Image\n",
    "import numpy as np\n",
    "import matplotlib.pyplot as plt\n",
    "from tqdm import tqdm\n",
    "\n",
    "from skimage import io\n",
    "import copy\n",
    "import gc\n",
    "from joblib import dump"
   ]
  },
  {
   "cell_type": "code",
   "execution_count": 2,
   "id": "989096ee",
   "metadata": {},
   "outputs": [],
   "source": [
    "B_SIZE = 256\n",
    "img_size = 128\n",
    "device = torch.device(\"cuda\" if torch.cuda.is_available() else \"cpu\")"
   ]
  },
  {
   "cell_type": "code",
   "execution_count": 3,
   "id": "cd081597",
   "metadata": {},
   "outputs": [],
   "source": [
    "class CelebA_Dataset(Dataset):\n",
    "    def __init__(self, data_dir, split, transform):\n",
    "        super().__init__()\n",
    "        self.img_dir = os.path.join(data_dir + \"/img_align_celeba\")\n",
    "        self.data_dir = data_dir\n",
    "        self.split = split\n",
    "        self.transform = transform\n",
    "        self.make_split()\n",
    "    \n",
    "    def make_split(self):\n",
    "        partition_list_path = os.path.join(self.data_dir, \"list_eval_partition.txt\")\n",
    "        partition_list = np.loadtxt(partition_list_path, dtype=str)\n",
    "        if self.split == \"train\":\n",
    "            self.img_names = partition_list[partition_list[:, 1].astype(float) == 0, 0]\n",
    "        elif self.split == \"test\":\n",
    "            self.img_names = partition_list[partition_list[:, 1].astype(float) > 0, 0]\n",
    "            \n",
    "    def t(self, img):\n",
    "        return self.transform(img)\n",
    "        \n",
    "    def __len__(self):\n",
    "        return len(self.img_names)\n",
    "    \n",
    "    def t(self, img):\n",
    "        return self.transform(img)\n",
    "        \n",
    "    def __getitem__(self, idx):\n",
    "        file_name = os.path.join(self.img_dir, self.img_names[idx])\n",
    "        img = np.array(Image.open(file_name))\n",
    "        \n",
    "        if self.transform:\n",
    "            img = self.t(img)\n",
    "    \n",
    "        return img"
   ]
  },
  {
   "cell_type": "code",
   "execution_count": 4,
   "id": "1a948dc0",
   "metadata": {},
   "outputs": [],
   "source": [
    "t = transforms.Compose([transforms.ToTensor(),\n",
    "                        transforms.Resize((img_size, img_size)),\n",
    "#                         transforms.Normalize([0.485, 0.456, 0.406], [0.229, 0.224, 0.225]),\n",
    "                       ])\n",
    "\n",
    "test_transform = transforms.Compose([transforms.ToTensor(),\n",
    "                                     transforms.Resize((img_size, img_size)),\n",
    "#                                      transforms.Normalize([0.485, 0.456, 0.406], [0.229, 0.224, 0.225]),\n",
    "                                    ])"
   ]
  },
  {
   "cell_type": "code",
   "execution_count": 5,
   "id": "33b3bb00",
   "metadata": {},
   "outputs": [],
   "source": [
    "train_dataset = CelebA_Dataset(\"./data\", \"train\", t)\n",
    "test_dataset = CelebA_Dataset(\"./data\", \"test\", test_transform)"
   ]
  },
  {
   "cell_type": "code",
   "execution_count": 6,
   "id": "4b57d84c",
   "metadata": {},
   "outputs": [],
   "source": [
    "def visual(img_to_display=4):\n",
    "    print(\"Displaying images in the dataset\")\n",
    "    fig, ax = plt.subplots(1, img_to_display)\n",
    "    fig.set_size_inches(25, 8)\n",
    "    \n",
    "    for id in range(img_to_display):\n",
    "        ax[id].imshow(test_dataset[id].permute(1,2,0))\n",
    "        ax[id].axis(\"off\")\n",
    "    plt.tight_layout()\n",
    "    plt.show()"
   ]
  },
  {
   "cell_type": "code",
   "execution_count": 7,
   "id": "26cd3bf2",
   "metadata": {},
   "outputs": [],
   "source": [
    "# visual()"
   ]
  },
  {
   "cell_type": "code",
   "execution_count": 8,
   "id": "caa5e695",
   "metadata": {},
   "outputs": [],
   "source": [
    "train_loader = DataLoader(train_dataset, batch_size=B_SIZE, shuffle=True, num_workers=4, pin_memory=True)\n",
    "test_loader = DataLoader(test_dataset, batch_size=B_SIZE, shuffle=True, num_workers=4, pin_memory=True)"
   ]
  },
  {
   "cell_type": "code",
   "execution_count": 63,
   "id": "152a6861",
   "metadata": {},
   "outputs": [],
   "source": [
    "\"\"\"\n",
    "Reference: https://github.com/AntixK/PyTorch-VAE/blob/master/models/cvae.py\n",
    "with modificaiton\n",
    "\"\"\"\n",
    "\n",
    "class ConvVAE(nn.Module):\n",
    "\n",
    "    def __init__(self, in_channels=3, out_channels=[32, 64, 128, 256, 512], latent_dim=128, fc_dim=512*4*4):\n",
    "        \"\"\" Model initlaizer \"\"\"\n",
    "\n",
    "        super().__init__()\n",
    "\n",
    "        self.out_channels = out_channels\n",
    "        self.fc_dim = fc_dim\n",
    "        self.latent_dim = latent_dim\n",
    "        self.img_channel = in_channels\n",
    "        self.encoder = self._make_encoder()\n",
    "        self.decoder = self._make_decoder()\n",
    "        self.fc_mu = nn.Linear(fc_dim, latent_dim)\n",
    "        self.fc_sigma = nn.Linear(fc_dim, latent_dim)\n",
    "\n",
    "        return\n",
    "\n",
    " \n",
    "    def _make_encoder(self):\n",
    "        layers = []\n",
    "        in_channels = self.img_channel\n",
    "        for h_dim in self.out_channels:\n",
    "            layers.append(\n",
    "                nn.Sequential(\n",
    "                    nn.Conv2d(in_channels, out_channels=h_dim,\n",
    "                              kernel_size=3, stride=2, padding=1),\n",
    "                    nn.BatchNorm2d(h_dim),\n",
    "                    nn.LeakyReLU())\n",
    "            )\n",
    "            in_channels = h_dim\n",
    "\n",
    "        encoder = nn.Sequential(*layers)\n",
    "\n",
    "        return encoder\n",
    "\n",
    "    def _make_decoder(self):\n",
    "\n",
    "        modules = []\n",
    "\n",
    "        self.decoder_input = nn.Linear(self.latent_dim, self.fc_dim)\n",
    "\n",
    "        self.out_channels.reverse()\n",
    "\n",
    "        for i in range(len(self.out_channels) - 1):\n",
    "            modules.append(\n",
    "                nn.Sequential(\n",
    "                    nn.ConvTranspose2d(self.out_channels[i],\n",
    "                                       self.out_channels[i + 1],\n",
    "                                       kernel_size=3,\n",
    "                                       stride=2,\n",
    "                                       padding=1,\n",
    "                                       output_padding=1),\n",
    "                    nn.BatchNorm2d(self.out_channels[i + 1]),\n",
    "                    nn.LeakyReLU())\n",
    "            )\n",
    "\n",
    "        decoder = nn.Sequential(*modules)\n",
    "\n",
    "        self.final_layer = nn.Sequential(\n",
    "            nn.ConvTranspose2d(self.out_channels[-1],\n",
    "                               self.out_channels[-1],\n",
    "                               kernel_size=3,\n",
    "                               stride=2,\n",
    "                               padding=1,\n",
    "                               output_padding=1),\n",
    "            nn.BatchNorm2d(self.out_channels[-1]),\n",
    "            nn.LeakyReLU(),\n",
    "            nn.Conv2d(self.out_channels[-1], out_channels=3,\n",
    "                      kernel_size=3, padding=1),\n",
    "            nn.Tanh())\n",
    "        return decoder\n",
    "\n",
    "    def encode(self,x):\n",
    "        out = self.encoder(x)\n",
    "        out = torch.flatten(out, 1)\n",
    "        mu = self.fc_mu(out)\n",
    "        log_var = self.fc_sigma(out)\n",
    "\n",
    "        return mu, log_var\n",
    "    \n",
    "    def decode(self,z):\n",
    "        z_in = self.decoder_input(z)\n",
    "        z_in = z_in.view(-1, 512, 4, 4)\n",
    "        x_hat = self.decoder(z_in)\n",
    "        x_hat = self.final_layer(x_hat)\n",
    "\n",
    "        return x_hat\n",
    "        \n",
    "    def reparameterize(self, mu, log_var):\n",
    "        std = torch.exp(0.5 * log_var)\n",
    "        eps = torch.randn_like(std) \n",
    "        return mu + std * eps\n",
    "        \n",
    "\n",
    "    def forward(self, x):\n",
    "        \n",
    "        mu, log_var = self.encode(x)\n",
    "        z = self.reparameterize(mu, log_var)\n",
    "        x_hat = self.decode(z)\n",
    "\n",
    "        return x_hat, mu, log_var"
   ]
  },
  {
   "cell_type": "code",
   "execution_count": 11,
   "id": "e79bc9e1",
   "metadata": {},
   "outputs": [],
   "source": [
    "def train(model, train_loader, optimizer, epoch):\n",
    "    \"\"\"\n",
    "    Training for one epoch\n",
    "    \"\"\"\n",
    "    loss_list = []\n",
    "    running_loss = 0.0\n",
    "    pbar = tqdm(enumerate(train_loader), total=len(train_loader))\n",
    "    model.train()\n",
    "    \n",
    "    for idx, images in pbar:\n",
    "       \n",
    "        # put on gpu\n",
    "        images = images.to(device)\n",
    "        model = model.to(device)\n",
    "        \n",
    "        optimizer.zero_grad()\n",
    "        \n",
    "        img_recon, mu, logVar = model(images)\n",
    "\n",
    "        kl_divergence = 0.5 * torch.sum(-1 - logVar + mu.pow(2) + logVar.exp())\n",
    "\n",
    "        loss =  F.mse_loss(img_recon, images, reduction=\"sum\") + kl_divergence\n",
    "\n",
    "        loss.backward()\n",
    "        optimizer.step()\n",
    "        \n",
    "        loss_list.append(loss.item())\n",
    "        running_loss =+ loss.item()\n",
    "        \n",
    "        if idx % 1 == 0:\n",
    "            pbar.set_description(f\"Epoch {epoch+1}, Itr {idx+1}, Loss {running_loss:.5f}\")\n",
    "\n",
    "    avg_loss = np.mean(loss_list)\n",
    "\n",
    "    return loss_list, avg_loss\n",
    "\n",
    "@torch.no_grad()\n",
    "def testing(model, test_loader):\n",
    "    \"\"\"\n",
    "    Testing the accuracy for validation set\n",
    "    \"\"\"\n",
    "    model.eval()\n",
    "    correct = 0\n",
    "    loss_list = []\n",
    "    pbar = tqdm(enumerate(test_loader), total=len(test_loader))\n",
    "\n",
    "    for idx, images in pbar:\n",
    "        images = images.to(device)\n",
    "        model = model.to(device)\n",
    "        \n",
    "        img_recon, mu, logVar = model(images)\n",
    "\n",
    "        kl_divergence = 0.5 * torch.sum(-1 - logVar + mu.pow(2) + logVar.exp())\n",
    "\n",
    "        loss = F.mse_loss(img_recon, images, reduction=\"sum\") + kl_divergence\n",
    "        \n",
    "        loss_list.append(loss.item())\n",
    "\n",
    "    return np.mean(loss_list)\n",
    "        \n",
    "def training_model(model, optimizer, scheduler, train_loader, valid_loader, num_epochs):\n",
    "    \"\"\"\n",
    "    Training and testing of model for N number of EPOCHS\n",
    "    \"\"\"\n",
    "    stats = {\n",
    "        \"epoch\": [],\n",
    "        \"train_loss\": [],\n",
    "        \"val_loss\": [],\n",
    "        \"loss_iters\":[]\n",
    "    }\n",
    "    for epoch in range(num_epochs):\n",
    "        # testing \n",
    "        v_loss = testing(model, valid_loader)\n",
    "        stats[\"val_loss\"].append(v_loss)\n",
    "        \n",
    "        # training epoch\n",
    "        stats['epoch'].append(epoch+1)\n",
    "        \n",
    "        epoch_loss_list, epoch_loss = train(model, train_loader, optimizer, epoch)\n",
    "        scheduler.step()\n",
    "        \n",
    "        stats[\"train_loss\"].append(epoch_loss)\n",
    "        stats[\"loss_iters\"] = stats[\"loss_iters\"] + epoch_loss_list\n",
    "            \n",
    "        saving_model(model, optimizer, epoch, stats)\n",
    "        print(f\"Loss for epoch: {epoch+1} is: \", stats[\"val_loss\"][-1])\n",
    "\n",
    "    print(f\"Training completed\")"
   ]
  },
  {
   "cell_type": "code",
   "execution_count": 12,
   "id": "616ad106",
   "metadata": {},
   "outputs": [],
   "source": [
    "def num_params(model):\n",
    "    return sum(p.numel() for p in model.parameters() if p.requires_grad)\n",
    "\n",
    "def saving_model(model, optimizer, epoch, stats):\n",
    "    if not os.path.exists(\"models\"):\n",
    "        os.makedirs(\"models\")\n",
    "    save_path = f\"models/ConvVAE_{epoch+1}.pth\"\n",
    "    torch.save({\n",
    "        'epoch' : epoch,\n",
    "        'model_state_dict' : model.state_dict(),\n",
    "        'optimizer_state_dict': optimizer.state_dict(),\n",
    "        'stats': stats\n",
    "    }, save_path)\n",
    "    \n",
    "\n",
    "def loading_model(model, path):\n",
    "    optimizer = torch.optim.Adam(params=model.parameters(), lr= 3e-4)\n",
    "    checkpoint =  torch.load(path)\n",
    "    model.load_state_dict(checkpoint['model_state_dict'])\n",
    "    optimizer.load_state_dict(checkpoint['optimizer_state_dict'])\n",
    "    epoch = checkpoint['epoch']\n",
    "    stats = checkpoint['stats']\n",
    "    return model, optimizer, epoch, stats"
   ]
  },
  {
   "cell_type": "code",
   "execution_count": 13,
   "id": "a4033f14",
   "metadata": {},
   "outputs": [],
   "source": [
    "def training_full_model(model, train_loader, valid_loader, num_epochs):\n",
    "    LR = 3e-4\n",
    "    optimizer = torch.optim.Adam(params=model.parameters(), lr=LR)\n",
    "    scheduler = torch.optim.lr_scheduler.StepLR(optimizer, step_size=7, gamma=0.1)\n",
    "    \n",
    "    training_model(model, optimizer, scheduler, train_loader, valid_loader, num_epochs)"
   ]
  },
  {
   "cell_type": "code",
   "execution_count": 14,
   "id": "ed2e6d3d",
   "metadata": {},
   "outputs": [],
   "source": [
    "convVae = ConvVAE()"
   ]
  },
  {
   "cell_type": "code",
   "execution_count": 15,
   "id": "df4cc962",
   "metadata": {},
   "outputs": [
    {
     "name": "stderr",
     "output_type": "stream",
     "text": [
      "100%|█████████████████████████████████████████| 156/156 [00:23<00:00,  6.52it/s]\n",
      "Epoch 1, Itr 636, Loss 166657.64062: 100%|████| 636/636 [03:52<00:00,  2.74it/s]\n"
     ]
    },
    {
     "name": "stdout",
     "output_type": "stream",
     "text": [
      "Loss for epoch: 1 is:  3381493.0713141025\n"
     ]
    },
    {
     "name": "stderr",
     "output_type": "stream",
     "text": [
      "100%|█████████████████████████████████████████| 156/156 [00:24<00:00,  6.46it/s]\n",
      "Epoch 2, Itr 636, Loss 143382.35938: 100%|████| 636/636 [03:55<00:00,  2.70it/s]\n"
     ]
    },
    {
     "name": "stdout",
     "output_type": "stream",
     "text": [
      "Loss for epoch: 2 is:  202003.25265424678\n"
     ]
    },
    {
     "name": "stderr",
     "output_type": "stream",
     "text": [
      "100%|█████████████████████████████████████████| 156/156 [00:22<00:00,  6.88it/s]\n",
      "Epoch 3, Itr 636, Loss 137756.34375: 100%|████| 636/636 [03:49<00:00,  2.77it/s]\n"
     ]
    },
    {
     "name": "stdout",
     "output_type": "stream",
     "text": [
      "Loss for epoch: 3 is:  175994.29166666666\n"
     ]
    },
    {
     "name": "stderr",
     "output_type": "stream",
     "text": [
      "100%|█████████████████████████████████████████| 156/156 [00:22<00:00,  6.87it/s]\n",
      "Epoch 4, Itr 636, Loss 134593.65625: 100%|████| 636/636 [03:48<00:00,  2.79it/s]\n"
     ]
    },
    {
     "name": "stdout",
     "output_type": "stream",
     "text": [
      "Loss for epoch: 4 is:  169230.19100560897\n"
     ]
    },
    {
     "name": "stderr",
     "output_type": "stream",
     "text": [
      "100%|█████████████████████████████████████████| 156/156 [00:22<00:00,  6.85it/s]\n",
      "Epoch 5, Itr 636, Loss 131938.93750: 100%|████| 636/636 [03:48<00:00,  2.78it/s]\n"
     ]
    },
    {
     "name": "stdout",
     "output_type": "stream",
     "text": [
      "Loss for epoch: 5 is:  161305.1252003205\n"
     ]
    },
    {
     "name": "stderr",
     "output_type": "stream",
     "text": [
      "100%|█████████████████████████████████████████| 156/156 [00:22<00:00,  6.88it/s]\n",
      "Epoch 6, Itr 636, Loss 125186.30469: 100%|████| 636/636 [03:48<00:00,  2.79it/s]\n"
     ]
    },
    {
     "name": "stdout",
     "output_type": "stream",
     "text": [
      "Loss for epoch: 6 is:  158009.87570112178\n"
     ]
    },
    {
     "name": "stderr",
     "output_type": "stream",
     "text": [
      "100%|█████████████████████████████████████████| 156/156 [00:22<00:00,  6.85it/s]\n",
      "Epoch 7, Itr 636, Loss 126373.73438: 100%|████| 636/636 [03:48<00:00,  2.79it/s]"
     ]
    },
    {
     "name": "stdout",
     "output_type": "stream",
     "text": [
      "Loss for epoch: 7 is:  155910.56169871794\n"
     ]
    },
    {
     "name": "stderr",
     "output_type": "stream",
     "text": [
      "\n",
      "100%|█████████████████████████████████████████| 156/156 [00:22<00:00,  6.86it/s]\n",
      "Epoch 8, Itr 636, Loss 124870.87500: 100%|████| 636/636 [03:48<00:00,  2.78it/s]"
     ]
    },
    {
     "name": "stdout",
     "output_type": "stream",
     "text": [
      "Loss for epoch: 8 is:  152643.93434495194\n"
     ]
    },
    {
     "name": "stderr",
     "output_type": "stream",
     "text": [
      "\n",
      "100%|█████████████████████████████████████████| 156/156 [00:22<00:00,  6.88it/s]\n",
      "Epoch 9, Itr 636, Loss 121917.95312: 100%|████| 636/636 [03:48<00:00,  2.79it/s]\n"
     ]
    },
    {
     "name": "stdout",
     "output_type": "stream",
     "text": [
      "Loss for epoch: 9 is:  148147.75701121794\n"
     ]
    },
    {
     "name": "stderr",
     "output_type": "stream",
     "text": [
      "100%|█████████████████████████████████████████| 156/156 [00:22<00:00,  6.88it/s]\n",
      "Epoch 10, Itr 636, Loss 125323.10156: 100%|███| 636/636 [03:48<00:00,  2.79it/s]"
     ]
    },
    {
     "name": "stdout",
     "output_type": "stream",
     "text": [
      "Loss for epoch: 10 is:  147951.79442107372\n"
     ]
    },
    {
     "name": "stderr",
     "output_type": "stream",
     "text": [
      "\n",
      "100%|█████████████████████████████████████████| 156/156 [00:22<00:00,  6.89it/s]\n",
      "Epoch 11, Itr 636, Loss 123123.76562: 100%|███| 636/636 [03:48<00:00,  2.79it/s]"
     ]
    },
    {
     "name": "stdout",
     "output_type": "stream",
     "text": [
      "Loss for epoch: 11 is:  147715.58248197116\n"
     ]
    },
    {
     "name": "stderr",
     "output_type": "stream",
     "text": [
      "\n",
      "100%|█████████████████████████████████████████| 156/156 [00:22<00:00,  6.88it/s]\n",
      "Epoch 12, Itr 636, Loss 118625.69531: 100%|███| 636/636 [03:47<00:00,  2.79it/s]\n"
     ]
    },
    {
     "name": "stdout",
     "output_type": "stream",
     "text": [
      "Loss for epoch: 12 is:  147663.5179286859\n"
     ]
    },
    {
     "name": "stderr",
     "output_type": "stream",
     "text": [
      "100%|█████████████████████████████████████████| 156/156 [00:22<00:00,  6.89it/s]\n",
      "Epoch 13, Itr 636, Loss 120269.36719: 100%|███| 636/636 [03:47<00:00,  2.79it/s]"
     ]
    },
    {
     "name": "stdout",
     "output_type": "stream",
     "text": [
      "Loss for epoch: 13 is:  146868.47686298078\n"
     ]
    },
    {
     "name": "stderr",
     "output_type": "stream",
     "text": [
      "\n",
      "100%|█████████████████████████████████████████| 156/156 [00:22<00:00,  6.82it/s]\n",
      "Epoch 14, Itr 636, Loss 121102.78125: 100%|███| 636/636 [03:48<00:00,  2.79it/s]"
     ]
    },
    {
     "name": "stdout",
     "output_type": "stream",
     "text": [
      "Loss for epoch: 14 is:  146150.23307291666\n"
     ]
    },
    {
     "name": "stderr",
     "output_type": "stream",
     "text": [
      "\n",
      "100%|█████████████████████████████████████████| 156/156 [00:22<00:00,  6.86it/s]\n",
      "Epoch 15, Itr 636, Loss 120943.32812: 100%|███| 636/636 [03:48<00:00,  2.79it/s]\n"
     ]
    },
    {
     "name": "stdout",
     "output_type": "stream",
     "text": [
      "Loss for epoch: 15 is:  145920.9520733173\n"
     ]
    },
    {
     "name": "stderr",
     "output_type": "stream",
     "text": [
      "100%|█████████████████████████████████████████| 156/156 [00:22<00:00,  6.86it/s]\n",
      "Epoch 16, Itr 636, Loss 120605.46875: 100%|███| 636/636 [03:47<00:00,  2.79it/s]"
     ]
    },
    {
     "name": "stdout",
     "output_type": "stream",
     "text": [
      "Loss for epoch: 16 is:  145193.6294571314\n"
     ]
    },
    {
     "name": "stderr",
     "output_type": "stream",
     "text": [
      "\n",
      "100%|█████████████████████████████████████████| 156/156 [00:22<00:00,  6.88it/s]\n",
      "Epoch 17, Itr 636, Loss 116522.45312: 100%|███| 636/636 [03:48<00:00,  2.79it/s]"
     ]
    },
    {
     "name": "stdout",
     "output_type": "stream",
     "text": [
      "Loss for epoch: 17 is:  145126.8895733173\n"
     ]
    },
    {
     "name": "stderr",
     "output_type": "stream",
     "text": [
      "\n",
      "100%|█████████████████████████████████████████| 156/156 [00:22<00:00,  6.87it/s]\n",
      "Epoch 18, Itr 636, Loss 120748.34375: 100%|███| 636/636 [03:47<00:00,  2.79it/s]\n"
     ]
    },
    {
     "name": "stdout",
     "output_type": "stream",
     "text": [
      "Loss for epoch: 18 is:  145053.3446514423\n"
     ]
    },
    {
     "name": "stderr",
     "output_type": "stream",
     "text": [
      "100%|█████████████████████████████████████████| 156/156 [00:22<00:00,  6.89it/s]\n",
      "Epoch 19, Itr 636, Loss 120360.32031: 100%|███| 636/636 [03:48<00:00,  2.79it/s]"
     ]
    },
    {
     "name": "stdout",
     "output_type": "stream",
     "text": [
      "Loss for epoch: 19 is:  145017.17693309294\n"
     ]
    },
    {
     "name": "stderr",
     "output_type": "stream",
     "text": [
      "\n",
      "100%|█████████████████████████████████████████| 156/156 [00:22<00:00,  6.88it/s]\n",
      "Epoch 20, Itr 636, Loss 115923.43750: 100%|███| 636/636 [03:48<00:00,  2.79it/s]"
     ]
    },
    {
     "name": "stdout",
     "output_type": "stream",
     "text": [
      "Loss for epoch: 20 is:  144950.15454727566\n"
     ]
    },
    {
     "name": "stderr",
     "output_type": "stream",
     "text": [
      "\n",
      "100%|█████████████████████████████████████████| 156/156 [00:22<00:00,  6.88it/s]\n",
      "Epoch 21, Itr 636, Loss 116728.35938: 100%|███| 636/636 [03:48<00:00,  2.79it/s]\n"
     ]
    },
    {
     "name": "stdout",
     "output_type": "stream",
     "text": [
      "Loss for epoch: 21 is:  145004.92237580128\n"
     ]
    },
    {
     "name": "stderr",
     "output_type": "stream",
     "text": [
      "100%|█████████████████████████████████████████| 156/156 [00:22<00:00,  6.87it/s]\n",
      "Epoch 22, Itr 636, Loss 117476.85156: 100%|███| 636/636 [03:48<00:00,  2.79it/s]"
     ]
    },
    {
     "name": "stdout",
     "output_type": "stream",
     "text": [
      "Loss for epoch: 22 is:  144850.80724158653\n"
     ]
    },
    {
     "name": "stderr",
     "output_type": "stream",
     "text": [
      "\n",
      "100%|█████████████████████████████████████████| 156/156 [00:22<00:00,  6.86it/s]\n",
      "Epoch 23, Itr 636, Loss 119066.86719: 100%|███| 636/636 [03:48<00:00,  2.78it/s]"
     ]
    },
    {
     "name": "stdout",
     "output_type": "stream",
     "text": [
      "Loss for epoch: 23 is:  144844.0967548077\n"
     ]
    },
    {
     "name": "stderr",
     "output_type": "stream",
     "text": [
      "\n",
      "100%|█████████████████████████████████████████| 156/156 [00:22<00:00,  6.88it/s]\n",
      "Epoch 24, Itr 636, Loss 121279.44531: 100%|███| 636/636 [03:48<00:00,  2.79it/s]\n"
     ]
    },
    {
     "name": "stdout",
     "output_type": "stream",
     "text": [
      "Loss for epoch: 24 is:  144880.80809294872\n"
     ]
    },
    {
     "name": "stderr",
     "output_type": "stream",
     "text": [
      "100%|█████████████████████████████████████████| 156/156 [00:22<00:00,  6.88it/s]\n",
      "Epoch 25, Itr 636, Loss 122537.28125: 100%|███| 636/636 [03:48<00:00,  2.79it/s]"
     ]
    },
    {
     "name": "stdout",
     "output_type": "stream",
     "text": [
      "Loss for epoch: 25 is:  144872.96955128206\n"
     ]
    },
    {
     "name": "stderr",
     "output_type": "stream",
     "text": [
      "\n",
      "100%|█████████████████████████████████████████| 156/156 [00:22<00:00,  6.87it/s]\n",
      "Epoch 26, Itr 636, Loss 117642.44531: 100%|███| 636/636 [03:47<00:00,  2.79it/s]"
     ]
    },
    {
     "name": "stdout",
     "output_type": "stream",
     "text": [
      "Loss for epoch: 26 is:  144849.51677684294\n"
     ]
    },
    {
     "name": "stderr",
     "output_type": "stream",
     "text": [
      "\n",
      "100%|█████████████████████████████████████████| 156/156 [00:22<00:00,  6.88it/s]\n",
      "Epoch 27, Itr 636, Loss 117761.91406: 100%|███| 636/636 [03:48<00:00,  2.78it/s]\n"
     ]
    },
    {
     "name": "stdout",
     "output_type": "stream",
     "text": [
      "Loss for epoch: 27 is:  144794.01772836538\n"
     ]
    },
    {
     "name": "stderr",
     "output_type": "stream",
     "text": [
      "100%|█████████████████████████████████████████| 156/156 [00:22<00:00,  6.96it/s]\n",
      "Epoch 28, Itr 636, Loss 116574.57031: 100%|███| 636/636 [03:46<00:00,  2.81it/s]"
     ]
    },
    {
     "name": "stdout",
     "output_type": "stream",
     "text": [
      "Loss for epoch: 28 is:  144787.39908854166\n"
     ]
    },
    {
     "name": "stderr",
     "output_type": "stream",
     "text": [
      "\n",
      "100%|█████████████████████████████████████████| 156/156 [00:22<00:00,  6.93it/s]\n",
      "Epoch 29, Itr 636, Loss 115418.67188: 100%|███| 636/636 [03:46<00:00,  2.80it/s]"
     ]
    },
    {
     "name": "stdout",
     "output_type": "stream",
     "text": [
      "Loss for epoch: 29 is:  144791.1837940705\n"
     ]
    },
    {
     "name": "stderr",
     "output_type": "stream",
     "text": [
      "\n",
      "100%|█████████████████████████████████████████| 156/156 [00:22<00:00,  6.96it/s]\n",
      "Epoch 30, Itr 636, Loss 117518.43750: 100%|███| 636/636 [03:46<00:00,  2.81it/s]\n"
     ]
    },
    {
     "name": "stdout",
     "output_type": "stream",
     "text": [
      "Loss for epoch: 30 is:  144733.63131009616\n",
      "Training completed\n"
     ]
    }
   ],
   "source": [
    "training_full_model(convVae, train_loader, test_loader, 30)"
   ]
  },
  {
   "cell_type": "code",
   "execution_count": 44,
   "id": "e140e929",
   "metadata": {},
   "outputs": [],
   "source": [
    "def img_regeneration(model):\n",
    "    with torch.no_grad():\n",
    "        num_preds = 16\n",
    "        test_z = torch.normal(0, 1, size=(1, 128)).to(device)\n",
    "        out = conv_model.decode(test_z)\n",
    "        out = out[0].permute(1,2,0)\n",
    "    return out"
   ]
  },
  {
   "cell_type": "code",
   "execution_count": 45,
   "id": "c6f7ed16",
   "metadata": {},
   "outputs": [],
   "source": [
    "conv_model, optimizer, epoch, stats = loading_model(convVae, \"models/ConvVAE_30.pth\")"
   ]
  },
  {
   "cell_type": "code",
   "execution_count": 46,
   "id": "a8b47fa1",
   "metadata": {},
   "outputs": [],
   "source": [
    "out = img_regeneration(conv_model)"
   ]
  },
  {
   "cell_type": "code",
   "execution_count": 47,
   "id": "a3695aa0",
   "metadata": {},
   "outputs": [
    {
     "name": "stderr",
     "output_type": "stream",
     "text": [
      "Clipping input data to the valid range for imshow with RGB data ([0..1] for floats or [0..255] for integers).\n"
     ]
    },
    {
     "data": {
      "text/plain": [
       "<matplotlib.image.AxesImage at 0x7f932317a9a0>"
      ]
     },
     "execution_count": 47,
     "metadata": {},
     "output_type": "execute_result"
    },
    {
     "data": {
      "image/png": "[encoded data removed]",
      "text/plain": [
       "<Figure size 432x288 with 1 Axes>"
      ]
     },
     "metadata": {
      "needs_background": "light"
     },
     "output_type": "display_data"
    }
   ],
   "source": [
    "plt.imshow(out.to(\"cpu\"))"
   ]
  },
  {
   "cell_type": "markdown",
   "id": "48853601",
   "metadata": {},
   "source": [
    "## Training-Validation Plots\n",
    "\n",
    "So now is the time to see how the plots look like. As one can see validation loss started larger tham training loss since we are testing first and then training, but the loss plumted and after 10 epochs it was already much lower than when it started. \n",
    "\n",
    "After 16 epochs the loss never really changed. But if we observe closly we see that the training loss was much larger than the validation loss"
   ]
  },
  {
   "cell_type": "code",
   "execution_count": 62,
   "id": "800495eb",
   "metadata": {},
   "outputs": [
    {
     "data": {
      "text/plain": [
       "Text(0.5, 1.0, '')"
      ]
     },
     "execution_count": 62,
     "metadata": {},
     "output_type": "execute_result"
    },
    {
     "data": {
      "image/png": "[encoded data removed]",
      "text/plain": [
       "<Figure size 1944x720 with 2 Axes>"
      ]
     },
     "metadata": {},
     "output_type": "display_data"
    }
   ],
   "source": [
    "plt.style.use('seaborn')\n",
    "fig, ax = plt.subplots(1,2)\n",
    "fig.set_size_inches(27, 10)\n",
    "\n",
    "ax[0].plot(stats['epoch'][1:], stats['train_loss'][1:], label=\"Train_loss\", linewidth=3)\n",
    "ax[0].plot(stats['epoch'][1:], stats['val_loss'][1:], label=\"Val Loss\", c='red', linewidth=3)\n",
    "ax[0].legend(loc='best')\n",
    "ax[0].set_xlabel(\"Epochs\")\n",
    "ax[0].set_ylabel(\"Error\")\n",
    "ax[0].set_xticks(np.arange(2, 29, step=2))\n",
    "\n",
    "ax[0].set_title(\"Train-Eval Progress for Fine Tuned ResNet\")\n",
    "\n",
    "\n",
    "ax[1].plot(stats['loss_iters'][1000:], label=\"Train_loss\", linewidth=3)\n",
    "ax[1].legend(loc='best')\n",
    "ax[1].set_xlabel(\"Epochs\")\n",
    "ax[1].set_ylabel(\"Error\")\n",
    "# ax[1].set_xticks(np.arange(2, 29, step=2))\n",
    "\n",
    "ax[1].set_title(\"\")"
   ]
  },
  {
   "cell_type": "code",
   "execution_count": 58,
   "id": "074c72bd",
   "metadata": {},
   "outputs": [
    {
     "data": {
      "text/plain": [
       "dict_keys(['epoch', 'train_loss', 'val_loss', 'loss_iters'])"
      ]
     },
     "execution_count": 58,
     "metadata": {},
     "output_type": "execute_result"
    }
   ],
   "source": [
    "stats.keys()"
   ]
  },
  {
   "cell_type": "code",
   "execution_count": null,
   "id": "f73dc0aa",
   "metadata": {},
   "outputs": [],
   "source": [
    "# add filter \n",
    "# add recons "
   ]
  }
 ],
 "metadata": {
  "kernelspec": {
   "display_name": "Python 3",
   "language": "python",
   "name": "python3"
  },
  "language_info": {
   "codemirror_mode": {
    "name": "ipython",
    "version": 3
   },
   "file_extension": ".py",
   "mimetype": "text/x-python",
   "name": "python",
   "nbconvert_exporter": "python",
   "pygments_lexer": "ipython3",
   "version": "3.8.12"
  }
 },
 "nbformat": 4,
 "nbformat_minor": 5
}

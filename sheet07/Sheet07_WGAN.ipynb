{
  "cells": [
    {
      "cell_type": "code",
      "execution_count": null,
      "metadata": {
        "id": "M5epo11TBnew"
      },
      "outputs": [],
      "source": [
        "import torch\n",
        "from torchvision import datasets, transforms, models\n",
        "from torch.utils.data import DataLoader, Dataset\n",
        "import torch.nn as nn\n",
        "import torch.nn.functional as F\n",
        "import torch.optim as optim\n",
        "from torchsummary import summary\n",
        "import os\n",
        "from scipy.signal import savgol_filter  \n",
        "\n",
        "from PIL import Image\n",
        "import numpy as np\n",
        "import matplotlib.pyplot as plt\n",
        "from tqdm import tqdm\n",
        "\n",
        "from skimage import io\n",
        "import copy\n",
        "import gc\n",
        "from joblib import dump\n",
        "from sklearn.decomposition import PCA\n",
        "\n",
        "import torchvision.utils as vutils\n",
        "\n",
        "import matplotlib.pyplot as plt\n",
        "import matplotlib.animation as animation\n",
        "from IPython.display import HTML\n",
        "from torchsummary import summary\n",
        "from torch.utils.tensorboard import SummaryWriter\n",
        "import shutil\n",
        "from torchvision.utils import save_image\n",
        "import torchvision"
      ],
      "id": "M5epo11TBnew"
    },
    {
      "cell_type": "code",
      "execution_count": null,
      "metadata": {
        "id": "7c5b9b0e"
      },
      "outputs": [],
      "source": [
        "%mkdir data"
      ],
      "id": "7c5b9b0e"
    },
    {
      "cell_type": "code",
      "execution_count": null,
      "metadata": {
        "colab": {
          "base_uri": "https://localhost:8080/"
        },
        "id": "9mdZaNbOn2xE",
        "outputId": "9a23ab4b-3217-4d71-c82e-acb091fdea20"
      },
      "outputs": [
        {
          "name": "stdout",
          "output_type": "stream",
          "text": [
            "Mounted at /content/drive\n"
          ]
        }
      ],
      "source": [
        "from google.colab import drive\n",
        "drive.mount('/content/drive')"
      ],
      "id": "9mdZaNbOn2xE"
    },
    {
      "cell_type": "code",
      "execution_count": 94,
      "metadata": {
        "id": "llayOzGWn88T"
      },
      "outputs": [],
      "source": [
        "#!unzip /content/drive/MyDrive/cuda/sheet6/data/img_align_celeba.zip -d /content/data"
      ],
      "id": "llayOzGWn88T"
    },
    {
      "cell_type": "code",
      "execution_count": null,
      "metadata": {
        "id": "GrQGD-fBn_81"
      },
      "outputs": [],
      "source": [
        "!cp /content/drive/MyDrive/cuda/sheet6/data/list_eval_partition.txt /content/data"
      ],
      "id": "GrQGD-fBn_81"
    },
    {
      "cell_type": "code",
      "execution_count": null,
      "metadata": {
        "id": "idON1lhloQ1Z"
      },
      "outputs": [],
      "source": [
        "t = transforms.Compose([transforms.ToTensor(),\n",
        "                        transforms.Resize((64, 64)),\n",
        "#                         transforms.Normalize([0.485, 0.456, 0.406], [0.229, 0.224, 0.225]),\n",
        "                       ])\n",
        "\n",
        "test_transform = transforms.Compose([transforms.ToTensor(),\n",
        "                                     transforms.Resize((64, 64)),\n",
        "#                                      transforms.Normalize([0.485, 0.456, 0.406], [0.229, 0.224, 0.225]),\n",
        "                                    ])"
      ],
      "id": "idON1lhloQ1Z"
    },
    {
      "cell_type": "code",
      "execution_count": null,
      "metadata": {
        "id": "hC1vXr0nElia"
      },
      "outputs": [],
      "source": [
        "B_SIZE = 256\n",
        "device = torch.device(\"cuda\" if torch.cuda.is_available() else \"cpu\")"
      ],
      "id": "hC1vXr0nElia"
    },
    {
      "cell_type": "code",
      "execution_count": null,
      "metadata": {
        "id": "hjIkgWnEEcbs"
      },
      "outputs": [],
      "source": [
        "class CelebA_Dataset(Dataset):\n",
        "    def __init__(self, data_dir, split, transform):\n",
        "        super().__init__()\n",
        "        self.img_dir = os.path.join(data_dir + \"/img_align_celeba\")\n",
        "        self.data_dir = data_dir\n",
        "        self.split = split\n",
        "        self.transform = transform\n",
        "        self.make_split()\n",
        "    \n",
        "    def make_split(self):\n",
        "        partition_list_path = os.path.join(self.data_dir, \"list_eval_partition.txt\")\n",
        "        partition_list = np.loadtxt(partition_list_path, dtype=str)\n",
        "        if self.split == \"train\":\n",
        "            self.img_names = partition_list[partition_list[:, 1].astype(float) == 0, 0]\n",
        "        elif self.split == \"test\":\n",
        "            self.img_names = partition_list[partition_list[:, 1].astype(float) > 0, 0]\n",
        "            \n",
        "    def t(self, img):\n",
        "        return self.transform(img)\n",
        "        \n",
        "    def __len__(self):\n",
        "        return len(self.img_names)\n",
        "    \n",
        "    def t(self, img):\n",
        "        return self.transform(img)\n",
        "        \n",
        "    def __getitem__(self, idx):\n",
        "        if type(idx) != int:\n",
        "            file_names = [os.path.join(self.img_dir, self.img_names[id]) for id in idx]\n",
        "            imgs = []\n",
        "            for name in file_names:\n",
        "                img = np.array(Image.open(name))\n",
        "                if self.transform:\n",
        "                    img = self.t(img)\n",
        "                imgs.append(img)\n",
        "            return np.stack(imgs)\n",
        "                             \n",
        "        file_name = os.path.join(self.img_dir, self.img_names[idx])\n",
        "        img = np.array(Image.open(file_name))\n",
        "        \n",
        "        if self.transform:\n",
        "            img = self.t(img)\n",
        "    \n",
        "        return img"
      ],
      "id": "hjIkgWnEEcbs"
    },
    {
      "cell_type": "code",
      "execution_count": null,
      "metadata": {
        "id": "5BMWNuKboY2x"
      },
      "outputs": [],
      "source": [
        "train_dataset = CelebA_Dataset(\"/content/data\", \"train\", t)\n",
        "test_dataset = CelebA_Dataset(\"/content/data\", \"test\", test_transform)"
      ],
      "id": "5BMWNuKboY2x"
    },
    {
      "cell_type": "code",
      "execution_count": null,
      "metadata": {
        "colab": {
          "base_uri": "https://localhost:8080/"
        },
        "id": "LPKoaDjykhcL",
        "outputId": "83fa7380-a46a-4af4-d472-971e90524a50"
      },
      "outputs": [
        {
          "data": {
            "text/plain": [
              "162770"
            ]
          },
          "execution_count": 10,
          "metadata": {},
          "output_type": "execute_result"
        }
      ],
      "source": [
        "len(train_dataset)"
      ],
      "id": "LPKoaDjykhcL"
    },
    {
      "cell_type": "code",
      "execution_count": null,
      "metadata": {
        "colab": {
          "base_uri": "https://localhost:8080/"
        },
        "id": "C3Cz6dUMobXI",
        "outputId": "a065a9ce-ba68-4133-8347-1c7cc9f4c7fb"
      },
      "outputs": [
        {
          "name": "stderr",
          "output_type": "stream",
          "text": [
            "/usr/local/lib/python3.7/dist-packages/torch/utils/data/dataloader.py:481: UserWarning: This DataLoader will create 4 worker processes in total. Our suggested max number of worker in current system is 2, which is smaller than what this DataLoader is going to create. Please be aware that excessive worker creation might get DataLoader running slow or even freeze, lower the worker number to avoid potential slowness/freeze if necessary.\n",
            "  cpuset_checked))\n"
          ]
        }
      ],
      "source": [
        "train_loader = DataLoader(train_dataset, batch_size=B_SIZE, shuffle=True, num_workers=4, pin_memory=True)\n",
        "test_loader = DataLoader(test_dataset, batch_size=B_SIZE, shuffle=True, num_workers=4, pin_memory=True)"
      ],
      "id": "C3Cz6dUMobXI"
    },
    {
      "cell_type": "code",
      "execution_count": null,
      "metadata": {
        "colab": {
          "base_uri": "https://localhost:8080/",
          "height": 572
        },
        "id": "BzR_LIzLole1",
        "outputId": "4d59e6c7-b740-47bd-d440-063397b625ac"
      },
      "outputs": [
        {
          "name": "stderr",
          "output_type": "stream",
          "text": [
            "/usr/local/lib/python3.7/dist-packages/torch/utils/data/dataloader.py:481: UserWarning: This DataLoader will create 4 worker processes in total. Our suggested max number of worker in current system is 2, which is smaller than what this DataLoader is going to create. Please be aware that excessive worker creation might get DataLoader running slow or even freeze, lower the worker number to avoid potential slowness/freeze if necessary.\n",
            "  cpuset_checked))\n"
          ]
        },
        {
          "name": "stdout",
          "output_type": "stream",
          "text": [
            "torch.Size([32, 3, 64, 64])\n"
          ]
        },
        {
          "data": {
            "text/plain": [
              "<matplotlib.image.AxesImage at 0x7f2d2fefb690>"
            ]
          },
          "execution_count": 12,
          "metadata": {},
          "output_type": "execute_result"
        },
        {
          "data": {
            "image/png": "[encoded data removed]",
            "text/plain": [
              "<Figure size 576x576 with 1 Axes>"
            ]
          },
          "metadata": {},
          "output_type": "display_data"
        }
      ],
      "source": [
        "real_batch = next(iter(train_loader))\n",
        "print(real_batch.size())\n",
        "plt.figure(figsize=(8,8))\n",
        "plt.axis(\"off\")\n",
        "plt.title(\"Training Images\")\n",
        "plt.imshow(np.transpose(vutils.make_grid(real_batch[0].to(device)[:256], padding=2, normalize=True).cpu(),(1,2,0)))"
      ],
      "id": "BzR_LIzLole1"
    },
    {
      "cell_type": "code",
      "execution_count": null,
      "metadata": {
        "id": "g8hV9OQpvBUD"
      },
      "outputs": [],
      "source": [
        "GAN_LOGS = os.path.join(os.getcwd(), \"tboard_logs\", \"gan1\")\n",
        "if not os.path.exists(GAN_LOGS):\n",
        "    os.makedirs(GAN_LOGS)\n",
        "shutil.rmtree(GAN_LOGS)\n",
        "writer = SummaryWriter(GAN_LOGS)\n",
        "\n",
        "if not os.path.exists(\"imgs1\"):\n",
        "    os.makedirs(\"imgs1\")\n",
        "\n",
        "if not os.path.exists(\"imgs1/training1\"):\n",
        "    os.makedirs(\"imgs1/training1\")\n",
        "shutil.rmtree(\"imgs1/training1\")"
      ],
      "id": "g8hV9OQpvBUD"
    },
    {
      "cell_type": "code",
      "execution_count": null,
      "metadata": {
        "id": "ap4IEgZCpIGd"
      },
      "outputs": [],
      "source": [
        "# custom weights initialization called on netG and netD\n",
        "def weights_init(m):\n",
        "    classname = m.__class__.__name__\n",
        "    if classname.find('Conv') != -1:\n",
        "        nn.init.normal_(m.weight.data, 0.0, 0.02)\n",
        "    elif classname.find('BatchNorm') != -1:\n",
        "        nn.init.normal_(m.weight.data, 1.0, 0.02)\n",
        "        nn.init.constant_(m.bias.data, 0)"
      ],
      "id": "ap4IEgZCpIGd"
    },
    {
      "cell_type": "code",
      "execution_count": null,
      "metadata": {
        "id": "VesQREz1F7I6"
      },
      "outputs": [],
      "source": [
        "\n",
        "nc = 3\n",
        "\n",
        "# Size of z latent vector (i.e. size of generator input)\n",
        "nz = 100\n",
        "\n",
        "# Size of feature maps in generator\n",
        "ngf = 64\n",
        "\n",
        "# Size of feature maps in discriminator\n",
        "ndf = 64\n",
        "\n",
        "\n",
        "# Beta1 hyperparam for Adam optimizers\n",
        "beta1 = 0.5\n",
        "\n",
        "# Learning rate for optimizers\n",
        "lr = 0.0002\n",
        "\n",
        "num_epochs = 10\n",
        "\n",
        "\n",
        "LAMBDA_GP = 10"
      ],
      "id": "VesQREz1F7I6"
    },
    {
      "cell_type": "code",
      "execution_count": null,
      "metadata": {
        "id": "uPYCsRccuZ-u"
      },
      "outputs": [],
      "source": [
        ""
      ],
      "id": "uPYCsRccuZ-u"
    },
    {
      "cell_type": "code",
      "execution_count": null,
      "metadata": {
        "id": "A6jjylRDFfha"
      },
      "outputs": [],
      "source": [
        "# Generator Code\n",
        "\n",
        "class Generator(nn.Module):\n",
        "    def __init__(self):\n",
        "        super(Generator, self).__init__()\n",
        "        self.main = nn.Sequential(\n",
        "            nn.ConvTranspose2d( nz, ngf * 8, 4, 1, 0, bias=False),\n",
        "            nn.BatchNorm2d(ngf * 8),\n",
        "            nn.ReLU(True),\n",
        "            nn.ConvTranspose2d(ngf * 8, ngf * 4, 4, 2, 1, bias=False),\n",
        "            nn.BatchNorm2d(ngf * 4),\n",
        "            nn.ReLU(True),\n",
        "            nn.ConvTranspose2d( ngf * 4, ngf * 2, 4, 2, 1, bias=False),\n",
        "            nn.BatchNorm2d(ngf * 2),\n",
        "            nn.ReLU(True),\n",
        "            nn.ConvTranspose2d( ngf * 2, ngf, 4, 2, 1, bias=False),\n",
        "            nn.BatchNorm2d(ngf),\n",
        "            nn.ReLU(True),\n",
        "            nn.ConvTranspose2d( ngf, nc, 4, 2, 1, bias=False),\n",
        "            nn.Tanh()\n",
        "        )\n",
        "\n",
        "    def forward(self, input):\n",
        "        \n",
        "        return self.main(input)"
      ],
      "id": "A6jjylRDFfha"
    },
    {
      "cell_type": "code",
      "execution_count": null,
      "metadata": {
        "colab": {
          "base_uri": "https://localhost:8080/"
        },
        "id": "TyRnwjlQFoZR",
        "outputId": "9e7482b7-3e2c-4ea0-97fd-3843adfb7872"
      },
      "outputs": [
        {
          "name": "stdout",
          "output_type": "stream",
          "text": [
            "Generator(\n",
            "  (main): Sequential(\n",
            "    (0): ConvTranspose2d(100, 512, kernel_size=(4, 4), stride=(1, 1), bias=False)\n",
            "    (1): BatchNorm2d(512, eps=1e-05, momentum=0.1, affine=True, track_running_stats=True)\n",
            "    (2): ReLU(inplace=True)\n",
            "    (3): ConvTranspose2d(512, 256, kernel_size=(4, 4), stride=(2, 2), padding=(1, 1), bias=False)\n",
            "    (4): BatchNorm2d(256, eps=1e-05, momentum=0.1, affine=True, track_running_stats=True)\n",
            "    (5): ReLU(inplace=True)\n",
            "    (6): ConvTranspose2d(256, 128, kernel_size=(4, 4), stride=(2, 2), padding=(1, 1), bias=False)\n",
            "    (7): BatchNorm2d(128, eps=1e-05, momentum=0.1, affine=True, track_running_stats=True)\n",
            "    (8): ReLU(inplace=True)\n",
            "    (9): ConvTranspose2d(128, 64, kernel_size=(4, 4), stride=(2, 2), padding=(1, 1), bias=False)\n",
            "    (10): BatchNorm2d(64, eps=1e-05, momentum=0.1, affine=True, track_running_stats=True)\n",
            "    (11): ReLU(inplace=True)\n",
            "    (12): ConvTranspose2d(64, 3, kernel_size=(4, 4), stride=(2, 2), padding=(1, 1), bias=False)\n",
            "    (13): Tanh()\n",
            "  )\n",
            ")\n"
          ]
        }
      ],
      "source": [
        "\n",
        "netG = Generator().to(device)\n",
        "\n",
        "\n",
        "netG.apply(weights_init)\n",
        "\n",
        "\n",
        "print(netG)"
      ],
      "id": "TyRnwjlQFoZR"
    },
    {
      "cell_type": "code",
      "execution_count": null,
      "metadata": {
        "id": "QJMuJeL7GBRy"
      },
      "outputs": [],
      "source": [
        "class Discriminator(nn.Module):\n",
        "    def __init__(self):\n",
        "        super(Discriminator, self).__init__()\n",
        "        \n",
        "        self.main = nn.Sequential(\n",
        "            nn.Conv2d(nc, ndf, 4, 2, 1, bias=False),\n",
        "            nn.LeakyReLU(0.2, inplace=True),\n",
        "            nn.Conv2d(ndf, ndf * 2, 4, 2, 1, bias=False),\n",
        "            nn.BatchNorm2d(ndf * 2),\n",
        "            nn.LeakyReLU(0.2, inplace=True),\n",
        "            nn.Conv2d(ndf * 2, ndf * 4, 4, 2, 1, bias=False),\n",
        "            nn.BatchNorm2d(ndf * 4),\n",
        "            nn.LeakyReLU(0.2, inplace=True),\n",
        "            nn.Conv2d(ndf * 4, ndf * 8, 4, 2, 1, bias=False),\n",
        "            nn.BatchNorm2d(ndf * 8),\n",
        "            nn.LeakyReLU(0.2, inplace=True),\n",
        "            nn.Conv2d(ndf * 8, 1, 4, 1, 0, bias=False),\n",
        "            \n",
        "        )\n",
        "\n",
        "    def forward(self, input):\n",
        "        return self.main(input)"
      ],
      "id": "QJMuJeL7GBRy"
    },
    {
      "cell_type": "code",
      "execution_count": null,
      "metadata": {
        "colab": {
          "base_uri": "https://localhost:8080/"
        },
        "id": "QT6ir890GH7q",
        "outputId": "d4ed734a-ab22-4c22-bd3a-5e5e1fe0752b"
      },
      "outputs": [
        {
          "name": "stdout",
          "output_type": "stream",
          "text": [
            "Discriminator(\n",
            "  (main): Sequential(\n",
            "    (0): Conv2d(3, 64, kernel_size=(4, 4), stride=(2, 2), padding=(1, 1), bias=False)\n",
            "    (1): LeakyReLU(negative_slope=0.2, inplace=True)\n",
            "    (2): Conv2d(64, 128, kernel_size=(4, 4), stride=(2, 2), padding=(1, 1), bias=False)\n",
            "    (3): BatchNorm2d(128, eps=1e-05, momentum=0.1, affine=True, track_running_stats=True)\n",
            "    (4): LeakyReLU(negative_slope=0.2, inplace=True)\n",
            "    (5): Conv2d(128, 256, kernel_size=(4, 4), stride=(2, 2), padding=(1, 1), bias=False)\n",
            "    (6): BatchNorm2d(256, eps=1e-05, momentum=0.1, affine=True, track_running_stats=True)\n",
            "    (7): LeakyReLU(negative_slope=0.2, inplace=True)\n",
            "    (8): Conv2d(256, 512, kernel_size=(4, 4), stride=(2, 2), padding=(1, 1), bias=False)\n",
            "    (9): BatchNorm2d(512, eps=1e-05, momentum=0.1, affine=True, track_running_stats=True)\n",
            "    (10): LeakyReLU(negative_slope=0.2, inplace=True)\n",
            "    (11): Conv2d(512, 1, kernel_size=(4, 4), stride=(1, 1), bias=False)\n",
            "  )\n",
            ")\n"
          ]
        }
      ],
      "source": [
        "\n",
        "netD = Discriminator().to(device)\n",
        "netD.apply(weights_init)\n",
        "print(netD)"
      ],
      "id": "QT6ir890GH7q"
    },
    {
      "cell_type": "code",
      "execution_count": null,
      "metadata": {
        "id": "8KAAcyMHa-YF"
      },
      "outputs": [],
      "source": [
        "def image_to_vector(img):\n",
        "    \"\"\" Converting images into vectors \"\"\"\n",
        "    vector = img.view(img.shape[0], -1)\n",
        "    return vector \n",
        "\n",
        "def vector_to_image(vector, shape=(1,32,32)):\n",
        "    \"\"\" Converting flattened images into matrices \"\"\"\n",
        "    images = vector.view(vector.shape[0], *shape)\n",
        "    return images"
      ],
      "id": "8KAAcyMHa-YF"
    },
    {
      "cell_type": "code",
      "execution_count": null,
      "metadata": {
        "id": "J2Dy-8jkwYcs"
      },
      "outputs": [],
      "source": [
        "def gradient_penalty(D, real, fake, device='cpu'):\n",
        "    BATCH_SIZE, C, H, W = real.shape\n",
        "    eps = torch.rand((BATCH_SIZE, 1, 1, 1)).repeat(1, C, H, W).to(device) # eps for interpolate images\n",
        "    interpolated_imgs = real * eps + (1 - eps) * fake\n",
        "    \n",
        "    d_interpolates = D(interpolated_imgs)\n",
        "    \n",
        "    gradient = torch.autograd.grad(\n",
        "        inputs=interpolated_imgs,\n",
        "        outputs = d_interpolates,\n",
        "        grad_outputs=torch.ones_like(d_interpolates),\n",
        "        create_graph=True,\n",
        "        retain_graph=True\n",
        "        )[0] # torch.autograd.grad() with grad_outputs will output a tuple, the frist element is the gradient\n",
        "    \n",
        "    gradient = gradient.view(gradient.shape[0], -1)\n",
        "    grad_norm = gradient.norm(2, dim=1)\n",
        "    grad_penalty = torch.mean(grad_norm - 1)**2\n",
        "    return grad_penalty"
      ],
      "id": "J2Dy-8jkwYcs"
    },
    {
      "cell_type": "code",
      "execution_count": null,
      "metadata": {
        "id": "x_XOWxO8aMNM"
      },
      "outputs": [],
      "source": [
        "def train(dataloader,netG,netD):\n",
        "\n",
        "    # Create batch of latent vectors that we will use to visualize\n",
        "    #  the progression of the generator\n",
        "    fixed_noise = torch.randn(64, nz, 1, 1, device=device)\n",
        "\n",
        "    # Establish convention for real and fake labels during training\n",
        "    real_label = 1.\n",
        "    fake_label = 0.\n",
        "\n",
        "    # Setup Adam optimizers for both G and D\n",
        "    optimizerD = optim.Adam(netD.parameters(), lr=lr, betas=(beta1, 0.999))\n",
        "    optimizerG = optim.Adam(netG.parameters(), lr=lr, betas=(beta1, 0.999))\n",
        "    \n",
        "    img_list = []\n",
        "    G_losses = []\n",
        "    D_losses = []\n",
        "    iters = 0\n",
        "\n",
        "    print(\"Starting Training Loop...\")\n",
        "    # For each epoch\n",
        "    for epoch in range(num_epochs):\n",
        "        # For each batch in the dataloader\n",
        "        for i, data in enumerate(dataloader, 0):\n",
        "            ############################\n",
        "            # (1) Update D network: maximize log(D(x)) + log(1 - D(G(z)))\n",
        "            ###########################\n",
        "            ## Train with all-real batch\n",
        "            netD.zero_grad()\n",
        "            # Format batch\n",
        "            real_cpu = data.to(device)\n",
        "           \n",
        "            b_size = real_cpu.size(0)\n",
        "            label = torch.full((b_size,), real_label, dtype=torch.float, device=device)\n",
        "            # Forward pass real batch through D\n",
        "            output = netD(real_cpu).view(-1)\n",
        "           \n",
        "            D_x = output.mean().item()\n",
        "\n",
        "            ## Train with all-fake batch\n",
        "            # Generate batch of latent vectors\n",
        "            noise = torch.randn(b_size, nz, 1, 1, device=device)\n",
        "            # Generate fake image batch with G\n",
        "            fake = netG(noise)\n",
        "            # Classify all fake batch with D\n",
        "            output = netD(fake.detach()).view(-1)\n",
        "            # Calculate D's loss on the all-fake batch\n",
        "           \n",
        "            D_G_z1 = output.mean().item()\n",
        "\n",
        "            gp_regulariztion = gradient_penalty(netD, real_cpu, fake, device=device)\n",
        "            loss_D =D_G_z1 - D_x + gp_regulariztion * LAMBDA_GP\n",
        "           \n",
        "            loss_D.backward(retain_graph=True)\n",
        "            # Compute error of D as sum over the fake and the real batches\n",
        "           \n",
        "            # Update D\n",
        "            optimizerD.step()\n",
        "\n",
        "            ############################\n",
        "            # (2) Update G network: maximize log(D(G(z)))\n",
        "            ###########################\n",
        "            netG.zero_grad()\n",
        "            label.fill_(real_label)  # fake labels are real for generator cost\n",
        "            # Since we just updated D, perform another forward pass of all-fake batch through D\n",
        "            output = netD(fake).view(-1)\n",
        "            D_G_z2 = -1 * output.mean()\n",
        "            # Update G\n",
        "            optimizerG.step()\n",
        "\n",
        "            writer.add_scalar(f'Loss/Discriminator Loss', loss_D.item(), global_step=iters)\n",
        "            writer.add_scalar(f'Loss/Generator Loss', D_G_z2.item(), global_step=iters)\n",
        "            writer.add_scalars(f'Comb_Loss/Losses', {\n",
        "                                'Discriminator': loss_D.item(),\n",
        "                                'Generator':  D_G_z2.item()\n",
        "                            }, iters)  \n",
        "            # Output training stats\n",
        "            if i % 50 == 0:\n",
        "                print('[%d/%d][%d/%d]\\tLoss_D: %.4f\\tLoss_G: %.4f\\t'\n",
        "                      % (epoch, num_epochs, i, len(dataloader),\n",
        "                         loss_D.item(), D_G_z2.item()))\n",
        "\n",
        "            # Save Losses for plotting later\n",
        "            G_losses.append(D_G_z2.item())\n",
        "            D_losses.append(loss_D.item())\n",
        "\n",
        "            # Check how the generator is doing by saving G's output on fixed_noise\n",
        "            if (iters % 100 == 0) or ((epoch == num_epochs-1) and (i == len(dataloader)-1)):\n",
        "                with torch.no_grad():\n",
        "                    fake = netG(fixed_noise).detach().cpu()\n",
        "                img_list.append(vutils.make_grid(fake, padding=2, normalize=True))\n",
        "                writer.add_image('images', vutils.make_grid(fake, padding=2, normalize=True), global_step=iters)\n",
        "\n",
        "            iters += 1\n",
        "    return G_losses,D_losses,img_list"
      ],
      "id": "x_XOWxO8aMNM"
    },
    {
      "cell_type": "code",
      "execution_count": null,
      "metadata": {
        "id": "_Kc46Pilvapg"
      },
      "outputs": [],
      "source": [
        "shutil.rmtree(GAN_LOGS)\n",
        "writer = SummaryWriter(GAN_LOGS)"
      ],
      "id": "_Kc46Pilvapg"
    },
    {
      "cell_type": "code",
      "execution_count": null,
      "metadata": {
        "colab": {
          "base_uri": "https://localhost:8080/"
        },
        "id": "Apb_A8QHvbjf",
        "outputId": "805e986f-0efd-4131-d9f3-06b9ba482c9a"
      },
      "outputs": [
        {
          "name": "stdout",
          "output_type": "stream",
          "text": [
            "Starting Training Loop...\n"
          ]
        },
        {
          "name": "stderr",
          "output_type": "stream",
          "text": [
            "/usr/local/lib/python3.7/dist-packages/torch/utils/data/dataloader.py:481: UserWarning: This DataLoader will create 4 worker processes in total. Our suggested max number of worker in current system is 2, which is smaller than what this DataLoader is going to create. Please be aware that excessive worker creation might get DataLoader running slow or even freeze, lower the worker number to avoid potential slowness/freeze if necessary.\n",
            "  cpuset_checked))\n"
          ]
        },
        {
          "name": "stdout",
          "output_type": "stream",
          "text": [
            "[0/5][0/636]\tLoss_D: -4.3571\tLoss_G: 6.9287\t\n",
            "[0/5][50/636]\tLoss_D: -5.7364\tLoss_G: 9.1270\t\n",
            "[0/5][100/636]\tLoss_D: -4.3023\tLoss_G: 8.7847\t\n",
            "[0/5][150/636]\tLoss_D: -7.5736\tLoss_G: 10.6616\t\n",
            "[0/5][200/636]\tLoss_D: -5.8697\tLoss_G: 9.6355\t\n",
            "[0/5][250/636]\tLoss_D: -8.0451\tLoss_G: 11.7640\t\n",
            "[0/5][300/636]\tLoss_D: -6.0779\tLoss_G: 9.6805\t\n",
            "[0/5][350/636]\tLoss_D: -6.1442\tLoss_G: 9.2855\t\n",
            "[0/5][400/636]\tLoss_D: -6.4317\tLoss_G: 8.8970\t\n",
            "[0/5][450/636]\tLoss_D: -4.8175\tLoss_G: 8.5467\t\n",
            "[0/5][500/636]\tLoss_D: -5.4397\tLoss_G: 8.3931\t\n",
            "[0/5][550/636]\tLoss_D: -4.2733\tLoss_G: 8.3955\t\n",
            "[0/5][600/636]\tLoss_D: -4.7056\tLoss_G: 8.2933\t\n",
            "[1/5][0/636]\tLoss_D: -5.4104\tLoss_G: 8.6308\t\n",
            "[1/5][50/636]\tLoss_D: -3.7823\tLoss_G: 8.4702\t\n",
            "[1/5][100/636]\tLoss_D: -6.3053\tLoss_G: 9.9646\t\n",
            "[1/5][150/636]\tLoss_D: -3.7635\tLoss_G: 8.5477\t\n",
            "[1/5][200/636]\tLoss_D: -4.4201\tLoss_G: 8.3456\t\n",
            "[1/5][250/636]\tLoss_D: -4.9293\tLoss_G: 8.4439\t\n",
            "[1/5][300/636]\tLoss_D: -4.6630\tLoss_G: 8.0085\t\n",
            "[1/5][350/636]\tLoss_D: -4.9253\tLoss_G: 8.2455\t\n",
            "[1/5][400/636]\tLoss_D: -4.5590\tLoss_G: 8.4175\t\n",
            "[1/5][450/636]\tLoss_D: -3.6640\tLoss_G: 7.1883\t\n",
            "[1/5][500/636]\tLoss_D: -4.5275\tLoss_G: 8.2106\t\n",
            "[1/5][550/636]\tLoss_D: -3.9444\tLoss_G: 8.0140\t\n",
            "[1/5][600/636]\tLoss_D: -4.7321\tLoss_G: 8.5357\t\n",
            "[2/5][0/636]\tLoss_D: -5.2074\tLoss_G: 8.9109\t\n",
            "[2/5][50/636]\tLoss_D: -4.4388\tLoss_G: 8.2339\t\n",
            "[2/5][100/636]\tLoss_D: -3.7330\tLoss_G: 8.1023\t\n",
            "[2/5][150/636]\tLoss_D: -5.6078\tLoss_G: 9.6844\t\n",
            "[2/5][200/636]\tLoss_D: -6.7038\tLoss_G: 10.4390\t\n",
            "[2/5][250/636]\tLoss_D: -5.5559\tLoss_G: 8.5392\t\n",
            "[2/5][300/636]\tLoss_D: -6.1452\tLoss_G: 8.7866\t\n",
            "[2/5][350/636]\tLoss_D: -4.0897\tLoss_G: 8.1267\t\n",
            "[2/5][400/636]\tLoss_D: -5.5498\tLoss_G: 8.4506\t\n",
            "[2/5][450/636]\tLoss_D: -4.7600\tLoss_G: 8.5175\t\n",
            "[2/5][500/636]\tLoss_D: -5.5094\tLoss_G: 8.1822\t\n",
            "[2/5][550/636]\tLoss_D: -6.5956\tLoss_G: 9.6396\t\n",
            "[2/5][600/636]\tLoss_D: -6.3435\tLoss_G: 8.8351\t\n",
            "[3/5][0/636]\tLoss_D: -5.3701\tLoss_G: 9.1851\t\n",
            "[3/5][50/636]\tLoss_D: -6.0155\tLoss_G: 9.2069\t\n",
            "[3/5][100/636]\tLoss_D: -6.3010\tLoss_G: 9.6823\t\n",
            "[3/5][150/636]\tLoss_D: -5.8841\tLoss_G: 9.2756\t\n",
            "[3/5][200/636]\tLoss_D: -6.4374\tLoss_G: 9.1419\t\n",
            "[3/5][250/636]\tLoss_D: -6.0815\tLoss_G: 9.1829\t\n",
            "[3/5][300/636]\tLoss_D: -5.7808\tLoss_G: 8.7392\t\n",
            "[3/5][350/636]\tLoss_D: -5.2384\tLoss_G: 8.4796\t\n",
            "[3/5][400/636]\tLoss_D: -5.8073\tLoss_G: 8.9465\t\n",
            "[3/5][450/636]\tLoss_D: -5.6720\tLoss_G: 8.7707\t\n",
            "[3/5][500/636]\tLoss_D: -5.6295\tLoss_G: 9.7754\t\n",
            "[3/5][550/636]\tLoss_D: -5.4841\tLoss_G: 9.1389\t\n",
            "[3/5][600/636]\tLoss_D: -5.4964\tLoss_G: 9.0784\t\n",
            "[4/5][0/636]\tLoss_D: -5.6197\tLoss_G: 8.8081\t\n",
            "[4/5][50/636]\tLoss_D: -5.2162\tLoss_G: 8.5865\t\n",
            "[4/5][100/636]\tLoss_D: -6.5915\tLoss_G: 9.0997\t\n",
            "[4/5][150/636]\tLoss_D: -5.2729\tLoss_G: 8.6355\t\n",
            "[4/5][200/636]\tLoss_D: -5.6534\tLoss_G: 9.0105\t\n",
            "[4/5][250/636]\tLoss_D: -6.0589\tLoss_G: 8.7665\t\n",
            "[4/5][300/636]\tLoss_D: -6.2909\tLoss_G: 8.7079\t\n",
            "[4/5][350/636]\tLoss_D: -5.6130\tLoss_G: 7.9122\t\n",
            "[4/5][400/636]\tLoss_D: -5.9904\tLoss_G: 8.2564\t\n",
            "[4/5][450/636]\tLoss_D: -5.4260\tLoss_G: 8.2841\t\n",
            "[4/5][500/636]\tLoss_D: -6.0380\tLoss_G: 7.9209\t\n",
            "[4/5][550/636]\tLoss_D: -5.0477\tLoss_G: 8.0835\t\n",
            "[4/5][600/636]\tLoss_D: -5.6389\tLoss_G: 8.1318\t\n"
          ]
        }
      ],
      "source": [
        "image_size=32\n",
        "G_losses,D_losses,img_list=train(train_loader,netG,netD)"
      ],
      "id": "Apb_A8QHvbjf"
    },
    {
      "cell_type": "code",
      "source": [
        "plt.figure(figsize=(10,5))\n",
        "plt.title(\"Generator and Discriminator Loss During Training\")\n",
        "plt.plot(G_losses,label=\"G\")\n",
        "plt.plot(D_losses,label=\"D\")\n",
        "plt.xlabel(\"iterations\")\n",
        "plt.ylabel(\"Loss\")\n",
        "plt.legend()\n",
        "plt.show()"
      ],
      "metadata": {
        "colab": {
          "base_uri": "https://localhost:8080/",
          "height": 350
        },
        "id": "76lDXMfgOMKT",
        "outputId": "d34f587a-6329-4185-d46d-eb0d4a2e8d13"
      },
      "id": "76lDXMfgOMKT",
      "execution_count": 91,
      "outputs": [
        {
          "output_type": "display_data",
          "data": {
            "image/png": "[encoded data removed]",
            "text/plain": [
              "<Figure size 720x360 with 1 Axes>"
            ]
          },
          "metadata": {
            "needs_background": "light"
          }
        }
      ]
    },
    {
      "cell_type": "code",
      "source": [
        "\n",
        "%%shell \n",
        "jupyter nbconvert --to html /content/Sheet07_WGAN.ipynb"
      ],
      "metadata": {
        "colab": {
          "base_uri": "https://localhost:8080/"
        },
        "id": "xQn8GraGOxeI",
        "outputId": "1551c9cc-39d1-4945-d948-cbf650ddd464"
      },
      "id": "xQn8GraGOxeI",
      "execution_count": 93,
      "outputs": [
        {
          "output_type": "stream",
          "name": "stdout",
          "text": [
            "[NbConvertApp] Converting notebook /content/Sheet07_WGAN.ipynb to html\n",
            "[NbConvertApp] Writing 697823 bytes to /content/Sheet07_WGAN.html\n"
          ]
        },
        {
          "output_type": "execute_result",
          "data": {
            "text/plain": [
              ""
            ]
          },
          "metadata": {},
          "execution_count": 93
        }
      ]
    }
  ],
  "metadata": {
    "accelerator": "GPU",
    "colab": {
      "collapsed_sections": [],
      "name": "Sheet07_WGAN.ipynb",
      "provenance": []
    },
    "kernelspec": {
      "display_name": "Python 3",
      "language": "python",
      "name": "python3"
    },
    "language_info": {
      "codemirror_mode": {
        "name": "ipython",
        "version": 3
      },
      "file_extension": ".py",
      "mimetype": "text/x-python",
      "name": "python",
      "nbconvert_exporter": "python",
      "pygments_lexer": "ipython3",
      "version": "3.8.12"
    }
  },
  "nbformat": 4,
  "nbformat_minor": 5
}
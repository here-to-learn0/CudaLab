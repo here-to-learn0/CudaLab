{
 "cells": [
  {
   "cell_type": "code",
   "execution_count": 1,
   "id": "9f90f808",
   "metadata": {},
   "outputs": [],
   "source": [
    "import torch\n",
    "from torchvision import datasets, transforms, models\n",
    "from torch.utils.data import DataLoader, Dataset\n",
    "import torch.nn as nn\n",
    "import torch.nn.functional as F\n",
    "import torch.optim as optim\n",
    "from torchsummary import summary\n",
    "import os\n",
    "\n",
    "from PIL import Image\n",
    "import numpy as np\n",
    "import matplotlib.pyplot as plt\n",
    "from tqdm import tqdm\n",
    "\n",
    "from skimage import io\n",
    "import copy\n",
    "import gc"
   ]
  },
  {
   "cell_type": "code",
   "execution_count": 2,
   "id": "26a83813",
   "metadata": {},
   "outputs": [],
   "source": [
    "device = torch.device(\"cuda\" if torch.cuda.is_available() else \"cpu\")\n",
    "Epochs = 18\n",
    "plt.style.use('seaborn')\n"
   ]
  },
  {
   "cell_type": "code",
   "execution_count": 3,
   "id": "b590cbb2",
   "metadata": {},
   "outputs": [],
   "source": [
    "# download dataset\n",
    "# !wget -O dataset.tar.gz https://www.robots.ox.ac.uk/~vgg/data/pets/data/images.tar.gz\n",
    "# !wget -O labels.tar.gz https://www.robots.ox.ac.uk/~vgg/data/pets/data/annotations.tar.gz\n"
   ]
  },
  {
   "cell_type": "code",
   "execution_count": 4,
   "id": "6ca87bc0",
   "metadata": {},
   "outputs": [],
   "source": [
    "class Cat_Dog_Dataset(Dataset):\n",
    "    def __init__(self, label_dir, data_dir, train, transform=None):\n",
    "        np.random.seed(0)\n",
    "        self.label_dir = label_dir\n",
    "        self.data_dir = data_dir\n",
    "        self.transform = transform\n",
    "        self.train = train\n",
    "        self.filter_dataset()\n",
    "        \n",
    "    def class_vise_idx(self, labels, size):\n",
    "        all_cats = labels[labels[:, 2] == '1']\n",
    "        filtered_cats = all_cats[np.random.choice(len(all_cats), size=size, replace=False)]\n",
    "\n",
    "        all_dogs = labels[labels[:, 2] == '2']\n",
    "        filtered_dogs = all_dogs[np.random.choice(len(all_dogs), size=size, replace=False)]\n",
    "        filtered_labels = np.vstack((filtered_cats, filtered_dogs))\n",
    "        return np.delete(filtered_labels, [1, -1], axis=1)\n",
    "        \n",
    "    def filter_dataset(self):\n",
    "        if self.train:\n",
    "            label_path = os.path.join(self.label_dir, \"trainval.txt\")\n",
    "            labels = np.loadtxt(label_path, dtype=object)\n",
    "            self.labels = self.class_vise_idx(labels, size=600)\n",
    "\n",
    "        else:\n",
    "            label_path = os.path.join(self.label_dir, \"test.txt\")\n",
    "            labels = np.loadtxt(label_path, dtype=object)\n",
    "            self.labels = self.class_vise_idx(labels, size=400)\n",
    "            \n",
    "    def t_transform(self, label, n_classes=2):\n",
    "        sample = torch.eye(n_classes, dtype=int)\n",
    "        if label == 1:\n",
    "            return sample[0]\n",
    "        if label == 2:\n",
    "            return sample[1]\n",
    "        \n",
    "    def t(self, img):\n",
    "        return self.transform(img)\n",
    "        \n",
    "    def __len__(self):\n",
    "        return len(self.labels)\n",
    "    \n",
    "    def visual(self, img):\n",
    "        plt.imshow(img)\n",
    "        plt.show\n",
    "    \n",
    "    def __getitem__(self, idx):\n",
    "        name, label = self.labels[idx]\n",
    "        file_path = os.path.join(self.data_dir, name+'.jpg')\n",
    "        img = np.array(Image.open(file_path).convert('RGB'))\n",
    "        \n",
    "        if self.transform:\n",
    "            img = self.t(img)\n",
    "\n",
    "        label = self.t_transform(int(label))\n",
    "        return (img, label)"
   ]
  },
  {
   "cell_type": "code",
   "execution_count": 5,
   "id": "78c99ec8",
   "metadata": {},
   "outputs": [],
   "source": [
    "label_dir = \"./data/annotations\"\n",
    "data_dir = \"./data/images\"\n",
    "\n",
    "t = transforms.Compose([transforms.ToTensor(),\n",
    "                        transforms.ColorJitter(brightness=.5, hue=.3),\n",
    "                        transforms.GaussianBlur(kernel_size=(5, 9), sigma=(0.1, 5)),\n",
    "                        transforms.RandomPerspective(distortion_scale=0.6, p=0.5),\n",
    "                        transforms.RandomVerticalFlip(p=0.5),\n",
    "                        transforms.Resize((224, 224)),\n",
    "                        transforms.Normalize([0.485, 0.456, 0.406], [0.229, 0.224, 0.225]),\n",
    "                       ])\n",
    "\n",
    "test_transform = transforms.Compose([transforms.ToTensor(),\n",
    "                                     transforms.Resize((224, 224)),\n",
    "                                     transforms.Normalize([0.485, 0.456, 0.406], [0.229, 0.224, 0.225]),\n",
    "                       ])\n",
    "\n",
    "train_dataset = Cat_Dog_Dataset(label_dir, data_dir, train=True, transform=t)\n",
    "test_dataset = Cat_Dog_Dataset(label_dir, data_dir, train=False, transform=test_transform)"
   ]
  },
  {
   "cell_type": "code",
   "execution_count": 6,
   "id": "5db76c86",
   "metadata": {},
   "outputs": [],
   "source": [
    "train_loader = DataLoader(train_dataset, batch_size=16, shuffle=True, num_workers=4, pin_memory=True)\n",
    "test_loader = DataLoader(test_dataset, batch_size=16, shuffle=True, num_workers=4, pin_memory=True)"
   ]
  },
  {
   "cell_type": "code",
   "execution_count": 7,
   "id": "c1ecefb3",
   "metadata": {},
   "outputs": [],
   "source": [
    "def train(model, train_loader, optimizer, criterion, epoch, allow_cutmix):\n",
    "    \"\"\"\n",
    "    Training for one epoch\n",
    "    \"\"\"\n",
    "    loss_list = []\n",
    "    running_loss = 0.0\n",
    "    pbar = tqdm(enumerate(train_loader), total=len(train_loader))\n",
    "    model.train()\n",
    "    \n",
    "    for idx, (images, labels) in pbar:\n",
    "        if allow_cutmix:\n",
    "            images, labels = generate_cutmix_image(images, labels, 1.0)\n",
    "        \n",
    "        # put on gpu\n",
    "        images, labels = images.to(device), labels.type(torch.float32).to(device)\n",
    "        model = model.to(device)\n",
    "        \n",
    "        optimizer.zero_grad()\n",
    "        \n",
    "        outputs = model(images)\n",
    "        \n",
    "        loss = criterion(outputs, labels)\n",
    "        loss.backward()\n",
    "        optimizer.step()\n",
    "        \n",
    "        loss_list.append(loss.item())\n",
    "        running_loss =+ loss.item()\n",
    "        \n",
    "        if idx % 1 == 0:\n",
    "            pbar.set_description(f\"Epoch {epoch+1}, Itr {idx+1}, Loss {running_loss:.5f}\")\n",
    "\n",
    "    avg_loss = np.mean(loss_list)\n",
    "\n",
    "    return loss_list, avg_loss\n",
    "\n",
    "@torch.no_grad()\n",
    "def testing(model, test_loader, criterion):\n",
    "    \"\"\"\n",
    "    Testing the accuracy for validation set\n",
    "    \"\"\"\n",
    "    model.eval()\n",
    "    correct = 0\n",
    "    loss_list = []\n",
    "    for images, labels in test_loader:\n",
    "        images, labels = images.to(device), labels.type(torch.float32).to(device)\n",
    "        model = model.to(device)\n",
    "        criterion = criterion.to(device)\n",
    "        outputs = model(images)\n",
    "        loss = criterion(outputs, labels)\n",
    "\n",
    "        \n",
    "        preds = torch.argmax(outputs, dim=1)\n",
    "        gt = torch.argmax(labels, dim=1)\n",
    "        \n",
    "        loss_list.append(loss.item())\n",
    "        correct += torch.count_nonzero(preds == gt)\n",
    "    accuracy = correct / len(test_dataset)\n",
    "\n",
    "    return accuracy, np.mean(loss_list)\n",
    "        \n",
    "def training_model(model, optimizer, scheduler, criterion, train_loader, valid_loader, num_epochs, allow_cutmix):\n",
    "    \"\"\"\n",
    "    Training and testing of model for N number of EPOCHS\n",
    "    \"\"\"\n",
    "    stats = {\n",
    "        \"epoch\": [],\n",
    "        \"train_loss\": [],\n",
    "        \"val_loss\": [],\n",
    "        \"valid_acc\": [],\n",
    "        \"loss_iters\":[]\n",
    "    }\n",
    "    for epoch in range(num_epochs):\n",
    "        # testing \n",
    "        acc, v_loss = testing(model, valid_loader, criterion)\n",
    "        stats[\"valid_acc\"].append(acc.item())\n",
    "        stats[\"val_loss\"].append(v_loss)\n",
    "        \n",
    "        # training epoch\n",
    "        stats['epoch'].append(epoch+1)\n",
    "        \n",
    "        epoch_loss_list, epoch_loss = train(model, train_loader, optimizer, criterion, epoch, allow_cutmix)\n",
    "        scheduler.step()\n",
    "        \n",
    "        stats[\"train_loss\"].append(epoch_loss)\n",
    "        stats[\"loss_iters\"] = stats[\"loss_iters\"] + epoch_loss_list\n",
    "            \n",
    "\n",
    "        if epoch == 0 or (epoch+1) % 3 == 0 or (epoch+1) == num_epochs:\n",
    "            saving_model(model, optimizer, epoch, stats)\n",
    "            print(f\"Accuracy for epoch: {epoch+1} is \", stats[\"valid_acc\"][-1])       \n",
    "\n",
    "    print(f\"Training completed\")"
   ]
  },
  {
   "cell_type": "code",
   "execution_count": 8,
   "id": "1a298989",
   "metadata": {},
   "outputs": [],
   "source": [
    "# util functions \n",
    "def generate_cutmix_image(input, target, beta):\n",
    "    \"\"\" Generate a CutMix augmented image from a batch \n",
    "    Args:\n",
    "        - image_batch: a batch of input images\n",
    "        - image_batch_labels: labels corresponding to the image batch\n",
    "        - beta: a parameter of Beta distribution.\n",
    "    Returns:\n",
    "        - CutMix image batch, updated labels\n",
    "    Ref: \"https://www.kaggle.com/debanga/cutmix-in-python\"\n",
    "    \"\"\"\n",
    "    lam = np.random.beta(beta, beta)\n",
    "    rand_index = torch.randperm(input.size()[0])\n",
    "    target_a = target\n",
    "    target_b = target[rand_index]\n",
    "    bbx1, bby1, bbx2, bby2 = rand_bbox(input.size(), lam)\n",
    "    input[:, :, bbx1:bbx2, bby1:bby2] = input[rand_index, :, bbx1:bbx2, bby1:bby2]\n",
    "\n",
    "    # adjust lambda to exactly match pixel ratio\n",
    "    lam = 1 - ((bbx2 - bbx1) * (bby2 - bby1) / (input.size()[-1] * input.size()[-2]))\n",
    "\n",
    "    return input, target\n",
    "\n",
    "def rand_bbox(size, lam):\n",
    "    W = size[2]\n",
    "    H = size[3]\n",
    "    cut_rat = np.sqrt(1. - lam)\n",
    "    cut_w = int(W * cut_rat)\n",
    "    cut_h = int(H * cut_rat)\n",
    "\n",
    "    # uniform\n",
    "    cx = np.random.randint(W)\n",
    "    cy = np.random.randint(H)\n",
    "\n",
    "    bbx1 = np.clip(cx - cut_w // 2, 0, W)\n",
    "    bby1 = np.clip(cy - cut_h // 2, 0, H)\n",
    "    bbx2 = np.clip(cx + cut_w // 2, 0, W)\n",
    "    bby2 = np.clip(cy + cut_h // 2, 0, H)\n",
    "\n",
    "    return bbx1, bby1, bbx2, bby2\n",
    "\n",
    "def num_params(model):\n",
    "    return sum(p.numel() for p in model.parameters() if p.requires_grad)\n",
    "\n",
    "def saving_model(model, optimizer, epoch, stats):\n",
    "    if not os.path.exists(\"models\"):\n",
    "        os.makedirs(\"models\")\n",
    "    save_path = f\"models/{model.name}_{epoch+1}.pth\"\n",
    "    torch.save({\n",
    "        'epoch' : epoch,\n",
    "        'model_state_dict' : model.state_dict(),\n",
    "        'optimizer_state_dict': optimizer.state_dict(),\n",
    "        'stats': stats\n",
    "    }, save_path)\n",
    "    \n",
    "\n",
    "def loading_model(model, path):\n",
    "    optimizer = torch.optim.Adam(params=model.parameters(), lr= 3e-4)\n",
    "    checkpoint =  torch.load(path)\n",
    "    model.load_state_dict(checkpoint['model_state_dict'])\n",
    "    optimizer.load_state_dict(checkpoint['optimizer_state_dict'])\n",
    "    epoch = checkpoint['epoch']\n",
    "    stats = checkpoint['stats']\n",
    "    return model, optimizer, epoch, stats"
   ]
  },
  {
   "cell_type": "markdown",
   "id": "43c52663",
   "metadata": {},
   "source": [
    "## Memory allocation confusion\n",
    "\n",
    "Okay so I saw that my model always remained on the GPU even tho I deleted the variable model from this function below and all the remaining refrences above at the commented locations. \n",
    "\n",
    "So I specifically had to move the model to cpu and then run the following (below) commands to free the GPU memory. Have no idea why\n",
    "\n",
    "```\n",
    "    gc.collect()\n",
    "    torch.cuda.empty_cache()\n",
    "    print(\"*\" * 20)\n",
    "    print(f\"After del model after full_train end fn: {torch.cuda.memory_allocated()}\")\n",
    "```"
   ]
  },
  {
   "cell_type": "code",
   "execution_count": 9,
   "id": "65a086a2",
   "metadata": {},
   "outputs": [],
   "source": [
    "def training_full_model(model, train_loader, valid_loader, num_epochs, allow_cutmix=True):\n",
    "    LR = 3e-4\n",
    "    criterion = nn.CrossEntropyLoss()\n",
    "    optimizer = torch.optim.Adam(params=model.parameters(), lr=LR)\n",
    "    scheduler = torch.optim.lr_scheduler.StepLR(optimizer, step_size=7, gamma=0.1)\n",
    "    \n",
    "    training_model(model, optimizer, scheduler, criterion, train_loader, valid_loader, num_epochs, allow_cutmix)\n",
    "\n",
    "#     del model\n",
    "#     print(next(model.parameters()).is_cuda)\n",
    "    model = model.to(\"cpu\")\n",
    "#     print(next(model.parameters()).is_cuda)\n",
    "    print(\"Memory Allocated before gc \", torch.cuda.memory_allocated())\n"
   ]
  },
  {
   "cell_type": "markdown",
   "id": "04aaa547",
   "metadata": {},
   "source": [
    "### Chaning models last layer as per our needs\n",
    "Since VGG, Resnet and DenseNet are all trained on ImageNet challange, the output layer for all  these models have 1000 units. Thus first we need to change it as per our need which is 2 classes"
   ]
  },
  {
   "cell_type": "code",
   "execution_count": 10,
   "id": "d702fa24",
   "metadata": {},
   "outputs": [],
   "source": [
    "# Should be changed as well\n",
    "def fixed_or_finetuned(model_name: str, fixed: bool, custom_name=None):\n",
    "    assert model_name in [\"vgg\", \"resnet\", \"dense\"]\n",
    "    if model_name == \"vgg\":\n",
    "        model = models.vgg16(pretrained=True)\n",
    "        if fixed: \n",
    "            model.name = f\"{model_name}_fixed\"\n",
    "            for param in model.parameters():\n",
    "                param.requires_grad = False\n",
    "        if not fixed:\n",
    "            model.name = f\"{model_name}_finetuned\"\n",
    "        model.classifier = nn.Sequential(\n",
    "                                nn.Linear(in_features=25088, out_features=4096),\n",
    "                                nn.ReLU(inplace=True),\n",
    "                                nn.Dropout(p=0.5, inplace=False),\n",
    "                                nn.Linear(in_features=4096, out_features=4096),\n",
    "                                nn.ReLU(inplace=True),\n",
    "                                nn.Dropout(p=0.5, inplace=False),\n",
    "                                nn.Linear(in_features=4096, out_features=1000),\n",
    "                                nn.ReLU(inplace=True),\n",
    "                                nn.Linear(in_features=1000, out_features=2))\n",
    "    \n",
    "    if model_name == \"resnet\":\n",
    "        model = models.resnet18(pretrained=True)\n",
    "        if fixed: \n",
    "            model.name = f\"{model_name}_fixed\"\n",
    "            for param in model.parameters():\n",
    "                param.requires_grad = False\n",
    "        if not fixed: \n",
    "            model.name = f\"{model_name}_finetuned\"\n",
    "        model.fc = nn.Sequential(\n",
    "                        nn.Linear(512, 256),\n",
    "                        nn.ReLU(),\n",
    "                        nn.Linear(256, 2))\n",
    "    \n",
    "    if model_name == \"dense\":\n",
    "        model = models.densenet161(pretrained=True)\n",
    "        if fixed: \n",
    "            model.name = f\"{model_name}_fixed\"\n",
    "        if not fixed: \n",
    "            model.name = f\"{model_name}_finetuned\"\n",
    "        model.classifier = nn.Sequential(\n",
    "                                    nn.Linear(2208, 512),\n",
    "                                    nn.ReLU(),\n",
    "                                    nn.Linear(512, 2))\n",
    "    if custom_name:\n",
    "        model.name = custom_name\n",
    "    return model"
   ]
  },
  {
   "cell_type": "markdown",
   "id": "3c3252f2",
   "metadata": {},
   "source": [
    "## Fine tuned VGG, ResNet and DenseNet  "
   ]
  },
  {
   "cell_type": "code",
   "execution_count": 12,
   "id": "1e9a3b51",
   "metadata": {},
   "outputs": [],
   "source": [
    "resnet_finetuned = fixed_or_finetuned(model_name=\"resnet\", fixed=False)\n",
    "vgg_finetuned = fixed_or_finetuned(model_name=\"vgg\", fixed=False)\n",
    "dense_finetuned = fixed_or_finetuned(model_name=\"dense\", fixed=False)"
   ]
  },
  {
   "cell_type": "markdown",
   "id": "b71e29fe",
   "metadata": {},
   "source": [
    "## Fine Tuned Models and Comparison"
   ]
  },
  {
   "cell_type": "code",
   "execution_count": 13,
   "id": "387ea18f",
   "metadata": {},
   "outputs": [
    {
     "name": "stderr",
     "output_type": "stream",
     "text": [
      "Epoch 1, Itr 75, Loss 0.63356: 100%|████████████| 75/75 [00:15<00:00,  4.89it/s]"
     ]
    },
    {
     "name": "stdout",
     "output_type": "stream",
     "text": [
      "Accuracy for epoch: 1 is  0.45499998331069946\n"
     ]
    },
    {
     "name": "stderr",
     "output_type": "stream",
     "text": [
      "\n",
      "Epoch 2, Itr 75, Loss 0.86335: 100%|████████████| 75/75 [00:15<00:00,  4.75it/s]\n",
      "Epoch 3, Itr 75, Loss 0.74184: 100%|████████████| 75/75 [00:15<00:00,  4.89it/s]"
     ]
    },
    {
     "name": "stdout",
     "output_type": "stream",
     "text": [
      "Accuracy for epoch: 3 is  0.5837500095367432\n"
     ]
    },
    {
     "name": "stderr",
     "output_type": "stream",
     "text": [
      "\n",
      "Epoch 4, Itr 75, Loss 0.45330: 100%|████████████| 75/75 [00:15<00:00,  4.92it/s]\n",
      "Epoch 5, Itr 75, Loss 0.63413: 100%|████████████| 75/75 [00:15<00:00,  4.85it/s]\n",
      "Epoch 6, Itr 75, Loss 0.42271: 100%|████████████| 75/75 [00:17<00:00,  4.38it/s]\n"
     ]
    },
    {
     "name": "stdout",
     "output_type": "stream",
     "text": [
      "Accuracy for epoch: 6 is  0.7274999618530273\n"
     ]
    },
    {
     "name": "stderr",
     "output_type": "stream",
     "text": [
      "Epoch 7, Itr 75, Loss 0.75341: 100%|████████████| 75/75 [00:15<00:00,  4.78it/s]\n",
      "Epoch 8, Itr 75, Loss 0.71519: 100%|████████████| 75/75 [00:15<00:00,  4.93it/s]\n",
      "Epoch 9, Itr 75, Loss 0.42383: 100%|████████████| 75/75 [00:15<00:00,  4.77it/s]\n"
     ]
    },
    {
     "name": "stdout",
     "output_type": "stream",
     "text": [
      "Accuracy for epoch: 9 is  0.8974999785423279\n"
     ]
    },
    {
     "name": "stderr",
     "output_type": "stream",
     "text": [
      "Epoch 10, Itr 75, Loss 0.42451: 100%|███████████| 75/75 [00:16<00:00,  4.45it/s]\n",
      "Epoch 11, Itr 75, Loss 0.96113: 100%|███████████| 75/75 [00:15<00:00,  4.98it/s]\n",
      "Epoch 12, Itr 75, Loss 0.42606: 100%|███████████| 75/75 [00:15<00:00,  4.78it/s]"
     ]
    },
    {
     "name": "stdout",
     "output_type": "stream",
     "text": [
      "Accuracy for epoch: 12 is  0.9212499856948853\n"
     ]
    },
    {
     "name": "stderr",
     "output_type": "stream",
     "text": [
      "\n",
      "Epoch 13, Itr 75, Loss 0.48353: 100%|███████████| 75/75 [00:15<00:00,  4.96it/s]\n",
      "Epoch 14, Itr 75, Loss 0.75531: 100%|███████████| 75/75 [00:16<00:00,  4.62it/s]\n",
      "Epoch 15, Itr 75, Loss 0.49206: 100%|███████████| 75/75 [00:16<00:00,  4.44it/s]\n"
     ]
    },
    {
     "name": "stdout",
     "output_type": "stream",
     "text": [
      "Accuracy for epoch: 15 is  0.9174999594688416\n"
     ]
    },
    {
     "name": "stderr",
     "output_type": "stream",
     "text": [
      "Epoch 16, Itr 75, Loss 0.86996: 100%|███████████| 75/75 [00:16<00:00,  4.68it/s]\n",
      "Epoch 17, Itr 75, Loss 1.25703: 100%|███████████| 75/75 [00:15<00:00,  4.85it/s]\n",
      "Epoch 18, Itr 75, Loss 0.27613: 100%|███████████| 75/75 [00:15<00:00,  4.97it/s]\n"
     ]
    },
    {
     "name": "stdout",
     "output_type": "stream",
     "text": [
      "Accuracy for epoch: 18 is  0.9350000023841858\n",
      "Training completed\n",
      "Memory Allocated before gc  91423744\n",
      "CPU times: user 2min 37s, sys: 10.2 s, total: 2min 47s\n",
      "Wall time: 5min 14s\n"
     ]
    }
   ],
   "source": [
    "%time training_full_model(model=resnet_finetuned, train_loader=train_loader, valid_loader=test_loader, num_epochs=Epochs)"
   ]
  },
  {
   "cell_type": "code",
   "execution_count": 14,
   "id": "5ddaf1db",
   "metadata": {},
   "outputs": [
    {
     "name": "stdout",
     "output_type": "stream",
     "text": [
      "Memory Allocated now  0\n"
     ]
    }
   ],
   "source": [
    "gc.collect()\n",
    "torch.cuda.empty_cache()\n",
    "print(\"Memory Allocated now \", torch.cuda.memory_allocated())\n"
   ]
  },
  {
   "cell_type": "code",
   "execution_count": 15,
   "id": "18d72fe0",
   "metadata": {},
   "outputs": [
    {
     "name": "stderr",
     "output_type": "stream",
     "text": [
      "Epoch 1, Itr 75, Loss 0.90072: 100%|████████████| 75/75 [00:28<00:00,  2.65it/s]\n"
     ]
    },
    {
     "name": "stdout",
     "output_type": "stream",
     "text": [
      "Accuracy for epoch: 1 is  0.6549999713897705\n"
     ]
    },
    {
     "name": "stderr",
     "output_type": "stream",
     "text": [
      "Epoch 2, Itr 75, Loss 0.56660: 100%|████████████| 75/75 [00:28<00:00,  2.64it/s]\n",
      "Epoch 3, Itr 75, Loss 0.60791: 100%|████████████| 75/75 [00:28<00:00,  2.64it/s]\n"
     ]
    },
    {
     "name": "stdout",
     "output_type": "stream",
     "text": [
      "Accuracy for epoch: 3 is  0.6637499928474426\n"
     ]
    },
    {
     "name": "stderr",
     "output_type": "stream",
     "text": [
      "Epoch 4, Itr 75, Loss 0.51952: 100%|████████████| 75/75 [00:28<00:00,  2.64it/s]\n",
      "Epoch 5, Itr 75, Loss 0.55286: 100%|████████████| 75/75 [00:28<00:00,  2.64it/s]\n",
      "Epoch 6, Itr 75, Loss 0.42123: 100%|████████████| 75/75 [00:28<00:00,  2.63it/s]\n"
     ]
    },
    {
     "name": "stdout",
     "output_type": "stream",
     "text": [
      "Accuracy for epoch: 6 is  0.7099999785423279\n"
     ]
    },
    {
     "name": "stderr",
     "output_type": "stream",
     "text": [
      "Epoch 7, Itr 75, Loss 0.59987: 100%|████████████| 75/75 [00:28<00:00,  2.64it/s]\n",
      "Epoch 8, Itr 75, Loss 0.53978: 100%|████████████| 75/75 [00:28<00:00,  2.63it/s]\n",
      "Epoch 9, Itr 75, Loss 0.43791: 100%|████████████| 75/75 [00:28<00:00,  2.64it/s]\n"
     ]
    },
    {
     "name": "stdout",
     "output_type": "stream",
     "text": [
      "Accuracy for epoch: 9 is  0.8762499690055847\n"
     ]
    },
    {
     "name": "stderr",
     "output_type": "stream",
     "text": [
      "Epoch 10, Itr 75, Loss 0.44052: 100%|███████████| 75/75 [00:29<00:00,  2.56it/s]\n",
      "Epoch 11, Itr 75, Loss 0.42874: 100%|███████████| 75/75 [00:28<00:00,  2.63it/s]\n",
      "Epoch 12, Itr 75, Loss 0.41619: 100%|███████████| 75/75 [00:28<00:00,  2.63it/s]\n"
     ]
    },
    {
     "name": "stdout",
     "output_type": "stream",
     "text": [
      "Accuracy for epoch: 12 is  0.8862499594688416\n"
     ]
    },
    {
     "name": "stderr",
     "output_type": "stream",
     "text": [
      "Epoch 13, Itr 75, Loss 0.65371: 100%|███████████| 75/75 [00:29<00:00,  2.57it/s]\n",
      "Epoch 14, Itr 75, Loss 0.37710: 100%|███████████| 75/75 [00:28<00:00,  2.62it/s]\n",
      "Epoch 15, Itr 75, Loss 0.25894: 100%|███████████| 75/75 [00:30<00:00,  2.50it/s]\n"
     ]
    },
    {
     "name": "stdout",
     "output_type": "stream",
     "text": [
      "Accuracy for epoch: 15 is  0.89124995470047\n"
     ]
    },
    {
     "name": "stderr",
     "output_type": "stream",
     "text": [
      "Epoch 16, Itr 75, Loss 0.74354: 100%|███████████| 75/75 [00:28<00:00,  2.62it/s]\n",
      "Epoch 17, Itr 75, Loss 0.60204: 100%|███████████| 75/75 [00:28<00:00,  2.62it/s]\n",
      "Epoch 18, Itr 75, Loss 0.62151: 100%|███████████| 75/75 [00:28<00:00,  2.62it/s]\n"
     ]
    },
    {
     "name": "stdout",
     "output_type": "stream",
     "text": [
      "Accuracy for epoch: 18 is  0.8962500095367432\n",
      "Training completed\n",
      "Memory Allocated before gc  224796672\n",
      "CPU times: user 8min 7s, sys: 3min 5s, total: 11min 13s\n",
      "Wall time: 10min 28s\n"
     ]
    }
   ],
   "source": [
    "%time training_full_model(model=dense_finetuned, train_loader=train_loader, valid_loader=test_loader, num_epochs=Epochs)"
   ]
  },
  {
   "cell_type": "code",
   "execution_count": 18,
   "id": "a7546c56",
   "metadata": {},
   "outputs": [
    {
     "name": "stdout",
     "output_type": "stream",
     "text": [
      "Memory Allocated now  0\n"
     ]
    }
   ],
   "source": [
    "gc.collect()\n",
    "torch.cuda.empty_cache()\n",
    "print(\"Memory Allocated now \", torch.cuda.memory_allocated())"
   ]
  },
  {
   "cell_type": "code",
   "execution_count": 19,
   "id": "b87f7dc6",
   "metadata": {},
   "outputs": [
    {
     "name": "stderr",
     "output_type": "stream",
     "text": [
      "Epoch 1, Itr 75, Loss 0.69860: 100%|████████████| 75/75 [00:20<00:00,  3.62it/s]\n"
     ]
    },
    {
     "name": "stdout",
     "output_type": "stream",
     "text": [
      "Accuracy for epoch: 1 is  0.4899999797344208\n"
     ]
    },
    {
     "name": "stderr",
     "output_type": "stream",
     "text": [
      "Epoch 2, Itr 75, Loss 0.69588: 100%|████████████| 75/75 [00:20<00:00,  3.63it/s]\n",
      "Epoch 3, Itr 75, Loss 0.69315: 100%|████████████| 75/75 [00:20<00:00,  3.63it/s]\n"
     ]
    },
    {
     "name": "stdout",
     "output_type": "stream",
     "text": [
      "Accuracy for epoch: 3 is  0.5\n"
     ]
    },
    {
     "name": "stderr",
     "output_type": "stream",
     "text": [
      "Epoch 4, Itr 75, Loss 0.69448: 100%|████████████| 75/75 [00:21<00:00,  3.56it/s]\n",
      "Epoch 5, Itr 75, Loss 0.69205: 100%|████████████| 75/75 [00:20<00:00,  3.60it/s]\n",
      "Epoch 6, Itr 75, Loss 0.69311: 100%|████████████| 75/75 [00:22<00:00,  3.39it/s]\n"
     ]
    },
    {
     "name": "stdout",
     "output_type": "stream",
     "text": [
      "Accuracy for epoch: 6 is  0.5\n"
     ]
    },
    {
     "name": "stderr",
     "output_type": "stream",
     "text": [
      "Epoch 7, Itr 75, Loss 0.69373: 100%|████████████| 75/75 [00:20<00:00,  3.60it/s]\n",
      "Epoch 8, Itr 75, Loss 0.69314: 100%|████████████| 75/75 [00:21<00:00,  3.41it/s]\n",
      "Epoch 9, Itr 75, Loss 0.69324: 100%|████████████| 75/75 [00:20<00:00,  3.59it/s]\n"
     ]
    },
    {
     "name": "stdout",
     "output_type": "stream",
     "text": [
      "Accuracy for epoch: 9 is  0.5\n"
     ]
    },
    {
     "name": "stderr",
     "output_type": "stream",
     "text": [
      "Epoch 10, Itr 75, Loss 0.69034: 100%|███████████| 75/75 [00:20<00:00,  3.59it/s]\n",
      "Epoch 11, Itr 75, Loss 0.69235: 100%|███████████| 75/75 [00:21<00:00,  3.55it/s]\n",
      "Epoch 12, Itr 75, Loss 0.68838: 100%|███████████| 75/75 [00:21<00:00,  3.53it/s]\n"
     ]
    },
    {
     "name": "stdout",
     "output_type": "stream",
     "text": [
      "Accuracy for epoch: 12 is  0.5\n"
     ]
    },
    {
     "name": "stderr",
     "output_type": "stream",
     "text": [
      "Epoch 13, Itr 75, Loss 0.69292: 100%|███████████| 75/75 [00:21<00:00,  3.53it/s]\n",
      "Epoch 14, Itr 75, Loss 0.69361: 100%|███████████| 75/75 [00:21<00:00,  3.45it/s]\n",
      "Epoch 15, Itr 75, Loss 0.69343: 100%|███████████| 75/75 [00:21<00:00,  3.50it/s]\n"
     ]
    },
    {
     "name": "stdout",
     "output_type": "stream",
     "text": [
      "Accuracy for epoch: 15 is  0.5\n"
     ]
    },
    {
     "name": "stderr",
     "output_type": "stream",
     "text": [
      "Epoch 16, Itr 75, Loss 0.69283: 100%|███████████| 75/75 [00:21<00:00,  3.55it/s]\n",
      "Epoch 17, Itr 75, Loss 0.69322: 100%|███████████| 75/75 [00:22<00:00,  3.38it/s]\n",
      "Epoch 18, Itr 75, Loss 0.69312: 100%|███████████| 75/75 [00:21<00:00,  3.54it/s]\n"
     ]
    },
    {
     "name": "stdout",
     "output_type": "stream",
     "text": [
      "Accuracy for epoch: 18 is  0.5\n",
      "Training completed\n",
      "Memory Allocated before gc  1108714496\n",
      "CPU times: user 8min 12s, sys: 18.1 s, total: 8min 30s\n",
      "Wall time: 7min 45s\n"
     ]
    }
   ],
   "source": [
    "%time training_full_model(model=vgg_finetuned, train_loader=train_loader, valid_loader=test_loader, num_epochs=Epochs)"
   ]
  },
  {
   "cell_type": "markdown",
   "id": "d5ba7516",
   "metadata": {},
   "source": [
    "## ResNet as Fixed Feature Extractor and Comparion with fine tuned ResNet"
   ]
  },
  {
   "cell_type": "code",
   "execution_count": 20,
   "id": "62bfc117",
   "metadata": {},
   "outputs": [],
   "source": [
    "resnet_fixed = fixed_or_finetuned(model_name=\"resnet\", fixed=True)"
   ]
  },
  {
   "cell_type": "code",
   "execution_count": 21,
   "id": "d1596aba",
   "metadata": {},
   "outputs": [
    {
     "name": "stderr",
     "output_type": "stream",
     "text": [
      "Epoch 1, Itr 75, Loss 0.75163: 100%|████████████| 75/75 [00:15<00:00,  4.98it/s]"
     ]
    },
    {
     "name": "stdout",
     "output_type": "stream",
     "text": [
      "Accuracy for epoch: 1 is  0.2487500011920929\n"
     ]
    },
    {
     "name": "stderr",
     "output_type": "stream",
     "text": [
      "\n",
      "Epoch 2, Itr 75, Loss 0.65189: 100%|████████████| 75/75 [00:15<00:00,  4.77it/s]\n",
      "Epoch 3, Itr 75, Loss 0.69671: 100%|████████████| 75/75 [00:15<00:00,  4.92it/s]\n"
     ]
    },
    {
     "name": "stdout",
     "output_type": "stream",
     "text": [
      "Accuracy for epoch: 3 is  0.9162499904632568\n"
     ]
    },
    {
     "name": "stderr",
     "output_type": "stream",
     "text": [
      "Epoch 4, Itr 75, Loss 0.93354: 100%|████████████| 75/75 [00:14<00:00,  5.00it/s]\n",
      "Epoch 5, Itr 75, Loss 0.68785: 100%|████████████| 75/75 [00:15<00:00,  4.95it/s]\n",
      "Epoch 6, Itr 75, Loss 0.54402: 100%|████████████| 75/75 [00:15<00:00,  4.99it/s]\n"
     ]
    },
    {
     "name": "stdout",
     "output_type": "stream",
     "text": [
      "Accuracy for epoch: 6 is  0.8050000071525574\n"
     ]
    },
    {
     "name": "stderr",
     "output_type": "stream",
     "text": [
      "Epoch 7, Itr 75, Loss 0.55222: 100%|████████████| 75/75 [00:15<00:00,  4.89it/s]\n",
      "Epoch 8, Itr 75, Loss 0.56819: 100%|████████████| 75/75 [00:16<00:00,  4.62it/s]\n",
      "Epoch 9, Itr 75, Loss 0.54219: 100%|████████████| 75/75 [00:15<00:00,  4.93it/s]\n"
     ]
    },
    {
     "name": "stdout",
     "output_type": "stream",
     "text": [
      "Accuracy for epoch: 9 is  0.9375\n"
     ]
    },
    {
     "name": "stderr",
     "output_type": "stream",
     "text": [
      "Epoch 10, Itr 75, Loss 0.47280: 100%|███████████| 75/75 [00:15<00:00,  4.77it/s]\n",
      "Epoch 11, Itr 75, Loss 0.42256: 100%|███████████| 75/75 [00:15<00:00,  4.86it/s]\n",
      "Epoch 12, Itr 75, Loss 0.45477: 100%|███████████| 75/75 [00:15<00:00,  4.88it/s]\n"
     ]
    },
    {
     "name": "stdout",
     "output_type": "stream",
     "text": [
      "Accuracy for epoch: 12 is  0.9387499690055847\n"
     ]
    },
    {
     "name": "stderr",
     "output_type": "stream",
     "text": [
      "Epoch 13, Itr 75, Loss 0.57813: 100%|███████████| 75/75 [00:15<00:00,  4.88it/s]\n",
      "Epoch 14, Itr 75, Loss 0.97730: 100%|███████████| 75/75 [00:15<00:00,  4.95it/s]\n",
      "Epoch 15, Itr 75, Loss 0.40311: 100%|███████████| 75/75 [00:15<00:00,  4.94it/s]\n"
     ]
    },
    {
     "name": "stdout",
     "output_type": "stream",
     "text": [
      "Accuracy for epoch: 15 is  0.9350000023841858\n"
     ]
    },
    {
     "name": "stderr",
     "output_type": "stream",
     "text": [
      "Epoch 16, Itr 75, Loss 0.69684: 100%|███████████| 75/75 [00:14<00:00,  5.07it/s]\n",
      "Epoch 17, Itr 75, Loss 1.07204: 100%|███████████| 75/75 [00:14<00:00,  5.00it/s]\n",
      "Epoch 18, Itr 75, Loss 0.79513: 100%|███████████| 75/75 [00:15<00:00,  4.69it/s]\n"
     ]
    },
    {
     "name": "stdout",
     "output_type": "stream",
     "text": [
      "Accuracy for epoch: 18 is  0.9375\n",
      "Training completed\n",
      "Memory Allocated before gc  1055744\n",
      "CPU times: user 1min 49s, sys: 10.8 s, total: 2min\n",
      "Wall time: 5min 7s\n"
     ]
    }
   ],
   "source": [
    "%time training_full_model(model=resnet_fixed, train_loader=train_loader, valid_loader=test_loader, num_epochs=Epochs)"
   ]
  },
  {
   "cell_type": "markdown",
   "id": "35ad65e7",
   "metadata": {},
   "source": [
    "### Loading models from disk"
   ]
  },
  {
   "cell_type": "code",
   "execution_count": 22,
   "id": "4c395194",
   "metadata": {},
   "outputs": [],
   "source": [
    "# model definition\n",
    "resnet_epoch_18 = fixed_or_finetuned(model_name=\"resnet\", fixed=False)\n",
    "dense_epoch_18 = fixed_or_finetuned(model_name=\"dense\", fixed=False)\n",
    "vgg_epoch_18 = fixed_or_finetuned(model_name=\"vgg\", fixed=False)\n",
    "resnet_fixed_epoch_18 = fixed_or_finetuned(model_name=\"resnet\", fixed=True)\n",
    "\n",
    "#loading models\n",
    "resnet_epoch_18, _, _, stats_resnet_finetuned = loading_model(resnet_epoch_18, \"models/resnet_finetuned_18.pth\")\n",
    "dense_epoch_18, _, _, stats_dense_finetuned = loading_model(dense_epoch_18, \"models/dense_finetuned_18.pth\")\n",
    "vgg_epoch_18, _, _, stats_vgg_finetuned = loading_model(vgg_epoch_18, \"models/vgg_finetuned_18.pth\")\n",
    "resnet_fixed_epoch_18, _, _, stats_resnet_fixed_epoch18 = loading_model(resnet_fixed_epoch_18, \"models/resnet_fixed_18.pth\")"
   ]
  },
  {
   "cell_type": "markdown",
   "id": "2aa05ce7",
   "metadata": {},
   "source": [
    "## Comparison Plots for various models"
   ]
  },
  {
   "cell_type": "markdown",
   "id": "e6ba0369",
   "metadata": {},
   "source": [
    "### a) Fine Tuned VGG, ResNet and DenseNet\n",
    "Below are the comparisons for all the fine tuned models"
   ]
  },
  {
   "cell_type": "code",
   "execution_count": 23,
   "id": "4f437e28",
   "metadata": {},
   "outputs": [
    {
     "data": {
      "image/png": "[encoded data removed]",
      "text/plain": [
       "<Figure size 1944x360 with 3 Axes>"
      ]
     },
     "metadata": {},
     "output_type": "display_data"
    }
   ],
   "source": [
    "fig, ax = plt.subplots(1,3)\n",
    "fig.set_size_inches(27, 5)\n",
    "\n",
    "ax[0].plot(stats_resnet_finetuned['epoch'], stats_resnet_finetuned['train_loss'], label=\"Train_loss\", linewidth=3)\n",
    "ax[0].plot(stats_resnet_finetuned['epoch'], stats_resnet_finetuned['val_loss'], label=\"Val Loss\", c='red', linewidth=3)\n",
    "ax[0].legend(loc='best')\n",
    "ax[0].set_xlabel(\"Epochs\")\n",
    "ax[0].set_ylabel(\"Error\")\n",
    "ax[0].set_xticks(np.arange(2, 19, step=2))\n",
    "\n",
    "ax[0].set_title(\"Train-Eval Progress for Fine Tuned ResNet\")\n",
    "\n",
    "\n",
    "ax[1].plot(stats_dense_finetuned['epoch'], stats_dense_finetuned['train_loss'], label=\"Train_loss\", linewidth=3)\n",
    "ax[1].plot(stats_dense_finetuned['epoch'], stats_dense_finetuned['val_loss'], label=\"Val Loss\", c='red', linewidth=3)\n",
    "ax[1].legend(loc='best')\n",
    "ax[1].set_xlabel(\"Epochs\")\n",
    "ax[1].set_ylabel(\"Error\")\n",
    "ax[1].set_xticks(np.arange(2, 19, step=2))\n",
    "\n",
    "ax[1].set_title(\"Train-Eval Progress for Fine Tuned DenseNet\")\n",
    "\n",
    "ax[2].plot(stats_vgg_finetuned['epoch'], stats_vgg_finetuned['train_loss'], label=\"Train_loss\", linewidth=3)\n",
    "ax[2].plot(stats_vgg_finetuned['epoch'], stats_vgg_finetuned['val_loss'], label=\"Val Loss\", c='red', linewidth=3)\n",
    "ax[2].legend(loc='best')\n",
    "ax[2].set_xlabel(\"Epochs\")\n",
    "ax[2].set_ylabel(\"Error\")\n",
    "ax[2].set_xticks(np.arange(2, 19, step=2))\n",
    "\n",
    "ax[0].set_title(\"Train-Eval Progress for Fine Tuned VGG\")\n",
    "\n",
    "\n",
    "plt.show()"
   ]
  },
  {
   "cell_type": "code",
   "execution_count": null,
   "id": "76c2e00c",
   "metadata": {},
   "outputs": [],
   "source": []
  },
  {
   "cell_type": "markdown",
   "id": "08c5b689",
   "metadata": {},
   "source": [
    "### b) Fixed backbone ResNet v/s Fine Tuned ResNet\n",
    "\n",
    "Below is the comparison"
   ]
  },
  {
   "cell_type": "code",
   "execution_count": 24,
   "id": "0fe23f87",
   "metadata": {},
   "outputs": [
    {
     "data": {
      "image/png": "[encoded data removed]",
      "text/plain": [
       "<Figure size 1296x360 with 2 Axes>"
      ]
     },
     "metadata": {},
     "output_type": "display_data"
    }
   ],
   "source": [
    "fig, ax = plt.subplots(1,2)\n",
    "fig.set_size_inches(18, 5)\n",
    "\n",
    "ax[0].plot(stats_resnet_finetuned['epoch'], stats_resnet_finetuned['train_loss'], label=\"Train_loss\", linewidth=3)\n",
    "ax[0].plot(stats_resnet_finetuned['epoch'], stats_resnet_finetuned['val_loss'], label=\"Val Loss\", c='red', linewidth=3)\n",
    "ax[0].legend(loc='best')\n",
    "ax[0].set_xlabel(\"Epochs\")\n",
    "ax[0].set_ylabel(\"Error\")\n",
    "ax[0].set_xticks(np.arange(2, 19, step=2))\n",
    "\n",
    "ax[0].set_title(\"Train-Eval Progress for Fine Tuned ResNet\")\n",
    "\n",
    "\n",
    "ax[1].plot(stats_resnet_fixed_epoch18['epoch'], stats_resnet_fixed_epoch18['train_loss'], label=\"Train_loss\", linewidth=3)\n",
    "ax[1].plot(stats_resnet_fixed_epoch18['epoch'], stats_resnet_fixed_epoch18['val_loss'], label=\"Val Loss\", c='red', linewidth=3)\n",
    "ax[1].legend(loc='best')\n",
    "ax[1].set_xlabel(\"Epochs\")\n",
    "ax[1].set_ylabel(\"Error\")\n",
    "ax[1].set_xticks(np.arange(2, 19, step=2))\n",
    "\n",
    "ax[1].set_title(\"Train-Eval Progress for Fixed Backbone ResNet\")\n",
    "plt.show()"
   ]
  },
  {
   "cell_type": "markdown",
   "id": "16e309f8",
   "metadata": {},
   "source": [
    "## Experimental\n",
    "\n",
    "So now we see that the val loss is much lower than the training loss. The suspected reason for this is the heavy regularization (CutMix) that we applied in the training and not in the testing scenerio. \n",
    "\n",
    "So lets prove this reasoning by training another ResNet model without CutMix."
   ]
  },
  {
   "cell_type": "code",
   "execution_count": 25,
   "id": "994c1c18",
   "metadata": {},
   "outputs": [
    {
     "name": "stderr",
     "output_type": "stream",
     "text": [
      "Epoch 1, Itr 75, Loss 0.38963: 100%|████████████| 75/75 [00:15<00:00,  4.92it/s]\n"
     ]
    },
    {
     "name": "stdout",
     "output_type": "stream",
     "text": [
      "Accuracy for epoch: 1 is  0.53125\n"
     ]
    },
    {
     "name": "stderr",
     "output_type": "stream",
     "text": [
      "Epoch 2, Itr 75, Loss 0.20561: 100%|████████████| 75/75 [00:15<00:00,  4.96it/s]\n",
      "Epoch 3, Itr 75, Loss 0.32552: 100%|████████████| 75/75 [00:15<00:00,  4.81it/s]\n"
     ]
    },
    {
     "name": "stdout",
     "output_type": "stream",
     "text": [
      "Accuracy for epoch: 3 is  0.887499988079071\n"
     ]
    },
    {
     "name": "stderr",
     "output_type": "stream",
     "text": [
      "Epoch 4, Itr 75, Loss 0.18180: 100%|████████████| 75/75 [00:15<00:00,  4.87it/s]\n",
      "Epoch 5, Itr 75, Loss 0.35792: 100%|████████████| 75/75 [00:14<00:00,  5.13it/s]\n",
      "Epoch 6, Itr 75, Loss 0.74188: 100%|████████████| 75/75 [00:15<00:00,  5.00it/s]\n"
     ]
    },
    {
     "name": "stdout",
     "output_type": "stream",
     "text": [
      "Accuracy for epoch: 6 is  0.9249999523162842\n"
     ]
    },
    {
     "name": "stderr",
     "output_type": "stream",
     "text": [
      "Epoch 7, Itr 75, Loss 0.18360: 100%|████████████| 75/75 [00:15<00:00,  4.69it/s]\n",
      "Epoch 8, Itr 75, Loss 0.10548: 100%|████████████| 75/75 [00:15<00:00,  4.87it/s]\n",
      "Epoch 9, Itr 75, Loss 0.03236: 100%|████████████| 75/75 [00:15<00:00,  4.84it/s]\n"
     ]
    },
    {
     "name": "stdout",
     "output_type": "stream",
     "text": [
      "Accuracy for epoch: 9 is  0.9599999785423279\n"
     ]
    },
    {
     "name": "stderr",
     "output_type": "stream",
     "text": [
      "Epoch 10, Itr 75, Loss 0.04006: 100%|███████████| 75/75 [00:15<00:00,  4.83it/s]\n",
      "Epoch 11, Itr 75, Loss 0.03427: 100%|███████████| 75/75 [00:15<00:00,  4.76it/s]\n",
      "Epoch 12, Itr 75, Loss 0.02174: 100%|███████████| 75/75 [00:14<00:00,  5.14it/s]\n"
     ]
    },
    {
     "name": "stdout",
     "output_type": "stream",
     "text": [
      "Accuracy for epoch: 12 is  0.9599999785423279\n"
     ]
    },
    {
     "name": "stderr",
     "output_type": "stream",
     "text": [
      "Epoch 13, Itr 75, Loss 0.07388: 100%|███████████| 75/75 [00:15<00:00,  4.92it/s]\n",
      "Epoch 14, Itr 75, Loss 0.31919: 100%|███████████| 75/75 [00:15<00:00,  4.84it/s]\n",
      "Epoch 15, Itr 75, Loss 0.04103: 100%|███████████| 75/75 [00:15<00:00,  4.93it/s]\n"
     ]
    },
    {
     "name": "stdout",
     "output_type": "stream",
     "text": [
      "Accuracy for epoch: 15 is  0.96875\n"
     ]
    },
    {
     "name": "stderr",
     "output_type": "stream",
     "text": [
      "Epoch 16, Itr 75, Loss 0.05602: 100%|███████████| 75/75 [00:15<00:00,  4.90it/s]\n",
      "Epoch 17, Itr 75, Loss 0.15048: 100%|███████████| 75/75 [00:14<00:00,  5.06it/s]\n",
      "Epoch 18, Itr 75, Loss 0.14487: 100%|███████████| 75/75 [00:14<00:00,  5.13it/s]\n"
     ]
    },
    {
     "name": "stdout",
     "output_type": "stream",
     "text": [
      "Accuracy for epoch: 18 is  0.9699999690055847\n",
      "Training completed\n",
      "Memory Allocated before gc  91718656\n",
      "CPU times: user 1min 37s, sys: 11.8 s, total: 1min 49s\n",
      "Wall time: 5min 5s\n"
     ]
    }
   ],
   "source": [
    "resnet_no_cutmix = fixed_or_finetuned(model_name=\"resnet\", fixed=False, custom_name=\"exp_resnet\")\n",
    "%time training_full_model(model=resnet_no_cutmix, train_loader=train_loader, valid_loader=test_loader, num_epochs=Epochs, allow_cutmix=False)"
   ]
  },
  {
   "cell_type": "code",
   "execution_count": 26,
   "id": "48eced54",
   "metadata": {},
   "outputs": [],
   "source": [
    "resnet_no_cutmix_epoch18 = fixed_or_finetuned(model_name=\"resnet\", fixed=False, custom_name=\"exp_resnet\")\n",
    "resnet_no_cutmix_epoch18, _, _, stats_resnet_no_cutmix_epoch18 = loading_model(resnet_fixed_epoch_18, \"models/resnet_fixed_18.pth\")"
   ]
  },
  {
   "cell_type": "code",
   "execution_count": 27,
   "id": "87205ba6",
   "metadata": {},
   "outputs": [
    {
     "data": {
      "image/png": "[encoded data removed]",
      "text/plain": [
       "<Figure size 1296x360 with 2 Axes>"
      ]
     },
     "metadata": {},
     "output_type": "display_data"
    }
   ],
   "source": [
    "fig, ax = plt.subplots(1,2)\n",
    "fig.set_size_inches(18, 5)\n",
    "\n",
    "ax[0].plot(stats_resnet_finetuned['epoch'], stats_resnet_finetuned['train_loss'], label=\"Train_loss\", linewidth=3)\n",
    "ax[0].plot(stats_resnet_finetuned['epoch'], stats_resnet_finetuned['val_loss'], label=\"Val Loss\", c='red', linewidth=3)\n",
    "ax[0].legend(loc='best')\n",
    "ax[0].set_xlabel(\"Epochs\")\n",
    "ax[0].set_ylabel(\"Error\")\n",
    "ax[0].set_xticks(np.arange(2, 19, step=2))\n",
    "\n",
    "ax[0].set_title(\"Train-Eval Progress for Fine Tuned ResNet\")\n",
    "\n",
    "\n",
    "ax[1].plot(stats_resnet_no_cutmix_epoch18['epoch'], stats_resnet_no_cutmix_epoch18['train_loss'], label=\"Train_loss\", linewidth=3)\n",
    "ax[1].plot(stats_resnet_no_cutmix_epoch18['epoch'], stats_resnet_no_cutmix_epoch18['val_loss'], label=\"Val Loss\", c='red', linewidth=3)\n",
    "ax[1].legend(loc='best')\n",
    "ax[1].set_xlabel(\"Epochs\")\n",
    "ax[1].set_ylabel(\"Error\")\n",
    "ax[1].set_xticks(np.arange(2, 19, step=2))\n",
    "\n",
    "ax[1].set_title(\"Train-Eval Progress for Fixed Backbone ResNet\")\n",
    "plt.show()"
   ]
  },
  {
   "cell_type": "markdown",
   "id": "fd3bb7f3",
   "metadata": {},
   "source": [
    "## ResNet with SVM classifier\n",
    "\n",
    "Here in this task we need to extrat features with ResNet and then train SVM on top of these features."
   ]
  },
  {
   "cell_type": "code",
   "execution_count": null,
   "id": "8d3c15ab",
   "metadata": {},
   "outputs": [],
   "source": []
  },
  {
   "cell_type": "code",
   "execution_count": null,
   "id": "705b5a7f",
   "metadata": {},
   "outputs": [],
   "source": []
  }
 ],
 "metadata": {
  "kernelspec": {
   "display_name": "Python 3",
   "language": "python",
   "name": "python3"
  },
  "language_info": {
   "codemirror_mode": {
    "name": "ipython",
    "version": 3
   },
   "file_extension": ".py",
   "mimetype": "text/x-python",
   "name": "python",
   "nbconvert_exporter": "python",
   "pygments_lexer": "ipython3",
   "version": "3.8.12"
  }
 },
 "nbformat": 4,
 "nbformat_minor": 5
}

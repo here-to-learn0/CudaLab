{
  "nbformat": 4,
  "nbformat_minor": 5,
  "metadata": {
    "kernelspec": {
      "display_name": "Python 3",
      "language": "python",
      "name": "python3"
    },
    "language_info": {
      "codemirror_mode": {
        "name": "ipython",
        "version": 3
      },
      "file_extension": ".py",
      "mimetype": "text/x-python",
      "name": "python",
      "nbconvert_exporter": "python",
      "pygments_lexer": "ipython3",
      "version": "3.8.12"
    },
    "colab": {
      "name": "Sheet03.ipynb",
      "provenance": [],
      "collapsed_sections": []
    }
  },
  "cells": [
    {
      "cell_type": "code",
      "metadata": {
        "id": "47de1775"
      },
      "source": [
        "import torch\n",
        "from torchvision import datasets, transforms\n",
        "from torch.utils.data import DataLoader\n",
        "import torch.nn as nn\n",
        "import torch.nn.functional as F\n",
        "import torch.optim as optim\n",
        "from torchsummary import summary\n",
        "import os\n",
        "\n",
        "from PIL import Image\n",
        "import numpy as np\n",
        "import matplotlib.pyplot as plt\n",
        "from tqdm import tqdm\n",
        "\n",
        "from torch.utils.data import random_split\n"
      ],
      "id": "47de1775",
      "execution_count": 13,
      "outputs": []
    },
    {
      "cell_type": "code",
      "metadata": {
        "id": "ffb1ff9d"
      },
      "source": [
        "device = torch.device(\"cuda\" if torch.cuda.is_available() else \"cpu\")\n",
        "num_epochs = 20\n",
        "classes = 10"
      ],
      "id": "ffb1ff9d",
      "execution_count": 14,
      "outputs": []
    },
    {
      "cell_type": "code",
      "metadata": {
        "colab": {
          "base_uri": "https://localhost:8080/"
        },
        "id": "TryiBKTZPqQ2",
        "outputId": "869573f1-f336-4f69-8e11-165806657e39"
      },
      "source": [
        "!pip install optuna"
      ],
      "id": "TryiBKTZPqQ2",
      "execution_count": 1,
      "outputs": [
        {
          "output_type": "stream",
          "name": "stdout",
          "text": [
            "Collecting optuna\n",
            "  Downloading optuna-2.10.0-py3-none-any.whl (308 kB)\n",
            "\u001b[?25l\r\u001b[K     |█                               | 10 kB 24.2 MB/s eta 0:00:01\r\u001b[K     |██▏                             | 20 kB 25.9 MB/s eta 0:00:01\r\u001b[K     |███▏                            | 30 kB 13.7 MB/s eta 0:00:01\r\u001b[K     |████▎                           | 40 kB 11.2 MB/s eta 0:00:01\r\u001b[K     |█████▎                          | 51 kB 10.0 MB/s eta 0:00:01\r\u001b[K     |██████▍                         | 61 kB 9.0 MB/s eta 0:00:01\r\u001b[K     |███████▍                        | 71 kB 7.3 MB/s eta 0:00:01\r\u001b[K     |████████▌                       | 81 kB 8.1 MB/s eta 0:00:01\r\u001b[K     |█████████▋                      | 92 kB 8.1 MB/s eta 0:00:01\r\u001b[K     |██████████▋                     | 102 kB 8.0 MB/s eta 0:00:01\r\u001b[K     |███████████▊                    | 112 kB 8.0 MB/s eta 0:00:01\r\u001b[K     |████████████▊                   | 122 kB 8.0 MB/s eta 0:00:01\r\u001b[K     |█████████████▉                  | 133 kB 8.0 MB/s eta 0:00:01\r\u001b[K     |██████████████▉                 | 143 kB 8.0 MB/s eta 0:00:01\r\u001b[K     |████████████████                | 153 kB 8.0 MB/s eta 0:00:01\r\u001b[K     |█████████████████               | 163 kB 8.0 MB/s eta 0:00:01\r\u001b[K     |██████████████████              | 174 kB 8.0 MB/s eta 0:00:01\r\u001b[K     |███████████████████▏            | 184 kB 8.0 MB/s eta 0:00:01\r\u001b[K     |████████████████████▏           | 194 kB 8.0 MB/s eta 0:00:01\r\u001b[K     |█████████████████████▎          | 204 kB 8.0 MB/s eta 0:00:01\r\u001b[K     |██████████████████████▎         | 215 kB 8.0 MB/s eta 0:00:01\r\u001b[K     |███████████████████████▍        | 225 kB 8.0 MB/s eta 0:00:01\r\u001b[K     |████████████████████████▌       | 235 kB 8.0 MB/s eta 0:00:01\r\u001b[K     |█████████████████████████▌      | 245 kB 8.0 MB/s eta 0:00:01\r\u001b[K     |██████████████████████████▋     | 256 kB 8.0 MB/s eta 0:00:01\r\u001b[K     |███████████████████████████▋    | 266 kB 8.0 MB/s eta 0:00:01\r\u001b[K     |████████████████████████████▊   | 276 kB 8.0 MB/s eta 0:00:01\r\u001b[K     |█████████████████████████████▊  | 286 kB 8.0 MB/s eta 0:00:01\r\u001b[K     |██████████████████████████████▉ | 296 kB 8.0 MB/s eta 0:00:01\r\u001b[K     |████████████████████████████████| 307 kB 8.0 MB/s eta 0:00:01\r\u001b[K     |████████████████████████████████| 308 kB 8.0 MB/s \n",
            "\u001b[?25hCollecting colorlog\n",
            "  Downloading colorlog-6.6.0-py2.py3-none-any.whl (11 kB)\n",
            "Requirement already satisfied: sqlalchemy>=1.1.0 in /usr/local/lib/python3.7/dist-packages (from optuna) (1.4.27)\n",
            "Collecting cliff\n",
            "  Downloading cliff-3.10.0-py3-none-any.whl (80 kB)\n",
            "\u001b[K     |████████████████████████████████| 80 kB 5.3 MB/s \n",
            "\u001b[?25hRequirement already satisfied: numpy in /usr/local/lib/python3.7/dist-packages (from optuna) (1.19.5)\n",
            "Requirement already satisfied: packaging>=20.0 in /usr/local/lib/python3.7/dist-packages (from optuna) (21.3)\n",
            "Requirement already satisfied: PyYAML in /usr/local/lib/python3.7/dist-packages (from optuna) (3.13)\n",
            "Collecting alembic\n",
            "  Downloading alembic-1.7.5-py3-none-any.whl (209 kB)\n",
            "\u001b[K     |████████████████████████████████| 209 kB 40.6 MB/s \n",
            "\u001b[?25hRequirement already satisfied: scipy!=1.4.0 in /usr/local/lib/python3.7/dist-packages (from optuna) (1.4.1)\n",
            "Requirement already satisfied: tqdm in /usr/local/lib/python3.7/dist-packages (from optuna) (4.62.3)\n",
            "Collecting cmaes>=0.8.2\n",
            "  Downloading cmaes-0.8.2-py3-none-any.whl (15 kB)\n",
            "Requirement already satisfied: pyparsing!=3.0.5,>=2.0.2 in /usr/local/lib/python3.7/dist-packages (from packaging>=20.0->optuna) (3.0.6)\n",
            "Requirement already satisfied: importlib-metadata in /usr/local/lib/python3.7/dist-packages (from sqlalchemy>=1.1.0->optuna) (4.8.2)\n",
            "Requirement already satisfied: greenlet!=0.4.17 in /usr/local/lib/python3.7/dist-packages (from sqlalchemy>=1.1.0->optuna) (1.1.2)\n",
            "Collecting Mako\n",
            "  Downloading Mako-1.1.6-py2.py3-none-any.whl (75 kB)\n",
            "\u001b[K     |████████████████████████████████| 75 kB 2.4 MB/s \n",
            "\u001b[?25hRequirement already satisfied: importlib-resources in /usr/local/lib/python3.7/dist-packages (from alembic->optuna) (5.4.0)\n",
            "Collecting cmd2>=1.0.0\n",
            "  Downloading cmd2-2.3.2-py3-none-any.whl (149 kB)\n",
            "\u001b[K     |████████████████████████████████| 149 kB 30.6 MB/s \n",
            "\u001b[?25hRequirement already satisfied: PrettyTable>=0.7.2 in /usr/local/lib/python3.7/dist-packages (from cliff->optuna) (2.4.0)\n",
            "Collecting autopage>=0.4.0\n",
            "  Downloading autopage-0.4.0-py3-none-any.whl (20 kB)\n",
            "Collecting stevedore>=2.0.1\n",
            "  Downloading stevedore-3.5.0-py3-none-any.whl (49 kB)\n",
            "\u001b[K     |████████████████████████████████| 49 kB 3.8 MB/s \n",
            "\u001b[?25hCollecting pbr!=2.1.0,>=2.0.0\n",
            "  Downloading pbr-5.8.0-py2.py3-none-any.whl (112 kB)\n",
            "\u001b[K     |████████████████████████████████| 112 kB 39.9 MB/s \n",
            "\u001b[?25hRequirement already satisfied: typing-extensions in /usr/local/lib/python3.7/dist-packages (from cmd2>=1.0.0->cliff->optuna) (3.10.0.2)\n",
            "Requirement already satisfied: wcwidth>=0.1.7 in /usr/local/lib/python3.7/dist-packages (from cmd2>=1.0.0->cliff->optuna) (0.2.5)\n",
            "Requirement already satisfied: attrs>=16.3.0 in /usr/local/lib/python3.7/dist-packages (from cmd2>=1.0.0->cliff->optuna) (21.2.0)\n",
            "Collecting pyperclip>=1.6\n",
            "  Downloading pyperclip-1.8.2.tar.gz (20 kB)\n",
            "Requirement already satisfied: zipp>=0.5 in /usr/local/lib/python3.7/dist-packages (from importlib-metadata->sqlalchemy>=1.1.0->optuna) (3.6.0)\n",
            "Requirement already satisfied: MarkupSafe>=0.9.2 in /usr/local/lib/python3.7/dist-packages (from Mako->alembic->optuna) (2.0.1)\n",
            "Building wheels for collected packages: pyperclip\n",
            "  Building wheel for pyperclip (setup.py) ... \u001b[?25l\u001b[?25hdone\n",
            "  Created wheel for pyperclip: filename=pyperclip-1.8.2-py3-none-any.whl size=11136 sha256=66366ff80d2216d6d115a0e62369e6b429c4e4385a3a833bc9ea3fa9177d5fec\n",
            "  Stored in directory: /root/.cache/pip/wheels/9f/18/84/8f69f8b08169c7bae2dde6bd7daf0c19fca8c8e500ee620a28\n",
            "Successfully built pyperclip\n",
            "Installing collected packages: pyperclip, pbr, stevedore, Mako, cmd2, autopage, colorlog, cmaes, cliff, alembic, optuna\n",
            "Successfully installed Mako-1.1.6 alembic-1.7.5 autopage-0.4.0 cliff-3.10.0 cmaes-0.8.2 cmd2-2.3.2 colorlog-6.6.0 optuna-2.10.0 pbr-5.8.0 pyperclip-1.8.2 stevedore-3.5.0\n"
          ]
        }
      ]
    },
    {
      "cell_type": "code",
      "metadata": {
        "colab": {
          "base_uri": "https://localhost:8080/"
        },
        "id": "9b8eb7e7",
        "outputId": "77ac7fb9-612a-48b2-e42a-8f2403e40349"
      },
      "source": [
        "t = transforms.Compose([transforms.ToTensor(),\n",
        "                        transforms.Normalize((0.485, 0.456, 0.406), (0.229, 0.224, 0.225)),\n",
        "                       ])\n",
        "target_t = lambda label: F.one_hot(torch.tensor(label), num_classes=classes)\n",
        "\n",
        "train_dataset = datasets.CIFAR10(root=\"./data\", train=True, transform = t, target_transform=target_t, download=True)\n",
        "\n",
        "test_dataset = datasets.CIFAR10(root=\"./data\", train=False, transform = t, target_transform=target_t, download=True)\n",
        "\n",
        "val_data_size = 5000\n",
        "train_data_size = len(train_dataset) - val_data_size\n",
        "train_dataset_split, val_dataset_split = random_split(train_dataset, [train_data_size, val_data_size])\n"
      ],
      "id": "9b8eb7e7",
      "execution_count": 17,
      "outputs": [
        {
          "output_type": "stream",
          "name": "stdout",
          "text": [
            "Files already downloaded and verified\n",
            "Files already downloaded and verified\n"
          ]
        }
      ]
    },
    {
      "cell_type": "code",
      "metadata": {
        "id": "b7b13013"
      },
      "source": [
        "train_loader = DataLoader(train_dataset_split, batch_size=512, shuffle=True)\n",
        "test_loader = DataLoader(test_dataset, batch_size=512, shuffle=False)\n",
        "val_loader = DataLoader(val_dataset_split, batch_size=512, shuffle=False)\n"
      ],
      "id": "b7b13013",
      "execution_count": 18,
      "outputs": []
    },
    {
      "cell_type": "code",
      "metadata": {
        "id": "b8d6f852"
      },
      "source": [
        "label_names = [\"airplane\",\n",
        "\"automobile\",\n",
        "\"bird\",\n",
        "\"cat\",\n",
        "\"deer\",\n",
        "\"dog\",\n",
        "\"frog\", \n",
        "\"horse\",\n",
        "\"ship\",\n",
        "\"truck\"]"
      ],
      "id": "b8d6f852",
      "execution_count": 19,
      "outputs": []
    },
    {
      "cell_type": "markdown",
      "metadata": {
        "id": "7cd007e1"
      },
      "source": [
        "## Visualizing the images in datatset"
      ],
      "id": "7cd007e1"
    },
    {
      "cell_type": "code",
      "metadata": {
        "id": "0f0405f7"
      },
      "source": [
        "# make better visualizer\n",
        "# add the label and image information in the same plot, not print\n",
        "\n",
        "img = next(iter(test_loader))[0][1].permute(1,2,0)\n",
        "label = next(iter(test_loader))[1][1]\n",
        "def visual(img):\n",
        "    img = img / 2 + 0.5\n",
        "    fig, ax = plt.subplots()\n",
        "    fig.set_size_inches(15,5)\n",
        "\n",
        "    img = img.numpy()\n",
        "    im = ax.imshow(img, cmap=plt.cm.gray)\n",
        "    fig.colorbar(im)\n",
        "    ax.set_title(\"Image\")\n",
        "\n",
        "# visual(img)\n",
        "# print(label_names[torch.argmax(label)])\n"
      ],
      "id": "0f0405f7",
      "execution_count": 20,
      "outputs": []
    },
    {
      "cell_type": "code",
      "metadata": {
        "id": "0m9Xr_KlUQUx"
      },
      "source": [
        "mlp_input_size =  3*32*32\n",
        "mlp_output_size = 10"
      ],
      "id": "0m9Xr_KlUQUx",
      "execution_count": 21,
      "outputs": []
    },
    {
      "cell_type": "code",
      "metadata": {
        "id": "WgnAdtS6TSn6"
      },
      "source": [
        "# MLP Model from Assignment 2\n",
        "class CIFAR10Mlp(nn.Module):\n",
        "    def __init__(self):\n",
        "        super().__init__()\n",
        "        self.input_dims = 3072\n",
        "        self.layer1 = nn.Linear(in_features=3072, out_features=732)\n",
        "        self.layer2 = nn.Linear(in_features=732, out_features=824)\n",
        "        self.layer3 = nn.Linear(in_features=824, out_features=10)\n",
        "        \n",
        "        self.relu1 = nn.ReLU(inplace=True)\n",
        "        self.relu2 = nn.ReLU(inplace=True)\n",
        "        \n",
        "    def forward(self, x):\n",
        "\n",
        "        x = x.view(x.size(0), -1)\n",
        "        x = self.relu1(self.layer1(x))\n",
        "        x = self.relu2(self.layer2(x))\n",
        "        \n",
        "        x = self.layer3(x)\n",
        "        pred = F.log_softmax(x, dim=1)\n",
        "        return x\n",
        "\n"
      ],
      "id": "WgnAdtS6TSn6",
      "execution_count": 8,
      "outputs": []
    },
    {
      "cell_type": "code",
      "metadata": {
        "id": "KUbre8gj-JxD"
      },
      "source": [
        "def early_stopping(cur_val_loss,val_best_loss,stop_counter,stop_counter_limit):\n",
        "  if val_best_loss < cur_val_loss:\n",
        "    stop_counter+=1\n",
        "    if stop_counter>stop_counter_limit:\n",
        "      return True,stop_counter\n",
        "\n",
        "  return False,stop_counter\n",
        "\n"
      ],
      "id": "KUbre8gj-JxD",
      "execution_count": 61,
      "outputs": []
    },
    {
      "cell_type": "code",
      "metadata": {
        "colab": {
          "base_uri": "https://localhost:8080/"
        },
        "id": "m7iguTSAVk4z",
        "outputId": "dc147f68-ae91-4ab0-8827-ad2e84dfe539"
      },
      "source": [
        "mlp_epochs = 20\n",
        "classes = 10\n",
        "mlp_model = CIFAR10Mlp().to(device)\n",
        "\n",
        "mlp_criterion = nn.CrossEntropyLoss().to(device)\n",
        "\n",
        "mlp_lr = 8.245230086283657e-05\n",
        "mlp_optimizer = torch.optim.Adam(mlp_model.parameters(), lr=mlp_lr)\n",
        "\n",
        "def testing(model):\n",
        "    model = model.to(device)\n",
        "    model.eval()\n",
        "    total_corr = 0\n",
        "    loss = []\n",
        "    with torch.no_grad():\n",
        "        total_corr = 0\n",
        "        for batch_idx, (data, target) in enumerate(test_loader):\n",
        "            data, target = data.to(device), target.type(torch.float32).to(device)\n",
        "            output = model(data)\n",
        "            \n",
        "            batch_loss = mlp_criterion(output, target)\n",
        "            \n",
        "            pred = torch.argmax(output, dim=1)\n",
        "            gt = torch.argmax(target, dim=1)\n",
        "            \n",
        "            correct = torch.count_nonzero(pred == gt)\n",
        "            total_corr += correct\n",
        "            loss.append(batch_loss.item())\n",
        "            \n",
        "    accuracy = (total_corr/len(test_dataset))\n",
        "    \n",
        "    return accuracy, np.mean(loss)\n",
        "\n",
        "\n",
        "def training(Epochs, model,early_stop=True):\n",
        "    accuracy_list = []\n",
        "    loss_list= []\n",
        "    loss_hist  = []\n",
        "    param_name = []\n",
        "    val_loss_list = []\n",
        "    val_dataset_loss=[]\n",
        "    early_stopping_counter=0\n",
        "    val_best_loss=0        \n",
        "    \n",
        "    for epoch in range(Epochs):\n",
        "        model.train()\n",
        "        \n",
        "        cur_loss_list = []\n",
        "        progress_bar = tqdm(enumerate(train_loader), total=len(train_loader))\n",
        "        for batch_idx, (data, target) in progress_bar:\n",
        "            total_norm=0\n",
        "\n",
        "            data, target = data.to(device), target.type(torch.float32).to(device)\n",
        "            output = model(data)\n",
        "            loss = mlp_criterion(output, target)\n",
        "            cur_loss_list.append(loss.item())\n",
        "            mlp_optimizer.zero_grad()\n",
        "            loss.backward()\n",
        "            mlp_optimizer.step()\n",
        "            \n",
        "            if(batch_idx % 5 == 0):\n",
        "                progress_bar.set_description(f\"Epoch {epoch+1} Iter {batch_idx+1}: loss {loss.item():.5f}. \")\n",
        "\n",
        "        val_running_loss=0\n",
        "        val_counter=0\n",
        "\n",
        "        for val_data,val_target in val_loader:\n",
        "\n",
        "\n",
        "          model.eval()\n",
        "          val_data, val_target = val_data.to(device), val_target.type(torch.float32).to(device)\n",
        "          val_output = model(val_data)\n",
        "          val_counter+=1\n",
        "            \n",
        "          batch_val_loss = mlp_criterion(val_output, val_target)\n",
        "            \n",
        "          pred_val = torch.argmax(val_output, dim=1)\n",
        "          gt_val = torch.argmax(val_target, dim=1)\n",
        "            \n",
        "          val_running_loss += batch_val_loss.item()\n",
        "        \n",
        "        val_loss_avg = val_running_loss / val_counter\n",
        "        if early_stop:\n",
        "          if(val_best_loss == 0):\n",
        "            val_best_loss = val_loss_avg\n",
        "          else:\n",
        "            stop_flag,early_stopping_counter = early_stopping(val_loss_avg,val_best_loss,early_stopping_counter,2)\n",
        "            if stop_flag:\n",
        "              break;\n",
        "            else:\n",
        "              if(val_best_loss > val_loss_avg):\n",
        "                val_best_loss=val_loss_avg\n",
        "        \n",
        "        \n",
        "\n",
        "        val_dataset_loss.append(val_loss_avg)\n",
        "        \n",
        "        \n",
        "        \n",
        "        \n",
        "\n",
        "        acc, val_loss = testing(model)\n",
        "\n",
        "        accuracy_list.append(acc.item())\n",
        "        val_loss_list.append(val_loss)\n",
        "        \n",
        "        loss_list = loss_list + cur_loss_list        \n",
        "        loss_hist.append(np.mean(cur_loss_list))\n",
        "    return loss_list, loss_hist, norm_list, accuracy_list, val_loss_list,val_dataset_loss\n",
        "\n",
        "\n",
        "loss_list, loss_hist, norm_list, accuracy_list, val_loss_list,val_dataset_loss = training(mlp_epochs, mlp_model)"
      ],
      "id": "m7iguTSAVk4z",
      "execution_count": 64,
      "outputs": [
        {
          "output_type": "stream",
          "name": "stderr",
          "text": [
            "Epoch 1 Iter 86: loss 1.66514. : 100%|██████████| 88/88 [00:23<00:00,  3.68it/s]\n",
            "Epoch 2 Iter 86: loss 1.44706. : 100%|██████████| 88/88 [00:24<00:00,  3.64it/s]\n",
            "Epoch 3 Iter 86: loss 1.47445. : 100%|██████████| 88/88 [00:24<00:00,  3.62it/s]\n",
            "Epoch 4 Iter 86: loss 1.33810. : 100%|██████████| 88/88 [00:23<00:00,  3.67it/s]\n",
            "Epoch 5 Iter 86: loss 1.30917. : 100%|██████████| 88/88 [00:23<00:00,  3.68it/s]\n",
            "Epoch 6 Iter 86: loss 1.29018. : 100%|██████████| 88/88 [00:24<00:00,  3.63it/s]\n",
            "Epoch 7 Iter 86: loss 1.24725. : 100%|██████████| 88/88 [00:23<00:00,  3.68it/s]\n",
            "Epoch 8 Iter 86: loss 1.11091. : 100%|██████████| 88/88 [00:23<00:00,  3.70it/s]\n",
            "Epoch 9 Iter 86: loss 1.13021. : 100%|██████████| 88/88 [00:23<00:00,  3.69it/s]\n",
            "Epoch 10 Iter 86: loss 1.08165. : 100%|██████████| 88/88 [00:23<00:00,  3.70it/s]\n",
            "Epoch 11 Iter 86: loss 1.06631. : 100%|██████████| 88/88 [00:23<00:00,  3.68it/s]\n",
            "Epoch 12 Iter 86: loss 1.01033. : 100%|██████████| 88/88 [00:23<00:00,  3.69it/s]\n",
            "Epoch 13 Iter 86: loss 0.90081. : 100%|██████████| 88/88 [00:24<00:00,  3.65it/s]\n"
          ]
        }
      ]
    },
    {
      "cell_type": "code",
      "metadata": {
        "colab": {
          "base_uri": "https://localhost:8080/"
        },
        "id": "8AeAgA5m1XyA",
        "outputId": "c8d18f78-a362-44c3-a289-5566209f4534"
      },
      "source": [
        "print(val_dataset_loss)"
      ],
      "id": "8AeAgA5m1XyA",
      "execution_count": 65,
      "outputs": [
        {
          "output_type": "stream",
          "name": "stdout",
          "text": [
            "[1.6405405521392822, 1.5567469239234923, 1.4883114457130433, 1.454141867160797, 1.4171738266944884, 1.394786250591278, 1.3818373680114746, 1.3674137592315674, 1.3664832592010498, 1.3475879669189452, 1.360145592689514, 1.3649675369262695]\n"
          ]
        }
      ]
    },
    {
      "cell_type": "code",
      "metadata": {
        "colab": {
          "base_uri": "https://localhost:8080/",
          "height": 512
        },
        "id": "D1kmN0S5bmug",
        "outputId": "1b42c7d0-bae4-4a65-90ca-27e311ef3c4e"
      },
      "source": [
        "plt.style.use('seaborn')\n",
        "fig, ax = plt.subplots(1, 2)\n",
        "fig.set_size_inches(18, 8)\n",
        "\n",
        "ax[0].plot(loss_hist, c=\"cyan\", label=\"Training Loss per epoch\", linewidth=3, alpha=0.5)\n",
        "ax[0].plot(val_loss_list, label=\"Validation Loss\", c='red', linewidth=3, alpha=0.5)\n",
        "ax[0].legend(loc=\"best\")\n",
        "ax[0].set_xlabel(\"Epoch\")\n",
        "ax[0].set_ylabel(\"Loss\")\n",
        "ax[0].set_title(\"Training Progress\")\n",
        "ax[0].set_xticks(np.arange(1, 21, step=2))\n",
        "\n",
        "ax[1].plot(loss_list, c=\"blue\", label=\"Training Loss\", linewidth=3, alpha=0.5)\n",
        "ax[1].legend(loc=\"best\")\n",
        "ax[1].set_xlabel(\"Iteration\")\n",
        "ax[1].set_ylabel(\"Loss\")\n",
        "ax[1].set_title(\"Training Progress (logscale)\")\n",
        "\n",
        "plt.show()"
      ],
      "id": "D1kmN0S5bmug",
      "execution_count": 66,
      "outputs": [
        {
          "output_type": "display_data",
          "data": {
            "image/png": "[encoded data removed]",
            "text/plain": [
              "<Figure size 1296x576 with 2 Axes>"
            ]
          },
          "metadata": {}
        }
      ]
    },
    {
      "cell_type": "code",
      "metadata": {
        "colab": {
          "base_uri": "https://localhost:8080/",
          "height": 686
        },
        "id": "N9POnrkpbEXE",
        "outputId": "d1a6b873-f5df-4f9e-bbe9-a7790a6546a0"
      },
      "source": [
        "plt.style.use('seaborn')\n",
        "fig, ax = plt.subplots()\n",
        "fig.set_size_inches(18, 8)\n",
        "\n",
        "ax.plot(accuracy_list, c=\"blue\", label=\"Accuracy\", linewidth=3, alpha=0.5)\n",
        "ax.legend(loc=\"best\")\n",
        "ax.set_xlabel(\"Epoch\")\n",
        "ax.set_ylabel(\"Accuracy\")\n",
        "ax.set_title(\"Accuracy during training\")\n",
        "ax.set_xticks(np.arange(1, 21, step=2))"
      ],
      "id": "N9POnrkpbEXE",
      "execution_count": 67,
      "outputs": [
        {
          "output_type": "execute_result",
          "data": {
            "text/plain": [
              "[<matplotlib.axis.XTick at 0x7f1f01b02050>,\n",
              " <matplotlib.axis.XTick at 0x7f1f01b02350>,\n",
              " <matplotlib.axis.XTick at 0x7f1f014f3510>,\n",
              " <matplotlib.axis.XTick at 0x7f1f01e38c50>,\n",
              " <matplotlib.axis.XTick at 0x7f1f01e4d250>,\n",
              " <matplotlib.axis.XTick at 0x7f1f01e4d750>,\n",
              " <matplotlib.axis.XTick at 0x7f1f01e4dcd0>,\n",
              " <matplotlib.axis.XTick at 0x7f1f01e572d0>,\n",
              " <matplotlib.axis.XTick at 0x7f1f01e57790>,\n",
              " <matplotlib.axis.XTick at 0x7f1f01e57cd0>]"
            ]
          },
          "metadata": {},
          "execution_count": 67
        },
        {
          "output_type": "display_data",
          "data": {
            "image/png": "[encoded data removed]",
            "text/plain": [
              "<Figure size 1296x576 with 1 Axes>"
            ]
          },
          "metadata": {}
        }
      ]
    },
    {
      "cell_type": "code",
      "metadata": {
        "id": "bea3ec3a"
      },
      "source": [
        "class Network(nn.Module):\n",
        "    \"\"\"\n",
        "    This is the CNN architecture to evaluate CIFAR-10 dataset\n",
        "    \"\"\"\n",
        "    def __init__(self, name: str, normalization: str):\n",
        "        super().__init__()\n",
        "        \n",
        "#         Input: (3, 32, 32)\n",
        "        self.name = name\n",
        "        self.normalization = normalization\n",
        "        self.conv1 = nn.Conv2d(in_channels=3, out_channels=6, kernel_size=5, stride=1, padding=0)\n",
        "        self.maxpool = nn.MaxPool2d(kernel_size=2, stride=2)\n",
        "        \n",
        "#         After Conv1 and maxpool: (6, 14, 14) \n",
        "        self.conv2 = nn.Conv2d(in_channels=6, out_channels=16, kernel_size=5, stride=1, padding=0)\n",
        "\n",
        "#         After Conv2 and maxpool: (16, 5, 5)\n",
        "        self.fc1 = nn.Linear(in_features=16*5*5, out_features=120)\n",
        "        self.fc2 = nn.Linear(in_features=120, out_features=84)\n",
        "        self.fc3 = nn.Linear(in_features=84, out_features=10)\n",
        "        \n",
        "        if self.normalization == \"batch\":\n",
        "            self.conv2_bn = nn.BatchNorm2d(16)\n",
        "            self.fc1_bn = nn.BatchNorm1d(120)\n",
        "            self.fc2_bn = nn.BatchNorm1d(84)\n",
        "        \n",
        "        if self.normalization == \"group\":\n",
        "            self.conv1_group = nn.GroupNorm(3, 6)\n",
        "            self.conv2_group = nn.GroupNorm(4, 16)\n",
        "            \n",
        "        if self.normalization == \"dropout\":\n",
        "            self.in_dropout = nn.Dropout(p=0.1)\n",
        "            self.cnn_dropout = nn.Dropout(p=0.5)\n",
        "            self.lin_dropout = nn.Dropout(p=0.5)\n",
        "        \n",
        "        \n",
        "    def forward(self, x):\n",
        "        if self.normalization == \"dropout\":\n",
        "            x = self.in_dropout(x)\n",
        "            \n",
        "            x = self.maxpool(F.relu(self.cnn_dropout(self.conv1(x))))\n",
        "            x = self.maxpool(F.relu(self.cnn_dropout(self.conv2(x))))\n",
        "            x = torch.flatten(x, start_dim=1)\n",
        "            x = F.relu(self.lin_dropout(self.fc1(x)))\n",
        "            x = F.relu(self.lin_dropout(self.fc2(x)))\n",
        "            x = self.fc3(x)\n",
        "            \n",
        "        elif self.normalization == \"batch\":\n",
        "            x = self.maxpool(F.relu(self.conv1(x)))\n",
        "            x = self.maxpool(F.relu(self.conv2_bn(self.conv2(x))))\n",
        "            x = torch.flatten(x, start_dim=1)\n",
        "            x = F.relu(self.fc1_bn(self.fc1(x)))\n",
        "            x = F.relu(self.fc2_bn(self.fc2(x)))\n",
        "            x = self.fc3(x)\n",
        "            \n",
        "        elif self.normalization == \"group\":\n",
        "            x = self.maxpool(F.relu(self.conv1_group(self.conv1(x))))\n",
        "            x = self.maxpool(F.relu(self.conv2_group(self.conv2(x))))\n",
        "            x = torch.flatten(x, start_dim=1)\n",
        "            x = F.relu(self.fc1(x))\n",
        "            x = F.relu(self.fc2(x))\n",
        "            x = self.fc3(x)\n",
        "        \n",
        "        elif self.normalization == \"no\":\n",
        "            x = self.maxpool(F.relu(self.conv1(x)))\n",
        "            x = self.maxpool(F.relu(self.conv2(x)))\n",
        "            x = torch.flatten(x, start_dim=1)\n",
        "            x = F.relu(self.fc1(x))\n",
        "            x = F.relu(self.fc2(x))\n",
        "            x = self.fc3(x)\n",
        "        return x\n",
        "    "
      ],
      "id": "bea3ec3a",
      "execution_count": null,
      "outputs": []
    },
    {
      "cell_type": "code",
      "metadata": {
        "id": "9b04d62c"
      },
      "source": [
        "def train_epoch(model, train_loader, optimizer, criterion, epoch):\n",
        "    loss_list = []\n",
        "    running_loss = 0.0\n",
        "\n",
        "    pbar = tqdm(enumerate(train_loader), total=len(train_loader))\n",
        "    model.train()\n",
        "    \n",
        "    for idx, (data, target) in pbar:\n",
        "        data, target = data.to(device), target.type(torch.FloatTensor).to(device)\n",
        "        optimizer.zero_grad()\n",
        "\n",
        "        outputs = model(data)\n",
        "        loss = criterion(outputs, target)\n",
        "        loss.backward()\n",
        "        optimizer.step()\n",
        "\n",
        "        running_loss =+ loss.item()\n",
        "        loss_list.append(loss.item())\n",
        "\n",
        "        if idx % 5 == 0:\n",
        "            pbar.set_description(f\"Epoch {epoch+1}, Itr {idx+1}, Loss {running_loss:.5f}\")\n",
        "    avg_loss = np.mean(loss_list)\n",
        "    return loss_list, avg_loss\n",
        "\n",
        "\n",
        "def testing(model, test_loader, criterion):\n",
        "    model.eval()\n",
        "    total_corr = 0\n",
        "    loss_list = []\n",
        "    with torch.no_grad():\n",
        "        total_corr = 0\n",
        "        for batch_idx, (data, target) in enumerate(test_loader):\n",
        "            data, target = data.to(device), target.type(torch.float32).to(device)\n",
        "            output = model(data)\n",
        "            \n",
        "            loss = criterion(output, target)\n",
        "            \n",
        "            pred = torch.argmax(output, dim=1)\n",
        "            gt = torch.argmax(target, dim=1)\n",
        "            \n",
        "            correct = torch.count_nonzero(pred == gt)\n",
        "            total_corr += correct\n",
        "            loss_list.append(loss.item())\n",
        "            \n",
        "    accuracy = (total_corr/len(test_dataset))\n",
        "    \n",
        "    return accuracy, np.mean(loss_list)\n",
        "\n",
        "def training(model, optimizer, scheduler, criterion, train_loader, valid_loader, num_epochs):\n",
        "#     Training time per epoch calculate and display\n",
        "    \n",
        "    train_loss = []\n",
        "    val_loss =  []\n",
        "    loss_iters = []\n",
        "    valid_acc = []\n",
        "    \n",
        "    stats = {\n",
        "        \"epoch\": [],\n",
        "        \"train_loss\": [],\n",
        "        \"val_loss\": [],\n",
        "        \"valid_acc\": [],\n",
        "        \"loss_iters\":[]\n",
        "    }\n",
        "    \n",
        "    for epoch in range(num_epochs):\n",
        "        stats[\"epoch\"].append(epoch + 1)\n",
        "        # training \n",
        "        epoch_loss_list, epoch_loss = train_epoch(model, train_loader, optimizer, criterion, epoch)\n",
        "        scheduler.step()\n",
        "        \n",
        "        stats[\"train_loss\"].append(epoch_loss)\n",
        "        stats[\"loss_iters\"] = stats[\"loss_iters\"] + epoch_loss_list\n",
        "        \n",
        "        # testing\n",
        "        acc, v_loss = testing(model, test_loader, criterion)        \n",
        "        stats[\"valid_acc\"].append(acc.item())\n",
        "        stats[\"val_loss\"].append(v_loss)\n",
        "        \n",
        "        if (epoch+1) % 3 == 0 or (epoch+1) == num_epochs:\n",
        "            saving_model(model, optimizer, epoch, stats)\n",
        "            print(f\"Accuracy for epoch: {epoch+1} is \", stats[\"valid_acc\"][-1])\n"
      ],
      "id": "9b04d62c",
      "execution_count": null,
      "outputs": []
    },
    {
      "cell_type": "code",
      "metadata": {
        "id": "e83be288"
      },
      "source": [
        "# util functions \n",
        "def num_params(model):\n",
        "    return sum(p.numel() for p in model.parameters() if p.requires_grad)\n",
        "\n",
        "def saving_model(model, optimizer, epoch, stats):\n",
        "    if not os.path.exists(\"models\"):\n",
        "        os.makedirs(\"models\")\n",
        "    save_path = f\"models/{model.name}_{epoch+1}.pth\"\n",
        "    torch.save({\n",
        "        'epoch' : epoch,\n",
        "        'model_state_dict' : model.state_dict(),\n",
        "        'optimizer_state_dict': optimizer.state_dict(),\n",
        "        'stats': stats\n",
        "    }, save_path)\n",
        "    \n",
        "\n",
        "def loading_model(model, path):\n",
        "    optimizer = torch.optim.Adam(params=model.parameters(), lr= 3e-4)\n",
        "    checkpoint =  torch.load(path)\n",
        "    model.load_state_dict(checkpoint['model_state_dict'])\n",
        "    optimizer.load_state_dict(checkpoint['optimizer_state_dict'])\n",
        "    epoch = checkpoint['epoch']\n",
        "    stats = checkpoint['stats']\n",
        "    return model, optimizer, epoch, stats\n"
      ],
      "id": "e83be288",
      "execution_count": null,
      "outputs": []
    },
    {
      "cell_type": "code",
      "metadata": {
        "id": "1950f7db"
      },
      "source": [
        "def training_full_model(name: str, normalization: str, train_loader, valid_loader, num_epochs):\n",
        "    \n",
        "    model = Network(name, normalization).to(device)\n",
        "    summary(model.to(device), (3,32,32))\n",
        "    LR = 3e-4\n",
        "    criterion = nn.CrossEntropyLoss().to(device)\n",
        "    optimizer = torch.optim.Adam(params=model.parameters(), lr=LR)\n",
        "    scheduler = torch.optim.lr_scheduler.StepLR(optimizer, step_size=7, gamma=0.1)\n",
        "    \n",
        "    training(model, optimizer, scheduler, criterion, train_loader, valid_loader, num_epochs)"
      ],
      "id": "1950f7db",
      "execution_count": null,
      "outputs": []
    },
    {
      "cell_type": "code",
      "metadata": {
        "id": "Ge6NvyzrbduW"
      },
      "source": [
        "def  early_stopping(valid_loss, model):\n",
        "\n",
        "  "
      ],
      "id": "Ge6NvyzrbduW",
      "execution_count": null,
      "outputs": []
    },
    {
      "cell_type": "markdown",
      "metadata": {
        "id": "0c7e80b5"
      },
      "source": [
        "## Training models\n"
      ],
      "id": "0c7e80b5"
    },
    {
      "cell_type": "code",
      "metadata": {
        "scrolled": true,
        "id": "f7479acb",
        "outputId": "ac2629f2-2981-4849-8a5f-368e3608c9e5"
      },
      "source": [
        "training_full_model(name=\"model_with_dropout\", normalization=\"dropout\", train_loader=train_loader, valid_loader=test_loader, num_epochs=18)"
      ],
      "id": "f7479acb",
      "execution_count": null,
      "outputs": [
        {
          "name": "stdout",
          "output_type": "stream",
          "text": [
            "----------------------------------------------------------------\n",
            "        Layer (type)               Output Shape         Param #\n",
            "================================================================\n",
            "           Dropout-1            [-1, 3, 32, 32]               0\n",
            "            Conv2d-2            [-1, 6, 28, 28]             456\n",
            "           Dropout-3            [-1, 6, 28, 28]               0\n",
            "         MaxPool2d-4            [-1, 6, 14, 14]               0\n",
            "            Conv2d-5           [-1, 16, 10, 10]           2,416\n",
            "           Dropout-6           [-1, 16, 10, 10]               0\n",
            "         MaxPool2d-7             [-1, 16, 5, 5]               0\n",
            "            Linear-8                  [-1, 120]          48,120\n",
            "           Dropout-9                  [-1, 120]               0\n",
            "           Linear-10                   [-1, 84]          10,164\n",
            "          Dropout-11                   [-1, 84]               0\n",
            "           Linear-12                   [-1, 10]             850\n",
            "================================================================\n",
            "Total params: 62,006\n",
            "Trainable params: 62,006\n",
            "Non-trainable params: 0\n",
            "----------------------------------------------------------------\n",
            "Input size (MB): 0.01\n",
            "Forward/backward pass size (MB): 0.13\n",
            "Params size (MB): 0.24\n",
            "Estimated Total Size (MB): 0.38\n",
            "----------------------------------------------------------------\n"
          ]
        },
        {
          "name": "stderr",
          "output_type": "stream",
          "text": [
            "Epoch 1, Itr 96, Loss 2.07765: 100%|████████████| 98/98 [00:07<00:00, 13.05it/s]\n",
            "Epoch 2, Itr 96, Loss 1.94421: 100%|████████████| 98/98 [00:07<00:00, 12.86it/s]\n",
            "Epoch 3, Itr 96, Loss 1.86323: 100%|████████████| 98/98 [00:07<00:00, 12.39it/s]\n"
          ]
        },
        {
          "name": "stdout",
          "output_type": "stream",
          "text": [
            "Accuracy for epoch: 3 is  0.3685999810695648\n"
          ]
        },
        {
          "name": "stderr",
          "output_type": "stream",
          "text": [
            "Epoch 4, Itr 96, Loss 1.72529: 100%|████████████| 98/98 [00:07<00:00, 12.53it/s]\n",
            "Epoch 5, Itr 96, Loss 1.74440: 100%|████████████| 98/98 [00:07<00:00, 12.77it/s]\n",
            "Epoch 6, Itr 96, Loss 1.61657: 100%|████████████| 98/98 [00:07<00:00, 12.53it/s]\n"
          ]
        },
        {
          "name": "stdout",
          "output_type": "stream",
          "text": [
            "Accuracy for epoch: 6 is  0.4316999912261963\n"
          ]
        },
        {
          "name": "stderr",
          "output_type": "stream",
          "text": [
            "Epoch 7, Itr 96, Loss 1.57906: 100%|████████████| 98/98 [00:07<00:00, 12.64it/s]\n",
            "Epoch 8, Itr 96, Loss 1.61503: 100%|████████████| 98/98 [00:07<00:00, 12.68it/s]\n",
            "Epoch 9, Itr 96, Loss 1.68306: 100%|████████████| 98/98 [00:07<00:00, 12.80it/s]\n"
          ]
        },
        {
          "name": "stdout",
          "output_type": "stream",
          "text": [
            "Accuracy for epoch: 9 is  0.44189998507499695\n"
          ]
        },
        {
          "name": "stderr",
          "output_type": "stream",
          "text": [
            "Epoch 10, Itr 96, Loss 1.64638: 100%|███████████| 98/98 [00:07<00:00, 12.85it/s]\n",
            "Epoch 11, Itr 96, Loss 1.57408: 100%|███████████| 98/98 [00:07<00:00, 12.87it/s]\n",
            "Epoch 12, Itr 96, Loss 1.59687: 100%|███████████| 98/98 [00:07<00:00, 12.93it/s]\n"
          ]
        },
        {
          "name": "stdout",
          "output_type": "stream",
          "text": [
            "Accuracy for epoch: 12 is  0.445499986410141\n"
          ]
        },
        {
          "name": "stderr",
          "output_type": "stream",
          "text": [
            "Epoch 13, Itr 96, Loss 1.63693: 100%|███████████| 98/98 [00:07<00:00, 12.99it/s]\n",
            "Epoch 14, Itr 96, Loss 1.54187: 100%|███████████| 98/98 [00:07<00:00, 12.89it/s]\n",
            "Epoch 15, Itr 96, Loss 1.62262: 100%|███████████| 98/98 [00:07<00:00, 12.87it/s]\n"
          ]
        },
        {
          "name": "stdout",
          "output_type": "stream",
          "text": [
            "Accuracy for epoch: 15 is  0.44669997692108154\n"
          ]
        },
        {
          "name": "stderr",
          "output_type": "stream",
          "text": [
            "Epoch 16, Itr 96, Loss 1.57264: 100%|███████████| 98/98 [00:07<00:00, 12.83it/s]\n",
            "Epoch 17, Itr 96, Loss 1.58184: 100%|███████████| 98/98 [00:07<00:00, 12.99it/s]\n",
            "Epoch 18, Itr 96, Loss 1.62590: 100%|███████████| 98/98 [00:07<00:00, 12.88it/s]\n"
          ]
        },
        {
          "name": "stdout",
          "output_type": "stream",
          "text": [
            "Accuracy for epoch: 18 is  0.44679999351501465\n"
          ]
        }
      ]
    },
    {
      "cell_type": "code",
      "metadata": {
        "scrolled": true,
        "id": "5f793419",
        "outputId": "6ee8a275-f7d5-469f-ee08-372b4ebd7ab3"
      },
      "source": [
        "training_full_model(name=\"model_without_dropout\", normalization=\"no\", train_loader=train_loader, valid_loader=test_loader, num_epochs=18)"
      ],
      "id": "5f793419",
      "execution_count": null,
      "outputs": [
        {
          "name": "stdout",
          "output_type": "stream",
          "text": [
            "----------------------------------------------------------------\n",
            "        Layer (type)               Output Shape         Param #\n",
            "================================================================\n",
            "            Conv2d-1            [-1, 6, 28, 28]             456\n",
            "         MaxPool2d-2            [-1, 6, 14, 14]               0\n",
            "            Conv2d-3           [-1, 16, 10, 10]           2,416\n",
            "         MaxPool2d-4             [-1, 16, 5, 5]               0\n",
            "            Linear-5                  [-1, 120]          48,120\n",
            "            Linear-6                   [-1, 84]          10,164\n",
            "            Linear-7                   [-1, 10]             850\n",
            "================================================================\n",
            "Total params: 62,006\n",
            "Trainable params: 62,006\n",
            "Non-trainable params: 0\n",
            "----------------------------------------------------------------\n",
            "Input size (MB): 0.01\n",
            "Forward/backward pass size (MB): 0.06\n",
            "Params size (MB): 0.24\n",
            "Estimated Total Size (MB): 0.31\n",
            "----------------------------------------------------------------\n"
          ]
        },
        {
          "name": "stderr",
          "output_type": "stream",
          "text": [
            "Epoch 1, Itr 96, Loss 1.82782: 100%|████████████| 98/98 [00:07<00:00, 12.69it/s]\n",
            "Epoch 2, Itr 96, Loss 1.64754: 100%|████████████| 98/98 [00:07<00:00, 12.91it/s]\n",
            "Epoch 3, Itr 96, Loss 1.64379: 100%|████████████| 98/98 [00:07<00:00, 12.92it/s]\n"
          ]
        },
        {
          "name": "stdout",
          "output_type": "stream",
          "text": [
            "Accuracy for epoch: 3 is  0.42649999260902405\n"
          ]
        },
        {
          "name": "stderr",
          "output_type": "stream",
          "text": [
            "Epoch 4, Itr 96, Loss 1.50217: 100%|████████████| 98/98 [00:07<00:00, 12.91it/s]\n",
            "Epoch 5, Itr 96, Loss 1.52313: 100%|████████████| 98/98 [00:07<00:00, 13.06it/s]\n",
            "Epoch 6, Itr 96, Loss 1.47853: 100%|████████████| 98/98 [00:07<00:00, 13.00it/s]\n"
          ]
        },
        {
          "name": "stdout",
          "output_type": "stream",
          "text": [
            "Accuracy for epoch: 6 is  0.486299991607666\n"
          ]
        },
        {
          "name": "stderr",
          "output_type": "stream",
          "text": [
            "Epoch 7, Itr 96, Loss 1.42716: 100%|████████████| 98/98 [00:07<00:00, 12.91it/s]\n",
            "Epoch 8, Itr 96, Loss 1.40802: 100%|████████████| 98/98 [00:07<00:00, 12.93it/s]\n",
            "Epoch 9, Itr 96, Loss 1.48262: 100%|████████████| 98/98 [00:07<00:00, 12.80it/s]\n"
          ]
        },
        {
          "name": "stdout",
          "output_type": "stream",
          "text": [
            "Accuracy for epoch: 9 is  0.4998999834060669\n"
          ]
        },
        {
          "name": "stderr",
          "output_type": "stream",
          "text": [
            "Epoch 10, Itr 96, Loss 1.38630: 100%|███████████| 98/98 [00:07<00:00, 12.75it/s]\n",
            "Epoch 11, Itr 96, Loss 1.33217: 100%|███████████| 98/98 [00:07<00:00, 12.85it/s]\n",
            "Epoch 12, Itr 96, Loss 1.35359: 100%|███████████| 98/98 [00:07<00:00, 12.90it/s]\n"
          ]
        },
        {
          "name": "stdout",
          "output_type": "stream",
          "text": [
            "Accuracy for epoch: 12 is  0.49869999289512634\n"
          ]
        },
        {
          "name": "stderr",
          "output_type": "stream",
          "text": [
            "Epoch 13, Itr 96, Loss 1.40612: 100%|███████████| 98/98 [00:07<00:00, 12.67it/s]\n",
            "Epoch 14, Itr 96, Loss 1.33149: 100%|███████████| 98/98 [00:07<00:00, 12.53it/s]\n",
            "Epoch 15, Itr 96, Loss 1.35167: 100%|███████████| 98/98 [00:07<00:00, 12.66it/s]\n"
          ]
        },
        {
          "name": "stdout",
          "output_type": "stream",
          "text": [
            "Accuracy for epoch: 15 is  0.5059999823570251\n"
          ]
        },
        {
          "name": "stderr",
          "output_type": "stream",
          "text": [
            "Epoch 16, Itr 96, Loss 1.40754: 100%|███████████| 98/98 [00:07<00:00, 12.95it/s]\n",
            "Epoch 17, Itr 96, Loss 1.34868: 100%|███████████| 98/98 [00:07<00:00, 12.73it/s]\n",
            "Epoch 18, Itr 96, Loss 1.34410: 100%|███████████| 98/98 [00:07<00:00, 12.72it/s]\n"
          ]
        },
        {
          "name": "stdout",
          "output_type": "stream",
          "text": [
            "Accuracy for epoch: 18 is  0.5072000026702881\n"
          ]
        }
      ]
    },
    {
      "cell_type": "code",
      "metadata": {
        "scrolled": true,
        "id": "4fba9c0d",
        "outputId": "f20a8b9b-6264-4a20-bbc3-d1aa1e6dc613"
      },
      "source": [
        "training_full_model(name=\"model_with_batch\", normalization=\"batch\", train_loader=train_loader, valid_loader=test_loader, num_epochs=18)"
      ],
      "id": "4fba9c0d",
      "execution_count": null,
      "outputs": [
        {
          "name": "stdout",
          "output_type": "stream",
          "text": [
            "----------------------------------------------------------------\n",
            "        Layer (type)               Output Shape         Param #\n",
            "================================================================\n",
            "            Conv2d-1            [-1, 6, 28, 28]             456\n",
            "         MaxPool2d-2            [-1, 6, 14, 14]               0\n",
            "            Conv2d-3           [-1, 16, 10, 10]           2,416\n",
            "       BatchNorm2d-4           [-1, 16, 10, 10]              32\n",
            "         MaxPool2d-5             [-1, 16, 5, 5]               0\n",
            "            Linear-6                  [-1, 120]          48,120\n",
            "       BatchNorm1d-7                  [-1, 120]             240\n",
            "            Linear-8                   [-1, 84]          10,164\n",
            "       BatchNorm1d-9                   [-1, 84]             168\n",
            "           Linear-10                   [-1, 10]             850\n",
            "================================================================\n",
            "Total params: 62,446\n",
            "Trainable params: 62,446\n",
            "Non-trainable params: 0\n",
            "----------------------------------------------------------------\n",
            "Input size (MB): 0.01\n",
            "Forward/backward pass size (MB): 0.08\n",
            "Params size (MB): 0.24\n",
            "Estimated Total Size (MB): 0.33\n",
            "----------------------------------------------------------------\n"
          ]
        },
        {
          "name": "stderr",
          "output_type": "stream",
          "text": [
            "Epoch 1, Itr 96, Loss 1.67690: 100%|████████████| 98/98 [00:07<00:00, 12.55it/s]\n",
            "Epoch 2, Itr 96, Loss 1.42764: 100%|████████████| 98/98 [00:07<00:00, 12.74it/s]\n",
            "Epoch 3, Itr 96, Loss 1.31906: 100%|████████████| 98/98 [00:07<00:00, 12.75it/s]\n"
          ]
        },
        {
          "name": "stdout",
          "output_type": "stream",
          "text": [
            "Accuracy for epoch: 3 is  0.5238999724388123\n"
          ]
        },
        {
          "name": "stderr",
          "output_type": "stream",
          "text": [
            "Epoch 4, Itr 96, Loss 1.24795: 100%|████████████| 98/98 [00:07<00:00, 12.56it/s]\n",
            "Epoch 5, Itr 96, Loss 1.17568: 100%|████████████| 98/98 [00:07<00:00, 12.83it/s]\n",
            "Epoch 6, Itr 96, Loss 1.08224: 100%|████████████| 98/98 [00:07<00:00, 12.59it/s]\n"
          ]
        },
        {
          "name": "stdout",
          "output_type": "stream",
          "text": [
            "Accuracy for epoch: 6 is  0.5770999789237976\n"
          ]
        },
        {
          "name": "stderr",
          "output_type": "stream",
          "text": [
            "Epoch 7, Itr 96, Loss 0.99501: 100%|████████████| 98/98 [00:07<00:00, 12.39it/s]\n",
            "Epoch 8, Itr 96, Loss 1.02040: 100%|████████████| 98/98 [00:08<00:00, 12.20it/s]\n",
            "Epoch 9, Itr 96, Loss 1.00732: 100%|████████████| 98/98 [00:07<00:00, 12.64it/s]\n"
          ]
        },
        {
          "name": "stdout",
          "output_type": "stream",
          "text": [
            "Accuracy for epoch: 9 is  0.5974999666213989\n"
          ]
        },
        {
          "name": "stderr",
          "output_type": "stream",
          "text": [
            "Epoch 10, Itr 96, Loss 0.93992: 100%|███████████| 98/98 [00:07<00:00, 12.63it/s]\n",
            "Epoch 11, Itr 96, Loss 0.98542: 100%|███████████| 98/98 [00:07<00:00, 12.91it/s]\n",
            "Epoch 12, Itr 96, Loss 0.98357: 100%|███████████| 98/98 [00:07<00:00, 12.63it/s]\n"
          ]
        },
        {
          "name": "stdout",
          "output_type": "stream",
          "text": [
            "Accuracy for epoch: 12 is  0.5986999869346619\n"
          ]
        },
        {
          "name": "stderr",
          "output_type": "stream",
          "text": [
            "Epoch 13, Itr 96, Loss 1.02775: 100%|███████████| 98/98 [00:07<00:00, 12.63it/s]\n",
            "Epoch 14, Itr 96, Loss 0.93297: 100%|███████████| 98/98 [00:07<00:00, 12.68it/s]\n",
            "Epoch 15, Itr 96, Loss 1.00705: 100%|███████████| 98/98 [00:07<00:00, 12.75it/s]\n"
          ]
        },
        {
          "name": "stdout",
          "output_type": "stream",
          "text": [
            "Accuracy for epoch: 15 is  0.6003000140190125\n"
          ]
        },
        {
          "name": "stderr",
          "output_type": "stream",
          "text": [
            "Epoch 16, Itr 96, Loss 0.94974: 100%|███████████| 98/98 [00:07<00:00, 12.97it/s]\n",
            "Epoch 17, Itr 96, Loss 0.93085: 100%|███████████| 98/98 [00:07<00:00, 13.04it/s]\n",
            "Epoch 18, Itr 96, Loss 0.93751: 100%|███████████| 98/98 [00:07<00:00, 12.91it/s]\n"
          ]
        },
        {
          "name": "stdout",
          "output_type": "stream",
          "text": [
            "Accuracy for epoch: 18 is  0.6003999710083008\n"
          ]
        }
      ]
    },
    {
      "cell_type": "code",
      "metadata": {
        "scrolled": true,
        "id": "fa131c50",
        "outputId": "377bfd7b-48c4-40b1-95d9-2e317d4ba7a0"
      },
      "source": [
        "training_full_model(name=\"model_with_group\", normalization=\"group\", train_loader=train_loader, valid_loader=test_loader, num_epochs=18)"
      ],
      "id": "fa131c50",
      "execution_count": null,
      "outputs": [
        {
          "name": "stdout",
          "output_type": "stream",
          "text": [
            "----------------------------------------------------------------\n",
            "        Layer (type)               Output Shape         Param #\n",
            "================================================================\n",
            "            Conv2d-1            [-1, 6, 28, 28]             456\n",
            "         GroupNorm-2            [-1, 6, 28, 28]              12\n",
            "         MaxPool2d-3            [-1, 6, 14, 14]               0\n",
            "            Conv2d-4           [-1, 16, 10, 10]           2,416\n",
            "         GroupNorm-5           [-1, 16, 10, 10]              32\n",
            "         MaxPool2d-6             [-1, 16, 5, 5]               0\n",
            "            Linear-7                  [-1, 120]          48,120\n",
            "            Linear-8                   [-1, 84]          10,164\n",
            "            Linear-9                   [-1, 10]             850\n",
            "================================================================\n",
            "Total params: 62,050\n",
            "Trainable params: 62,050\n",
            "Non-trainable params: 0\n",
            "----------------------------------------------------------------\n",
            "Input size (MB): 0.01\n",
            "Forward/backward pass size (MB): 0.11\n",
            "Params size (MB): 0.24\n",
            "Estimated Total Size (MB): 0.36\n",
            "----------------------------------------------------------------\n"
          ]
        },
        {
          "name": "stderr",
          "output_type": "stream",
          "text": [
            "Epoch 1, Itr 96, Loss 1.75036: 100%|████████████| 98/98 [00:07<00:00, 12.64it/s]\n",
            "Epoch 2, Itr 96, Loss 1.54263: 100%|████████████| 98/98 [00:07<00:00, 13.06it/s]\n",
            "Epoch 3, Itr 96, Loss 1.49709: 100%|████████████| 98/98 [00:07<00:00, 12.62it/s]\n"
          ]
        },
        {
          "name": "stdout",
          "output_type": "stream",
          "text": [
            "Accuracy for epoch: 3 is  0.4684999883174896\n"
          ]
        },
        {
          "name": "stderr",
          "output_type": "stream",
          "text": [
            "Epoch 4, Itr 96, Loss 1.41491: 100%|████████████| 98/98 [00:07<00:00, 12.67it/s]\n",
            "Epoch 5, Itr 96, Loss 1.39999: 100%|████████████| 98/98 [00:07<00:00, 12.83it/s]\n",
            "Epoch 6, Itr 96, Loss 1.33957: 100%|████████████| 98/98 [00:07<00:00, 12.59it/s]\n"
          ]
        },
        {
          "name": "stdout",
          "output_type": "stream",
          "text": [
            "Accuracy for epoch: 6 is  0.5117999911308289\n"
          ]
        },
        {
          "name": "stderr",
          "output_type": "stream",
          "text": [
            "Epoch 7, Itr 96, Loss 1.30201: 100%|████████████| 98/98 [00:07<00:00, 12.84it/s]\n",
            "Epoch 8, Itr 96, Loss 1.23328: 100%|████████████| 98/98 [00:07<00:00, 12.90it/s]\n",
            "Epoch 9, Itr 96, Loss 1.31702: 100%|████████████| 98/98 [00:07<00:00, 12.81it/s]\n"
          ]
        },
        {
          "name": "stdout",
          "output_type": "stream",
          "text": [
            "Accuracy for epoch: 9 is  0.5307999849319458\n"
          ]
        },
        {
          "name": "stderr",
          "output_type": "stream",
          "text": [
            "Epoch 10, Itr 96, Loss 1.24512: 100%|███████████| 98/98 [00:07<00:00, 12.74it/s]\n",
            "Epoch 11, Itr 96, Loss 1.31726: 100%|███████████| 98/98 [00:07<00:00, 12.41it/s]\n",
            "Epoch 12, Itr 96, Loss 1.34717: 100%|███████████| 98/98 [00:07<00:00, 12.86it/s]\n"
          ]
        },
        {
          "name": "stdout",
          "output_type": "stream",
          "text": [
            "Accuracy for epoch: 12 is  0.5327999591827393\n"
          ]
        },
        {
          "name": "stderr",
          "output_type": "stream",
          "text": [
            "Epoch 13, Itr 96, Loss 1.28996: 100%|███████████| 98/98 [00:07<00:00, 12.87it/s]\n",
            "Epoch 14, Itr 96, Loss 1.27093: 100%|███████████| 98/98 [00:07<00:00, 12.42it/s]\n",
            "Epoch 15, Itr 96, Loss 1.19206: 100%|███████████| 98/98 [00:07<00:00, 12.81it/s]\n"
          ]
        },
        {
          "name": "stdout",
          "output_type": "stream",
          "text": [
            "Accuracy for epoch: 15 is  0.5358999967575073\n"
          ]
        },
        {
          "name": "stderr",
          "output_type": "stream",
          "text": [
            "Epoch 16, Itr 96, Loss 1.25325: 100%|███████████| 98/98 [00:07<00:00, 12.37it/s]\n",
            "Epoch 17, Itr 96, Loss 1.13943: 100%|███████████| 98/98 [00:07<00:00, 12.60it/s]\n",
            "Epoch 18, Itr 96, Loss 1.23203: 100%|███████████| 98/98 [00:07<00:00, 12.64it/s]\n"
          ]
        },
        {
          "name": "stdout",
          "output_type": "stream",
          "text": [
            "Accuracy for epoch: 18 is  0.5357999801635742\n"
          ]
        }
      ]
    },
    {
      "cell_type": "markdown",
      "metadata": {
        "id": "0703602f"
      },
      "source": [
        "### Loading a model from disk\n"
      ],
      "id": "0703602f"
    },
    {
      "cell_type": "code",
      "metadata": {
        "id": "8a3b429e"
      },
      "source": [
        "best_dropout = Network(name=\"best_dropout\", normalization=\"dropout\")\n",
        "best_batch = Network(name=\"best_batch\", normalization=\"batch\")\n",
        "best_group = Network(name=\"best_group\", normalization=\"group\")\n",
        "best_no_dropout = Network(name=\"best_no_dropout\", normalization=\"no\")\n",
        "\n",
        "best_dropout, _, _, stats_d = loading_model(best_dropout, \"models/model_with_dropout_18.pth\")\n",
        "best_no_dropout, _, _, stats_no_d = loading_model(best_no_dropout, \"models/model_without_dropout_18.pth\")\n",
        "best_batch, _, _, stats_batch = loading_model(best_batch, \"models/model_with_batch_18.pth\")\n",
        "best_group, _, _, stats_group = loading_model(best_group, \"models/model_with_group_18.pth\")"
      ],
      "id": "8a3b429e",
      "execution_count": null,
      "outputs": []
    },
    {
      "cell_type": "code",
      "metadata": {
        "id": "-rC2cRembaSz"
      },
      "source": [
        ""
      ],
      "id": "-rC2cRembaSz",
      "execution_count": null,
      "outputs": []
    },
    {
      "cell_type": "markdown",
      "metadata": {
        "id": "8ad052b5"
      },
      "source": [
        "### Training loss plots \n",
        "\n",
        "In the figure below is the training loss for model with and without dropout. \n",
        "\n",
        "**there has to be something wrong here since model with dropout is overfitting more lol**\n"
      ],
      "id": "8ad052b5"
    },
    {
      "cell_type": "code",
      "metadata": {
        "id": "9eff6793",
        "outputId": "7698bdac-a97f-4a16-fc7f-5aaa570cac93"
      },
      "source": [
        "fig, ax = plt.subplots(2,2)\n",
        "fig.set_size_inches(18, 10)\n",
        "\n",
        "ax[0][0].plot(stats_d['epoch'], stats_d['train_loss'], label=\"Train_loss\", linewidth=3)\n",
        "ax[0][0].plot(stats_d['epoch'], stats_d['val_loss'], label=\"Val Loss\", c='red', linewidth=3)\n",
        "ax[0][0].legend(loc='best')\n",
        "ax[0][0].set_xlabel(\"Epochs\")\n",
        "ax[0][0].set_ylabel(\"Error\")\n",
        "    \n",
        "ax[0][0].set_title(\"Train-Eval Progress for model with dropout\")\n",
        "\n",
        "ax[0][1].plot(stats_no_d['epoch'], stats_no_d['train_loss'], label=\"Train_loss\", linewidth=3)\n",
        "ax[0][1].plot(stats_no_d['epoch'], stats_no_d['val_loss'], label=\"Val Loss\", c='red', linewidth=3)\n",
        "ax[0][1].legend(loc='best')\n",
        "ax[0][1].set_xlabel(\"Epochs\")\n",
        "ax[0][1].set_ylabel(\"Accuracy\")\n",
        "    \n",
        "ax[0][1].set_title(\"Train-Eval Progress for model without dropout\")\n",
        "\n",
        "ax[1][0].plot(stats_batch['epoch'], stats_batch['train_loss'], label=\"Train_loss\", linewidth=3)\n",
        "ax[1][0].plot(stats_batch['epoch'], stats_batch['val_loss'], label=\"Val Loss\", c='red', linewidth=3)\n",
        "ax[1][0].legend(loc='best')\n",
        "ax[1][0].set_xlabel(\"Epochs\")\n",
        "ax[1][0].set_ylabel(\"Accuracy\")\n",
        "    \n",
        "ax[1][0].set_title(\"Train-Eval Progress for model with Batch Normalization\")\n",
        "\n",
        "\n",
        "ax[1][1].plot(stats_batch['epoch'], stats_batch['train_loss'], label=\"Train_loss\", linewidth=3)\n",
        "ax[1][1].plot(stats_batch['epoch'], stats_batch['val_loss'], label=\"Val Loss\", c='red', linewidth=3)\n",
        "ax[1][1].legend(loc='best')\n",
        "ax[1][1].set_xlabel(\"Epochs\")\n",
        "ax[1][1].set_ylabel(\"Accuracy\")\n",
        "    \n",
        "ax[1][1].set_title(\"Train-Eval Progress for model with Group Normalization\")\n",
        "\n",
        "plt.show()"
      ],
      "id": "9eff6793",
      "execution_count": null,
      "outputs": [
        {
          "data": {
            "image/png": "[encoded data removed]",
            "text/plain": [
              "<Figure size 1296x720 with 4 Axes>"
            ]
          },
          "metadata": {
            "needs_background": "light"
          },
          "output_type": "display_data"
        }
      ]
    },
    {
      "cell_type": "markdown",
      "metadata": {
        "id": "2151057f"
      },
      "source": [
        "### Accuracy for different models\n",
        "\n",
        "Now is the accuracy for different models. \n",
        "\n",
        "**I mean it makes sense that the model without dropout will have more acc for same number of spochs. But it should not be this less**"
      ],
      "id": "2151057f"
    },
    {
      "cell_type": "code",
      "metadata": {
        "colab": {
          "base_uri": "https://localhost:8080/",
          "height": 544
        },
        "id": "9da43858",
        "outputId": "f9147d34-472d-4c90-9a5f-6cca3a34bea9"
      },
      "source": [
        "fig, ax = plt.subplots()\n",
        "fig.set_size_inches(18, 5)\n",
        "\n",
        "ax.plot(stats_d['epoch'], stats_d['valid_acc'], label=\"Accuracy with dropout\", linewidth=3)\n",
        "ax.plot(stats_no_d['epoch'], stats_no_d['valid_acc'], label=\"Accuracy without dropout\", linewidth=3)\n",
        "ax.plot(stats_batch['epoch'], stats_batch['valid_acc'], label=\"Accuracy with Batch Norm\", linewidth=3)\n",
        "ax.plot(stats_group['epoch'], stats_group['valid_acc'], label=\"Accuracy with Group Norm\", linewidth=3)\n",
        "\n",
        "ax.legend(loc='best')\n",
        "ax.set_xlabel(\"Epochs\")\n",
        "ax.set_ylabel(\"Error\")\n",
        "    \n",
        "ax.set_title(\"Eval Accuracy during training\")\n",
        "\n",
        "plt.show()"
      ],
      "id": "9da43858",
      "execution_count": 51,
      "outputs": [
        {
          "output_type": "error",
          "ename": "NameError",
          "evalue": "ignored",
          "traceback": [
            "\u001b[0;31m---------------------------------------------------------------------------\u001b[0m",
            "\u001b[0;31mNameError\u001b[0m                                 Traceback (most recent call last)",
            "\u001b[0;32m<ipython-input-51-fe5eb001f645>\u001b[0m in \u001b[0;36m<module>\u001b[0;34m()\u001b[0m\n\u001b[1;32m      2\u001b[0m \u001b[0mfig\u001b[0m\u001b[0;34m.\u001b[0m\u001b[0mset_size_inches\u001b[0m\u001b[0;34m(\u001b[0m\u001b[0;36m18\u001b[0m\u001b[0;34m,\u001b[0m \u001b[0;36m5\u001b[0m\u001b[0;34m)\u001b[0m\u001b[0;34m\u001b[0m\u001b[0;34m\u001b[0m\u001b[0m\n\u001b[1;32m      3\u001b[0m \u001b[0;34m\u001b[0m\u001b[0m\n\u001b[0;32m----> 4\u001b[0;31m \u001b[0max\u001b[0m\u001b[0;34m.\u001b[0m\u001b[0mplot\u001b[0m\u001b[0;34m(\u001b[0m\u001b[0mstats_d\u001b[0m\u001b[0;34m[\u001b[0m\u001b[0;34m'epoch'\u001b[0m\u001b[0;34m]\u001b[0m\u001b[0;34m,\u001b[0m \u001b[0mstats_d\u001b[0m\u001b[0;34m[\u001b[0m\u001b[0;34m'valid_acc'\u001b[0m\u001b[0;34m]\u001b[0m\u001b[0;34m,\u001b[0m \u001b[0mlabel\u001b[0m\u001b[0;34m=\u001b[0m\u001b[0;34m\"Accuracy with dropout\"\u001b[0m\u001b[0;34m,\u001b[0m \u001b[0mlinewidth\u001b[0m\u001b[0;34m=\u001b[0m\u001b[0;36m3\u001b[0m\u001b[0;34m)\u001b[0m\u001b[0;34m\u001b[0m\u001b[0;34m\u001b[0m\u001b[0m\n\u001b[0m\u001b[1;32m      5\u001b[0m \u001b[0max\u001b[0m\u001b[0;34m.\u001b[0m\u001b[0mplot\u001b[0m\u001b[0;34m(\u001b[0m\u001b[0mstats_no_d\u001b[0m\u001b[0;34m[\u001b[0m\u001b[0;34m'epoch'\u001b[0m\u001b[0;34m]\u001b[0m\u001b[0;34m,\u001b[0m \u001b[0mstats_no_d\u001b[0m\u001b[0;34m[\u001b[0m\u001b[0;34m'valid_acc'\u001b[0m\u001b[0;34m]\u001b[0m\u001b[0;34m,\u001b[0m \u001b[0mlabel\u001b[0m\u001b[0;34m=\u001b[0m\u001b[0;34m\"Accuracy without dropout\"\u001b[0m\u001b[0;34m,\u001b[0m \u001b[0mlinewidth\u001b[0m\u001b[0;34m=\u001b[0m\u001b[0;36m3\u001b[0m\u001b[0;34m)\u001b[0m\u001b[0;34m\u001b[0m\u001b[0;34m\u001b[0m\u001b[0m\n\u001b[1;32m      6\u001b[0m \u001b[0max\u001b[0m\u001b[0;34m.\u001b[0m\u001b[0mplot\u001b[0m\u001b[0;34m(\u001b[0m\u001b[0mstats_batch\u001b[0m\u001b[0;34m[\u001b[0m\u001b[0;34m'epoch'\u001b[0m\u001b[0;34m]\u001b[0m\u001b[0;34m,\u001b[0m \u001b[0mstats_batch\u001b[0m\u001b[0;34m[\u001b[0m\u001b[0;34m'valid_acc'\u001b[0m\u001b[0;34m]\u001b[0m\u001b[0;34m,\u001b[0m \u001b[0mlabel\u001b[0m\u001b[0;34m=\u001b[0m\u001b[0;34m\"Accuracy with Batch Norm\"\u001b[0m\u001b[0;34m,\u001b[0m \u001b[0mlinewidth\u001b[0m\u001b[0;34m=\u001b[0m\u001b[0;36m3\u001b[0m\u001b[0;34m)\u001b[0m\u001b[0;34m\u001b[0m\u001b[0;34m\u001b[0m\u001b[0m\n",
            "\u001b[0;31mNameError\u001b[0m: name 'stats_d' is not defined"
          ]
        },
        {
          "output_type": "display_data",
          "data": {
            "image/png": "[encoded data removed]",
            "text/plain": [
              "<Figure size 1296x360 with 1 Axes>"
            ]
          },
          "metadata": {}
        }
      ]
    },
    {
      "cell_type": "markdown",
      "metadata": {
        "id": "a16f8f52"
      },
      "source": [
        "### Visualizing the kernels\n",
        "\n",
        "Here we are visualizing the kernels"
      ],
      "id": "a16f8f52"
    },
    {
      "cell_type": "code",
      "metadata": {
        "id": "0b131b6e"
      },
      "source": [
        "# keys = list(best_no_dropout.state_dict().keys())\n",
        "# def vis_kernel(kernels):\n",
        "#     n,c,w,h = kernels.shape\n",
        "#     fig, ax = plt.subplots(1,6)\n",
        "    \n",
        "#     for idx, i in enumerate(kernels):\n",
        "        \n",
        "#         img = i.squeeze().permute(1,2,0).numpy()\n",
        "#         ax[idx].imshow(img)"
      ],
      "id": "0b131b6e",
      "execution_count": null,
      "outputs": []
    },
    {
      "cell_type": "code",
      "metadata": {
        "id": "466a4eda"
      },
      "source": [
        "# vis_kernel(best_no_dropout.state_dict()[keys[0]])"
      ],
      "id": "466a4eda",
      "execution_count": null,
      "outputs": []
    },
    {
      "cell_type": "code",
      "metadata": {
        "id": "439d270b"
      },
      "source": [
        "#Function for plottinng kernels and activation maps\n",
        "def plot(tensor, plot_kernels, n_cols=10):\n",
        "    n_kernels = tensor.shape[0]\n",
        "    n_rows = 1+ n_kernels // n_cols\n",
        "    fig = plt.figure(figsize=(n_cols,n_rows))\n",
        "    for i in range(n_kernels):\n",
        "        ax1 = fig.add_subplot(n_rows,n_cols,i+1)\n",
        "        if plot_kernels==True:\n",
        "            ax1.imshow(tensor[i][0,:,:].cpu(),cmap='gray')\n",
        "        else:\n",
        "            ax1.imshow(tensor[i],cmap='gray')\n",
        "        ax1.axis('off')\n",
        "        ax1.set_xticklabels([])\n",
        "        ax1.set_yticklabels([])\n",
        "        \n",
        "    plt.subplots_adjust(wspace=0.3, hspace=0.3)\n",
        "    plt.show()"
      ],
      "id": "439d270b",
      "execution_count": null,
      "outputs": []
    },
    {
      "cell_type": "code",
      "metadata": {
        "id": "07bb6a02",
        "outputId": "710ad33b-baad-4eb2-f249-95c0dbde365c"
      },
      "source": [
        "print(\"Kernel Visualization\")\n",
        "filters = best_no_dropout.modules()\n",
        "model_layers = [i for i in best_no_dropout.children()]\n",
        "first_layer = model_layers[0]\n",
        "second_layer = model_layers[2]\n",
        "\n",
        "first_kernels = first_layer.weight.data.clone()\n",
        "print(first_kernels.shape)\n",
        "plot(first_kernels,True)\n",
        "\n",
        "\n",
        "second_kernels = second_layer.weight.data.clone()\n",
        "print(second_kernels.shape)\n",
        "plot(second_kernels,True)"
      ],
      "id": "07bb6a02",
      "execution_count": null,
      "outputs": [
        {
          "name": "stdout",
          "output_type": "stream",
          "text": [
            "Kernel Visualization\n",
            "torch.Size([6, 3, 5, 5])\n"
          ]
        },
        {
          "data": {
            "image/png": "[encoded data removed]",
            "text/plain": [
              "<Figure size 720x72 with 6 Axes>"
            ]
          },
          "metadata": {
            "needs_background": "light"
          },
          "output_type": "display_data"
        },
        {
          "name": "stdout",
          "output_type": "stream",
          "text": [
            "torch.Size([16, 6, 5, 5])\n"
          ]
        },
        {
          "data": {
            "image/png": "[encoded data removed]",
            "text/plain": [
              "<Figure size 720x144 with 16 Axes>"
            ]
          },
          "metadata": {
            "needs_background": "light"
          },
          "output_type": "display_data"
        }
      ]
    },
    {
      "cell_type": "markdown",
      "metadata": {
        "id": "3da39fbd"
      },
      "source": [
        "This shows the kernel visualization. Our kernels are of sizes 5 x 5, hence we can see a grid of the same size. The dark boxes indicate that the weights are of lower magnitude and the light ones indicate the weights are of greater magnitude. As the patches go from dark to light, the weight values keep increasing.\n",
        "\n"
      ],
      "id": "3da39fbd"
    },
    {
      "cell_type": "markdown",
      "metadata": {
        "id": "29a605f6"
      },
      "source": [
        "## Visualization of Activations "
      ],
      "id": "29a605f6"
    },
    {
      "cell_type": "code",
      "metadata": {
        "id": "2053420a",
        "outputId": "1885920e-0ae2-4d4f-b9f7-9090b8222884"
      },
      "source": [
        "print(\"Activation Visualization\")   \n",
        "img, label = test_dataset[21]\n",
        "img_input = img.unsqueeze(0)\n",
        "\n",
        "result1 = best_no_dropout.conv1(img_input)\n",
        "result1 = result1.squeeze()\n",
        "\n",
        "print('Convolutional Output Layer - 1')\n",
        "plot(result1.data.numpy(),False)\n",
        "      \n",
        "result1 = best_no_dropout.maxpool(result1)\n",
        "print(\"After first convolution and maxpool layer\",result1.shape)           \n",
        "\n",
        "\n",
        "result1 = (result1.view(-1, 6*14*14))\n",
        "resized_img = result1[0].view(1, 6, 14, 14)\n",
        "\n",
        "result2 = best_no_dropout.conv2(resized_img)\n",
        "result2 = result2.squeeze()\n",
        "      \n",
        "print('Convolutional Output Layer - 2')\n",
        "plot(result2.data.cpu().numpy(),False)\n",
        "result2 = best_no_dropout.maxpool(result2)\n",
        "print(\"After second convolution and maxpool layer\",result2.shape)   "
      ],
      "id": "2053420a",
      "execution_count": null,
      "outputs": [
        {
          "name": "stdout",
          "output_type": "stream",
          "text": [
            "Activation Visualization\n",
            "Convolutional Output Layer - 1\n"
          ]
        },
        {
          "data": {
            "image/png": "[encoded data removed]",
            "text/plain": [
              "<Figure size 720x72 with 6 Axes>"
            ]
          },
          "metadata": {
            "needs_background": "light"
          },
          "output_type": "display_data"
        },
        {
          "name": "stdout",
          "output_type": "stream",
          "text": [
            "After first convolution and maxpool layer torch.Size([6, 14, 14])\n",
            "Convolutional Output Layer - 2\n"
          ]
        },
        {
          "data": {
            "image/png": "[encoded data removed]",
            "text/plain": [
              "<Figure size 720x144 with 16 Axes>"
            ]
          },
          "metadata": {
            "needs_background": "light"
          },
          "output_type": "display_data"
        },
        {
          "name": "stdout",
          "output_type": "stream",
          "text": [
            "After second convolution and maxpool layer torch.Size([16, 5, 5])\n"
          ]
        }
      ]
    },
    {
      "cell_type": "markdown",
      "metadata": {
        "id": "c64f68a6"
      },
      "source": [
        "These are our activation maps after the first and second convolution layers. After the first convolution layer, the activation maps highlight the image involved by either darkening/lightning the image. It is difficult to understand what the second layer is trying to achieve."
      ],
      "id": "c64f68a6"
    },
    {
      "cell_type": "code",
      "metadata": {
        "id": "cc8d7d74"
      },
      "source": [
        ""
      ],
      "id": "cc8d7d74",
      "execution_count": null,
      "outputs": []
    }
  ]
}
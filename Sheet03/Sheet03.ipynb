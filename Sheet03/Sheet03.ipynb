{
 "cells": [
  {
   "cell_type": "code",
   "execution_count": 1,
   "id": "47de1775",
   "metadata": {},
   "outputs": [],
   "source": [
    "import torch\n",
    "from torchvision import datasets, transforms\n",
    "from torch.utils.data import DataLoader\n",
    "import torch.nn as nn\n",
    "import torch.nn.functional as F\n",
    "import torch.optim as optim\n",
    "from torchsummary import summary\n",
    "import os\n",
    "\n",
    "from PIL import Image\n",
    "import numpy as np\n",
    "import matplotlib.pyplot as plt\n",
    "from tqdm import tqdm\n",
    "\n",
    "import optuna\n",
    "from optuna.trial import TrialState"
   ]
  },
  {
   "cell_type": "code",
   "execution_count": 2,
   "id": "ffb1ff9d",
   "metadata": {},
   "outputs": [],
   "source": [
    "device = torch.device(\"cuda\" if torch.cuda.is_available() else \"cpu\")\n",
    "num_epochs = 20\n",
    "classes = 10"
   ]
  },
  {
   "cell_type": "code",
   "execution_count": 3,
   "id": "b299564a",
   "metadata": {},
   "outputs": [],
   "source": [
    "## get model from asignment 2 and check for acc and other metrices\n"
   ]
  },
  {
   "cell_type": "code",
   "execution_count": 4,
   "id": "9b8eb7e7",
   "metadata": {},
   "outputs": [
    {
     "name": "stdout",
     "output_type": "stream",
     "text": [
      "Files already downloaded and verified\n",
      "Files already downloaded and verified\n"
     ]
    }
   ],
   "source": [
    "t = transforms.Compose([transforms.ToTensor(),\n",
    "                        transforms.Normalize((0.485, 0.456, 0.406), (0.229, 0.224, 0.225)),\n",
    "                       ])\n",
    "target_t = lambda label: F.one_hot(torch.tensor(label), num_classes=classes)\n",
    "\n",
    "train_dataset = datasets.CIFAR10(root=\"./data\", train=True, transform = t, target_transform=target_t, download=True)\n",
    "\n",
    "test_dataset = datasets.CIFAR10(root=\"./data\", train=False, transform = t, target_transform=target_t, download=True)\n"
   ]
  },
  {
   "cell_type": "code",
   "execution_count": 5,
   "id": "b7b13013",
   "metadata": {},
   "outputs": [],
   "source": [
    "train_loader = DataLoader(train_dataset, batch_size=512, shuffle=True)\n",
    "test_loader = DataLoader(test_dataset, batch_size=512, shuffle=False)"
   ]
  },
  {
   "cell_type": "code",
   "execution_count": 6,
   "id": "b8d6f852",
   "metadata": {},
   "outputs": [],
   "source": [
    "label_names = [\"airplane\",\n",
    "\"automobile\",\n",
    "\"bird\",\n",
    "\"cat\",\n",
    "\"deer\",\n",
    "\"dog\",\n",
    "\"frog\", \n",
    "\"horse\",\n",
    "\"ship\",\n",
    "\"truck\"]"
   ]
  },
  {
   "cell_type": "markdown",
   "id": "a91f3550",
   "metadata": {},
   "source": [
    "## Visualizing the images in datatset"
   ]
  },
  {
   "cell_type": "code",
   "execution_count": 7,
   "id": "0f0405f7",
   "metadata": {},
   "outputs": [],
   "source": [
    "# make better visualizer\n",
    "# add the label and image information in the same plot, not print\n",
    "\n",
    "img = next(iter(test_loader))[0][1].permute(1,2,0)\n",
    "label = next(iter(test_loader))[1][1]\n",
    "def visual(img):\n",
    "    img = img / 2 + 0.5\n",
    "    fig, ax = plt.subplots()\n",
    "    fig.set_size_inches(15,5)\n",
    "\n",
    "    img = img.numpy()\n",
    "    im = ax.imshow(img, cmap=plt.cm.gray)\n",
    "    fig.colorbar(im)\n",
    "    ax.set_title(\"Image\")\n",
    "\n",
    "# visual(img)\n",
    "# print(label_names[torch.argmax(label)])\n"
   ]
  },
  {
   "cell_type": "code",
   "execution_count": 8,
   "id": "bea3ec3a",
   "metadata": {},
   "outputs": [],
   "source": [
    "class Network(nn.Module):\n",
    "    \"\"\"\n",
    "    This is the CNN architecture to evaluate CIFAR-10 dataset\n",
    "    \"\"\"\n",
    "    def __init__(self, name: str, normalization: str):\n",
    "        super().__init__()\n",
    "        \n",
    "#         Input: (3, 32, 32)\n",
    "        self.name = name\n",
    "        self.normalization = normalization\n",
    "        self.conv1 = nn.Conv2d(in_channels=3, out_channels=6, kernel_size=5, stride=1, padding=0)\n",
    "        self.maxpool = nn.MaxPool2d(kernel_size=2, stride=2)\n",
    "        \n",
    "#         After Conv1 and maxpool: (6, 14, 14) \n",
    "        self.conv2 = nn.Conv2d(in_channels=6, out_channels=16, kernel_size=5, stride=1, padding=0)\n",
    "\n",
    "#         After Conv2 and maxpool: (16, 5, 5)\n",
    "        self.fc1 = nn.Linear(in_features=16*5*5, out_features=120)\n",
    "        self.fc2 = nn.Linear(in_features=120, out_features=84)\n",
    "        self.fc3 = nn.Linear(in_features=84, out_features=10)\n",
    "        \n",
    "        if self.normalization == \"batch\":\n",
    "            self.conv2_bn = nn.BatchNorm2d(16)\n",
    "            self.fc1_bn = nn.BatchNorm1d(120)\n",
    "            self.fc2_bn = nn.BatchNorm1d(84)\n",
    "        \n",
    "        if self.normalization == \"group\":\n",
    "            pass\n",
    "        \n",
    "        if self.normalization == \"dropout\":\n",
    "            self.in_dropout = nn.Dropout(p=0.1)\n",
    "            self.cnn_dropout = nn.Dropout(p=0.5)\n",
    "            self.lin_dropout = nn.Dropout(p=0.5)\n",
    "        \n",
    "        \n",
    "    def forward(self, x):\n",
    "        if self.normalization == \"dropout\":\n",
    "            x = self.in_dropout(x)\n",
    "            \n",
    "            x = self.maxpool(F.relu(self.cnn_dropout(self.conv1(x))))\n",
    "            x = self.maxpool(F.relu(self.cnn_dropout(self.conv2(x))))\n",
    "            x = torch.flatten(x, start_dim=1)\n",
    "            x = F.relu(self.lin_dropout(self.fc1(x)))\n",
    "            x = F.relu(self.lin_dropout(self.fc2(x)))\n",
    "            x = self.fc3(x)\n",
    "            \n",
    "        elif self.normalization == \"batch\":\n",
    "            x = self.maxpool(F.relu(self.conv1(x)))\n",
    "            x = self.maxpool(F.relu(self.conv2_bn(self.conv2(x))))\n",
    "            x = torch.flatten(x, start_dim=1)\n",
    "            x = F.relu(self.fc1_bn(self.fc1(x)))\n",
    "            x = F.relu(self.fc2_bn(self.fc2(x)))\n",
    "            x = self.fc3(x)\n",
    "            \n",
    "        elif self.normalization == \"group\":\n",
    "            pass\n",
    "        \n",
    "        elif self.normalization == \"no\":\n",
    "            x = self.maxpool(F.relu(self.conv1(x)))\n",
    "            x = self.maxpool(F.relu(self.conv2(x)))\n",
    "            x = torch.flatten(x, start_dim=1)\n",
    "            x = F.relu(self.fc1(x))\n",
    "            x = F.relu(self.fc2(x))\n",
    "            x = self.fc3(x)\n",
    "        return x\n",
    "    "
   ]
  },
  {
   "cell_type": "code",
   "execution_count": 9,
   "id": "9b04d62c",
   "metadata": {},
   "outputs": [],
   "source": [
    "def train_epoch(model, train_loader, optimizer, criterion, epoch):\n",
    "    loss_list = []\n",
    "    running_loss = 0.0\n",
    "\n",
    "    pbar = tqdm(enumerate(train_loader), total=len(train_loader))\n",
    "    model.train()\n",
    "    \n",
    "    for idx, (data, target) in pbar:\n",
    "        data, target = data.to(device), target.type(torch.FloatTensor).to(device)\n",
    "        optimizer.zero_grad()\n",
    "\n",
    "        outputs = model(data)\n",
    "        loss = criterion(outputs, target)\n",
    "        loss.backward()\n",
    "        optimizer.step()\n",
    "\n",
    "        running_loss =+ loss.item()\n",
    "        loss_list.append(loss.item())\n",
    "\n",
    "        if idx % 5 == 0:\n",
    "            pbar.set_description(f\"Epoch {epoch+1}, Itr {idx+1}, Loss {running_loss:.5f}\")\n",
    "    avg_loss = np.mean(loss_list)\n",
    "    return loss_list, avg_loss\n",
    "\n",
    "\n",
    "def testing(model, test_loader, criterion):\n",
    "    model.eval()\n",
    "    total_corr = 0\n",
    "    loss_list = []\n",
    "    with torch.no_grad():\n",
    "        total_corr = 0\n",
    "        for batch_idx, (data, target) in enumerate(test_loader):\n",
    "            data, target = data.to(device), target.type(torch.float32).to(device)\n",
    "            output = model(data)\n",
    "            \n",
    "            loss = criterion(output, target)\n",
    "            \n",
    "            pred = torch.argmax(output, dim=1)\n",
    "            gt = torch.argmax(target, dim=1)\n",
    "            \n",
    "            correct = torch.count_nonzero(pred == gt)\n",
    "            total_corr += correct\n",
    "            loss_list.append(loss.item())\n",
    "            \n",
    "    accuracy = (total_corr/len(test_dataset))\n",
    "    \n",
    "    return accuracy, np.mean(loss_list)\n",
    "\n",
    "def training(model, optimizer, scheduler, criterion, train_loader, valid_loader, num_epochs):\n",
    "#     Training time per epoch calculate and display\n",
    "    \n",
    "    train_loss = []\n",
    "    val_loss =  []\n",
    "    loss_iters = []\n",
    "    valid_acc = []\n",
    "    \n",
    "    stats = {\n",
    "        \"epoch\": [],\n",
    "        \"train_loss\": [],\n",
    "        \"val_loss\": [],\n",
    "        \"valid_acc\": [],\n",
    "        \"loss_iters\":[]\n",
    "    }\n",
    "    \n",
    "    for epoch in range(num_epochs):\n",
    "        stats[\"epoch\"].append(epoch + 1)\n",
    "        # training \n",
    "        epoch_loss_list, epoch_loss = train_epoch(model, train_loader, optimizer, criterion, epoch)\n",
    "        scheduler.step()\n",
    "        \n",
    "        stats[\"train_loss\"].append(epoch_loss)\n",
    "        stats[\"loss_iters\"] = stats[\"loss_iters\"] + epoch_loss_list\n",
    "        \n",
    "        # testing\n",
    "        acc, v_loss = testing(model, test_loader, criterion)        \n",
    "        stats[\"valid_acc\"].append(acc.item())\n",
    "        stats[\"val_loss\"].append(v_loss)\n",
    "        \n",
    "        if (epoch+1) % 3 == 0 or (epoch+1) == num_epochs:\n",
    "            saving_model(model, optimizer, epoch, stats)\n",
    "            print(f\"Accuracy for epoch: {epoch+1} is \", stats[\"valid_acc\"][-1])\n"
   ]
  },
  {
   "cell_type": "code",
   "execution_count": 10,
   "id": "c9cc2dbe",
   "metadata": {},
   "outputs": [],
   "source": [
    "# util functions \n",
    "def num_params(model):\n",
    "    return sum(p.numel() for p in model.parameters() if p.requires_grad)\n",
    "\n",
    "def saving_model(model, optimizer, epoch, stats):\n",
    "    if not os.path.exists(\"models\"):\n",
    "        os.makedirs(\"models\")\n",
    "    save_path = f\"models/{model.name}_{epoch+1}.pth\"\n",
    "    torch.save({\n",
    "        'epoch' : epoch,\n",
    "        'model_state_dict' : model.state_dict(),\n",
    "        'optimizer_state_dict': optimizer.state_dict(),\n",
    "        'stats': stats\n",
    "    }, save_path)\n",
    "    \n",
    "\n",
    "def loading_model(model, path):\n",
    "    optimizer = torch.optim.Adam(params=model.parameters(), lr= 3e-4)\n",
    "    checkpoint =  torch.load(path)\n",
    "    model.load_state_dict(checkpoint['model_state_dict'])\n",
    "    optimizer.load_state_dict(checkpoint['optimizer_state_dict'])\n",
    "    epoch = checkpoint['epoch']\n",
    "    stats = checkpoint['stats']\n",
    "    return model, optimizer, epoch, stats\n"
   ]
  },
  {
   "cell_type": "code",
   "execution_count": 11,
   "id": "1f2e705d",
   "metadata": {},
   "outputs": [],
   "source": [
    "def training_full_model(name: str, normalization: str, train_loader, valid_loader, num_epochs):\n",
    "    \n",
    "    model = Network(name, normalization).to(device)\n",
    "    summary(model.to(device), (3,32,32))\n",
    "    LR = 3e-4\n",
    "    criterion = nn.CrossEntropyLoss().to(device)\n",
    "    optimizer = torch.optim.Adam(params=model.parameters(), lr=LR)\n",
    "    scheduler = torch.optim.lr_scheduler.StepLR(optimizer, step_size=7, gamma=0.1)\n",
    "    \n",
    "    training(model, optimizer, scheduler, criterion, train_loader, valid_loader, num_epochs)"
   ]
  },
  {
   "cell_type": "markdown",
   "id": "e9e2daa2",
   "metadata": {},
   "source": [
    "## Training models\n"
   ]
  },
  {
   "cell_type": "code",
   "execution_count": 12,
   "id": "18dd8fba",
   "metadata": {
    "collapsed": true
   },
   "outputs": [
    {
     "name": "stdout",
     "output_type": "stream",
     "text": [
      "----------------------------------------------------------------\n",
      "        Layer (type)               Output Shape         Param #\n",
      "================================================================\n",
      "           Dropout-1            [-1, 3, 32, 32]               0\n",
      "            Conv2d-2            [-1, 6, 28, 28]             456\n",
      "           Dropout-3            [-1, 6, 28, 28]               0\n",
      "         MaxPool2d-4            [-1, 6, 14, 14]               0\n",
      "            Conv2d-5           [-1, 16, 10, 10]           2,416\n",
      "           Dropout-6           [-1, 16, 10, 10]               0\n",
      "         MaxPool2d-7             [-1, 16, 5, 5]               0\n",
      "            Linear-8                  [-1, 120]          48,120\n",
      "           Dropout-9                  [-1, 120]               0\n",
      "           Linear-10                   [-1, 84]          10,164\n",
      "          Dropout-11                   [-1, 84]               0\n",
      "           Linear-12                   [-1, 10]             850\n",
      "================================================================\n",
      "Total params: 62,006\n",
      "Trainable params: 62,006\n",
      "Non-trainable params: 0\n",
      "----------------------------------------------------------------\n",
      "Input size (MB): 0.01\n",
      "Forward/backward pass size (MB): 0.13\n",
      "Params size (MB): 0.24\n",
      "Estimated Total Size (MB): 0.38\n",
      "----------------------------------------------------------------\n"
     ]
    },
    {
     "name": "stderr",
     "output_type": "stream",
     "text": [
      "Epoch 1, Itr 96, Loss 2.07765: 100%|████████████| 98/98 [00:07<00:00, 13.05it/s]\n",
      "Epoch 2, Itr 96, Loss 1.94421: 100%|████████████| 98/98 [00:07<00:00, 12.86it/s]\n",
      "Epoch 3, Itr 96, Loss 1.86323: 100%|████████████| 98/98 [00:07<00:00, 12.39it/s]\n"
     ]
    },
    {
     "name": "stdout",
     "output_type": "stream",
     "text": [
      "Accuracy for epoch: 3 is  0.3685999810695648\n"
     ]
    },
    {
     "name": "stderr",
     "output_type": "stream",
     "text": [
      "Epoch 4, Itr 96, Loss 1.72529: 100%|████████████| 98/98 [00:07<00:00, 12.53it/s]\n",
      "Epoch 5, Itr 96, Loss 1.74440: 100%|████████████| 98/98 [00:07<00:00, 12.77it/s]\n",
      "Epoch 6, Itr 96, Loss 1.61657: 100%|████████████| 98/98 [00:07<00:00, 12.53it/s]\n"
     ]
    },
    {
     "name": "stdout",
     "output_type": "stream",
     "text": [
      "Accuracy for epoch: 6 is  0.4316999912261963\n"
     ]
    },
    {
     "name": "stderr",
     "output_type": "stream",
     "text": [
      "Epoch 7, Itr 96, Loss 1.57906: 100%|████████████| 98/98 [00:07<00:00, 12.64it/s]\n",
      "Epoch 8, Itr 96, Loss 1.61503: 100%|████████████| 98/98 [00:07<00:00, 12.68it/s]\n",
      "Epoch 9, Itr 96, Loss 1.68306: 100%|████████████| 98/98 [00:07<00:00, 12.80it/s]\n"
     ]
    },
    {
     "name": "stdout",
     "output_type": "stream",
     "text": [
      "Accuracy for epoch: 9 is  0.44189998507499695\n"
     ]
    },
    {
     "name": "stderr",
     "output_type": "stream",
     "text": [
      "Epoch 10, Itr 96, Loss 1.64638: 100%|███████████| 98/98 [00:07<00:00, 12.85it/s]\n",
      "Epoch 11, Itr 96, Loss 1.57408: 100%|███████████| 98/98 [00:07<00:00, 12.87it/s]\n",
      "Epoch 12, Itr 96, Loss 1.59687: 100%|███████████| 98/98 [00:07<00:00, 12.93it/s]\n"
     ]
    },
    {
     "name": "stdout",
     "output_type": "stream",
     "text": [
      "Accuracy for epoch: 12 is  0.445499986410141\n"
     ]
    },
    {
     "name": "stderr",
     "output_type": "stream",
     "text": [
      "Epoch 13, Itr 96, Loss 1.63693: 100%|███████████| 98/98 [00:07<00:00, 12.99it/s]\n",
      "Epoch 14, Itr 96, Loss 1.54187: 100%|███████████| 98/98 [00:07<00:00, 12.89it/s]\n",
      "Epoch 15, Itr 96, Loss 1.62262: 100%|███████████| 98/98 [00:07<00:00, 12.87it/s]\n"
     ]
    },
    {
     "name": "stdout",
     "output_type": "stream",
     "text": [
      "Accuracy for epoch: 15 is  0.44669997692108154\n"
     ]
    },
    {
     "name": "stderr",
     "output_type": "stream",
     "text": [
      "Epoch 16, Itr 96, Loss 1.57264: 100%|███████████| 98/98 [00:07<00:00, 12.83it/s]\n",
      "Epoch 17, Itr 96, Loss 1.58184: 100%|███████████| 98/98 [00:07<00:00, 12.99it/s]\n",
      "Epoch 18, Itr 96, Loss 1.62590: 100%|███████████| 98/98 [00:07<00:00, 12.88it/s]\n"
     ]
    },
    {
     "name": "stdout",
     "output_type": "stream",
     "text": [
      "Accuracy for epoch: 18 is  0.44679999351501465\n"
     ]
    }
   ],
   "source": [
    "training_full_model(name=\"model_with_dropout\", normalization=\"dropout\", train_loader=train_loader, valid_loader=test_loader, num_epochs=18)"
   ]
  },
  {
   "cell_type": "code",
   "execution_count": 13,
   "id": "02b31c01",
   "metadata": {
    "collapsed": true
   },
   "outputs": [
    {
     "name": "stdout",
     "output_type": "stream",
     "text": [
      "----------------------------------------------------------------\n",
      "        Layer (type)               Output Shape         Param #\n",
      "================================================================\n",
      "            Conv2d-1            [-1, 6, 28, 28]             456\n",
      "         MaxPool2d-2            [-1, 6, 14, 14]               0\n",
      "            Conv2d-3           [-1, 16, 10, 10]           2,416\n",
      "         MaxPool2d-4             [-1, 16, 5, 5]               0\n",
      "            Linear-5                  [-1, 120]          48,120\n",
      "            Linear-6                   [-1, 84]          10,164\n",
      "            Linear-7                   [-1, 10]             850\n",
      "================================================================\n",
      "Total params: 62,006\n",
      "Trainable params: 62,006\n",
      "Non-trainable params: 0\n",
      "----------------------------------------------------------------\n",
      "Input size (MB): 0.01\n",
      "Forward/backward pass size (MB): 0.06\n",
      "Params size (MB): 0.24\n",
      "Estimated Total Size (MB): 0.31\n",
      "----------------------------------------------------------------\n"
     ]
    },
    {
     "name": "stderr",
     "output_type": "stream",
     "text": [
      "Epoch 1, Itr 96, Loss 1.82782: 100%|████████████| 98/98 [00:07<00:00, 12.69it/s]\n",
      "Epoch 2, Itr 96, Loss 1.64754: 100%|████████████| 98/98 [00:07<00:00, 12.91it/s]\n",
      "Epoch 3, Itr 96, Loss 1.64379: 100%|████████████| 98/98 [00:07<00:00, 12.92it/s]\n"
     ]
    },
    {
     "name": "stdout",
     "output_type": "stream",
     "text": [
      "Accuracy for epoch: 3 is  0.42649999260902405\n"
     ]
    },
    {
     "name": "stderr",
     "output_type": "stream",
     "text": [
      "Epoch 4, Itr 96, Loss 1.50217: 100%|████████████| 98/98 [00:07<00:00, 12.91it/s]\n",
      "Epoch 5, Itr 96, Loss 1.52313: 100%|████████████| 98/98 [00:07<00:00, 13.06it/s]\n",
      "Epoch 6, Itr 96, Loss 1.47853: 100%|████████████| 98/98 [00:07<00:00, 13.00it/s]\n"
     ]
    },
    {
     "name": "stdout",
     "output_type": "stream",
     "text": [
      "Accuracy for epoch: 6 is  0.486299991607666\n"
     ]
    },
    {
     "name": "stderr",
     "output_type": "stream",
     "text": [
      "Epoch 7, Itr 96, Loss 1.42716: 100%|████████████| 98/98 [00:07<00:00, 12.91it/s]\n",
      "Epoch 8, Itr 96, Loss 1.40802: 100%|████████████| 98/98 [00:07<00:00, 12.93it/s]\n",
      "Epoch 9, Itr 96, Loss 1.48262: 100%|████████████| 98/98 [00:07<00:00, 12.80it/s]\n"
     ]
    },
    {
     "name": "stdout",
     "output_type": "stream",
     "text": [
      "Accuracy for epoch: 9 is  0.4998999834060669\n"
     ]
    },
    {
     "name": "stderr",
     "output_type": "stream",
     "text": [
      "Epoch 10, Itr 96, Loss 1.38630: 100%|███████████| 98/98 [00:07<00:00, 12.75it/s]\n",
      "Epoch 11, Itr 96, Loss 1.33217: 100%|███████████| 98/98 [00:07<00:00, 12.85it/s]\n",
      "Epoch 12, Itr 96, Loss 1.35359: 100%|███████████| 98/98 [00:07<00:00, 12.90it/s]\n"
     ]
    },
    {
     "name": "stdout",
     "output_type": "stream",
     "text": [
      "Accuracy for epoch: 12 is  0.49869999289512634\n"
     ]
    },
    {
     "name": "stderr",
     "output_type": "stream",
     "text": [
      "Epoch 13, Itr 96, Loss 1.40612: 100%|███████████| 98/98 [00:07<00:00, 12.67it/s]\n",
      "Epoch 14, Itr 96, Loss 1.33149: 100%|███████████| 98/98 [00:07<00:00, 12.53it/s]\n",
      "Epoch 15, Itr 96, Loss 1.35167: 100%|███████████| 98/98 [00:07<00:00, 12.66it/s]\n"
     ]
    },
    {
     "name": "stdout",
     "output_type": "stream",
     "text": [
      "Accuracy for epoch: 15 is  0.5059999823570251\n"
     ]
    },
    {
     "name": "stderr",
     "output_type": "stream",
     "text": [
      "Epoch 16, Itr 96, Loss 1.40754: 100%|███████████| 98/98 [00:07<00:00, 12.95it/s]\n",
      "Epoch 17, Itr 96, Loss 1.34868: 100%|███████████| 98/98 [00:07<00:00, 12.73it/s]\n",
      "Epoch 18, Itr 96, Loss 1.34410: 100%|███████████| 98/98 [00:07<00:00, 12.72it/s]\n"
     ]
    },
    {
     "name": "stdout",
     "output_type": "stream",
     "text": [
      "Accuracy for epoch: 18 is  0.5072000026702881\n"
     ]
    }
   ],
   "source": [
    "training_full_model(name=\"model_without_dropout\", normalization=\"no\", train_loader=train_loader, valid_loader=test_loader, num_epochs=18)"
   ]
  },
  {
   "cell_type": "code",
   "execution_count": 15,
   "id": "fa676017",
   "metadata": {
    "scrolled": true
   },
   "outputs": [
    {
     "name": "stdout",
     "output_type": "stream",
     "text": [
      "----------------------------------------------------------------\n",
      "        Layer (type)               Output Shape         Param #\n",
      "================================================================\n",
      "            Conv2d-1            [-1, 6, 28, 28]             456\n",
      "         MaxPool2d-2            [-1, 6, 14, 14]               0\n",
      "            Conv2d-3           [-1, 16, 10, 10]           2,416\n",
      "       BatchNorm2d-4           [-1, 16, 10, 10]              32\n",
      "         MaxPool2d-5             [-1, 16, 5, 5]               0\n",
      "            Linear-6                  [-1, 120]          48,120\n",
      "       BatchNorm1d-7                  [-1, 120]             240\n",
      "            Linear-8                   [-1, 84]          10,164\n",
      "       BatchNorm1d-9                   [-1, 84]             168\n",
      "           Linear-10                   [-1, 10]             850\n",
      "================================================================\n",
      "Total params: 62,446\n",
      "Trainable params: 62,446\n",
      "Non-trainable params: 0\n",
      "----------------------------------------------------------------\n",
      "Input size (MB): 0.01\n",
      "Forward/backward pass size (MB): 0.08\n",
      "Params size (MB): 0.24\n",
      "Estimated Total Size (MB): 0.33\n",
      "----------------------------------------------------------------\n"
     ]
    },
    {
     "name": "stderr",
     "output_type": "stream",
     "text": [
      "Epoch 1, Itr 96, Loss 1.67690: 100%|████████████| 98/98 [00:07<00:00, 12.55it/s]\n",
      "Epoch 2, Itr 96, Loss 1.42764: 100%|████████████| 98/98 [00:07<00:00, 12.74it/s]\n",
      "Epoch 3, Itr 96, Loss 1.31906: 100%|████████████| 98/98 [00:07<00:00, 12.75it/s]\n"
     ]
    },
    {
     "name": "stdout",
     "output_type": "stream",
     "text": [
      "Accuracy for epoch: 3 is  0.5238999724388123\n"
     ]
    },
    {
     "name": "stderr",
     "output_type": "stream",
     "text": [
      "Epoch 4, Itr 96, Loss 1.24795: 100%|████████████| 98/98 [00:07<00:00, 12.56it/s]\n",
      "Epoch 5, Itr 96, Loss 1.17568: 100%|████████████| 98/98 [00:07<00:00, 12.83it/s]\n",
      "Epoch 6, Itr 96, Loss 1.08224: 100%|████████████| 98/98 [00:07<00:00, 12.59it/s]\n"
     ]
    },
    {
     "name": "stdout",
     "output_type": "stream",
     "text": [
      "Accuracy for epoch: 6 is  0.5770999789237976\n"
     ]
    },
    {
     "name": "stderr",
     "output_type": "stream",
     "text": [
      "Epoch 7, Itr 96, Loss 0.99501: 100%|████████████| 98/98 [00:07<00:00, 12.39it/s]\n",
      "Epoch 8, Itr 96, Loss 1.02040: 100%|████████████| 98/98 [00:08<00:00, 12.20it/s]\n",
      "Epoch 9, Itr 96, Loss 1.00732: 100%|████████████| 98/98 [00:07<00:00, 12.64it/s]\n"
     ]
    },
    {
     "name": "stdout",
     "output_type": "stream",
     "text": [
      "Accuracy for epoch: 9 is  0.5974999666213989\n"
     ]
    },
    {
     "name": "stderr",
     "output_type": "stream",
     "text": [
      "Epoch 10, Itr 96, Loss 0.93992: 100%|███████████| 98/98 [00:07<00:00, 12.63it/s]\n",
      "Epoch 11, Itr 96, Loss 0.98542: 100%|███████████| 98/98 [00:07<00:00, 12.91it/s]\n",
      "Epoch 12, Itr 96, Loss 0.98357: 100%|███████████| 98/98 [00:07<00:00, 12.63it/s]\n"
     ]
    },
    {
     "name": "stdout",
     "output_type": "stream",
     "text": [
      "Accuracy for epoch: 12 is  0.5986999869346619\n"
     ]
    },
    {
     "name": "stderr",
     "output_type": "stream",
     "text": [
      "Epoch 13, Itr 96, Loss 1.02775: 100%|███████████| 98/98 [00:07<00:00, 12.63it/s]\n",
      "Epoch 14, Itr 96, Loss 0.93297: 100%|███████████| 98/98 [00:07<00:00, 12.68it/s]\n",
      "Epoch 15, Itr 96, Loss 1.00705: 100%|███████████| 98/98 [00:07<00:00, 12.75it/s]\n"
     ]
    },
    {
     "name": "stdout",
     "output_type": "stream",
     "text": [
      "Accuracy for epoch: 15 is  0.6003000140190125\n"
     ]
    },
    {
     "name": "stderr",
     "output_type": "stream",
     "text": [
      "Epoch 16, Itr 96, Loss 0.94974: 100%|███████████| 98/98 [00:07<00:00, 12.97it/s]\n",
      "Epoch 17, Itr 96, Loss 0.93085: 100%|███████████| 98/98 [00:07<00:00, 13.04it/s]\n",
      "Epoch 18, Itr 96, Loss 0.93751: 100%|███████████| 98/98 [00:07<00:00, 12.91it/s]\n"
     ]
    },
    {
     "name": "stdout",
     "output_type": "stream",
     "text": [
      "Accuracy for epoch: 18 is  0.6003999710083008\n"
     ]
    }
   ],
   "source": [
    "training_full_model(name=\"model_with_batch\", normalization=\"batch\", train_loader=train_loader, valid_loader=test_loader, num_epochs=18)"
   ]
  },
  {
   "cell_type": "markdown",
   "id": "9f02ef76",
   "metadata": {},
   "source": [
    "### Loading a model from disk\n"
   ]
  },
  {
   "cell_type": "code",
   "execution_count": 16,
   "id": "8a3b429e",
   "metadata": {},
   "outputs": [],
   "source": [
    "best_dropout = Network(name=\"best_dropout\", normalization=\"dropout\")\n",
    "best_batch = Network(name=\"best_batch\", normalization=\"batch\")\n",
    "best_no_dropout = Network(name=\"best_no_dropout\", normalization=\"no\")\n",
    "\n",
    "best_dropout, _, _, stats_d = loading_model(best_dropout, \"models/model_with_dropout_18.pth\")\n",
    "best_no_dropout, _, _, stats_no_d = loading_model(best_no_dropout, \"models/model_without_dropout_18.pth\")\n",
    "best_batch, _, _, stats_batch = loading_model(best_batch, \"models/model_with_batch_18.pth\")"
   ]
  },
  {
   "cell_type": "markdown",
   "id": "8ad052b5",
   "metadata": {},
   "source": [
    "### Training loss plots \n",
    "\n",
    "In the figure below is the training loss for model with and without dropout. \n",
    "\n",
    "**there has to be something wrong here since model with dropout is overfitting more lol**\n"
   ]
  },
  {
   "cell_type": "code",
   "execution_count": 23,
   "id": "9eff6793",
   "metadata": {},
   "outputs": [
    {
     "data": {
      "image/png": "[encoded data removed]",
      "text/plain": [
       "<Figure size 1944x360 with 3 Axes>"
      ]
     },
     "metadata": {
      "needs_background": "light"
     },
     "output_type": "display_data"
    }
   ],
   "source": [
    "fig, ax = plt.subplots(1,3)\n",
    "fig.set_size_inches(27, 5)\n",
    "\n",
    "ax[0].plot(stats_d['epoch'], stats_d['train_loss'], label=\"Train_loss\", linewidth=3)\n",
    "ax[0].plot(stats_d['epoch'], stats_d['val_loss'], label=\"Val Loss\", c='red', linewidth=3)\n",
    "ax[0].legend(loc='best')\n",
    "ax[0].set_xlabel(\"Epochs\")\n",
    "ax[0].set_ylabel(\"Error\")\n",
    "    \n",
    "ax[0].set_title(\"Train-Eval Progress for model with dropout\")\n",
    "\n",
    "ax[1].plot(stats_no_d['epoch'], stats_no_d['train_loss'], label=\"Train_loss\", linewidth=3)\n",
    "ax[1].plot(stats_no_d['epoch'], stats_no_d['val_loss'], label=\"Val Loss\", c='red', linewidth=3)\n",
    "ax[1].legend(loc='best')\n",
    "ax[1].set_xlabel(\"Epochs\")\n",
    "ax[1].set_ylabel(\"Accuracy\")\n",
    "    \n",
    "ax[2].set_title(\"Train-Eval Progress for model with Batch Normalization\")\n",
    "\n",
    "ax[2].plot(stats_batch['epoch'], stats_batch['train_loss'], label=\"Train_loss\", linewidth=3)\n",
    "ax[2].plot(stats_batch['epoch'], stats_batch['val_loss'], label=\"Val Loss\", c='red', linewidth=3)\n",
    "ax[2].legend(loc='best')\n",
    "ax[2].set_xlabel(\"Epochs\")\n",
    "ax[2].set_ylabel(\"Accuracy\")\n",
    "    \n",
    "ax[2].set_title(\"Train-Eval Progress for model without dropout\")\n",
    "\n",
    "plt.show()"
   ]
  },
  {
   "cell_type": "markdown",
   "id": "e614085c",
   "metadata": {},
   "source": [
    "### Accuracy for different models\n",
    "\n",
    "Now is the accuracy for different models. \n",
    "\n",
    "**I mean it makes sense that the model without dropout will have more acc for same number of spochs. But it should not be this less**"
   ]
  },
  {
   "cell_type": "code",
   "execution_count": 25,
   "id": "6032cf25",
   "metadata": {},
   "outputs": [
    {
     "data": {
      "image/png": "[encoded data removed]",
      "text/plain": [
       "<Figure size 1296x360 with 2 Axes>"
      ]
     },
     "metadata": {
      "needs_background": "light"
     },
     "output_type": "display_data"
    }
   ],
   "source": [
    "fig, ax = plt.subplots(1,2)\n",
    "fig.set_size_inches(18, 5)\n",
    "\n",
    "ax[0].plot(stats_d['epoch'], stats_d['valid_acc'], label=\"Accuracy with dropout\", linewidth=3)\n",
    "ax[0].plot(stats_no_d['epoch'], stats_no_d['valid_acc'], label=\"Accuracy without dropout\", linewidth=3)\n",
    "ax[0].plot(stats_batch['epoch'], stats_batch['valid_acc'], label=\"Accuracy without dropout\", linewidth=3)\n",
    "\n",
    "ax[0].legend(loc='best')\n",
    "ax[0].set_xlabel(\"Epochs\")\n",
    "ax[0].set_ylabel(\"Error\")\n",
    "    \n",
    "ax[0].set_title(\"Eval Accuracy during training\")\n",
    "\n",
    "plt.show()"
   ]
  },
  {
   "cell_type": "markdown",
   "id": "a16f8f52",
   "metadata": {},
   "source": [
    "### Visualizing the kernels\n",
    "\n",
    "Here we are visualizing the kernels"
   ]
  },
  {
   "cell_type": "code",
   "execution_count": null,
   "id": "0b131b6e",
   "metadata": {},
   "outputs": [],
   "source": [
    "# keys = list(best_no_dropout.state_dict().keys())\n",
    "# def vis_kernel(kernels):\n",
    "#     n,c,w,h = kernels.shape\n",
    "#     fig, ax = plt.subplots(1,6)\n",
    "    \n",
    "#     for idx, i in enumerate(kernels):\n",
    "        \n",
    "#         img = i.squeeze().permute(1,2,0).numpy()\n",
    "#         ax[idx].imshow(img)"
   ]
  },
  {
   "cell_type": "code",
   "execution_count": null,
   "id": "466a4eda",
   "metadata": {},
   "outputs": [],
   "source": [
    "# vis_kernel(best_no_dropout.state_dict()[keys[0]])"
   ]
  },
  {
   "cell_type": "code",
   "execution_count": null,
   "id": "639d7f3b",
   "metadata": {},
   "outputs": [],
   "source": [
    "#Function for plottinng kernels and activation maps\n",
    "def plot(tensor, plot_kernels, n_cols=10):\n",
    "    n_kernels = tensor.shape[0]\n",
    "    n_rows = 1+ n_kernels // n_cols\n",
    "    fig = plt.figure(figsize=(n_cols,n_rows))\n",
    "    for i in range(n_kernels):\n",
    "        ax1 = fig.add_subplot(n_rows,n_cols,i+1)\n",
    "        if plot_kernels==True:\n",
    "            ax1.imshow(tensor[i][0,:,:].cpu(),cmap='gray')\n",
    "        else:\n",
    "            ax1.imshow(tensor[i],cmap='gray')\n",
    "        ax1.axis('off')\n",
    "        ax1.set_xticklabels([])\n",
    "        ax1.set_yticklabels([])\n",
    "        \n",
    "    plt.subplots_adjust(wspace=0.3, hspace=0.3)\n",
    "    plt.show()"
   ]
  },
  {
   "cell_type": "code",
   "execution_count": null,
   "id": "07bb6a02",
   "metadata": {},
   "outputs": [],
   "source": [
    "print(\"Kernel Visualization\")\n",
    "filters = best_no_dropout.modules()\n",
    "model_layers = [i for i in best_no_dropout.children()]\n",
    "first_layer = model_layers[0]\n",
    "second_layer = model_layers[2]\n",
    "\n",
    "first_kernels = first_layer.weight.data.clone()\n",
    "print(first_kernels.shape)\n",
    "plot(first_kernels,True)\n",
    "\n",
    "\n",
    "second_kernels = second_layer.weight.data.clone()\n",
    "print(second_kernels.shape)\n",
    "plot(second_kernels,True)"
   ]
  },
  {
   "cell_type": "markdown",
   "id": "979c564c",
   "metadata": {},
   "source": [
    "This shows the kernel visualization. Our kernels are of sizes 5 x 5, hence we can see a grid of the same size. The dark boxes indicate that the weights are of lower magnitude and the light ones indicate the weights are of greater magnitude. As the patches go from dark to light, the weight values keep increasing.\n",
    "\n"
   ]
  },
  {
   "cell_type": "markdown",
   "id": "7b7d9007",
   "metadata": {},
   "source": [
    "## Visualization of Activations "
   ]
  },
  {
   "cell_type": "code",
   "execution_count": null,
   "id": "348b5886",
   "metadata": {},
   "outputs": [],
   "source": [
    "print(\"Activation Visualization\")   \n",
    "img, label = test_dataset[21]\n",
    "img_input = img.unsqueeze(0)\n",
    "\n",
    "result1 = best_no_dropout.conv1(img_input)\n",
    "result1 = result1.squeeze()\n",
    "\n",
    "print('Convolutional Output Layer - 1')\n",
    "plot(result1.data.numpy(),False)\n",
    "      \n",
    "result1 = best_no_dropout.maxpool(result1)\n",
    "print(\"After first convolution and maxpool layer\",result1.shape)           \n",
    "\n",
    "\n",
    "result1 = (result1.view(-1, 6*14*14))\n",
    "resized_img = result1[0].view(1, 6, 14, 14)\n",
    "\n",
    "result2 = best_no_dropout.conv2(resized_img)\n",
    "result2 = result2.squeeze()\n",
    "      \n",
    "print('Convolutional Output Layer - 2')\n",
    "plot(result2.data.cpu().numpy(),False)\n",
    "result2 = best_no_dropout.maxpool(result2)\n",
    "print(\"After second convolution and maxpool layer\",result2.shape)   "
   ]
  },
  {
   "cell_type": "markdown",
   "id": "57d30041",
   "metadata": {},
   "source": [
    "These are our activation maps after the first and second convolution layers. After the first convolution layer, the activation maps highlight the image involved by either darkening/lightning the image. It is difficult to understand what the second layer is trying to achieve."
   ]
  },
  {
   "cell_type": "code",
   "execution_count": null,
   "id": "7eddf61c",
   "metadata": {},
   "outputs": [],
   "source": []
  }
 ],
 "metadata": {
  "kernelspec": {
   "display_name": "Python 3",
   "language": "python",
   "name": "python3"
  },
  "language_info": {
   "codemirror_mode": {
    "name": "ipython",
    "version": 3
   },
   "file_extension": ".py",
   "mimetype": "text/x-python",
   "name": "python",
   "nbconvert_exporter": "python",
   "pygments_lexer": "ipython3",
   "version": "3.8.12"
  }
 },
 "nbformat": 4,
 "nbformat_minor": 5
}

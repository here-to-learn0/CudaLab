{
 "cells": [
  {
   "cell_type": "code",
   "execution_count": 1,
   "id": "47de1775",
   "metadata": {},
   "outputs": [],
   "source": [
    "import torch\n",
    "from torchvision import datasets, transforms\n",
    "from torch.utils.data import DataLoader\n",
    "import torch.nn as nn\n",
    "import torch.nn.functional as F\n",
    "import torch.optim as optim\n",
    "from torchsummary import summary\n",
    "import os\n",
    "\n",
    "from PIL import Image\n",
    "import numpy as np\n",
    "import matplotlib.pyplot as plt\n",
    "from tqdm import tqdm\n",
    "\n",
    "import optuna\n",
    "from optuna.trial import TrialState"
   ]
  },
  {
   "cell_type": "code",
   "execution_count": 2,
   "id": "ffb1ff9d",
   "metadata": {},
   "outputs": [],
   "source": [
    "device = torch.device(\"cuda\" if torch.cuda.is_available() else \"cpu\")\n",
    "Epochs = 20\n",
    "classes = 10"
   ]
  },
  {
   "cell_type": "code",
   "execution_count": 3,
   "id": "b299564a",
   "metadata": {},
   "outputs": [],
   "source": [
    "## get model from asignment 2 and check for acc and other metrices\n"
   ]
  },
  {
   "cell_type": "code",
   "execution_count": 4,
   "id": "9b8eb7e7",
   "metadata": {},
   "outputs": [
    {
     "name": "stdout",
     "output_type": "stream",
     "text": [
      "Files already downloaded and verified\n",
      "Files already downloaded and verified\n"
     ]
    }
   ],
   "source": [
    "t = transforms.Compose([transforms.ToTensor(),\n",
    "                        transforms.Normalize((0.485, 0.456, 0.406), (0.229, 0.224, 0.225)),\n",
    "                       ])\n",
    "target_t = lambda label: F.one_hot(torch.tensor(label), num_classes=10)\n",
    "\n",
    "train_dataset = datasets.CIFAR10(root=\"./data\", train=True, transform = t, target_transform=target_t, download=True)\n",
    "\n",
    "test_dataset = datasets.CIFAR10(root=\"./data\", train=False, transform = t, target_transform=target_t, download=True)\n"
   ]
  },
  {
   "cell_type": "code",
   "execution_count": 5,
   "id": "b7b13013",
   "metadata": {},
   "outputs": [],
   "source": [
    "train_loader = DataLoader(train_dataset, batch_size=512, shuffle=True)\n",
    "test_loader = DataLoader(test_dataset, batch_size=512, shuffle=False)"
   ]
  },
  {
   "cell_type": "code",
   "execution_count": 6,
   "id": "b8d6f852",
   "metadata": {},
   "outputs": [],
   "source": [
    "label_names = [\"airplane\",\n",
    "\"automobile\",\n",
    "\"bird\",\n",
    "\"cat\",\n",
    "\"deer\",\n",
    "\"dog\",\n",
    "\"frog\", \n",
    "\"horse\",\n",
    "\"ship\",\n",
    "\"truck\"]"
   ]
  },
  {
   "cell_type": "code",
   "execution_count": 7,
   "id": "0f0405f7",
   "metadata": {},
   "outputs": [
    {
     "name": "stderr",
     "output_type": "stream",
     "text": [
      "Clipping input data to the valid range for imshow with RGB data ([0..1] for floats or [0..255] for integers).\n"
     ]
    },
    {
     "name": "stdout",
     "output_type": "stream",
     "text": [
      "ship\n"
     ]
    },
    {
     "data": {
      "image/png": "[encoded data removed]",
      "text/plain": [
       "<Figure size 1080x360 with 2 Axes>"
      ]
     },
     "metadata": {
      "needs_background": "light"
     },
     "output_type": "display_data"
    }
   ],
   "source": [
    "img = next(iter(test_loader))[0][1].permute(1,2,0)\n",
    "label = next(iter(test_loader))[1][1]\n",
    "def visual(img):\n",
    "    img = img / 2 + 0.5\n",
    "    fig, ax = plt.subplots()\n",
    "    fig.set_size_inches(15,5)\n",
    "\n",
    "    img = img.numpy()\n",
    "    im = ax.imshow(img, cmap=plt.cm.gray)\n",
    "    fig.colorbar(im)\n",
    "    ax.set_title(\"Image\")\n",
    "\n",
    "visual(img)\n",
    "print(label_names[torch.argmax(label)])\n"
   ]
  },
  {
   "cell_type": "code",
   "execution_count": 8,
   "id": "bea3ec3a",
   "metadata": {},
   "outputs": [],
   "source": [
    "class Network(nn.Module):\n",
    "    \"\"\"\n",
    "    This is the CNN architecture to evaluate CIFAR-10 dataset\n",
    "    \"\"\"\n",
    "    def __init__(self, dropout: bool, name: str):\n",
    "        super().__init__()\n",
    "        \n",
    "#         Input: (3, 32, 32)\n",
    "        self.name = name\n",
    "        self.conv1 = nn.Conv2d(in_channels=3, out_channels=6, kernel_size=5, stride=1, padding=0)\n",
    "        self.maxpool = nn.MaxPool2d(kernel_size=2, stride=2)\n",
    "\n",
    "#         After Conv1 and maxpool: (6, 14, 14) \n",
    "        self.conv2 = nn.Conv2d(in_channels=6, out_channels=16, kernel_size=5, stride=1, padding=0)\n",
    "\n",
    "#         After Conv2 and maxpool: (16, 5, 5)\n",
    "        self.fc1 = nn.Linear(in_features=16*5*5, out_features=120)\n",
    "        self.fc2 = nn.Linear(in_features=120, out_features=84)\n",
    "        self.fc3 = nn.Linear(in_features=84, out_features=10)\n",
    "        self.dropout = dropout\n",
    "        if self.dropout:\n",
    "            self.in_dropout = nn.Dropout2d(p=0.2)\n",
    "            self.cnn_dropout = nn.Dropout(p=0.5)\n",
    "            self.lin_dropout = nn.Dropout(p=0.5)\n",
    "        \n",
    "        \n",
    "    def forward(self, x):\n",
    "        if self.dropout:\n",
    "            x = self.in_dropout(x)\n",
    "            x = self.maxpool(F.relu(self.cnn_dropout(self.conv1(x))))\n",
    "            x = self.maxpool(F.relu(self.cnn_dropout(self.conv2(x))))\n",
    "            x = torch.flatten(x, start_dim=1)\n",
    "            x = F.relu(self.lin_dropout(self.fc1(x)))\n",
    "            x = F.relu(self.lin_dropout(self.fc2(x)))\n",
    "            x = self.fc3(x)\n",
    "        else:\n",
    "            x = self.maxpool(F.relu(self.conv1(x)))\n",
    "            x = self.maxpool(F.relu(self.conv2(x)))\n",
    "            x = torch.flatten(x, start_dim=1)\n",
    "            x = F.relu(self.fc1(x))\n",
    "            x = F.relu(self.fc2(x))\n",
    "            x = self.fc3(x)\n",
    "        return x\n",
    "    "
   ]
  },
  {
   "cell_type": "code",
   "execution_count": 9,
   "id": "306c5cb5",
   "metadata": {},
   "outputs": [],
   "source": [
    "model_with_dropout = Network(dropout=True, name=\"with_dropout\")\n",
    "model_without_dropout = Network(dropout=False, name=\"without_dropout\")\n",
    "# summary(model_without_dropout, (3,32,32)) \n",
    "#thowing error check"
   ]
  },
  {
   "cell_type": "code",
   "execution_count": 11,
   "id": "874aa6a8",
   "metadata": {},
   "outputs": [],
   "source": [
    "#training \n",
    "LR = 3e-4\n",
    "# EVAL_FREQ = 1\n",
    "# SAVE_FREQ = 10\n",
    "\n",
    "# init_epoch = 0"
   ]
  },
  {
   "cell_type": "code",
   "execution_count": 12,
   "id": "2199b436",
   "metadata": {},
   "outputs": [],
   "source": [
    "criterion = nn.CrossEntropyLoss().to(device)\n",
    "optimizer = torch.optim.Adam(params=model_without_dropout.parameters(), lr=LR)"
   ]
  },
  {
   "cell_type": "code",
   "execution_count": 57,
   "id": "9b04d62c",
   "metadata": {},
   "outputs": [],
   "source": [
    "\n",
    "def training(model, EPOCHS=10):\n",
    "#     Training time per epoch calculate and display\n",
    "    model = model.to(device)\n",
    "    loss_list = []\n",
    "    stats = {\n",
    "        \"epoch\": [],\n",
    "        \"train_loss\": [],\n",
    "        \"valid_loss\": [],\n",
    "        \"accuracy\": []\n",
    "    }\n",
    "    \n",
    "    for epoch in range(EPOCHS):\n",
    "        epoch_loss = []\n",
    "        running_loss = 0.0\n",
    "        pbar = tqdm(enumerate(train_loader), total=len(train_loader))\n",
    "\n",
    "        for idx, (data, target) in pbar:\n",
    "            data, target = data.to(device), target.type(torch.FloatTensor).to(device)\n",
    "            optimizer.zero_grad()\n",
    "            \n",
    "            outputs = model(data)\n",
    "            loss = criterion(outputs, target)\n",
    "            loss.backward()\n",
    "            optimizer.step()\n",
    "            \n",
    "            running_loss =+ loss.item()\n",
    "            epoch_loss.append(loss.item())\n",
    "            \n",
    "            \n",
    "            if idx % 5 == 0:\n",
    "                pbar.set_description(f\"Epoch {epoch+1}, Itr {idx+1}, Loss {running_loss:.5f}\")\n",
    "\n",
    "        acc, v_loss = testing(model)        \n",
    "        \n",
    "        stats['epoch'].append(epoch)\n",
    "        stats['train_loss'].append(np.mean(epoch_loss))\n",
    "        stats['valid_loss'].append(v_loss)\n",
    "        stats['accuracy'].append(acc.item())\n",
    "        \n",
    "        \n",
    "        loss_list.append(np.mean(epoch_loss))\n",
    "        \n",
    "        if (epoch+1) % 1 == 0 or (epoch+1) == EPOCHS:\n",
    "            saving_model(model, optimizer, epoch, stats)\n",
    "        \n",
    "    return loss_list\n",
    "\n",
    "\n",
    "\n",
    "def testing(model):\n",
    "    model = model.to(device)\n",
    "    model.eval()\n",
    "    total_corr = 0\n",
    "    loss = []\n",
    "    with torch.no_grad():\n",
    "        total_corr = 0\n",
    "        for batch_idx, (data, target) in enumerate(test_loader):\n",
    "            data, target = data.to(device), target.type(torch.float32).to(device)\n",
    "            output = model(data)\n",
    "            \n",
    "            batch_loss = criterion(output, target)\n",
    "            \n",
    "            pred = torch.argmax(output, dim=1)\n",
    "            gt = torch.argmax(target, dim=1)\n",
    "            \n",
    "            correct = torch.count_nonzero(pred == gt)\n",
    "            total_corr += correct\n",
    "            loss.append(batch_loss.item())\n",
    "            \n",
    "    accuracy = (total_corr/len(test_dataset))\n",
    "    \n",
    "    return accuracy, np.mean(loss)\n",
    "\n",
    "def num_params(model):\n",
    "    return sum(p.numel() for p in model.parameters() if p.requires_grad)\n",
    "\n",
    "\n",
    "\n",
    "def saving_model(model, optimizer, epoch, stats):\n",
    "    if not os.path.exists(\"models\"):\n",
    "        os.makedirs(\"models\")\n",
    "    save_path = f\"models/{model.name}_{epoch}.pth\"\n",
    "    torch.save({\n",
    "        'epoch' : epoch,\n",
    "        'model_state_dict' : model.state_dict(),\n",
    "        'optimizer_state_dict': optimizer.state_dict(),\n",
    "        'stats': stats\n",
    "    }, save_path)\n",
    "    \n",
    "\n",
    "\n",
    "def loading_model(model, optimizer, path):\n",
    "    checkpoint =  torch.load(path)\n",
    "    model.load_state_dict(checkpoint['model_state_dict'])\n",
    "    optimizer.load_state_dict(checkpoint['optimizer_state_dict'])\n",
    "    epoch = checkpoint['epoch']\n",
    "    stats = checkpoint['stats']\n",
    "    return model, optimizer, epoch, stats"
   ]
  },
  {
   "cell_type": "code",
   "execution_count": 58,
   "id": "e5534835",
   "metadata": {},
   "outputs": [
    {
     "name": "stderr",
     "output_type": "stream",
     "text": [
      "Epoch 1, Itr 96, Loss 0.78769: 100%|████████████| 98/98 [00:07<00:00, 12.76it/s]\n",
      "Epoch 2, Itr 96, Loss 0.69838: 100%|████████████| 98/98 [00:07<00:00, 12.52it/s]\n",
      "Epoch 3, Itr 96, Loss 0.65255: 100%|████████████| 98/98 [00:07<00:00, 12.79it/s]\n",
      "Epoch 4, Itr 96, Loss 0.74176: 100%|████████████| 98/98 [00:07<00:00, 12.30it/s]\n",
      "Epoch 5, Itr 96, Loss 0.64135: 100%|████████████| 98/98 [00:07<00:00, 12.84it/s]\n",
      "Epoch 6, Itr 96, Loss 0.68387: 100%|████████████| 98/98 [00:08<00:00, 12.12it/s]\n",
      "Epoch 7, Itr 96, Loss 0.72074: 100%|████████████| 98/98 [00:08<00:00, 12.14it/s]\n",
      "Epoch 8, Itr 96, Loss 0.73987: 100%|████████████| 98/98 [00:07<00:00, 12.73it/s]\n",
      "Epoch 9, Itr 96, Loss 0.64550: 100%|████████████| 98/98 [00:07<00:00, 12.70it/s]\n",
      "Epoch 10, Itr 96, Loss 0.61473: 100%|███████████| 98/98 [00:07<00:00, 12.40it/s]\n",
      "Epoch 1, Itr 96, Loss 2.30517: 100%|████████████| 98/98 [00:07<00:00, 12.90it/s]\n",
      "Epoch 2, Itr 96, Loss 2.30797: 100%|████████████| 98/98 [00:07<00:00, 12.48it/s]\n",
      "Epoch 3, Itr 96, Loss 2.30226: 100%|████████████| 98/98 [00:07<00:00, 12.66it/s]\n",
      "Epoch 4, Itr 96, Loss 2.30590: 100%|████████████| 98/98 [00:07<00:00, 12.45it/s]\n",
      "Epoch 5, Itr 96, Loss 2.30608: 100%|████████████| 98/98 [00:07<00:00, 12.54it/s]\n",
      "Epoch 6, Itr 96, Loss 2.30375: 100%|████████████| 98/98 [00:07<00:00, 12.34it/s]\n",
      "Epoch 7, Itr 96, Loss 2.30358: 100%|████████████| 98/98 [00:07<00:00, 12.58it/s]\n",
      "Epoch 8, Itr 96, Loss 2.30303: 100%|████████████| 98/98 [00:07<00:00, 12.85it/s]\n",
      "Epoch 9, Itr 96, Loss 2.30676: 100%|████████████| 98/98 [00:07<00:00, 12.59it/s]\n",
      "Epoch 10, Itr 96, Loss 2.30254: 100%|███████████| 98/98 [00:07<00:00, 12.78it/s]\n"
     ]
    }
   ],
   "source": [
    "loss_without_dropout = training(model=model_without_dropout)\n",
    "loss_with_dropout = training(model=model_with_dropout)"
   ]
  },
  {
   "cell_type": "code",
   "execution_count": 60,
   "id": "8a3b429e",
   "metadata": {},
   "outputs": [],
   "source": [
    "cnn = Network(dropout=False, name=\"model\")\n",
    "# optimizer =\n",
    "cnn, optimizer, epoch, stats = loading_model(cnn, optimizer, \"models/without_dropout_9.pth\")"
   ]
  },
  {
   "cell_type": "code",
   "execution_count": 61,
   "id": "3186c32c",
   "metadata": {},
   "outputs": [
    {
     "name": "stdout",
     "output_type": "stream",
     "text": [
      "The Acc of the model with dropout is: 9.299999237060547\n",
      "The Acc of the model without dropout is: 54.71999740600586\n"
     ]
    }
   ],
   "source": [
    "acc_1, _ = testing(model_with_dropout)\n",
    "acc_2, _ = testing(model_without_dropout)\n",
    "\n",
    "print(f\"The Acc of the model with dropout is: {acc_1 * 100}\")\n",
    "print(f\"The Acc of the model without dropout is: {acc_2 * 100}\")"
   ]
  },
  {
   "cell_type": "code",
   "execution_count": 62,
   "id": "976cfc4e",
   "metadata": {},
   "outputs": [
    {
     "name": "stdout",
     "output_type": "stream",
     "text": [
      "Number of params with dropout 62006\n",
      "Number of params without dropout 62006\n"
     ]
    }
   ],
   "source": [
    "print(f\"Number of params with dropout {num_params(model_with_dropout)}\")\n",
    "print(f\"Number of params without dropout {num_params(model_without_dropout)}\")"
   ]
  },
  {
   "cell_type": "markdown",
   "id": "8ad052b5",
   "metadata": {},
   "source": [
    "### Training loss plots \n",
    "\n",
    "In the figure below is the training loss of various models:\n",
    "*append more*"
   ]
  },
  {
   "cell_type": "code",
   "execution_count": 63,
   "id": "9eff6793",
   "metadata": {},
   "outputs": [
    {
     "data": {
      "image/png": "[encoded data removed]",
      "text/plain": [
       "<Figure size 1296x360 with 2 Axes>"
      ]
     },
     "metadata": {
      "needs_background": "light"
     },
     "output_type": "display_data"
    }
   ],
   "source": [
    "fig, ax = plt.subplots(1,2)\n",
    "fig.set_size_inches(18, 5)\n",
    "\n",
    "ax[0].plot(stats['epoch'], stats['train_loss'], label=\"Train_loss\", linewidth=3)\n",
    "ax[0].plot(stats['epoch'], stats['valid_loss'], label=\"Val Loss\", c='red', linewidth=3)\n",
    "ax[0].legend(loc='best')\n",
    "ax[0].set_xlabel(\"Epochs\")\n",
    "ax[0].set_ylabel(\"Error\")\n",
    "    \n",
    "ax[0].set_title(\"Train-Eval Progress\")\n",
    "\n",
    "\n",
    "ax[1].plot(stats['epoch'], stats['accuracy'], label=\"Accuracy\", linewidth=3)\n",
    "ax[1].legend(loc='best')\n",
    "ax[1].set_xlabel(\"Epochs\")\n",
    "ax[1].set_ylabel(\"Accuracy\")\n",
    "    \n",
    "ax[1].set_title(\"Eval Accuracy during training\")\n",
    "\n",
    "\n",
    "plt.show()"
   ]
  },
  {
   "cell_type": "markdown",
   "id": "a16f8f52",
   "metadata": {},
   "source": [
    "### Visualizing the kernels\n",
    "\n",
    "Here we are visualizing the kernels"
   ]
  },
  {
   "cell_type": "code",
   "execution_count": 124,
   "id": "0b131b6e",
   "metadata": {},
   "outputs": [],
   "source": [
    "keys = list(cnn.state_dict().keys())\n",
    "def vis_kernel(kernels):\n",
    "    n,c,w,h = kernels.shape\n",
    "    fig, ax = plt.subplots(1,6)\n",
    "    \n",
    "    for idx, i in enumerate(kernels):\n",
    "        \n",
    "        img = i.squeeze().permute(1,2,0).numpy()\n",
    "        ax[idx].imshow(img)"
   ]
  },
  {
   "cell_type": "code",
   "execution_count": 125,
   "id": "466a4eda",
   "metadata": {},
   "outputs": [
    {
     "name": "stderr",
     "output_type": "stream",
     "text": [
      "Clipping input data to the valid range for imshow with RGB data ([0..1] for floats or [0..255] for integers).\n",
      "Clipping input data to the valid range for imshow with RGB data ([0..1] for floats or [0..255] for integers).\n",
      "Clipping input data to the valid range for imshow with RGB data ([0..1] for floats or [0..255] for integers).\n",
      "Clipping input data to the valid range for imshow with RGB data ([0..1] for floats or [0..255] for integers).\n",
      "Clipping input data to the valid range for imshow with RGB data ([0..1] for floats or [0..255] for integers).\n",
      "Clipping input data to the valid range for imshow with RGB data ([0..1] for floats or [0..255] for integers).\n"
     ]
    },
    {
     "data": {
      "image/png": "[encoded data removed]",
      "text/plain": [
       "<Figure size 432x288 with 6 Axes>"
      ]
     },
     "metadata": {
      "needs_background": "light"
     },
     "output_type": "display_data"
    }
   ],
   "source": [
    "vis_kernel(cnn.state_dict()[keys[0]])"
   ]
  },
  {
   "cell_type": "code",
   "execution_count": null,
   "id": "07bb6a02",
   "metadata": {},
   "outputs": [],
   "source": []
  }
 ],
 "metadata": {
  "kernelspec": {
   "display_name": "Python 3",
   "language": "python",
   "name": "python3"
  },
  "language_info": {
   "codemirror_mode": {
    "name": "ipython",
    "version": 3
   },
   "file_extension": ".py",
   "mimetype": "text/x-python",
   "name": "python",
   "nbconvert_exporter": "python",
   "pygments_lexer": "ipython3",
   "version": "3.8.12"
  }
 },
 "nbformat": 4,
 "nbformat_minor": 5
}

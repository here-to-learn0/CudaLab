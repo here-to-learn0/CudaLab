{
 "cells": [
  {
   "cell_type": "code",
   "execution_count": 1,
   "id": "a6be641f",
   "metadata": {},
   "outputs": [],
   "source": [
    "import torch\n",
    "from torchvision import datasets, transforms\n",
    "from torch.utils.data import DataLoader\n",
    "import torch.nn as nn\n",
    "import torch.nn.functional as F\n",
    "import torch.optim as optim\n",
    "from torchsummary import summary\n",
    "\n",
    "from PIL import Image\n",
    "import numpy as np\n",
    "import matplotlib.pyplot as plt\n",
    "from tqdm import tqdm\n",
    "\n",
    "import optuna\n",
    "from optuna.trial import TrialState"
   ]
  },
  {
   "cell_type": "code",
   "execution_count": 2,
   "id": "6e79522e",
   "metadata": {},
   "outputs": [],
   "source": [
    "device = torch.device(\"cuda\" if torch.cuda.is_available() else \"cpu\")\n",
    "Epochs = 20\n",
    "classes = 10"
   ]
  },
  {
   "cell_type": "code",
   "execution_count": 3,
   "id": "b42b3569",
   "metadata": {},
   "outputs": [],
   "source": [
    "## get model from asignment 2 and check for acc and other metrices\n"
   ]
  },
  {
   "cell_type": "code",
   "execution_count": 4,
   "id": "8f181881",
   "metadata": {},
   "outputs": [
    {
     "name": "stdout",
     "output_type": "stream",
     "text": [
      "Files already downloaded and verified\n",
      "Files already downloaded and verified\n"
     ]
    }
   ],
   "source": [
    "t = transforms.Compose([transforms.ToTensor(),\n",
    "                        transforms.Normalize((0.485, 0.456, 0.406), (0.229, 0.224, 0.225)),\n",
    "                       ])\n",
    "target_t = lambda label: F.one_hot(torch.tensor(label), num_classes=10)\n",
    "\n",
    "train_dataset = datasets.CIFAR10(root=\"./data\", train=True, transform = t, target_transform=target_t, download=True)\n",
    "\n",
    "test_dataset = datasets.CIFAR10(root=\"./data\", train=False, transform = t, target_transform=target_t, download=True)\n"
   ]
  },
  {
   "cell_type": "code",
   "execution_count": 5,
   "id": "4a2e30db",
   "metadata": {},
   "outputs": [],
   "source": [
    "train_loader = DataLoader(train_dataset, batch_size=512, shuffle=True)\n",
    "test_loader = DataLoader(test_dataset, batch_size=512, shuffle=False)"
   ]
  },
  {
   "cell_type": "code",
   "execution_count": 6,
   "id": "8da34ce2",
   "metadata": {},
   "outputs": [],
   "source": [
    "label_names = [\"airplane\",\n",
    "\"automobile\",\n",
    "\"bird\",\n",
    "\"cat\",\n",
    "\"deer\",\n",
    "\"dog\",\n",
    "\"frog\", \n",
    "\"horse\",\n",
    "\"ship\",\n",
    "\"truck\"]"
   ]
  },
  {
   "cell_type": "code",
   "execution_count": 7,
   "id": "a137249e",
   "metadata": {},
   "outputs": [
    {
     "name": "stderr",
     "output_type": "stream",
     "text": [
      "Clipping input data to the valid range for imshow with RGB data ([0..1] for floats or [0..255] for integers).\n"
     ]
    },
    {
     "name": "stdout",
     "output_type": "stream",
     "text": [
      "ship\n"
     ]
    },
    {
     "data": {
      "image/png": "[encoded data removed]",
      "text/plain": [
       "<Figure size 1080x360 with 2 Axes>"
      ]
     },
     "metadata": {
      "needs_background": "light"
     },
     "output_type": "display_data"
    }
   ],
   "source": [
    "img = next(iter(test_loader))[0][1].permute(1,2,0)\n",
    "label = next(iter(test_loader))[1][1]\n",
    "def visual(img):\n",
    "    img = img / 2 + 0.5\n",
    "    fig, ax = plt.subplots()\n",
    "    fig.set_size_inches(15,5)\n",
    "\n",
    "    img = img.numpy()\n",
    "    im = ax.imshow(img, cmap=plt.cm.gray)\n",
    "    fig.colorbar(im)\n",
    "    ax.set_title(\"Image\")\n",
    "\n",
    "visual(img)\n",
    "print(label_names[torch.argmax(label)])\n"
   ]
  },
  {
   "cell_type": "code",
   "execution_count": 8,
   "id": "b58b88b2",
   "metadata": {},
   "outputs": [],
   "source": [
    "class Network(nn.Module):\n",
    "    \"\"\"\n",
    "    This is the CNN architecture to evaluate CIFAR-10 dataset\n",
    "    \"\"\"\n",
    "    def __init__(self):\n",
    "        super().__init__()\n",
    "        \n",
    "#         Input: (3, 32, 32)\n",
    "        \n",
    "        self.conv1 = nn.Conv2d(in_channels=3, out_channels=6, kernel_size=5, stride=1, padding=0)\n",
    "        self.maxpool = nn.MaxPool2d(kernel_size=2, stride=2)\n",
    "\n",
    "#         After Conv1 and maxpool: (6, 14, 14) \n",
    "        self.conv2 = nn.Conv2d(in_channels=6, out_channels=16, kernel_size=5, stride=1, padding=0)\n",
    "\n",
    "#         After Conv2 and maxpool: (16, 5, 5)\n",
    "        self.fc1 = nn.Linear(in_features=16*5*5, out_features=120)\n",
    "        self.fc2 = nn.Linear(in_features=120, out_features=84)\n",
    "        self.fc3 = nn.Linear(in_features=84, out_features=10)\n",
    "        \n",
    "    def forward(self, x):\n",
    "        x = self.maxpool(F.relu(self.conv1(x)))\n",
    "        x = self.maxpool(F.relu(self.conv2(x)))\n",
    "        x = torch.flatten(x, start_dim=1)\n",
    "        x = F.relu(self.fc1(x))\n",
    "        x = F.relu(self.fc2(x))\n",
    "        x = self.fc3(x)\n",
    "        return x\n",
    "    "
   ]
  },
  {
   "cell_type": "code",
   "execution_count": 9,
   "id": "d3b7750f",
   "metadata": {},
   "outputs": [
    {
     "name": "stdout",
     "output_type": "stream",
     "text": [
      "----------------------------------------------------------------\n",
      "        Layer (type)               Output Shape         Param #\n",
      "================================================================\n",
      "            Conv2d-1            [-1, 6, 28, 28]             456\n",
      "         MaxPool2d-2            [-1, 6, 14, 14]               0\n",
      "            Conv2d-3           [-1, 16, 10, 10]           2,416\n",
      "         MaxPool2d-4             [-1, 16, 5, 5]               0\n",
      "            Linear-5                  [-1, 120]          48,120\n",
      "            Linear-6                   [-1, 84]          10,164\n",
      "            Linear-7                   [-1, 10]             850\n",
      "================================================================\n",
      "Total params: 62,006\n",
      "Trainable params: 62,006\n",
      "Non-trainable params: 0\n",
      "----------------------------------------------------------------\n",
      "Input size (MB): 0.01\n",
      "Forward/backward pass size (MB): 0.06\n",
      "Params size (MB): 0.24\n",
      "Estimated Total Size (MB): 0.31\n",
      "----------------------------------------------------------------\n"
     ]
    }
   ],
   "source": [
    "model = Network()\n",
    "model.to(device)\n",
    "summary(model, (3,32,32)) \n",
    "#thowing error check"
   ]
  },
  {
   "cell_type": "code",
   "execution_count": 10,
   "id": "368ec7d9",
   "metadata": {},
   "outputs": [],
   "source": [
    "#training \n",
    "LR = 3e-4\n",
    "EVAL_FREQ = 1\n",
    "SAVE_FREQ = 10\n",
    "stats = {\n",
    "    \"epoch\": [],\n",
    "    \"train_loss\": [],\n",
    "    \"valid_loss\": [],\n",
    "    \"accuracy\": []\n",
    "}\n",
    "init_epoch = 0"
   ]
  },
  {
   "cell_type": "code",
   "execution_count": 11,
   "id": "32573096",
   "metadata": {},
   "outputs": [],
   "source": [
    "criterion = nn.CrossEntropyLoss().to(device)\n",
    "optimizer = torch.optim.Adam(params=model.parameters(), lr=LR)"
   ]
  },
  {
   "cell_type": "code",
   "execution_count": 27,
   "id": "50b8f67c",
   "metadata": {},
   "outputs": [],
   "source": [
    "def training(EPOCHS=10):\n",
    "    for epoch in range(EPOCHS):\n",
    "        running_loss = 0.0\n",
    "        pbar = tqdm(enumerate(train_loader), total=len(train_loader))\n",
    "\n",
    "        for idx, (data, target) in pbar:\n",
    "            data, target = data.to(device), target.type(torch.FloatTensor).to(device)\n",
    "            optimizer.zero_grad()\n",
    "            \n",
    "            outputs = model(data)\n",
    "            loss = criterion(outputs, target)\n",
    "            loss.backward()\n",
    "            optimizer.step()\n",
    "            running_loss =+ loss.item()\n",
    "            \n",
    "            if idx % 1 == 0:\n",
    "                pbar.set_description(f\"Epoch {epoch+1}, Itr {idx+1}, Loss {running_loss:.5f}\")\n",
    "            "
   ]
  },
  {
   "cell_type": "code",
   "execution_count": 28,
   "id": "e8c14257",
   "metadata": {},
   "outputs": [
    {
     "name": "stderr",
     "output_type": "stream",
     "text": [
      "Epoch 1, Itr 98, Loss 1.09500: 100%|████████████| 98/98 [00:07<00:00, 12.57it/s]\n",
      "Epoch 2, Itr 98, Loss 1.12818: 100%|████████████| 98/98 [00:07<00:00, 12.88it/s]\n",
      "Epoch 3, Itr 98, Loss 1.04600: 100%|████████████| 98/98 [00:07<00:00, 12.78it/s]\n",
      "Epoch 4, Itr 98, Loss 1.07153: 100%|████████████| 98/98 [00:07<00:00, 12.70it/s]\n",
      "Epoch 5, Itr 98, Loss 1.10107: 100%|████████████| 98/98 [00:07<00:00, 12.83it/s]\n",
      "Epoch 6, Itr 98, Loss 1.14343: 100%|████████████| 98/98 [00:07<00:00, 12.76it/s]\n",
      "Epoch 7, Itr 98, Loss 1.08063: 100%|████████████| 98/98 [00:07<00:00, 12.68it/s]\n",
      "Epoch 8, Itr 98, Loss 1.08694: 100%|████████████| 98/98 [00:07<00:00, 12.54it/s]\n",
      "Epoch 9, Itr 98, Loss 1.09975: 100%|████████████| 98/98 [00:08<00:00, 12.05it/s]\n",
      "Epoch 10, Itr 98, Loss 1.04510: 100%|███████████| 98/98 [00:07<00:00, 12.30it/s]\n"
     ]
    }
   ],
   "source": [
    "training()"
   ]
  },
  {
   "cell_type": "code",
   "execution_count": 29,
   "id": "cb334857",
   "metadata": {},
   "outputs": [
    {
     "name": "stdout",
     "output_type": "stream",
     "text": [
      "The Acc of the model is: 60.56999588012695\n"
     ]
    }
   ],
   "source": [
    "def testing():\n",
    "    model.eval()\n",
    "    total_corr = 0\n",
    "    preds = []\n",
    "    labels = []\n",
    "    with torch.no_grad():\n",
    "        total_corr = 0\n",
    "        for batch_idx, (data, target) in enumerate(test_loader):\n",
    "            data, target = data.to(device), target.type(torch.float32).to(device)\n",
    "            output = model(data)\n",
    "            \n",
    "            pred = torch.argmax(output, dim=1)\n",
    "            gt = torch.argmax(target, dim=1)\n",
    "            \n",
    "            preds.append(pred)\n",
    "            labels.append(gt)\n",
    "\n",
    "            correct = torch.count_nonzero(pred == gt)\n",
    "            total_corr += correct\n",
    "    accuracy = (total_corr/len(test_dataset))\n",
    "    return accuracy, torch.cat(preds), torch.cat(labels)\n",
    "\n",
    "acc_, preds, labels = testing()\n",
    "\n",
    "print(f\"The Acc of the model is: {acc_ * 100}\")"
   ]
  },
  {
   "cell_type": "code",
   "execution_count": null,
   "id": "065a25ea",
   "metadata": {},
   "outputs": [],
   "source": []
  }
 ],
 "metadata": {
  "kernelspec": {
   "display_name": "Python 3",
   "language": "python",
   "name": "python3"
  },
  "language_info": {
   "codemirror_mode": {
    "name": "ipython",
    "version": 3
   },
   "file_extension": ".py",
   "mimetype": "text/x-python",
   "name": "python",
   "nbconvert_exporter": "python",
   "pygments_lexer": "ipython3",
   "version": "3.8.12"
  }
 },
 "nbformat": 4,
 "nbformat_minor": 5
}

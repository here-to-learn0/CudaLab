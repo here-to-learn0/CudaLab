{
 "cells": [
  {
   "cell_type": "code",
   "execution_count": 4,
   "id": "edf571d3",
   "metadata": {},
   "outputs": [],
   "source": [
    "import torch\n",
    "from torchvision import datasets, transforms\n",
    "from torch.utils.data import DataLoader\n",
    "import torch.nn as nn\n",
    "import torch.nn.functional as F\n",
    "import torch.optim as optim\n",
    "\n",
    "import os\n",
    "\n",
    "from PIL import Image\n",
    "import numpy as np\n",
    "import matplotlib.pyplot as plt\n",
    "from tqdm import tqdm\n",
    "\n",
    "import optuna\n",
    "from optuna.trial import TrialState"
   ]
  },
  {
   "cell_type": "code",
   "execution_count": 5,
   "id": "f5d2a33b",
   "metadata": {},
   "outputs": [],
   "source": [
    "import ssl\n",
    "\n",
    "try:\n",
    "    _create_unverified_https_context = ssl._create_unverified_context\n",
    "except AttributeError:\n",
    "    # Legacy Python that doesn't verify HTTPS certificates by default\n",
    "    pass\n",
    "else:\n",
    "    # Handle target environment that doesn't support HTTPS verification\n",
    "    ssl._create_default_https_context = _create_unverified_https_context"
   ]
  },
  {
   "cell_type": "code",
   "execution_count": 6,
   "id": "69274665",
   "metadata": {},
   "outputs": [
    {
     "name": "stdout",
     "output_type": "stream",
     "text": [
      "cuda\n"
     ]
    }
   ],
   "source": [
    "device = torch.device(\"cuda\" if torch.cuda.is_available() else \"cpu\")\n",
    "print(device)\n",
    "Epochs = 20\n",
    "classes = 10"
   ]
  },
  {
   "cell_type": "code",
   "execution_count": 7,
   "id": "4defc0b7",
   "metadata": {},
   "outputs": [],
   "source": [
    "## get model from asignment 2 and check for acc and other metrices\n",
    "t = transforms.Compose([transforms.ToTensor(),\n",
    "                        transforms.Normalize((0.485, 0.456, 0.406), (0.229, 0.224, 0.225)),\n",
    "                       ])\n",
    "target_t = lambda label: F.one_hot(torch.tensor(label), num_classes=10)"
   ]
  },
  {
   "cell_type": "code",
   "execution_count": 8,
   "id": "b640a8e9",
   "metadata": {},
   "outputs": [
    {
     "name": "stdout",
     "output_type": "stream",
     "text": [
      "Files already downloaded and verified\n",
      "Files already downloaded and verified\n"
     ]
    }
   ],
   "source": [
    "train_dataset = datasets.CIFAR10(root=\"./data\", train=True, transform = t, target_transform=target_t, download=True)\n",
    "\n",
    "test_dataset = datasets.CIFAR10(root=\"./data\", train=False, transform = t, target_transform=target_t, download=True)"
   ]
  },
  {
   "cell_type": "code",
   "execution_count": 9,
   "id": "8d252d8f",
   "metadata": {},
   "outputs": [],
   "source": [
    "train_loader = DataLoader(train_dataset, batch_size=512, shuffle=True)\n",
    "test_loader = DataLoader(test_dataset, batch_size=512, shuffle=False)"
   ]
  },
  {
   "cell_type": "code",
   "execution_count": 10,
   "id": "01347291",
   "metadata": {},
   "outputs": [],
   "source": [
    "label_names = [\"airplane\",\n",
    "\"automobile\",\n",
    "\"bird\",\n",
    "\"cat\",\n",
    "\"deer\",\n",
    "\"dog\",\n",
    "\"frog\", \n",
    "\"horse\",\n",
    "\"ship\",\n",
    "\"truck\"]"
   ]
  },
  {
   "cell_type": "code",
   "execution_count": 11,
   "id": "c4aeef3f",
   "metadata": {},
   "outputs": [
    {
     "name": "stdout",
     "output_type": "stream",
     "text": [
      "frog\n"
     ]
    },
    {
     "data": {
      "image/png": "[encoded data removed]",
      "text/plain": [
       "<Figure size 1080x360 with 2 Axes>"
      ]
     },
     "metadata": {
      "needs_background": "light"
     },
     "output_type": "display_data"
    }
   ],
   "source": [
    "img = next(iter(test_loader))[0][4].permute(1,2,0)\n",
    "label = next(iter(test_loader))[1][4]\n",
    "def visual(img):\n",
    "    img = img.numpy()\n",
    "    mean=np.array([0.485, 0.456, 0.406])\n",
    "    std=np.array([0.229, 0.224, 0.225])\n",
    "    img = std * img + mean\n",
    "    #img = img / 2 + 0.5\n",
    "    fig, ax = plt.subplots()\n",
    "    fig.set_size_inches(15,5)\n",
    "\n",
    "    #img = img.numpy()\n",
    "    im = ax.imshow(img, cmap=plt.cm.gray)\n",
    "    fig.colorbar(im)\n",
    "    ax.set_title(\"Image\")\n",
    "\n",
    "visual(img)\n",
    "print(label_names[torch.argmax(label)])"
   ]
  },
  {
   "cell_type": "code",
   "execution_count": 12,
   "id": "4ca5fc0f",
   "metadata": {},
   "outputs": [],
   "source": [
    "class Network(nn.Module):\n",
    "    \"\"\"\n",
    "    This is the CNN architecture to evaluate CIFAR-10 dataset\n",
    "    \"\"\"\n",
    "    def __init__(self, dropout: bool, name: str):\n",
    "        super().__init__()\n",
    "        \n",
    "#         Input: (3, 32, 32)\n",
    "        self.name = name\n",
    "        self.conv1 = nn.Conv2d(in_channels=3, out_channels=6, kernel_size=5, stride=1, padding=0)\n",
    "        self.maxpool = nn.MaxPool2d(kernel_size=2, stride=2)\n",
    "\n",
    "#         After Conv1 and maxpool: (6, 14, 14) \n",
    "        self.conv2 = nn.Conv2d(in_channels=6, out_channels=16, kernel_size=5, stride=1, padding=0)\n",
    "\n",
    "#         After Conv2 and maxpool: (16, 5, 5)\n",
    "        self.fc1 = nn.Linear(in_features=16*5*5, out_features=120)\n",
    "        self.fc2 = nn.Linear(in_features=120, out_features=84)\n",
    "        self.fc3 = nn.Linear(in_features=84, out_features=10)\n",
    "        self.dropout = dropout\n",
    "        if self.dropout:\n",
    "            self.in_dropout = nn.Dropout2d(p=0.2)\n",
    "            self.cnn_dropout = nn.Dropout(p=0.5)\n",
    "            self.lin_dropout = nn.Dropout(p=0.5)\n",
    "        \n",
    "        \n",
    "    def forward(self, x):\n",
    "        if self.dropout:\n",
    "            x = self.in_dropout(x)\n",
    "            x = self.maxpool(F.relu(self.cnn_dropout(self.conv1(x))))\n",
    "            x = self.maxpool(F.relu(self.cnn_dropout(self.conv2(x))))\n",
    "            x = torch.flatten(x, start_dim=1)\n",
    "            x = F.relu(self.lin_dropout(self.fc1(x)))\n",
    "            x = F.relu(self.lin_dropout(self.fc2(x)))\n",
    "            x = self.fc3(x)\n",
    "        else:\n",
    "            x = self.maxpool(F.relu(self.conv1(x)))\n",
    "            x = self.maxpool(F.relu(self.conv2(x)))\n",
    "            x = torch.flatten(x, start_dim=1)\n",
    "            x = F.relu(self.fc1(x))\n",
    "            x = F.relu(self.fc2(x))\n",
    "            x = self.fc3(x)\n",
    "        return x\n",
    "    "
   ]
  },
  {
   "cell_type": "code",
   "execution_count": 13,
   "id": "0e9ddf27",
   "metadata": {},
   "outputs": [],
   "source": [
    "model_with_dropout = Network(dropout=True, name=\"with_dropout\")\n",
    "model_without_dropout = Network(dropout=False, name=\"without_dropout\")\n",
    "# summary(model_without_dropout, (3,32,32)) \n",
    "#thowing error check"
   ]
  },
  {
   "cell_type": "code",
   "execution_count": 14,
   "id": "baa9b5ee",
   "metadata": {},
   "outputs": [],
   "source": [
    "#training \n",
    "LR = 3e-4\n",
    "# EVAL_FREQ = 1\n",
    "# SAVE_FREQ = 10\n",
    "\n",
    "# init_epoch = 0"
   ]
  },
  {
   "cell_type": "code",
   "execution_count": 15,
   "id": "fe1acfaf",
   "metadata": {},
   "outputs": [],
   "source": [
    "criterion = nn.CrossEntropyLoss().to(device)\n",
    "optimizer = torch.optim.Adam(params=model_without_dropout.parameters(), lr=LR)"
   ]
  },
  {
   "cell_type": "code",
   "execution_count": 16,
   "id": "85484678",
   "metadata": {},
   "outputs": [],
   "source": [
    "def training(model, EPOCHS=10):\n",
    "#     Training time per epoch calculate and display\n",
    "    model = model.to(device)\n",
    "    loss_list = []\n",
    "    stats = {\n",
    "        \"epoch\": [],\n",
    "        \"train_loss\": [],\n",
    "        \"valid_loss\": [],\n",
    "        \"accuracy\": []\n",
    "    }\n",
    "    \n",
    "    for epoch in range(EPOCHS):\n",
    "        epoch_loss = []\n",
    "        running_loss = 0.0\n",
    "        pbar = tqdm(enumerate(train_loader), total=len(train_loader))\n",
    "\n",
    "        for idx, (data, target) in pbar:\n",
    "            data, target = data.to(device), target.type(torch.FloatTensor).to(device)\n",
    "            optimizer.zero_grad()\n",
    "            \n",
    "            outputs = model(data)\n",
    "            loss = criterion(outputs, target)\n",
    "            loss.backward()\n",
    "            optimizer.step()\n",
    "            \n",
    "            running_loss =+ loss.item()\n",
    "            epoch_loss.append(loss.item())\n",
    "            \n",
    "            \n",
    "            if idx % 5 == 0:\n",
    "                pbar.set_description(f\"Epoch {epoch+1}, Itr {idx+1}, Loss {running_loss:.5f}\")\n",
    "\n",
    "        acc, v_loss = testing(model)        \n",
    "        \n",
    "        stats['epoch'].append(epoch)\n",
    "        stats['train_loss'].append(np.mean(epoch_loss))\n",
    "        stats['valid_loss'].append(v_loss)\n",
    "        stats['accuracy'].append(acc.item())\n",
    "        \n",
    "        \n",
    "        loss_list.append(np.mean(epoch_loss))\n",
    "        \n",
    "        if (epoch+1) % 1 == 0 or (epoch+1) == EPOCHS:\n",
    "            saving_model(model, optimizer, epoch, stats)\n",
    "        \n",
    "    return loss_list\n",
    "\n",
    "\n",
    "\n",
    "def testing(model):\n",
    "    model = model.to(device)\n",
    "    model.eval()\n",
    "    total_corr = 0\n",
    "    loss = []\n",
    "    with torch.no_grad():\n",
    "        total_corr = 0\n",
    "        for batch_idx, (data, target) in enumerate(test_loader):\n",
    "            data, target = data.to(device), target.type(torch.float32).to(device)\n",
    "            output = model(data)\n",
    "            \n",
    "            batch_loss = criterion(output, target)\n",
    "            \n",
    "            pred = torch.argmax(output, dim=1)\n",
    "            gt = torch.argmax(target, dim=1)\n",
    "            \n",
    "            correct = torch.count_nonzero(pred == gt)\n",
    "            total_corr += correct\n",
    "            loss.append(batch_loss.item())\n",
    "            \n",
    "    accuracy = (total_corr/len(test_dataset))\n",
    "    \n",
    "    return accuracy, np.mean(loss)\n",
    "\n",
    "def num_params(model):\n",
    "    return sum(p.numel() for p in model.parameters() if p.requires_grad)\n",
    "\n",
    "\n",
    "\n",
    "def saving_model(model, optimizer, epoch, stats):\n",
    "    if not os.path.exists(\"models\"):\n",
    "        os.makedirs(\"models\")\n",
    "    save_path = f\"models/{model.name}_{epoch}.pth\"\n",
    "    torch.save({\n",
    "        'epoch' : epoch,\n",
    "        'model_state_dict' : model.state_dict(),\n",
    "        'optimizer_state_dict': optimizer.state_dict(),\n",
    "        'stats': stats\n",
    "    }, save_path)\n",
    "    \n",
    "\n",
    "\n",
    "def loading_model(model, optimizer, path):\n",
    "    checkpoint =  torch.load(path)\n",
    "    model.load_state_dict(checkpoint['model_state_dict'])\n",
    "    optimizer.load_state_dict(checkpoint['optimizer_state_dict'])\n",
    "    epoch = checkpoint['epoch']\n",
    "    stats = checkpoint['stats']\n",
    "    return model, optimizer, epoch, stats"
   ]
  },
  {
   "cell_type": "code",
   "execution_count": 17,
   "id": "a5cdc4a9",
   "metadata": {},
   "outputs": [
    {
     "name": "stdout",
     "output_type": "stream",
     "text": [
      "Without Dropout\n"
     ]
    },
    {
     "name": "stderr",
     "output_type": "stream",
     "text": [
      "Epoch 1, Itr 96, Loss 1.84144: 100%|██████████████████████████████████████████████████████████████| 98/98 [00:19<00:00,  5.01it/s]\n",
      "Epoch 2, Itr 96, Loss 1.58661: 100%|██████████████████████████████████████████████████████████████| 98/98 [00:13<00:00,  7.14it/s]\n",
      "Epoch 3, Itr 96, Loss 1.63613: 100%|██████████████████████████████████████████████████████████████| 98/98 [00:13<00:00,  7.16it/s]\n",
      "Epoch 4, Itr 96, Loss 1.44317: 100%|██████████████████████████████████████████████████████████████| 98/98 [00:13<00:00,  7.15it/s]\n",
      "Epoch 5, Itr 96, Loss 1.45686: 100%|██████████████████████████████████████████████████████████████| 98/98 [00:13<00:00,  7.30it/s]\n",
      "Epoch 6, Itr 96, Loss 1.38330: 100%|██████████████████████████████████████████████████████████████| 98/98 [00:13<00:00,  7.35it/s]\n",
      "Epoch 7, Itr 96, Loss 1.45856: 100%|██████████████████████████████████████████████████████████████| 98/98 [00:13<00:00,  7.29it/s]\n",
      "Epoch 8, Itr 96, Loss 1.40057: 100%|██████████████████████████████████████████████████████████████| 98/98 [00:13<00:00,  7.29it/s]\n",
      "Epoch 9, Itr 96, Loss 1.36724: 100%|██████████████████████████████████████████████████████████████| 98/98 [00:13<00:00,  7.35it/s]\n",
      "Epoch 10, Itr 96, Loss 1.32205: 100%|█████████████████████████████████████████████████████████████| 98/98 [00:13<00:00,  7.26it/s]\n"
     ]
    },
    {
     "name": "stdout",
     "output_type": "stream",
     "text": [
      "With Dropout\n"
     ]
    },
    {
     "name": "stderr",
     "output_type": "stream",
     "text": [
      "Epoch 1, Itr 96, Loss 2.31071: 100%|██████████████████████████████████████████████████████████████| 98/98 [00:13<00:00,  7.28it/s]\n",
      "Epoch 2, Itr 96, Loss 2.30379: 100%|██████████████████████████████████████████████████████████████| 98/98 [00:13<00:00,  7.06it/s]\n",
      "Epoch 3, Itr 96, Loss 2.30524: 100%|██████████████████████████████████████████████████████████████| 98/98 [00:13<00:00,  7.23it/s]\n",
      "Epoch 4, Itr 96, Loss 2.30287: 100%|██████████████████████████████████████████████████████████████| 98/98 [00:13<00:00,  7.21it/s]\n",
      "Epoch 5, Itr 96, Loss 2.30440: 100%|██████████████████████████████████████████████████████████████| 98/98 [00:13<00:00,  7.26it/s]\n",
      "Epoch 6, Itr 96, Loss 2.30312: 100%|██████████████████████████████████████████████████████████████| 98/98 [00:13<00:00,  7.38it/s]\n",
      "Epoch 7, Itr 96, Loss 2.30492: 100%|██████████████████████████████████████████████████████████████| 98/98 [00:12<00:00,  7.61it/s]\n",
      "Epoch 8, Itr 96, Loss 2.30364: 100%|██████████████████████████████████████████████████████████████| 98/98 [00:12<00:00,  7.63it/s]\n",
      "Epoch 9, Itr 96, Loss 2.30128: 100%|██████████████████████████████████████████████████████████████| 98/98 [00:12<00:00,  7.65it/s]\n",
      "Epoch 10, Itr 96, Loss 2.30707: 100%|█████████████████████████████████████████████████████████████| 98/98 [00:12<00:00,  7.64it/s]\n"
     ]
    }
   ],
   "source": [
    "print(\"Without Dropout\")\n",
    "loss_without_dropout = training(model=model_without_dropout)\n",
    "print(\"With Dropout\")\n",
    "loss_with_dropout = training(model=model_with_dropout)"
   ]
  },
  {
   "cell_type": "code",
   "execution_count": 18,
   "id": "c40021c9",
   "metadata": {},
   "outputs": [],
   "source": [
    "cnn = Network(dropout=False, name=\"model\")\n",
    "# optimizer =\n",
    "cnn, optimizer, epoch, stats = loading_model(cnn, optimizer, \"models/without_dropout_9.pth\")"
   ]
  },
  {
   "cell_type": "code",
   "execution_count": 19,
   "id": "a698f25d",
   "metadata": {},
   "outputs": [
    {
     "name": "stdout",
     "output_type": "stream",
     "text": [
      "The Acc of the model with dropout is: 10.15999984741211\n",
      "The Acc of the model without dropout is: 40.0099983215332\n"
     ]
    }
   ],
   "source": [
    "acc_1, _ = testing(model_with_dropout)\n",
    "acc_2, _ = testing(model_without_dropout)\n",
    "\n",
    "print(f\"The Acc of the model with dropout is: {acc_1 * 100}\")\n",
    "print(f\"The Acc of the model without dropout is: {acc_2 * 100}\")"
   ]
  },
  {
   "cell_type": "code",
   "execution_count": 20,
   "id": "012233db",
   "metadata": {},
   "outputs": [
    {
     "name": "stdout",
     "output_type": "stream",
     "text": [
      "Number of params with dropout 62006\n",
      "Number of params without dropout 62006\n"
     ]
    }
   ],
   "source": [
    "print(f\"Number of params with dropout {num_params(model_with_dropout)}\")\n",
    "print(f\"Number of params without dropout {num_params(model_without_dropout)}\")"
   ]
  },
  {
   "cell_type": "code",
   "execution_count": 21,
   "id": "cf4fb264",
   "metadata": {},
   "outputs": [
    {
     "data": {
      "image/png": "[encoded data removed]",
      "text/plain": [
       "<Figure size 1296x360 with 2 Axes>"
      ]
     },
     "metadata": {
      "needs_background": "light"
     },
     "output_type": "display_data"
    }
   ],
   "source": [
    "fig, ax = plt.subplots(1,2)\n",
    "fig.set_size_inches(18, 5)\n",
    "\n",
    "ax[0].plot(stats['epoch'], stats['train_loss'], label=\"Train_loss\", linewidth=3)\n",
    "ax[0].plot(stats['epoch'], stats['valid_loss'], label=\"Val Loss\", c='red', linewidth=3)\n",
    "ax[0].legend(loc='best')\n",
    "ax[0].set_xlabel(\"Epochs\")\n",
    "ax[0].set_ylabel(\"Error\")\n",
    "    \n",
    "ax[0].set_title(\"Train-Eval Progress\")\n",
    "\n",
    "\n",
    "ax[1].plot(stats['epoch'], stats['accuracy'], label=\"Accuracy\", linewidth=3)\n",
    "ax[1].legend(loc='best')\n",
    "ax[1].set_xlabel(\"Epochs\")\n",
    "ax[1].set_ylabel(\"Accuracy\")\n",
    "    \n",
    "ax[1].set_title(\"Eval Accuracy during training\")\n",
    "\n",
    "\n",
    "plt.show()"
   ]
  },
  {
   "cell_type": "code",
   "execution_count": 22,
   "id": "6a5bba77",
   "metadata": {},
   "outputs": [],
   "source": [
    "#Function for plottinng kernels and activation maps\n",
    "def plot(tensor, plot_kernels, n_cols=10):\n",
    "    n_kernels = tensor.shape[0]\n",
    "    n_rows = 1+ n_kernels // n_cols\n",
    "    fig = plt.figure(figsize=(n_cols,n_rows))\n",
    "    for i in range(n_kernels):\n",
    "        ax1 = fig.add_subplot(n_rows,n_cols,i+1)\n",
    "        if plot_kernels==True:\n",
    "            ax1.imshow(tensor[i][0,:,:].cpu(),cmap='gray')\n",
    "        else:\n",
    "            ax1.imshow(tensor[i],cmap='gray')\n",
    "        ax1.axis('off')\n",
    "        ax1.set_xticklabels([])\n",
    "        ax1.set_yticklabels([])\n",
    "        \n",
    "    plt.subplots_adjust(wspace=0.3, hspace=0.3)\n",
    "    plt.show()"
   ]
  },
  {
   "cell_type": "markdown",
   "id": "cbc0d723",
   "metadata": {},
   "source": [
    "### Visualization of kernels"
   ]
  },
  {
   "cell_type": "code",
   "execution_count": 23,
   "id": "d4f9ac62",
   "metadata": {},
   "outputs": [
    {
     "name": "stdout",
     "output_type": "stream",
     "text": [
      "Kernel Visualization\n",
      "torch.Size([6, 3, 5, 5])\n"
     ]
    },
    {
     "data": {
      "image/png": "[encoded data removed]",
      "text/plain": [
       "<Figure size 720x72 with 6 Axes>"
      ]
     },
     "metadata": {
      "needs_background": "light"
     },
     "output_type": "display_data"
    },
    {
     "name": "stdout",
     "output_type": "stream",
     "text": [
      "torch.Size([16, 6, 5, 5])\n"
     ]
    },
    {
     "data": {
      "image/png": "[encoded data removed]",
      "text/plain": [
       "<Figure size 720x144 with 16 Axes>"
      ]
     },
     "metadata": {
      "needs_background": "light"
     },
     "output_type": "display_data"
    }
   ],
   "source": [
    "print(\"Kernel Visualization\")\n",
    "filters = model_without_dropout.modules()\n",
    "model_layers = [i for i in model_without_dropout.children()]\n",
    "first_layer = model_layers[0]\n",
    "second_layer = model_layers[2]\n",
    "\n",
    "first_kernels = first_layer.weight.data.clone()\n",
    "print(first_kernels.shape)\n",
    "plot(first_kernels,True)\n",
    "\n",
    "\n",
    "second_kernels = second_layer.weight.data.clone()\n",
    "print(second_kernels.shape)\n",
    "plot(second_kernels,True)"
   ]
  },
  {
   "cell_type": "markdown",
   "id": "1fbc6e6b",
   "metadata": {},
   "source": [
    "This shows the kernel visualization. Our kernels are of sizes 5 x 5, hence we can see a grid of the same size. The dark boxes indicate that the weights are of lower magnitude and the light ones indicate the weights are of greater magnitude. As the patches go from dark to light, the weight values keep increasing."
   ]
  },
  {
   "cell_type": "markdown",
   "id": "9dc156a8",
   "metadata": {},
   "source": [
    "### Visualization of Activations"
   ]
  },
  {
   "cell_type": "code",
   "execution_count": 24,
   "id": "4f5b5484",
   "metadata": {},
   "outputs": [
    {
     "name": "stdout",
     "output_type": "stream",
     "text": [
      "Activation Visualization\n",
      "Convolutional Output Layer - 1\n"
     ]
    },
    {
     "data": {
      "image/png": "[encoded data removed]",
      "text/plain": [
       "<Figure size 720x72 with 6 Axes>"
      ]
     },
     "metadata": {
      "needs_background": "light"
     },
     "output_type": "display_data"
    },
    {
     "name": "stdout",
     "output_type": "stream",
     "text": [
      "After first convolution and maxpool layer torch.Size([6, 14, 14])\n",
      "Convolutional Output Layer - 2\n"
     ]
    },
    {
     "data": {
      "image/png": "[encoded data removed]",
      "text/plain": [
       "<Figure size 720x144 with 16 Axes>"
      ]
     },
     "metadata": {
      "needs_background": "light"
     },
     "output_type": "display_data"
    },
    {
     "name": "stdout",
     "output_type": "stream",
     "text": [
      "After second convolution and maxpool layer torch.Size([16, 5, 5])\n"
     ]
    }
   ],
   "source": [
    "print(\"Activation Visualization\")   \n",
    "img, label = test_dataset[21]\n",
    "img_input = img.unsqueeze(0)\n",
    "\n",
    "result1 = model_without_dropout.conv1(img_input.cuda())\n",
    "result1 = result1.squeeze()\n",
    "\n",
    "print('Convolutional Output Layer - 1')\n",
    "plot(result1.data.cpu().numpy(),False)\n",
    "      \n",
    "result1 = model_without_dropout.maxpool(result1)\n",
    "print(\"After first convolution and maxpool layer\",result1.shape)           \n",
    "\n",
    "\n",
    "result1 = (result1.view(-1, 6*14*14))\n",
    "resized_img = result1[0].view(1, 6, 14, 14)\n",
    "\n",
    "result2 = model_without_dropout.conv2(resized_img)\n",
    "result2 = result2.squeeze()\n",
    "      \n",
    "print('Convolutional Output Layer - 2')\n",
    "plot(result2.data.cpu().numpy(),False)\n",
    "result2 = model_without_dropout.maxpool(result2)\n",
    "print(\"After second convolution and maxpool layer\",result2.shape)   "
   ]
  },
  {
   "cell_type": "markdown",
   "id": "5ba7fd04",
   "metadata": {},
   "source": [
    "These are our activation maps after the first and second convolution layers. After the first convolution layer, the activation maps highlight the image involved by either darkening/lightning the image.\n",
    "It is difficult to understand what the second layer is trying to achieve."
   ]
  },
  {
   "cell_type": "code",
   "execution_count": null,
   "id": "a08a8cde",
   "metadata": {},
   "outputs": [],
   "source": []
  }
 ],
 "metadata": {
  "kernelspec": {
   "display_name": "Python 3 (ipykernel)",
   "language": "python",
   "name": "python3"
  },
  "language_info": {
   "codemirror_mode": {
    "name": "ipython",
    "version": 3
   },
   "file_extension": ".py",
   "mimetype": "text/x-python",
   "name": "python",
   "nbconvert_exporter": "python",
   "pygments_lexer": "ipython3",
   "version": "3.8.12"
  }
 },
 "nbformat": 4,
 "nbformat_minor": 5
}

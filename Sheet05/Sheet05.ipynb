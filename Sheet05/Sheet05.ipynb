{
 "cells": [
  {
   "cell_type": "code",
   "execution_count": 1,
   "id": "86b816f0",
   "metadata": {},
   "outputs": [],
   "source": [
    "import torch\n",
    "from torchvision import datasets, transforms, models\n",
    "from torch.utils.data import DataLoader, Dataset\n",
    "import torch.nn as nn\n",
    "import torch.nn.functional as F\n",
    "import torch.optim as optim\n",
    "from torchsummary import summary\n",
    "import os\n",
    "\n",
    "from PIL import Image\n",
    "import numpy as np\n",
    "import matplotlib.pyplot as plt\n",
    "from tqdm import tqdm\n",
    "import math\n",
    "\n",
    "from utils import script"
   ]
  },
  {
   "cell_type": "code",
   "execution_count": 2,
   "id": "c08c4840",
   "metadata": {},
   "outputs": [],
   "source": [
    "device = torch.device(\"cuda\" if torch.cuda.is_available() else \"cpu\")\n",
    "Epochs = 18\n",
    "B_SIZE = 256\n",
    "classes = [\"T-shirt/top\",\n",
    "\"Trouser\",\n",
    "\"Pullover\",\n",
    "\"Dress\",\n",
    "\"Coat\",\n",
    "\"Sandal\",\n",
    "\"Shirt\",\n",
    "\"Sneaker\",\n",
    "\"Bag\",\n",
    "\"Ankle boot\"] "
   ]
  },
  {
   "cell_type": "code",
   "execution_count": 3,
   "id": "cd7f2c9b",
   "metadata": {},
   "outputs": [],
   "source": [
    "# Dataset\n",
    "t = transforms.Compose([transforms.ToTensor()\n",
    "                       ])\n",
    "target_t = lambda label: F.one_hot(torch.tensor(label), num_classes=10).type(torch.float32)\n",
    "\n",
    "\n",
    "train_dataset = datasets.FashionMNIST(root=\"./data\", train=True, transform=t, target_transform=target_t, download=True)\n",
    "test_dataset = datasets.FashionMNIST(root=\"./data\", train=False, transform=t, target_transform=target_t, download=True)\n",
    "\n",
    "train_loader = DataLoader(train_dataset, batch_size=B_SIZE, shuffle=True, num_workers=4, pin_memory=True)\n",
    "test_loader = DataLoader(test_dataset, batch_size=B_SIZE, shuffle=False, num_workers=4, pin_memory=True)"
   ]
  },
  {
   "cell_type": "code",
   "execution_count": 4,
   "id": "7e5ea45d",
   "metadata": {},
   "outputs": [
    {
     "name": "stdout",
     "output_type": "stream",
     "text": [
      "Visualizig image in dataset\n"
     ]
    },
    {
     "data": {
      "image/png": "[encoded data removed]",
      "text/plain": [
       "<Figure size 1080x360 with 2 Axes>"
      ]
     },
     "metadata": {
      "needs_background": "light"
     },
     "output_type": "display_data"
    }
   ],
   "source": [
    "# img = next(iter(test_loader))[0][0].permute(1,2,0)\n",
    "img = train_dataset[0][0].permute(1,2,0)\n",
    "label = next(iter(test_loader))[1][0].argmax()\n",
    "\n",
    "def visual(img, label):\n",
    "    print(\"Visualizig image in dataset\")\n",
    "\n",
    "    fig, ax = plt.subplots()\n",
    "    fig.set_size_inches(15,5)\n",
    "\n",
    "    img = img.numpy()\n",
    "    im = ax.imshow(img, cmap=\"gray\")\n",
    "\n",
    "    fig.colorbar(im)\n",
    "    ax.set_title(f\"The label of the image is {label}\")\n",
    "    \n",
    "visual(img, classes[label])"
   ]
  },
  {
   "cell_type": "code",
   "execution_count": 5,
   "id": "4d1fe007",
   "metadata": {},
   "outputs": [],
   "source": [
    "class torch_LSTM(nn.Module):\n",
    "    def __init__(self, input_dims, emd_dim, hidden_dim, num_layers, mode):\n",
    "        super().__init__()\n",
    "        self.hidden_dim = hidden_dim\n",
    "        self.num_layers = num_layers\n",
    "        self.mode = mode\n",
    "        \n",
    "        self.encoder = nn.Linear(in_features=input_dims, out_features=emd_dim)\n",
    "        self.lstm = nn.LSTM(input_size=emd_dim, hidden_size=hidden_dim, num_layers=num_layers, batch_first=True)\n",
    "        self.classifier = nn.Linear(in_features=hidden_dim, out_features=10)\n",
    "        return\n",
    "    \n",
    "    \n",
    "    def forward(self, x):\n",
    "        b_size, n_channels, n_rows, n_cols = x.shape\n",
    "        h,c = self.init_state(b_size=b_size, device=x.device)\n",
    "        \n",
    "        x_rowed = x.view(b_size, n_channels*n_rows, n_cols)\n",
    "        embeddings = self.encoder(x_rowed)\n",
    "        \n",
    "        lstm_out , (h_out, c_out) = self.lstm(embeddings, (h,c))\n",
    "        \n",
    "        y = self.classifier(lstm_out[:, -1, :])\n",
    "        \n",
    "        return y\n",
    "    \n",
    "    def init_state(self, b_size, device):\n",
    "        if(self.mode == \"zeros\"):\n",
    "            h = torch.zeros(self.num_layers, b_size, self.hidden_dim)\n",
    "            c = torch.zeros(self.num_layers, b_size, self.hidden_dim)\n",
    "        elif(self.mode == \"random\"):\n",
    "            h = torch.randn(self.num_layers, b_size, self.hidden_dim)\n",
    "            c = torch.randn(self.num_layers, b_size, self.hidden_dim)\n",
    "        elif(self.mode == \"learned\"):\n",
    "            h = self.learned_h.repeat(1, b_size, 1)\n",
    "            c = self.learned_c.repeat(1, b_size, 1)\n",
    "        h = h.to(device)\n",
    "        c = c.to(device)\n",
    "        return h, c"
   ]
  },
  {
   "cell_type": "code",
   "execution_count": 6,
   "id": "463d1630",
   "metadata": {},
   "outputs": [],
   "source": [
    "model = torch_LSTM(input_dims=28, emd_dim=64, hidden_dim=128, num_layers=2, mode=\"zeros\")"
   ]
  },
  {
   "cell_type": "code",
   "execution_count": 7,
   "id": "456b1b1b",
   "metadata": {},
   "outputs": [
    {
     "data": {
      "text/plain": [
       "torch_LSTM(\n",
       "  (encoder): Linear(in_features=28, out_features=64, bias=True)\n",
       "  (lstm): LSTM(64, 128, num_layers=2, batch_first=True)\n",
       "  (classifier): Linear(in_features=128, out_features=10, bias=True)\n",
       ")"
      ]
     },
     "execution_count": 7,
     "metadata": {},
     "output_type": "execute_result"
    }
   ],
   "source": [
    "model"
   ]
  },
  {
   "cell_type": "code",
   "execution_count": 8,
   "id": "01346ba7",
   "metadata": {},
   "outputs": [],
   "source": [
    "criterion = nn.CrossEntropyLoss()\n",
    "\n",
    "# Observe that all parameters are being optimized\n",
    "optimizer = torch.optim.Adam(model.parameters(), lr=0.001)\n",
    "\n",
    "# Decay LR by a factor of 0.1 every 5 epochs\n",
    "scheduler = torch.optim.lr_scheduler.StepLR(optimizer, step_size=5, gamma=0.2)"
   ]
  },
  {
   "cell_type": "code",
   "execution_count": 10,
   "id": "bf10182f",
   "metadata": {},
   "outputs": [],
   "source": [
    "# train_loss, val_loss, loss_iters, valid_acc = script.train_model(\n",
    "#         model=model, optimizer=optimizer, scheduler=scheduler, criterion=criterion,\n",
    "#         train_loader=train_loader, valid_loader=test_loader, num_epochs=10, device=\"cpu\"\n",
    "#     )"
   ]
  },
  {
   "cell_type": "code",
   "execution_count": 8,
   "id": "225f7240",
   "metadata": {},
   "outputs": [],
   "source": [
    "class CustomLSTM(nn.Module):\n",
    "    def __init__(self, input_sz, hidden_sz):\n",
    "        super().__init__()\n",
    "        self.input_sz = input_sz\n",
    "        self.hidden_size = hidden_sz\n",
    "        self.W = nn.Parameter(torch.Tensor(input_sz, hidden_sz * 4))\n",
    "        self.U = nn.Parameter(torch.Tensor(hidden_sz, hidden_sz * 4))\n",
    "        self.bias = nn.Parameter(torch.Tensor(hidden_sz * 4))\n",
    "        self.init_weights()\n",
    "        self.encoder = nn.Linear(in_features=28, out_features=64)\n",
    "        self.classifier = nn.Linear(in_features=128, out_features=10)\n",
    "        \n",
    "        \n",
    "    def init_weights(self):\n",
    "        stdv = 1.0 / math.sqrt(self.hidden_size)\n",
    "        for weight in self.parameters():\n",
    "            weight.data.uniform_(-stdv, stdv)\n",
    "            \n",
    "    def lstm_forward(self, x, init_states=None):\n",
    "        \n",
    "        bs, channel , seq_sz, input_dim = x.size()\n",
    "        x = x.view(bs, channel*seq_sz, input_dim)\n",
    "        hidden_seq = []\n",
    "        \n",
    "        if init_states is None:\n",
    "            h_t, c_t = (\n",
    "                torch.zeros(bs, self.hidden_size).to(x.device),\n",
    "                torch.zeros(bs, self.hidden_size).to(x.device),\n",
    "            )\n",
    "        else:\n",
    "            h_t, c_t = init_states\n",
    "            \n",
    "        HS = self.hidden_size\n",
    "        for t in range(seq_sz):\n",
    "            x_t = x[:, t, :]\n",
    "            gates = x_t @ self.W + h_t @ self.U + self.bias\n",
    "            i_t, f_t, g_t, o_t = (\n",
    "                torch.sigmoid(gates[:, :HS]), # input\n",
    "                torch.sigmoid(gates[:, HS:HS*2]), # forget\n",
    "                torch.tanh(gates[:, HS*2:HS*3]),\n",
    "                torch.sigmoid(gates[:, HS*3:]), # output\n",
    "            )\n",
    "            c_t = f_t * c_t + i_t * g_t\n",
    "            h_t = o_t * torch.tanh(c_t)\n",
    "            hidden_seq.append(h_t.unsqueeze(0))\n",
    "        hidden_seq = torch.cat(hidden_seq, dim=0)\n",
    "        # reshape from shape (sequence, batch, feature) to (batch, sequence, feature)\n",
    "        hidden_seq = hidden_seq.transpose(0, 1).contiguous()\n",
    "        return hidden_seq, (h_t, c_t)\n",
    "    \n",
    "    def forward(self, x):\n",
    "        x = self.encoder(x)\n",
    "        hidden_seq, _ = self.lstm_forward(x)\n",
    "        y = self.classifier(hidden_seq[:, -1, :])\n",
    "        return y"
   ]
  },
  {
   "cell_type": "code",
   "execution_count": 9,
   "id": "b2f452b0",
   "metadata": {},
   "outputs": [],
   "source": [
    "model1 = CustomLSTM(input_sz=64, hidden_sz=128)"
   ]
  },
  {
   "cell_type": "code",
   "execution_count": 10,
   "id": "9336dd78",
   "metadata": {},
   "outputs": [],
   "source": [
    "criterion = nn.CrossEntropyLoss()\n",
    "\n",
    "# Observe that all parameters are being optimized\n",
    "optimizer = torch.optim.Adam(model1.parameters(), lr=3e-4)\n",
    "\n",
    "# Decay LR by a factor of 0.1 every 5 epochs\n",
    "scheduler = torch.optim.lr_scheduler.StepLR(optimizer, step_size=5, gamma=0.2)"
   ]
  },
  {
   "cell_type": "code",
   "execution_count": 11,
   "id": "b76b5a9d",
   "metadata": {},
   "outputs": [
    {
     "name": "stderr",
     "output_type": "stream",
     "text": [
      "Epoch 1 Iter 235: loss 0.63669. : 100%|███████| 235/235 [00:15<00:00, 15.16it/s]"
     ]
    },
    {
     "name": "stdout",
     "output_type": "stream",
     "text": [
      "Epoch 1/10\n",
      "    Train loss: 1.23415\n",
      "    Valid loss: 2.30192\n",
      "    Accuracy: 12.33%\n",
      "\n",
      "\n"
     ]
    },
    {
     "name": "stderr",
     "output_type": "stream",
     "text": [
      "\n",
      "Epoch 2 Iter 235: loss 0.48048. : 100%|███████| 235/235 [00:15<00:00, 15.00it/s]"
     ]
    },
    {
     "name": "stdout",
     "output_type": "stream",
     "text": [
      "Epoch 2/10\n",
      "    Train loss: 0.60442\n",
      "    Valid loss: 0.68304\n",
      "    Accuracy: 75.29%\n",
      "\n",
      "\n"
     ]
    },
    {
     "name": "stderr",
     "output_type": "stream",
     "text": [
      "\n",
      "Epoch 3 Iter 235: loss 0.37395. : 100%|███████| 235/235 [00:15<00:00, 14.90it/s]"
     ]
    },
    {
     "name": "stdout",
     "output_type": "stream",
     "text": [
      "Epoch 3/10\n",
      "    Train loss: 0.52773\n",
      "    Valid loss: 0.56155\n",
      "    Accuracy: 79.14999999999999%\n",
      "\n",
      "\n"
     ]
    },
    {
     "name": "stderr",
     "output_type": "stream",
     "text": [
      "\n",
      "Epoch 4 Iter 235: loss 0.50154. : 100%|███████| 235/235 [00:15<00:00, 14.78it/s]"
     ]
    },
    {
     "name": "stdout",
     "output_type": "stream",
     "text": [
      "Epoch 4/10\n",
      "    Train loss: 0.48001\n",
      "    Valid loss: 0.5143\n",
      "    Accuracy: 81.04%\n",
      "\n",
      "\n"
     ]
    },
    {
     "name": "stderr",
     "output_type": "stream",
     "text": [
      "\n",
      "Epoch 5 Iter 235: loss 0.40909. : 100%|███████| 235/235 [00:15<00:00, 15.23it/s]"
     ]
    },
    {
     "name": "stdout",
     "output_type": "stream",
     "text": [
      "Epoch 5/10\n",
      "    Train loss: 0.44947\n",
      "    Valid loss: 0.47653\n",
      "    Accuracy: 82.75%\n",
      "\n",
      "\n"
     ]
    },
    {
     "name": "stderr",
     "output_type": "stream",
     "text": [
      "\n",
      "Epoch 6 Iter 235: loss 0.37694. : 100%|███████| 235/235 [00:15<00:00, 14.77it/s]"
     ]
    },
    {
     "name": "stdout",
     "output_type": "stream",
     "text": [
      "Epoch 6/10\n",
      "    Train loss: 0.41477\n",
      "    Valid loss: 0.4576\n",
      "    Accuracy: 83.15%\n",
      "\n",
      "\n"
     ]
    },
    {
     "name": "stderr",
     "output_type": "stream",
     "text": [
      "\n",
      "Epoch 7 Iter 235: loss 0.43427. : 100%|███████| 235/235 [00:15<00:00, 14.69it/s]"
     ]
    },
    {
     "name": "stdout",
     "output_type": "stream",
     "text": [
      "Epoch 7/10\n",
      "    Train loss: 0.40726\n",
      "    Valid loss: 0.43978\n",
      "    Accuracy: 83.95%\n",
      "\n",
      "\n"
     ]
    },
    {
     "name": "stderr",
     "output_type": "stream",
     "text": [
      "\n",
      "Epoch 8 Iter 235: loss 0.37857. : 100%|███████| 235/235 [00:16<00:00, 14.39it/s]"
     ]
    },
    {
     "name": "stdout",
     "output_type": "stream",
     "text": [
      "Epoch 8/10\n",
      "    Train loss: 0.40247\n",
      "    Valid loss: 0.43255\n",
      "    Accuracy: 84.21%\n",
      "\n",
      "\n"
     ]
    },
    {
     "name": "stderr",
     "output_type": "stream",
     "text": [
      "\n",
      "Epoch 9 Iter 235: loss 0.46355. : 100%|███████| 235/235 [00:16<00:00, 14.36it/s]"
     ]
    },
    {
     "name": "stdout",
     "output_type": "stream",
     "text": [
      "Epoch 9/10\n",
      "    Train loss: 0.39856\n",
      "    Valid loss: 0.4298\n",
      "    Accuracy: 84.36%\n",
      "\n",
      "\n"
     ]
    },
    {
     "name": "stderr",
     "output_type": "stream",
     "text": [
      "\n",
      "Epoch 10 Iter 235: loss 0.36235. : 100%|██████| 235/235 [00:16<00:00, 14.00it/s]"
     ]
    },
    {
     "name": "stdout",
     "output_type": "stream",
     "text": [
      "Epoch 10/10\n",
      "    Train loss: 0.39336\n",
      "    Valid loss: 0.42673\n",
      "    Accuracy: 84.28%\n",
      "\n",
      "\n",
      "Training completed\n"
     ]
    },
    {
     "name": "stderr",
     "output_type": "stream",
     "text": [
      "\n"
     ]
    }
   ],
   "source": [
    "train_loss, val_loss, loss_iters, valid_acc = script.train_model(\n",
    "        model=model1, optimizer=optimizer, scheduler=scheduler, criterion=criterion,\n",
    "        train_loader=train_loader, valid_loader=test_loader, num_epochs=10, device=\"cpu\"\n",
    "    )"
   ]
  },
  {
   "cell_type": "code",
   "execution_count": null,
   "id": "c37de000",
   "metadata": {},
   "outputs": [],
   "source": []
  }
 ],
 "metadata": {
  "kernelspec": {
   "display_name": "Python 3",
   "language": "python",
   "name": "python3"
  },
  "language_info": {
   "codemirror_mode": {
    "name": "ipython",
    "version": 3
   },
   "file_extension": ".py",
   "mimetype": "text/x-python",
   "name": "python",
   "nbconvert_exporter": "python",
   "pygments_lexer": "ipython3",
   "version": "3.8.12"
  }
 },
 "nbformat": 4,
 "nbformat_minor": 5
}

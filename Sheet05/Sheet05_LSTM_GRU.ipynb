{
 "cells": [
  {
   "cell_type": "code",
   "execution_count": 1,
   "metadata": {
    "id": "HfIlsf1m-W-e"
   },
   "outputs": [],
   "source": [
    "import os\n",
    "from tqdm import tqdm\n",
    "import numpy as np\n",
    "import matplotlib.pyplot as plt\n",
    "import math\n",
    "import torch\n",
    "import torch.nn as nn\n",
    "import torchvision\n",
    "from torchvision import datasets, models, transforms"
   ]
  },
  {
   "cell_type": "code",
   "execution_count": 2,
   "metadata": {
    "id": "UvUJWNh5-oL-"
   },
   "outputs": [],
   "source": [
    "# Downloading and Loading Dataset\n",
    "train_dataset = datasets.MNIST(root='./data', train=True, transform=transforms.ToTensor(),download=True)\n",
    " \n",
    "test_dataset = datasets.MNIST(root='./data', train=False, transform=transforms.ToTensor())"
   ]
  },
  {
   "cell_type": "code",
   "execution_count": 3,
   "metadata": {
    "id": "3zDDe_Hf-yt1"
   },
   "outputs": [],
   "source": [
    "# Fitting data loaders for iterating\n",
    "B_SIZE = 256\n",
    "\n",
    "train_loader = torch.utils.data.DataLoader(dataset=train_dataset, \n",
    "                                           batch_size=B_SIZE, \n",
    "                                           shuffle=True) \n",
    "test_loader = torch.utils.data.DataLoader(dataset=test_dataset, \n",
    "                                          batch_size=B_SIZE,\n",
    "                                          shuffle=False)"
   ]
  },
  {
   "cell_type": "code",
   "execution_count": 4,
   "metadata": {},
   "outputs": [
    {
     "name": "stdout",
     "output_type": "stream",
     "text": [
      "cuda\n"
     ]
    }
   ],
   "source": [
    "device = torch.device(\"cuda\" if torch.cuda.is_available() else \"cpu\")\n",
    "print(device)"
   ]
  },
  {
   "cell_type": "code",
   "execution_count": 5,
   "metadata": {},
   "outputs": [],
   "source": [
    "def train_epoch(model, train_loader, optimizer, criterion, epoch, device):\n",
    "    \"\"\" Training a model for one epoch \"\"\"\n",
    "    \n",
    "    loss_list = []\n",
    "    progress_bar = tqdm(enumerate(train_loader), total=len(train_loader))\n",
    "    for i, (images, labels) in progress_bar:\n",
    "        images = images.to(device)\n",
    "        labels = labels.to(device)\n",
    "        \n",
    "        # Clear gradients w.r.t. parameters\n",
    "        optimizer.zero_grad()\n",
    "         \n",
    "        # Forward pass to get output/logits\n",
    "        outputs = model(images)\n",
    "         \n",
    "        # Calculate Loss: softmax --> cross entropy loss\n",
    "        loss = criterion(outputs, labels)\n",
    "        loss_list.append(loss.item())\n",
    "         \n",
    "        # Getting gradients w.r.t. parameters\n",
    "        loss.backward()\n",
    "         \n",
    "        # Updating parameters\n",
    "        optimizer.step()\n",
    "        \n",
    "        progress_bar.set_description(f\"Epoch {epoch+1} Iter {i+1}: loss {loss.item():.5f}. \")\n",
    "        \n",
    "    mean_loss = np.mean(loss_list)\n",
    "    return mean_loss, loss_list\n",
    "\n",
    "\n",
    "@torch.no_grad()\n",
    "def eval_model(model, eval_loader, criterion, device):\n",
    "    \"\"\" Evaluating the model for either validation or test \"\"\"\n",
    "    correct = 0\n",
    "    total = 0\n",
    "    loss_list = []\n",
    "    \n",
    "    for images, labels in eval_loader:\n",
    "        images = images.to(device)\n",
    "        labels = labels.to(device)\n",
    "        \n",
    "        # Forward pass only to get logits/output\n",
    "        outputs = model(images)\n",
    "                 \n",
    "        loss = criterion(outputs, labels)\n",
    "        loss_list.append(loss.item())\n",
    "            \n",
    "        # Get predictions from the maximum value\n",
    "        preds = torch.argmax(outputs, dim=1)\n",
    "        correct += len( torch.where(preds==labels)[0] )\n",
    "        total += len(labels)\n",
    "                 \n",
    "    # Total correct predictions and loss\n",
    "    accuracy = correct / total * 100\n",
    "    loss = np.mean(loss_list)\n",
    "    \n",
    "    return accuracy, loss\n",
    "\n",
    "\n",
    "def train_model(model, optimizer, scheduler, criterion, train_loader, valid_loader, num_epochs):\n",
    "    \"\"\" Training a model for a given number of epochs\"\"\"\n",
    "    \n",
    "    train_loss = []\n",
    "    val_loss =  []\n",
    "    loss_iters = []\n",
    "    valid_acc = []\n",
    "    epochs = []\n",
    "    \n",
    "    for epoch in range(num_epochs):\n",
    "           \n",
    "        # validation epoch\n",
    "        model.eval()  # important for dropout and batch norms\n",
    "        accuracy, loss = eval_model(\n",
    "                    model=model, eval_loader=valid_loader,\n",
    "                    criterion=criterion, device=device\n",
    "            )\n",
    "        valid_acc.append(accuracy)\n",
    "        val_loss.append(loss)\n",
    "        epochs.append(epoch+1)\n",
    "        \n",
    "        # training epoch\n",
    "        model.train()  # important for dropout and batch norms\n",
    "        mean_loss, cur_loss_iters = train_epoch(\n",
    "                model=model, train_loader=train_loader, optimizer=optimizer,\n",
    "                criterion=criterion, epoch=epoch, device=device\n",
    "            )\n",
    "        scheduler.step()\n",
    "        train_loss.append(mean_loss)\n",
    "        loss_iters = loss_iters + cur_loss_iters\n",
    "        \n",
    "        print(f\"Epoch {epoch+1}/{num_epochs}\")\n",
    "        print(f\"    Train loss: {round(mean_loss, 5)}\")\n",
    "        print(f\"    Valid loss: {round(loss, 5)}\")\n",
    "        print(f\"    Accuracy: {accuracy}%\")\n",
    "        print(\"\\n\")\n",
    "    \n",
    "    print(f\"Training completed\")\n",
    "    return train_loss, val_loss, loss_iters, valid_acc, epochs\n",
    "\n",
    "\n",
    "def smooth(f, K=5):\n",
    "    \"\"\" Smoothing a function using a low-pass filter (mean) of size K \"\"\"\n",
    "    kernel = np.ones(K) / K\n",
    "    f = np.concatenate([f[:int(K//2)], f, f[int(-K//2):]])  # to account for boundaries\n",
    "    smooth_f = np.convolve(f, kernel, mode=\"same\")\n",
    "    smooth_f = smooth_f[K//2: -K//2]  # removing boundary-fixes\n",
    "    return smooth_f\n",
    "\n",
    "def count_model_params(model):\n",
    "    \"\"\" Counting the number of learnable parameters in a nn.Module \"\"\"\n",
    "    num_params = sum(p.numel() for p in model.parameters() if p.requires_grad)\n",
    "    return num_params"
   ]
  },
  {
   "cell_type": "markdown",
   "metadata": {},
   "source": [
    "### Implementing PyTorch LSTM model (using nn.LSTM)"
   ]
  },
  {
   "cell_type": "code",
   "execution_count": 6,
   "metadata": {},
   "outputs": [],
   "source": [
    "class torch_LSTM(nn.Module):\n",
    "    def __init__(self, input_dims, emd_dim, hidden_dim, num_layers, mode):\n",
    "        super().__init__()\n",
    "        self.hidden_dim = hidden_dim\n",
    "        self.num_layers = num_layers\n",
    "        self.mode = mode\n",
    "        \n",
    "        self.encoder = nn.Linear(in_features=input_dims, out_features=emd_dim)\n",
    "        self.lstm = nn.LSTM(input_size=emd_dim, hidden_size=hidden_dim, num_layers=num_layers, batch_first=True)\n",
    "        self.classifier = nn.Linear(in_features=hidden_dim, out_features=10)\n",
    "        return\n",
    "    \n",
    "    \n",
    "    def forward(self, x):\n",
    "        b_size, n_channels, n_rows, n_cols = x.shape\n",
    "        h,c = self.init_state(b_size=b_size, device=x.device)\n",
    "        \n",
    "        x_rowed = x.view(b_size, n_channels*n_rows, n_cols)\n",
    "        embeddings = self.encoder(x_rowed)\n",
    "        \n",
    "        lstm_out , (h_out, c_out) = self.lstm(embeddings, (h,c))\n",
    "        \n",
    "        y = self.classifier(lstm_out[:, -1, :])\n",
    "        \n",
    "        return y\n",
    "    \n",
    "    def init_state(self, b_size, device):\n",
    "        if(self.mode == \"zeros\"):\n",
    "            h = torch.zeros(self.num_layers, b_size, self.hidden_dim)\n",
    "            c = torch.zeros(self.num_layers, b_size, self.hidden_dim)\n",
    "        elif(self.mode == \"random\"):\n",
    "            h = torch.randn(self.num_layers, b_size, self.hidden_dim)\n",
    "            c = torch.randn(self.num_layers, b_size, self.hidden_dim)\n",
    "        elif(self.mode == \"learned\"):\n",
    "            h = self.learned_h.repeat(1, b_size, 1)\n",
    "            c = self.learned_c.repeat(1, b_size, 1)\n",
    "        h = h.to(device)\n",
    "        c = c.to(device)\n",
    "        return h, c"
   ]
  },
  {
   "cell_type": "code",
   "execution_count": 7,
   "metadata": {},
   "outputs": [
    {
     "name": "stdout",
     "output_type": "stream",
     "text": [
      "torch_LSTM(\n",
      "  (encoder): Linear(in_features=28, out_features=64, bias=True)\n",
      "  (lstm): LSTM(64, 128, batch_first=True)\n",
      "  (classifier): Linear(in_features=128, out_features=10, bias=True)\n",
      ")\n"
     ]
    }
   ],
   "source": [
    "model_torch = torch_LSTM(input_dims=28, emd_dim=64, hidden_dim=128, num_layers=1 , mode=\"zeros\")\n",
    "model_torch=model_torch.to(device)\n",
    "print(model_torch)"
   ]
  },
  {
   "cell_type": "code",
   "execution_count": 8,
   "metadata": {},
   "outputs": [],
   "source": [
    "# classification loss function\n",
    "criterion = nn.CrossEntropyLoss()\n",
    "\n",
    "# Observe that all parameters are being optimized\n",
    "optimizer = torch.optim.Adam(model_torch.parameters(), lr=3e-4)\n",
    "\n",
    "# Decay LR by a factor of 0.1 every 5 epochs\n",
    "scheduler = torch.optim.lr_scheduler.StepLR(optimizer, step_size=5, gamma=0.2)"
   ]
  },
  {
   "cell_type": "code",
   "execution_count": 9,
   "metadata": {},
   "outputs": [
    {
     "name": "stderr",
     "output_type": "stream",
     "text": [
      "Epoch 1 Iter 235: loss 0.54936. : 100%|██████████████████████████████████████████████| 235/235 [00:08<00:00, 27.03it/s]\n"
     ]
    },
    {
     "name": "stdout",
     "output_type": "stream",
     "text": [
      "Epoch 1/20\n",
      "    Train loss: 1.30459\n",
      "    Valid loss: 2.30586\n",
      "    Accuracy: 9.81%\n",
      "\n",
      "\n"
     ]
    },
    {
     "name": "stderr",
     "output_type": "stream",
     "text": [
      "Epoch 2 Iter 235: loss 0.21556. : 100%|██████████████████████████████████████████████| 235/235 [00:08<00:00, 27.08it/s]\n"
     ]
    },
    {
     "name": "stdout",
     "output_type": "stream",
     "text": [
      "Epoch 2/20\n",
      "    Train loss: 0.33472\n",
      "    Valid loss: 0.47245\n",
      "    Accuracy: 86.8%\n",
      "\n",
      "\n"
     ]
    },
    {
     "name": "stderr",
     "output_type": "stream",
     "text": [
      "Epoch 3 Iter 235: loss 0.13334. : 100%|██████████████████████████████████████████████| 235/235 [00:08<00:00, 27.01it/s]\n"
     ]
    },
    {
     "name": "stdout",
     "output_type": "stream",
     "text": [
      "Epoch 3/20\n",
      "    Train loss: 0.216\n",
      "    Valid loss: 0.24606\n",
      "    Accuracy: 93.11%\n",
      "\n",
      "\n"
     ]
    },
    {
     "name": "stderr",
     "output_type": "stream",
     "text": [
      "Epoch 4 Iter 235: loss 0.08589. : 100%|██████████████████████████████████████████████| 235/235 [00:08<00:00, 27.05it/s]\n"
     ]
    },
    {
     "name": "stdout",
     "output_type": "stream",
     "text": [
      "Epoch 4/20\n",
      "    Train loss: 0.17022\n",
      "    Valid loss: 0.17979\n",
      "    Accuracy: 94.85%\n",
      "\n",
      "\n"
     ]
    },
    {
     "name": "stderr",
     "output_type": "stream",
     "text": [
      "Epoch 5 Iter 235: loss 0.18969. : 100%|██████████████████████████████████████████████| 235/235 [00:08<00:00, 26.77it/s]\n"
     ]
    },
    {
     "name": "stdout",
     "output_type": "stream",
     "text": [
      "Epoch 5/20\n",
      "    Train loss: 0.13921\n",
      "    Valid loss: 0.15142\n",
      "    Accuracy: 95.65%\n",
      "\n",
      "\n"
     ]
    },
    {
     "name": "stderr",
     "output_type": "stream",
     "text": [
      "Epoch 6 Iter 235: loss 0.13138. : 100%|██████████████████████████████████████████████| 235/235 [00:08<00:00, 26.25it/s]\n"
     ]
    },
    {
     "name": "stdout",
     "output_type": "stream",
     "text": [
      "Epoch 6/20\n",
      "    Train loss: 0.10998\n",
      "    Valid loss: 0.13424\n",
      "    Accuracy: 95.86%\n",
      "\n",
      "\n"
     ]
    },
    {
     "name": "stderr",
     "output_type": "stream",
     "text": [
      "Epoch 7 Iter 235: loss 0.16079. : 100%|██████████████████████████████████████████████| 235/235 [00:09<00:00, 25.79it/s]\n"
     ]
    },
    {
     "name": "stdout",
     "output_type": "stream",
     "text": [
      "Epoch 7/20\n",
      "    Train loss: 0.10471\n",
      "    Valid loss: 0.11718\n",
      "    Accuracy: 96.63000000000001%\n",
      "\n",
      "\n"
     ]
    },
    {
     "name": "stderr",
     "output_type": "stream",
     "text": [
      "Epoch 8 Iter 235: loss 0.10236. : 100%|██████████████████████████████████████████████| 235/235 [00:09<00:00, 26.06it/s]\n"
     ]
    },
    {
     "name": "stdout",
     "output_type": "stream",
     "text": [
      "Epoch 8/20\n",
      "    Train loss: 0.10056\n",
      "    Valid loss: 0.1106\n",
      "    Accuracy: 96.77%\n",
      "\n",
      "\n"
     ]
    },
    {
     "name": "stderr",
     "output_type": "stream",
     "text": [
      "Epoch 9 Iter 235: loss 0.07708. : 100%|██████████████████████████████████████████████| 235/235 [00:09<00:00, 25.90it/s]\n"
     ]
    },
    {
     "name": "stdout",
     "output_type": "stream",
     "text": [
      "Epoch 9/20\n",
      "    Train loss: 0.09812\n",
      "    Valid loss: 0.10738\n",
      "    Accuracy: 96.83%\n",
      "\n",
      "\n"
     ]
    },
    {
     "name": "stderr",
     "output_type": "stream",
     "text": [
      "Epoch 10 Iter 235: loss 0.04966. : 100%|█████████████████████████████████████████████| 235/235 [00:09<00:00, 25.98it/s]\n"
     ]
    },
    {
     "name": "stdout",
     "output_type": "stream",
     "text": [
      "Epoch 10/20\n",
      "    Train loss: 0.09393\n",
      "    Valid loss: 0.10351\n",
      "    Accuracy: 96.93%\n",
      "\n",
      "\n"
     ]
    },
    {
     "name": "stderr",
     "output_type": "stream",
     "text": [
      "Epoch 11 Iter 235: loss 0.21182. : 100%|█████████████████████████████████████████████| 235/235 [00:09<00:00, 25.51it/s]\n"
     ]
    },
    {
     "name": "stdout",
     "output_type": "stream",
     "text": [
      "Epoch 11/20\n",
      "    Train loss: 0.08826\n",
      "    Valid loss: 0.10158\n",
      "    Accuracy: 96.94%\n",
      "\n",
      "\n"
     ]
    },
    {
     "name": "stderr",
     "output_type": "stream",
     "text": [
      "Epoch 12 Iter 235: loss 0.10467. : 100%|█████████████████████████████████████████████| 235/235 [00:09<00:00, 25.89it/s]\n"
     ]
    },
    {
     "name": "stdout",
     "output_type": "stream",
     "text": [
      "Epoch 12/20\n",
      "    Train loss: 0.08691\n",
      "    Valid loss: 0.09958\n",
      "    Accuracy: 97.17%\n",
      "\n",
      "\n"
     ]
    },
    {
     "name": "stderr",
     "output_type": "stream",
     "text": [
      "Epoch 13 Iter 235: loss 0.03126. : 100%|█████████████████████████████████████████████| 235/235 [00:09<00:00, 25.36it/s]\n"
     ]
    },
    {
     "name": "stdout",
     "output_type": "stream",
     "text": [
      "Epoch 13/20\n",
      "    Train loss: 0.08579\n",
      "    Valid loss: 0.09827\n",
      "    Accuracy: 97.11999999999999%\n",
      "\n",
      "\n"
     ]
    },
    {
     "name": "stderr",
     "output_type": "stream",
     "text": [
      "Epoch 14 Iter 235: loss 0.07332. : 100%|█████████████████████████████████████████████| 235/235 [00:09<00:00, 25.06it/s]\n"
     ]
    },
    {
     "name": "stdout",
     "output_type": "stream",
     "text": [
      "Epoch 14/20\n",
      "    Train loss: 0.08541\n",
      "    Valid loss: 0.09945\n",
      "    Accuracy: 97.09%\n",
      "\n",
      "\n"
     ]
    },
    {
     "name": "stderr",
     "output_type": "stream",
     "text": [
      "Epoch 15 Iter 235: loss 0.10404. : 100%|█████████████████████████████████████████████| 235/235 [00:09<00:00, 25.95it/s]\n"
     ]
    },
    {
     "name": "stdout",
     "output_type": "stream",
     "text": [
      "Epoch 15/20\n",
      "    Train loss: 0.08472\n",
      "    Valid loss: 0.09686\n",
      "    Accuracy: 97.26%\n",
      "\n",
      "\n"
     ]
    },
    {
     "name": "stderr",
     "output_type": "stream",
     "text": [
      "Epoch 16 Iter 235: loss 0.21269. : 100%|█████████████████████████████████████████████| 235/235 [00:09<00:00, 25.99it/s]\n"
     ]
    },
    {
     "name": "stdout",
     "output_type": "stream",
     "text": [
      "Epoch 16/20\n",
      "    Train loss: 0.08377\n",
      "    Valid loss: 0.09675\n",
      "    Accuracy: 97.2%\n",
      "\n",
      "\n"
     ]
    },
    {
     "name": "stderr",
     "output_type": "stream",
     "text": [
      "Epoch 17 Iter 235: loss 0.07834. : 100%|█████████████████████████████████████████████| 235/235 [00:09<00:00, 26.04it/s]\n"
     ]
    },
    {
     "name": "stdout",
     "output_type": "stream",
     "text": [
      "Epoch 17/20\n",
      "    Train loss: 0.08308\n",
      "    Valid loss: 0.09593\n",
      "    Accuracy: 97.24000000000001%\n",
      "\n",
      "\n"
     ]
    },
    {
     "name": "stderr",
     "output_type": "stream",
     "text": [
      "Epoch 18 Iter 235: loss 0.07300. : 100%|█████████████████████████████████████████████| 235/235 [00:09<00:00, 26.06it/s]\n"
     ]
    },
    {
     "name": "stdout",
     "output_type": "stream",
     "text": [
      "Epoch 18/20\n",
      "    Train loss: 0.08289\n",
      "    Valid loss: 0.09593\n",
      "    Accuracy: 97.22%\n",
      "\n",
      "\n"
     ]
    },
    {
     "name": "stderr",
     "output_type": "stream",
     "text": [
      "Epoch 19 Iter 235: loss 0.06296. : 100%|█████████████████████████████████████████████| 235/235 [00:09<00:00, 26.03it/s]\n"
     ]
    },
    {
     "name": "stdout",
     "output_type": "stream",
     "text": [
      "Epoch 19/20\n",
      "    Train loss: 0.0827\n",
      "    Valid loss: 0.09574\n",
      "    Accuracy: 97.25%\n",
      "\n",
      "\n"
     ]
    },
    {
     "name": "stderr",
     "output_type": "stream",
     "text": [
      "Epoch 20 Iter 235: loss 0.02653. : 100%|█████████████████████████████████████████████| 235/235 [00:09<00:00, 25.99it/s]"
     ]
    },
    {
     "name": "stdout",
     "output_type": "stream",
     "text": [
      "Epoch 20/20\n",
      "    Train loss: 0.08245\n",
      "    Valid loss: 0.09563\n",
      "    Accuracy: 97.28999999999999%\n",
      "\n",
      "\n",
      "Training completed\n"
     ]
    },
    {
     "name": "stderr",
     "output_type": "stream",
     "text": [
      "\n"
     ]
    }
   ],
   "source": [
    "train_loss_lstm, val_loss_lstm, loss_iters_lstm, valid_acc_lstm, epochs_lstm = train_model(\n",
    "        model=model_torch, optimizer=optimizer, scheduler=scheduler, criterion=criterion,\n",
    "        train_loader=train_loader, valid_loader=test_loader, num_epochs=20\n",
    "    )"
   ]
  },
  {
   "cell_type": "markdown",
   "metadata": {},
   "source": [
    "### Implementing own custom LSTM model without using nn.LSTM"
   ]
  },
  {
   "cell_type": "code",
   "execution_count": 10,
   "metadata": {
    "id": "G3F_oG5zr1lQ"
   },
   "outputs": [],
   "source": [
    "class LSTM_Cells(torch.nn.Module):\n",
    "   \n",
    "    def __init__(self, in_dim, hidden_dim, bias=True):\n",
    "        super(LSTM_Cells, self).__init__()\n",
    "        self.in_dim = in_dim\n",
    "        self.hidden_dim = hidden_dim\n",
    "        self.bias = bias\n",
    "        self.layer1 = nn.Linear(in_dim, 4 * hidden_dim, bias=bias)\n",
    "        self.layer2 = nn.Linear(hidden_dim, 4 * hidden_dim, bias=bias)\n",
    "        self.reset_parameters()\n",
    "\n",
    "    def reset_parameters(self):\n",
    "        std = 1.0 / math.sqrt(self.hidden_dim)\n",
    "        for w in self.parameters():\n",
    "            w.data.uniform_(-std, std)\n",
    "    \n",
    "    def forward(self, x, hidden):\n",
    "        \n",
    "        x = x.view(-1, x.size(1))\n",
    "        hx, cx = hidden\n",
    "        \n",
    "        gates = self.layer1(x) + self.layer2(hx)\n",
    "        gates = gates.squeeze()\n",
    "        \n",
    "        input_gate, forget_gate, next_gate, out_gate = gates.chunk(4, 1)\n",
    "        \n",
    "        input_gate = torch.sigmoid(input_gate)\n",
    "        \n",
    "        forget_gate = torch.sigmoid(forget_gate)\n",
    "        \n",
    "        next_gate = torch.tanh(next_gate)\n",
    "        \n",
    "        out_gate = torch.sigmoid(out_gate)  \n",
    "        \n",
    "        c_y = forget_gate * cx + input_gate * next_gate\n",
    "        h_y = out_gate * torch.tanh(c_y)\n",
    "        \n",
    "        return (c_y, h_y)\n",
    "class Custom_LSTM(nn.Module):\n",
    "    \"\"\" \n",
    "    Sequential classifier for images. Embedded image rows are fed to a RNN\n",
    "    \n",
    "    Args:\n",
    "    -----\n",
    "    input_dim: integer\n",
    "        dimensionality of the rows to embed\n",
    "    emb_dim: integer \n",
    "        dimensionality of the vectors fed to the LSTM\n",
    "    hidden_dim: integer\n",
    "        dimensionality of the states in the cell\n",
    "    num_layers: integer\n",
    "        number of stacked LSTMS\n",
    "    mode: string\n",
    "        intialization of the states\n",
    "    \"\"\"\n",
    "    \n",
    "    def __init__(self, input_dim, emb_dim, hidden_dim, num_layers=1, mode=\"zeros\"):\n",
    "        \"\"\" Module initializer \"\"\"\n",
    "        assert mode in [\"zeros\", \"random\", \"learned\"]\n",
    "        super().__init__()\n",
    "        self.hidden_dim =  hidden_dim\n",
    "        self.input_dim =  input_dim\n",
    "        self.num_layers = num_layers\n",
    "        self.mode = mode\n",
    "        if(mode == \"learned\"):\n",
    "            self.learned_h = nn.Parameter(\n",
    "                    torch.randn(num_layers, 1, hidden_dim).requires_grad_()\n",
    "                )\n",
    "            self.learned_c = nn.Parameter(\n",
    "                    torch.randn(num_layers, 1, hidden_dim).requires_grad_()\n",
    "                )\n",
    "        \n",
    "        # for embedding rows into vector representations\n",
    "        self.encoder = nn.Linear(in_features=input_dim, out_features=emb_dim)\n",
    "\n",
    "        lstms = []\n",
    "        for i in range(num_layers):\n",
    "            in_size = emb_dim if i == 0 else hidden_dim\n",
    "            lstms.append(LSTM_Cells(in_dim=in_size, hidden_dim=hidden_dim))\n",
    "        self.lstm = nn.ModuleList(lstms)\n",
    "        \n",
    "        # classifier\n",
    "        self.classifier = nn.Linear(in_features=hidden_dim, out_features=10)\n",
    "        \n",
    "        return\n",
    "    \n",
    "\n",
    "    def forward(self, x):\n",
    "        \"\"\" Forward pass through model \"\"\"\n",
    "        \n",
    "        b_size, n_channels, n_rows, n_cols = x.shape\n",
    "        h, c = self.init_state(b_size=b_size, device=x.device) \n",
    "        \n",
    "        # embedding rows\n",
    "        x_rowed = x.view(b_size, n_channels*n_rows, n_cols)\n",
    "\n",
    "        embeddings = self.encoder(x_rowed)\n",
    "\n",
    "\n",
    "        lstm_out = []\n",
    "        for i in range(embeddings.shape[1]):\n",
    "            lstm_input = embeddings[:, i, :]\n",
    "            # iterating over LSTM Cells\n",
    "            for j, lstm_cell in enumerate(self.lstm):\n",
    "                h[j], c[j] = lstm_cell(lstm_input, (h[j].clone(), c[j].clone()))\n",
    "                lstm_input = h[j]\n",
    "            lstm_out.append(lstm_input)\n",
    "        lstm_out = torch.stack(lstm_out, dim=1)\n",
    "\n",
    "        # classifying\n",
    "        y = self.classifier(lstm_out[:, -1, :])  # feeding only output at last layer\n",
    "        return y\n",
    "    \n",
    "        \n",
    "    def init_state(self, b_size, device):\n",
    "        \"\"\" Initializing hidden and cell state \"\"\"\n",
    "        if(self.mode == \"zeros\"):\n",
    "            h = torch.zeros(self.num_layers, b_size, self.hidden_dim)\n",
    "            c = torch.zeros(self.num_layers, b_size, self.hidden_dim)\n",
    "        elif(self.mode == \"random\"):\n",
    "            h = torch.randn(self.num_layers, b_size, self.hidden_dim)\n",
    "            c = torch.randn(self.num_layers, b_size, self.hidden_dim)\n",
    "        elif(self.mode == \"learned\"):\n",
    "            h = self.learned_h.repeat(1, b_size, 1)\n",
    "            c = self.learned_c.repeat(1, b_size, 1)\n",
    "        h = h.to(device)\n",
    "        c = c.to(device)\n",
    "        return h, c"
   ]
  },
  {
   "cell_type": "code",
   "execution_count": 17,
   "metadata": {
    "colab": {
     "base_uri": "https://localhost:8080/"
    },
    "id": "aAgjXYfZnekC",
    "outputId": "02de2f34-ba16-4f8f-be52-d1bac6e6f49f"
   },
   "outputs": [
    {
     "data": {
      "text/plain": [
       "102474"
      ]
     },
     "execution_count": 17,
     "metadata": {},
     "output_type": "execute_result"
    }
   ],
   "source": [
    "model_customlstm = Custom_LSTM(input_dim=28, emb_dim=64, hidden_dim=128, num_layers=1, mode=\"zeros\")\n",
    "count_model_params(model_customlstm)"
   ]
  },
  {
   "cell_type": "code",
   "execution_count": 18,
   "metadata": {
    "id": "Cv7AShZ6npUY"
   },
   "outputs": [
    {
     "name": "stdout",
     "output_type": "stream",
     "text": [
      "Custom_LSTM(\n",
      "  (encoder): Linear(in_features=28, out_features=64, bias=True)\n",
      "  (lstm): ModuleList(\n",
      "    (0): LSTM_Cells(\n",
      "      (layer1): Linear(in_features=64, out_features=512, bias=True)\n",
      "      (layer2): Linear(in_features=128, out_features=512, bias=True)\n",
      "    )\n",
      "  )\n",
      "  (classifier): Linear(in_features=128, out_features=10, bias=True)\n",
      ")\n"
     ]
    }
   ],
   "source": [
    "model_customlstm = model_customlstm.to(device)\n",
    "print(model_customlstm)"
   ]
  },
  {
   "cell_type": "code",
   "execution_count": 19,
   "metadata": {
    "id": "xa1WGinznv-g"
   },
   "outputs": [],
   "source": [
    "# classification loss function\n",
    "criterion = nn.CrossEntropyLoss()\n",
    "\n",
    "# Observe that all parameters are being optimized\n",
    "optimizer = torch.optim.Adam(model_customlstm.parameters(), lr=3e-4)\n",
    "\n",
    "# Decay LR by a factor of 0.1 every 5 epochs\n",
    "scheduler = torch.optim.lr_scheduler.StepLR(optimizer, step_size=5, gamma=0.2)"
   ]
  },
  {
   "cell_type": "code",
   "execution_count": 20,
   "metadata": {
    "id": "8-Yeg-r6M3lK"
   },
   "outputs": [
    {
     "name": "stderr",
     "output_type": "stream",
     "text": [
      "Epoch 1 Iter 235: loss 0.84318. : 100%|██████████████████████████████████████████████| 235/235 [00:15<00:00, 14.69it/s]\n"
     ]
    },
    {
     "name": "stdout",
     "output_type": "stream",
     "text": [
      "Epoch 1/20\n",
      "    Train loss: 1.41427\n",
      "    Valid loss: 2.30502\n",
      "    Accuracy: 10.23%\n",
      "\n",
      "\n"
     ]
    },
    {
     "name": "stderr",
     "output_type": "stream",
     "text": [
      "Epoch 2 Iter 235: loss 0.47863. : 100%|██████████████████████████████████████████████| 235/235 [00:14<00:00, 16.06it/s]\n"
     ]
    },
    {
     "name": "stdout",
     "output_type": "stream",
     "text": [
      "Epoch 2/20\n",
      "    Train loss: 0.68903\n",
      "    Valid loss: 0.92991\n",
      "    Accuracy: 67.82000000000001%\n",
      "\n",
      "\n"
     ]
    },
    {
     "name": "stderr",
     "output_type": "stream",
     "text": [
      "Epoch 3 Iter 235: loss 0.30608. : 100%|██████████████████████████████████████████████| 235/235 [00:14<00:00, 15.96it/s]\n"
     ]
    },
    {
     "name": "stdout",
     "output_type": "stream",
     "text": [
      "Epoch 3/20\n",
      "    Train loss: 0.41026\n",
      "    Valid loss: 0.49754\n",
      "    Accuracy: 84.82%\n",
      "\n",
      "\n"
     ]
    },
    {
     "name": "stderr",
     "output_type": "stream",
     "text": [
      "Epoch 4 Iter 235: loss 0.24518. : 100%|██████████████████████████████████████████████| 235/235 [00:15<00:00, 15.25it/s]\n"
     ]
    },
    {
     "name": "stdout",
     "output_type": "stream",
     "text": [
      "Epoch 4/20\n",
      "    Train loss: 0.29167\n",
      "    Valid loss: 0.31348\n",
      "    Accuracy: 90.72%\n",
      "\n",
      "\n"
     ]
    },
    {
     "name": "stderr",
     "output_type": "stream",
     "text": [
      "Epoch 5 Iter 235: loss 0.17152. : 100%|██████████████████████████████████████████████| 235/235 [00:15<00:00, 15.20it/s]\n"
     ]
    },
    {
     "name": "stdout",
     "output_type": "stream",
     "text": [
      "Epoch 5/20\n",
      "    Train loss: 0.23306\n",
      "    Valid loss: 0.24376\n",
      "    Accuracy: 92.84%\n",
      "\n",
      "\n"
     ]
    },
    {
     "name": "stderr",
     "output_type": "stream",
     "text": [
      "Epoch 6 Iter 235: loss 0.04916. : 100%|██████████████████████████████████████████████| 235/235 [00:15<00:00, 14.89it/s]\n"
     ]
    },
    {
     "name": "stdout",
     "output_type": "stream",
     "text": [
      "Epoch 6/20\n",
      "    Train loss: 0.18948\n",
      "    Valid loss: 0.21586\n",
      "    Accuracy: 93.76%\n",
      "\n",
      "\n"
     ]
    },
    {
     "name": "stderr",
     "output_type": "stream",
     "text": [
      "Epoch 7 Iter 235: loss 0.24963. : 100%|██████████████████████████████████████████████| 235/235 [00:15<00:00, 15.17it/s]\n"
     ]
    },
    {
     "name": "stdout",
     "output_type": "stream",
     "text": [
      "Epoch 7/20\n",
      "    Train loss: 0.18139\n",
      "    Valid loss: 0.18552\n",
      "    Accuracy: 94.57%\n",
      "\n",
      "\n"
     ]
    },
    {
     "name": "stderr",
     "output_type": "stream",
     "text": [
      "Epoch 8 Iter 235: loss 0.24843. : 100%|██████████████████████████████████████████████| 235/235 [00:16<00:00, 14.44it/s]\n"
     ]
    },
    {
     "name": "stdout",
     "output_type": "stream",
     "text": [
      "Epoch 8/20\n",
      "    Train loss: 0.17422\n",
      "    Valid loss: 0.17515\n",
      "    Accuracy: 94.89999999999999%\n",
      "\n",
      "\n"
     ]
    },
    {
     "name": "stderr",
     "output_type": "stream",
     "text": [
      "Epoch 9 Iter 235: loss 0.12113. : 100%|██████████████████████████████████████████████| 235/235 [00:16<00:00, 14.67it/s]\n"
     ]
    },
    {
     "name": "stdout",
     "output_type": "stream",
     "text": [
      "Epoch 9/20\n",
      "    Train loss: 0.16551\n",
      "    Valid loss: 0.17171\n",
      "    Accuracy: 95.03%\n",
      "\n",
      "\n"
     ]
    },
    {
     "name": "stderr",
     "output_type": "stream",
     "text": [
      "Epoch 10 Iter 235: loss 0.12825. : 100%|█████████████████████████████████████████████| 235/235 [00:15<00:00, 14.80it/s]\n"
     ]
    },
    {
     "name": "stdout",
     "output_type": "stream",
     "text": [
      "Epoch 10/20\n",
      "    Train loss: 0.16009\n",
      "    Valid loss: 0.17127\n",
      "    Accuracy: 94.93%\n",
      "\n",
      "\n"
     ]
    },
    {
     "name": "stderr",
     "output_type": "stream",
     "text": [
      "Epoch 11 Iter 235: loss 0.07642. : 100%|█████████████████████████████████████████████| 235/235 [00:16<00:00, 14.19it/s]\n"
     ]
    },
    {
     "name": "stdout",
     "output_type": "stream",
     "text": [
      "Epoch 11/20\n",
      "    Train loss: 0.15054\n",
      "    Valid loss: 0.16057\n",
      "    Accuracy: 95.43%\n",
      "\n",
      "\n"
     ]
    },
    {
     "name": "stderr",
     "output_type": "stream",
     "text": [
      "Epoch 12 Iter 235: loss 0.18496. : 100%|█████████████████████████████████████████████| 235/235 [00:16<00:00, 14.58it/s]\n"
     ]
    },
    {
     "name": "stdout",
     "output_type": "stream",
     "text": [
      "Epoch 12/20\n",
      "    Train loss: 0.1491\n",
      "    Valid loss: 0.15611\n",
      "    Accuracy: 95.34%\n",
      "\n",
      "\n"
     ]
    },
    {
     "name": "stderr",
     "output_type": "stream",
     "text": [
      "Epoch 13 Iter 235: loss 0.14934. : 100%|█████████████████████████████████████████████| 235/235 [00:16<00:00, 14.48it/s]\n"
     ]
    },
    {
     "name": "stdout",
     "output_type": "stream",
     "text": [
      "Epoch 13/20\n",
      "    Train loss: 0.14763\n",
      "    Valid loss: 0.15555\n",
      "    Accuracy: 95.32000000000001%\n",
      "\n",
      "\n"
     ]
    },
    {
     "name": "stderr",
     "output_type": "stream",
     "text": [
      "Epoch 14 Iter 235: loss 0.03069. : 100%|█████████████████████████████████████████████| 235/235 [00:16<00:00, 14.56it/s]\n"
     ]
    },
    {
     "name": "stdout",
     "output_type": "stream",
     "text": [
      "Epoch 14/20\n",
      "    Train loss: 0.14596\n",
      "    Valid loss: 0.15398\n",
      "    Accuracy: 95.47%\n",
      "\n",
      "\n"
     ]
    },
    {
     "name": "stderr",
     "output_type": "stream",
     "text": [
      "Epoch 15 Iter 235: loss 0.08966. : 100%|█████████████████████████████████████████████| 235/235 [00:16<00:00, 14.32it/s]\n"
     ]
    },
    {
     "name": "stdout",
     "output_type": "stream",
     "text": [
      "Epoch 15/20\n",
      "    Train loss: 0.14477\n",
      "    Valid loss: 0.15271\n",
      "    Accuracy: 95.48%\n",
      "\n",
      "\n"
     ]
    },
    {
     "name": "stderr",
     "output_type": "stream",
     "text": [
      "Epoch 16 Iter 235: loss 0.14309. : 100%|█████████████████████████████████████████████| 235/235 [00:15<00:00, 14.89it/s]\n"
     ]
    },
    {
     "name": "stdout",
     "output_type": "stream",
     "text": [
      "Epoch 16/20\n",
      "    Train loss: 0.14281\n",
      "    Valid loss: 0.15115\n",
      "    Accuracy: 95.67999999999999%\n",
      "\n",
      "\n"
     ]
    },
    {
     "name": "stderr",
     "output_type": "stream",
     "text": [
      "Epoch 17 Iter 235: loss 0.20012. : 100%|█████████████████████████████████████████████| 235/235 [00:16<00:00, 14.35it/s]\n"
     ]
    },
    {
     "name": "stdout",
     "output_type": "stream",
     "text": [
      "Epoch 17/20\n",
      "    Train loss: 0.14257\n",
      "    Valid loss: 0.15029\n",
      "    Accuracy: 95.56%\n",
      "\n",
      "\n"
     ]
    },
    {
     "name": "stderr",
     "output_type": "stream",
     "text": [
      "Epoch 18 Iter 235: loss 0.10022. : 100%|█████████████████████████████████████████████| 235/235 [00:15<00:00, 14.81it/s]\n"
     ]
    },
    {
     "name": "stdout",
     "output_type": "stream",
     "text": [
      "Epoch 18/20\n",
      "    Train loss: 0.14187\n",
      "    Valid loss: 0.15016\n",
      "    Accuracy: 95.61%\n",
      "\n",
      "\n"
     ]
    },
    {
     "name": "stderr",
     "output_type": "stream",
     "text": [
      "Epoch 19 Iter 235: loss 0.20644. : 100%|█████████████████████████████████████████████| 235/235 [00:15<00:00, 14.78it/s]\n"
     ]
    },
    {
     "name": "stdout",
     "output_type": "stream",
     "text": [
      "Epoch 19/20\n",
      "    Train loss: 0.14196\n",
      "    Valid loss: 0.15053\n",
      "    Accuracy: 95.53%\n",
      "\n",
      "\n"
     ]
    },
    {
     "name": "stderr",
     "output_type": "stream",
     "text": [
      "Epoch 20 Iter 235: loss 0.04206. : 100%|█████████████████████████████████████████████| 235/235 [00:15<00:00, 14.72it/s]"
     ]
    },
    {
     "name": "stdout",
     "output_type": "stream",
     "text": [
      "Epoch 20/20\n",
      "    Train loss: 0.14128\n",
      "    Valid loss: 0.14936\n",
      "    Accuracy: 95.55%\n",
      "\n",
      "\n",
      "Training completed\n"
     ]
    },
    {
     "name": "stderr",
     "output_type": "stream",
     "text": [
      "\n"
     ]
    }
   ],
   "source": [
    "train_loss_cuslstm, val_loss_cuslstm, loss_iters_cuslstm, valid_acc_cuslstm, epochs_cuslstm = train_model(\n",
    "        model=model_customlstm, optimizer=optimizer, scheduler=scheduler, criterion=criterion,\n",
    "        train_loader=train_loader, valid_loader=test_loader, num_epochs=20\n",
    "    )"
   ]
  },
  {
   "cell_type": "markdown",
   "metadata": {},
   "source": [
    "### Learning curves of the model trained using Pytorch LSTM and custom LSTM\n",
    "#TODO\n",
    "Add conv LSTM\n"
   ]
  },
  {
   "cell_type": "code",
   "execution_count": 27,
   "metadata": {},
   "outputs": [
    {
     "data": {
      "image/png": "[encoded data removed]",
      "text/plain": [
       "<Figure size 1296x360 with 2 Axes>"
      ]
     },
     "metadata": {},
     "output_type": "display_data"
    }
   ],
   "source": [
    "plt.style.use('seaborn')\n",
    "fig, ax = plt.subplots(1,2)\n",
    "fig.set_size_inches(18, 5)\n",
    "\n",
    "ax[0].plot(epochs_cuslstm, train_loss_cuslstm, label=\"Train_loss\", linewidth=2)\n",
    "ax[0].plot(epochs_cuslstm, val_loss_cuslstm, label=\"Val Loss\", c='red', linewidth=2)\n",
    "ax[0].legend(loc='best')\n",
    "ax[0].set_xlabel(\"Epochs\")\n",
    "ax[0].set_ylabel(\"Error\")\n",
    "ax[0].set_xticks(np.arange(2, 19, step=2))\n",
    "\n",
    "ax[0].set_title(\"Loss curves of Custom LSTM\")\n",
    "\n",
    "ax[1].plot(epochs_lstm, train_loss_lstm, label=\"Train_loss\", linewidth=2)\n",
    "ax[1].plot(epochs_lstm, val_loss_lstm , label=\"Val Loss\", c='red', linewidth=2)\n",
    "ax[1].legend(loc='best')\n",
    "ax[1].set_xlabel(\"Epochs\")\n",
    "ax[1].set_ylabel(\"Error\")\n",
    "ax[1].set_xticks(np.arange(2, 19, step=2))\n",
    "\n",
    "ax[1].set_title(\"Loss curves of Pytorch LSTM\")\n",
    "\n",
    "\n",
    "plt.show()"
   ]
  },
  {
   "cell_type": "markdown",
   "metadata": {},
   "source": [
    "The curves show that the models have learned quite well and reach a stability point. The custom LSTM model works at par with Pytorchs inbuilt LSTM. However, it takes a little more time to reach stability(very minimal, almost negligible).\n"
   ]
  },
  {
   "cell_type": "code",
   "execution_count": 31,
   "metadata": {},
   "outputs": [
    {
     "data": {
      "image/png": "[encoded data removed]",
      "text/plain": [
       "<Figure size 720x360 with 1 Axes>"
      ]
     },
     "metadata": {},
     "output_type": "display_data"
    }
   ],
   "source": [
    "plt.style.use('seaborn')\n",
    "fig, ax = plt.subplots(1,1)\n",
    "fig.set_size_inches(10, 5)\n",
    "\n",
    "ax.plot(epochs_cuslstm, valid_acc_cuslstm, linewidth=2,label=\"Accuracy of Custom LSTM\")\n",
    "ax.plot(epochs_lstm, valid_acc_lstm, label=\"Accuracy of Pytorch LSTM\",c='red', linewidth=2)\n",
    "ax.legend(loc='best')\n",
    "ax.set_xlabel(\"Epochs\")\n",
    "ax.set_ylabel(\"Accuracy\")\n",
    "ax.set_xticks(np.arange(2, 19, step=2))\n",
    "\n",
    "ax.set_title(f\"Valdiation Accuracy of both models\")\n",
    "\n",
    "plt.show()"
   ]
  },
  {
   "cell_type": "markdown",
   "metadata": {},
   "source": [
    "Pytorch LSTM model reaches an accuracy of 97% while the custom LSTM reaches a maximum accuracy of 95%. "
   ]
  },
  {
   "cell_type": "markdown",
   "metadata": {},
   "source": [
    "### Implementing GRU"
   ]
  },
  {
   "cell_type": "code",
   "execution_count": 21,
   "metadata": {},
   "outputs": [],
   "source": [
    "class GRU(nn.Module):\n",
    "\n",
    "    def __init__(self, in_dim, hidden_dim, bias=True):\n",
    "        super(GRU, self).__init__()\n",
    "        self.in_dim = in_dim\n",
    "        self.hidden_dim = hidden_dim\n",
    "        self.bias = bias\n",
    "        self.layer1 = nn.Linear(in_dim, 3 * hidden_dim, bias=bias)\n",
    "        self.layer2 = nn.Linear(hidden_dim, 3 * hidden_dim, bias=bias)\n",
    "        self.reset_parameters()\n",
    "\n",
    "    def reset_parameters(self):\n",
    "        std = 1.0 / math.sqrt(self.hidden_dim)\n",
    "        for w in self.parameters():\n",
    "            w.data.uniform_(-std, std)\n",
    "\n",
    "    def forward(self, x, hidden):\n",
    "\n",
    "        x = x.view(-1, x.size(1))\n",
    "\n",
    "        gate_x = self.layer1(x) \n",
    "        gate_h = self.layer2(hidden)\n",
    "\n",
    "        gate_x = gate_x.squeeze()\n",
    "        gate_h = gate_h.squeeze()\n",
    "        i_r, i_i, i_n = gate_x.chunk(3, 1)\n",
    "        h_r, h_i, h_n = gate_h.chunk(3, 1)\n",
    "\n",
    "\n",
    "        reset_gate = torch.sigmoid(i_r + h_r)\n",
    "        update_gate = torch.sigmoid(i_i + h_i)\n",
    "        next_gate = torch.tanh(i_n + (reset_gate * h_n))\n",
    "\n",
    "        h_y = next_gate + update_gate * (hidden - next_gate)\n",
    "\n",
    "        return h_y\n",
    "\n",
    "#create GRU model class\n",
    "class GRUModel(nn.Module):\n",
    "    def __init__(self, in_dim, emb_dim, hidden_dim, num_layers, out_size, bias=True, mode=\"zeros\"):\n",
    "        super(GRUModel, self).__init__()\n",
    "        self.hidden_dim = hidden_dim\n",
    "        self.num_layers = num_layers\n",
    "        self.mode = mode\n",
    "        self.encoder = nn.Linear(in_features=in_dim, out_features=emb_dim)\n",
    "        \n",
    "        grus = []\n",
    "        for i in range(num_layers):\n",
    "            in_size = emb_dim if i == 0 else hidden_dim\n",
    "            grus.append(GRU(in_dim=in_size, hidden_dim=hidden_dim))\n",
    "        self.gru = nn.ModuleList(grus)\n",
    "        \n",
    "        # classifier\n",
    "        self.fc = nn.Linear(hidden_dim, out_size)\n",
    "        \n",
    "    def init_state(self, b_size, device):\n",
    "        \"\"\" Initializing hidden and cell state \"\"\"\n",
    "        if(self.mode == \"zeros\"):\n",
    "            h = torch.zeros(self.num_layers,b_size, self.hidden_dim).to(device) \n",
    "            c = torch.zeros(self.num_layers,b_size, self.hidden_dim).to(device) \n",
    "        elif(self.mode == \"random\"):\n",
    "            h = torch.zeros(self.num_layers,b_size, self.hidden_dim).to(device) \n",
    "            c = torch.zeros(self.num_layers,b_size, self.hidden_dim).to(device) \n",
    "        return h, c\n",
    "    \n",
    "    \n",
    "    def forward(self, x):\n",
    "        b_size, n_channels, n_rows, n_cols = x.shape\n",
    "        # Initialize hidden state with zeros\n",
    "        h, c = self.init_state(b_size=b_size, device=x.device) \n",
    "        \n",
    "        # embedding rows\n",
    "        x_rowed = x.view(b_size, n_channels*n_rows, n_cols)\n",
    "\n",
    "        embeddings = self.encoder(x_rowed)\n",
    "        \n",
    "        out = []\n",
    "        for i in range(embeddings.shape[1]):\n",
    "            gru_input = embeddings[:, i, :]\n",
    "            # iterating over GRU Cells\n",
    "            for j, lstm_cell in enumerate(self.gru):\n",
    "                h[j] = lstm_cell(gru_input, (h[j].clone()))\n",
    "                gru_input = h[j]\n",
    "            out.append(gru_input)\n",
    "        out = torch.stack(out, dim=1)\n",
    "\n",
    "        # classifying\n",
    "        y = self.fc(out[:, -1, :])  # feeding only output at last layer\n",
    "        return y\n",
    "        "
   ]
  },
  {
   "cell_type": "code",
   "execution_count": 22,
   "metadata": {},
   "outputs": [
    {
     "data": {
      "text/plain": [
       "77642"
      ]
     },
     "execution_count": 22,
     "metadata": {},
     "output_type": "execute_result"
    }
   ],
   "source": [
    "model_GRU = GRUModel(in_dim=28, emb_dim=64, hidden_dim=128, num_layers=1,out_size=10, mode=\"zeros\")\n",
    "count_model_params(model_GRU)"
   ]
  },
  {
   "cell_type": "code",
   "execution_count": 23,
   "metadata": {},
   "outputs": [
    {
     "name": "stdout",
     "output_type": "stream",
     "text": [
      "GRUModel(\n",
      "  (encoder): Linear(in_features=28, out_features=64, bias=True)\n",
      "  (gru): ModuleList(\n",
      "    (0): GRU(\n",
      "      (layer1): Linear(in_features=64, out_features=384, bias=True)\n",
      "      (layer2): Linear(in_features=128, out_features=384, bias=True)\n",
      "    )\n",
      "  )\n",
      "  (fc): Linear(in_features=128, out_features=10, bias=True)\n",
      ")\n"
     ]
    }
   ],
   "source": [
    "model_GRU = model_GRU.to(device)\n",
    "print(model_GRU)"
   ]
  },
  {
   "cell_type": "code",
   "execution_count": 24,
   "metadata": {},
   "outputs": [],
   "source": [
    "# classification loss function\n",
    "criterion = nn.CrossEntropyLoss()\n",
    "\n",
    "# Observe that all parameters are being optimized\n",
    "optimizer = torch.optim.Adam(model_GRU.parameters(), lr=3e-4)\n",
    "\n",
    "# Decay LR by a factor of 0.1 every 5 epochs\n",
    "scheduler = torch.optim.lr_scheduler.StepLR(optimizer, step_size=5, gamma=0.2)"
   ]
  },
  {
   "cell_type": "code",
   "execution_count": 25,
   "metadata": {},
   "outputs": [
    {
     "name": "stderr",
     "output_type": "stream",
     "text": [
      "Epoch 1 Iter 235: loss 0.80896. : 100%|██████████████████████████████████████████████| 235/235 [00:15<00:00, 15.35it/s]\n"
     ]
    },
    {
     "name": "stdout",
     "output_type": "stream",
     "text": [
      "Epoch 1/20\n",
      "    Train loss: 1.48464\n",
      "    Valid loss: 2.30677\n",
      "    Accuracy: 9.8%\n",
      "\n",
      "\n"
     ]
    },
    {
     "name": "stderr",
     "output_type": "stream",
     "text": [
      "Epoch 2 Iter 235: loss 0.49805. : 100%|██████████████████████████████████████████████| 235/235 [00:15<00:00, 15.44it/s]\n"
     ]
    },
    {
     "name": "stdout",
     "output_type": "stream",
     "text": [
      "Epoch 2/20\n",
      "    Train loss: 0.61179\n",
      "    Valid loss: 0.78551\n",
      "    Accuracy: 76.02%\n",
      "\n",
      "\n"
     ]
    },
    {
     "name": "stderr",
     "output_type": "stream",
     "text": [
      "Epoch 3 Iter 235: loss 0.18038. : 100%|██████████████████████████████████████████████| 235/235 [00:15<00:00, 15.58it/s]\n"
     ]
    },
    {
     "name": "stdout",
     "output_type": "stream",
     "text": [
      "Epoch 3/20\n",
      "    Train loss: 0.38162\n",
      "    Valid loss: 0.44842\n",
      "    Accuracy: 86.42%\n",
      "\n",
      "\n"
     ]
    },
    {
     "name": "stderr",
     "output_type": "stream",
     "text": [
      "Epoch 4 Iter 235: loss 0.12133. : 100%|██████████████████████████████████████████████| 235/235 [00:15<00:00, 15.63it/s]\n"
     ]
    },
    {
     "name": "stdout",
     "output_type": "stream",
     "text": [
      "Epoch 4/20\n",
      "    Train loss: 0.27297\n",
      "    Valid loss: 0.3079\n",
      "    Accuracy: 90.48%\n",
      "\n",
      "\n"
     ]
    },
    {
     "name": "stderr",
     "output_type": "stream",
     "text": [
      "Epoch 5 Iter 235: loss 0.32854. : 100%|██████████████████████████████████████████████| 235/235 [00:15<00:00, 15.48it/s]\n"
     ]
    },
    {
     "name": "stdout",
     "output_type": "stream",
     "text": [
      "Epoch 5/20\n",
      "    Train loss: 0.21069\n",
      "    Valid loss: 0.21729\n",
      "    Accuracy: 93.52000000000001%\n",
      "\n",
      "\n"
     ]
    },
    {
     "name": "stderr",
     "output_type": "stream",
     "text": [
      "Epoch 6 Iter 235: loss 0.07699. : 100%|██████████████████████████████████████████████| 235/235 [00:15<00:00, 15.42it/s]\n"
     ]
    },
    {
     "name": "stdout",
     "output_type": "stream",
     "text": [
      "Epoch 6/20\n",
      "    Train loss: 0.17521\n",
      "    Valid loss: 0.18067\n",
      "    Accuracy: 94.71000000000001%\n",
      "\n",
      "\n"
     ]
    },
    {
     "name": "stderr",
     "output_type": "stream",
     "text": [
      "Epoch 7 Iter 235: loss 0.10671. : 100%|██████████████████████████████████████████████| 235/235 [00:15<00:00, 15.59it/s]\n"
     ]
    },
    {
     "name": "stdout",
     "output_type": "stream",
     "text": [
      "Epoch 7/20\n",
      "    Train loss: 0.16784\n",
      "    Valid loss: 0.16429\n",
      "    Accuracy: 95.19%\n",
      "\n",
      "\n"
     ]
    },
    {
     "name": "stderr",
     "output_type": "stream",
     "text": [
      "Epoch 8 Iter 235: loss 0.13321. : 100%|██████████████████████████████████████████████| 235/235 [00:15<00:00, 15.38it/s]\n"
     ]
    },
    {
     "name": "stdout",
     "output_type": "stream",
     "text": [
      "Epoch 8/20\n",
      "    Train loss: 0.16135\n",
      "    Valid loss: 0.15806\n",
      "    Accuracy: 95.30999999999999%\n",
      "\n",
      "\n"
     ]
    },
    {
     "name": "stderr",
     "output_type": "stream",
     "text": [
      "Epoch 9 Iter 235: loss 0.24852. : 100%|██████████████████████████████████████████████| 235/235 [00:15<00:00, 15.42it/s]\n"
     ]
    },
    {
     "name": "stdout",
     "output_type": "stream",
     "text": [
      "Epoch 9/20\n",
      "    Train loss: 0.15578\n",
      "    Valid loss: 0.15238\n",
      "    Accuracy: 95.47%\n",
      "\n",
      "\n"
     ]
    },
    {
     "name": "stderr",
     "output_type": "stream",
     "text": [
      "Epoch 10 Iter 235: loss 0.33528. : 100%|█████████████████████████████████████████████| 235/235 [00:15<00:00, 15.59it/s]\n"
     ]
    },
    {
     "name": "stdout",
     "output_type": "stream",
     "text": [
      "Epoch 10/20\n",
      "    Train loss: 0.15015\n",
      "    Valid loss: 0.14453\n",
      "    Accuracy: 95.78%\n",
      "\n",
      "\n"
     ]
    },
    {
     "name": "stderr",
     "output_type": "stream",
     "text": [
      "Epoch 11 Iter 235: loss 0.17730. : 100%|█████████████████████████████████████████████| 235/235 [00:15<00:00, 15.42it/s]\n"
     ]
    },
    {
     "name": "stdout",
     "output_type": "stream",
     "text": [
      "Epoch 11/20\n",
      "    Train loss: 0.1442\n",
      "    Valid loss: 0.14207\n",
      "    Accuracy: 95.78999999999999%\n",
      "\n",
      "\n"
     ]
    },
    {
     "name": "stderr",
     "output_type": "stream",
     "text": [
      "Epoch 12 Iter 235: loss 0.08392. : 100%|█████████████████████████████████████████████| 235/235 [00:14<00:00, 15.74it/s]\n"
     ]
    },
    {
     "name": "stdout",
     "output_type": "stream",
     "text": [
      "Epoch 12/20\n",
      "    Train loss: 0.14268\n",
      "    Valid loss: 0.13951\n",
      "    Accuracy: 95.87%\n",
      "\n",
      "\n"
     ]
    },
    {
     "name": "stderr",
     "output_type": "stream",
     "text": [
      "Epoch 13 Iter 235: loss 0.17974. : 100%|█████████████████████████████████████████████| 235/235 [00:14<00:00, 15.86it/s]\n"
     ]
    },
    {
     "name": "stdout",
     "output_type": "stream",
     "text": [
      "Epoch 13/20\n",
      "    Train loss: 0.1418\n",
      "    Valid loss: 0.13818\n",
      "    Accuracy: 95.99%\n",
      "\n",
      "\n"
     ]
    },
    {
     "name": "stderr",
     "output_type": "stream",
     "text": [
      "Epoch 14 Iter 235: loss 0.09972. : 100%|█████████████████████████████████████████████| 235/235 [00:15<00:00, 15.44it/s]\n"
     ]
    },
    {
     "name": "stdout",
     "output_type": "stream",
     "text": [
      "Epoch 14/20\n",
      "    Train loss: 0.14055\n",
      "    Valid loss: 0.13719\n",
      "    Accuracy: 95.93%\n",
      "\n",
      "\n"
     ]
    },
    {
     "name": "stderr",
     "output_type": "stream",
     "text": [
      "Epoch 15 Iter 235: loss 0.07686. : 100%|█████████████████████████████████████████████| 235/235 [00:15<00:00, 15.22it/s]\n"
     ]
    },
    {
     "name": "stdout",
     "output_type": "stream",
     "text": [
      "Epoch 15/20\n",
      "    Train loss: 0.13935\n",
      "    Valid loss: 0.13635\n",
      "    Accuracy: 95.95%\n",
      "\n",
      "\n"
     ]
    },
    {
     "name": "stderr",
     "output_type": "stream",
     "text": [
      "Epoch 16 Iter 235: loss 0.09979. : 100%|█████████████████████████████████████████████| 235/235 [00:15<00:00, 15.25it/s]\n"
     ]
    },
    {
     "name": "stdout",
     "output_type": "stream",
     "text": [
      "Epoch 16/20\n",
      "    Train loss: 0.1382\n",
      "    Valid loss: 0.1351\n",
      "    Accuracy: 95.96000000000001%\n",
      "\n",
      "\n"
     ]
    },
    {
     "name": "stderr",
     "output_type": "stream",
     "text": [
      "Epoch 17 Iter 235: loss 0.18482. : 100%|█████████████████████████████████████████████| 235/235 [00:15<00:00, 15.41it/s]\n"
     ]
    },
    {
     "name": "stdout",
     "output_type": "stream",
     "text": [
      "Epoch 17/20\n",
      "    Train loss: 0.13822\n",
      "    Valid loss: 0.13502\n",
      "    Accuracy: 95.98%\n",
      "\n",
      "\n"
     ]
    },
    {
     "name": "stderr",
     "output_type": "stream",
     "text": [
      "Epoch 18 Iter 235: loss 0.10933. : 100%|█████████████████████████████████████████████| 235/235 [00:15<00:00, 15.45it/s]\n"
     ]
    },
    {
     "name": "stdout",
     "output_type": "stream",
     "text": [
      "Epoch 18/20\n",
      "    Train loss: 0.13776\n",
      "    Valid loss: 0.13478\n",
      "    Accuracy: 95.99%\n",
      "\n",
      "\n"
     ]
    },
    {
     "name": "stderr",
     "output_type": "stream",
     "text": [
      "Epoch 19 Iter 235: loss 0.02442. : 100%|█████████████████████████████████████████████| 235/235 [00:15<00:00, 15.44it/s]\n"
     ]
    },
    {
     "name": "stdout",
     "output_type": "stream",
     "text": [
      "Epoch 19/20\n",
      "    Train loss: 0.13731\n",
      "    Valid loss: 0.1345\n",
      "    Accuracy: 95.98%\n",
      "\n",
      "\n"
     ]
    },
    {
     "name": "stderr",
     "output_type": "stream",
     "text": [
      "Epoch 20 Iter 235: loss 0.10647. : 100%|█████████████████████████████████████████████| 235/235 [00:15<00:00, 15.56it/s]"
     ]
    },
    {
     "name": "stdout",
     "output_type": "stream",
     "text": [
      "Epoch 20/20\n",
      "    Train loss: 0.13731\n",
      "    Valid loss: 0.13439\n",
      "    Accuracy: 96.00999999999999%\n",
      "\n",
      "\n",
      "Training completed\n"
     ]
    },
    {
     "name": "stderr",
     "output_type": "stream",
     "text": [
      "\n"
     ]
    }
   ],
   "source": [
    "train_loss_gru, val_loss_gru, loss_iters_gru, valid_acc_gru, epochs_gru = train_model(\n",
    "        model=model_GRU, optimizer=optimizer, scheduler=scheduler, criterion=criterion,\n",
    "        train_loader=train_loader, valid_loader=test_loader, num_epochs=20\n",
    "    )"
   ]
  },
  {
   "cell_type": "code",
   "execution_count": 26,
   "metadata": {},
   "outputs": [
    {
     "data": {
      "image/png": "[encoded data removed]",
      "text/plain": [
       "<Figure size 1296x360 with 2 Axes>"
      ]
     },
     "metadata": {},
     "output_type": "display_data"
    }
   ],
   "source": [
    "plt.style.use('seaborn')\n",
    "fig, ax = plt.subplots(1,2)\n",
    "fig.set_size_inches(18, 5)\n",
    "\n",
    "ax[0].plot(epochs_gru, val_loss_gru, label=\"Train_loss\", linewidth=2)\n",
    "ax[0].plot(epochs_gru, train_loss_gru, label=\"Val Loss\", c='red', linewidth=2)\n",
    "ax[0].legend(loc='best')\n",
    "ax[0].set_xlabel(\"Epochs\")\n",
    "ax[0].set_ylabel(\"Error\")\n",
    "ax[0].set_xticks(np.arange(2, 19, step=2))\n",
    "\n",
    "ax[0].set_title(\"Loss curves\")\n",
    "\n",
    "\n",
    "ax[1].plot(epochs_gru, valid_acc_gru, label=\"Accuracy\", linewidth=2)\n",
    "ax[1].set_xlabel(\"Epochs\")\n",
    "ax[1].set_ylabel(\"Accuracy\")\n",
    "ax[1].set_xticks(np.arange(2, 19, step=2))\n",
    "\n",
    "ax[1].set_title(f\"Valdiation Accuracy (max={round(np.max(valid_acc_gru),2)}% @ epoch {np.argmax(valid_acc_gru)+1})\")\n",
    "\n",
    "plt.show()"
   ]
  },
  {
   "cell_type": "code",
   "execution_count": 29,
   "metadata": {},
   "outputs": [
    {
     "data": {
      "image/png": "[encoded data removed]",
      "text/plain": [
       "<Figure size 720x360 with 1 Axes>"
      ]
     },
     "metadata": {},
     "output_type": "display_data"
    }
   ],
   "source": [
    "plt.style.use('seaborn')\n",
    "fig, ax = plt.subplots(1,1)\n",
    "fig.set_size_inches(10, 5)\n",
    "\n",
    "ax.plot(epochs_cuslstm, valid_acc_cuslstm, linewidth=2,label=\"Accuracy of Custom GRU\")\n",
    "ax.plot(epochs_lstm, valid_acc_lstm, label=\"Accuracy of Pytorch LSTM\",c='red', linewidth=2)\n",
    "ax.plot(epochs_gru, valid_acc_gru, label=\"Accuracy of GRU\",c='green', linewidth=2)\n",
    "ax.legend(loc='best')\n",
    "ax.set_xlabel(\"Epochs\")\n",
    "ax.set_ylabel(\"Accuracy\")\n",
    "ax.set_xticks(np.arange(2, 19, step=2))\n",
    "\n",
    "ax.set_title(f\"Valdiation Accuracy of all models\")\n",
    "\n",
    "plt.show()"
   ]
  },
  {
   "cell_type": "markdown",
   "metadata": {},
   "source": [
    "Model trained with GRU achieves almost the same results as the model trained using Pytorchs LSTM."
   ]
  },
  {
   "cell_type": "markdown",
   "metadata": {},
   "source": [
    "## References\n",
    "https://towardsdatascience.com/building-a-lstm-by-hand-on-pytorch-59c02a4ec091\n"
   ]
  },
  {
   "cell_type": "code",
   "execution_count": null,
   "metadata": {},
   "outputs": [],
   "source": []
  }
 ],
 "metadata": {
  "accelerator": "GPU",
  "colab": {
   "collapsed_sections": [],
   "name": "Sheet5.ipynb",
   "provenance": []
  },
  "kernelspec": {
   "display_name": "Python 3 (ipykernel)",
   "language": "python",
   "name": "python3"
  },
  "language_info": {
   "codemirror_mode": {
    "name": "ipython",
    "version": 3
   },
   "file_extension": ".py",
   "mimetype": "text/x-python",
   "name": "python",
   "nbconvert_exporter": "python",
   "pygments_lexer": "ipython3",
   "version": "3.8.12"
  }
 },
 "nbformat": 4,
 "nbformat_minor": 1
}

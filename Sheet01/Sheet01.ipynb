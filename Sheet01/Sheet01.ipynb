{
 "cells": [
  {
   "cell_type": "code",
   "execution_count": 1,
   "id": "40fe6d60",
   "metadata": {},
   "outputs": [],
   "source": [
    "import torch\n",
    "import torch.nn as nn\n",
    "import torchvision.transforms as transforms\n",
    "import torchvision.datasets as datasets\n",
    "import torchvision\n",
    "\n",
    "import matplotlib.pyplot as plt\n",
    "from torch.utils.data import DataLoader\n",
    "import numpy as np\n",
    "import torch.nn.functional as F\n",
    "from tqdm import tqdm\n"
   ]
  },
  {
   "cell_type": "code",
   "execution_count": 2,
   "id": "dac51dfd",
   "metadata": {},
   "outputs": [],
   "source": [
    "transformations = transforms.Compose([transforms.ToTensor(), \n",
    "                        transforms.Lambda(lambda img: img.squeeze().reshape(784))])\n",
    "\n",
    "trans_target = lambda label: F.one_hot(torch.tensor(label), num_classes=10)\n",
    "\n",
    "\n",
    "train_dataset = torchvision.datasets.MNIST(root='./data', train=True, download=True, transform=transformations , target_transform=trans_target)\n",
    "test_dataset = torchvision.datasets.MNIST(root='./data', train=False, download=True, transform=transformations , target_transform=trans_target)\n",
    "# fig, ax = plt.subplots(nrows=1, ncols=1)\n",
    "# ax.imshow(img, cmap=plt.cm.gray)\n",
    "%config Completer.use_jedi = False\n"
   ]
  },
  {
   "cell_type": "code",
   "execution_count": 3,
   "id": "6fb96a43",
   "metadata": {},
   "outputs": [
    {
     "name": "stdout",
     "output_type": "stream",
     "text": [
      "The label for this image is: 5\n"
     ]
    },
    {
     "data": {
      "image/png": "[encoded data removed]",
      "text/plain": [
       "<Figure size 1080x360 with 2 Axes>"
      ]
     },
     "metadata": {
      "needs_background": "light"
     },
     "output_type": "display_data"
    }
   ],
   "source": [
    "# Visualizing the images and lables\n",
    "fig, ax = plt.subplots()\n",
    "fig.set_size_inches(15,5)\n",
    "\n",
    "img = train_dataset[0][0].numpy().reshape(28, 28)\n",
    "im = ax.imshow(img, cmap=plt.cm.gray)\n",
    "fig.colorbar(im)\n",
    "ax.set_title(\"Image\")\n",
    "print(f\"The label for this image is: {train_dataset[0][1].argmax()}\")"
   ]
  },
  {
   "cell_type": "code",
   "execution_count": 4,
   "id": "3873556c",
   "metadata": {},
   "outputs": [],
   "source": [
    "#Dataloader \n",
    "batch_size = 20\n",
    "train_loader = DataLoader(\n",
    "                dataset= train_dataset,\n",
    "                batch_size=batch_size,\n",
    "                shuffle=False) \n",
    "test_loader = DataLoader(\n",
    "                dataset = test_dataset,\n",
    "                batch_size=batch_size,\n",
    "                shuffle=True)\n"
   ]
  },
  {
   "cell_type": "code",
   "execution_count": 14,
   "id": "eac1692f",
   "metadata": {},
   "outputs": [],
   "source": [
    "class NeuralNet():\n",
    "    def __init__(self, LR, batch_size):\n",
    "        np.random.seed(0)\n",
    "\n",
    "        self.layer1 = np.random.uniform(-0.5, 0.5, (784, 64))\n",
    "        self.layer2 = np.random.uniform(-0.5, 0.5, (64, 10))\n",
    "        self.bias1 = np.zeros((1, 64))\n",
    "        self.bias2 = np.zeros((1,10))\n",
    "        self.batch_size = batch_size\n",
    "        self.LR = LR\n",
    "        \n",
    "    def sigmoid(self, x):\n",
    "        return 1/(1+np.exp(-x))\n",
    "\n",
    "    def softmax(self, z):\n",
    "        ez = np.exp(z/z.max())\n",
    "        sum_ez = np.sum(ez, axis=0)\n",
    "        return ez / (sum_ez)    \n",
    "    \n",
    "    def d_sigmoid(self, x):\n",
    "        return self.sigmoid(x) * (1 - self.sigmoid(x))\n",
    "    \n",
    "    def d_softmax(self, a, y):\n",
    "        result = np.sum((a-y).T * (np.diag(a.squeeze()) - np.multiply(a, a.T)), axis=1)\n",
    "        return result\n",
    "    \n",
    "    def forward(self, x):\n",
    "        self.x = x\n",
    "        self.m1 = np.dot(x, self.layer1) + self.bias1\n",
    "        self.z1 = self.sigmoid(self.m1)\n",
    "        self.z2 = np.dot(self.z1, self.layer2) + self.bias2\n",
    "        self.y_pred = self.softmax(self.z2)\n",
    "        return self.y_pred\n",
    "    \n",
    "    def backpass(self, y):\n",
    "        d_pred = np.empty((self.batch_size, 10))\n",
    "        for i in range(self.batch_size):\n",
    "            d_pred[i] = self.d_softmax(self.y_pred[i], y[i])\n",
    "        \n",
    "        d_m1 = self.d_sigmoid(self.m1) * (np.dot(d_pred, self.layer2.T))\n",
    "        d_layer1 = 1/self.batch_size * np.dot(self.x.T, d_m1)\n",
    "        d_layer2 = 1/self.batch_size * np.dot(self.z1.T, d_pred)\n",
    "#         d_bias1 = 1/self.batch_size * (self.x @ self.layer1)* d_m1\n",
    "#         d_bias2 = 1/self.batch_size * (self.z1 @ self.layer2) * d_pred\n",
    "        \n",
    "#         assert d_bias1.shape == (self.batch_size, 64)\n",
    "#         assert d_bias2.shape == (self.batch_size, 10)\n",
    "        \n",
    "        self.layer1 = self.layer1 - self.LR * d_layer1\n",
    "        self.layer2 = self.layer2 - self.LR * d_layer2\n",
    "#         self.bias1 = self.bias1 - self.LR * d_bias1\n",
    "#         self.bias2 = self.bias2 - self.LR * d_bias2\n",
    "        \n",
    "    \n",
    "    def mse(self, y, pred):\n",
    "        return np.sum(np.sum((pred - y)**2, axis=1))/self.batch_size "
   ]
  },
  {
   "cell_type": "code",
   "execution_count": 15,
   "id": "9af4c2ea",
   "metadata": {},
   "outputs": [],
   "source": [
    "# Training\n",
    "def training(EPOCHS = 500, print_every=25):\n",
    "    loss_list = []\n",
    "    for epoch in tqdm(range(EPOCHS)):\n",
    "        total_loss = 0.0\n",
    "        for x,y in train_loader:\n",
    "            x,y = x.numpy(), y.numpy()\n",
    "            pred = net.forward(x)\n",
    "\n",
    "            loss = net.mse(y, pred)\n",
    "            \n",
    "            net.backpass(y)\n",
    "            total_loss += loss\n",
    "        loss_list.append(total_loss)\n",
    "        \n",
    "        if (epoch+1) % print_every == 0 or epoch == 0:\n",
    "            print(f\"Epoch {epoch + 1} has loss {total_loss}\")\n",
    "    return loss_list"
   ]
  },
  {
   "cell_type": "code",
   "execution_count": 16,
   "id": "1fc25f3a",
   "metadata": {},
   "outputs": [
    {
     "name": "stderr",
     "output_type": "stream",
     "text": [
      "  0%|                                         | 1/500 [00:07<1:05:36,  7.89s/it]"
     ]
    },
    {
     "name": "stdout",
     "output_type": "stream",
     "text": [
      "Epoch 1 has loss 2740.3569528552644\n"
     ]
    },
    {
     "name": "stderr",
     "output_type": "stream",
     "text": [
      "  5%|██                                        | 25/500 [03:07<57:01,  7.20s/it]"
     ]
    },
    {
     "name": "stdout",
     "output_type": "stream",
     "text": [
      "Epoch 25 has loss 2696.932893172238\n"
     ]
    },
    {
     "name": "stderr",
     "output_type": "stream",
     "text": [
      " 10%|████▏                                     | 50/500 [06:12<56:10,  7.49s/it]"
     ]
    },
    {
     "name": "stdout",
     "output_type": "stream",
     "text": [
      "Epoch 50 has loss 2691.493707132148\n"
     ]
    },
    {
     "name": "stderr",
     "output_type": "stream",
     "text": [
      " 15%|██████▎                                   | 75/500 [09:13<50:02,  7.07s/it]"
     ]
    },
    {
     "name": "stdout",
     "output_type": "stream",
     "text": [
      "Epoch 75 has loss 2689.0156091933454\n"
     ]
    },
    {
     "name": "stderr",
     "output_type": "stream",
     "text": [
      " 20%|████████▏                                | 100/500 [12:14<49:00,  7.35s/it]"
     ]
    },
    {
     "name": "stdout",
     "output_type": "stream",
     "text": [
      "Epoch 100 has loss 2687.5069720298306\n"
     ]
    },
    {
     "name": "stderr",
     "output_type": "stream",
     "text": [
      " 25%|██████████▎                              | 125/500 [15:24<47:37,  7.62s/it]"
     ]
    },
    {
     "name": "stdout",
     "output_type": "stream",
     "text": [
      "Epoch 125 has loss 2686.4804618536173\n"
     ]
    },
    {
     "name": "stderr",
     "output_type": "stream",
     "text": [
      " 30%|████████████▎                            | 150/500 [18:30<43:28,  7.45s/it]"
     ]
    },
    {
     "name": "stdout",
     "output_type": "stream",
     "text": [
      "Epoch 150 has loss 2685.7226064102165\n"
     ]
    },
    {
     "name": "stderr",
     "output_type": "stream",
     "text": [
      " 35%|██████████████▎                          | 175/500 [21:35<40:26,  7.47s/it]"
     ]
    },
    {
     "name": "stdout",
     "output_type": "stream",
     "text": [
      "Epoch 175 has loss 2685.1394789726173\n"
     ]
    },
    {
     "name": "stderr",
     "output_type": "stream",
     "text": [
      " 40%|████████████████▍                        | 200/500 [24:39<36:55,  7.38s/it]"
     ]
    },
    {
     "name": "stdout",
     "output_type": "stream",
     "text": [
      "Epoch 200 has loss 2684.665888921953\n"
     ]
    },
    {
     "name": "stderr",
     "output_type": "stream",
     "text": [
      " 45%|██████████████████▍                      | 225/500 [27:45<34:08,  7.45s/it]"
     ]
    },
    {
     "name": "stdout",
     "output_type": "stream",
     "text": [
      "Epoch 225 has loss 2684.265383154756\n"
     ]
    },
    {
     "name": "stderr",
     "output_type": "stream",
     "text": [
      " 50%|████████████████████▌                    | 250/500 [30:50<30:41,  7.37s/it]"
     ]
    },
    {
     "name": "stdout",
     "output_type": "stream",
     "text": [
      "Epoch 250 has loss 2683.9203360197307\n"
     ]
    },
    {
     "name": "stderr",
     "output_type": "stream",
     "text": [
      " 55%|██████████████████████▌                  | 275/500 [33:57<27:56,  7.45s/it]"
     ]
    },
    {
     "name": "stdout",
     "output_type": "stream",
     "text": [
      "Epoch 275 has loss 2683.6228633675173\n"
     ]
    },
    {
     "name": "stderr",
     "output_type": "stream",
     "text": [
      " 60%|████████████████████████▌                | 300/500 [37:02<25:07,  7.54s/it]"
     ]
    },
    {
     "name": "stdout",
     "output_type": "stream",
     "text": [
      "Epoch 300 has loss 2683.364808038063\n"
     ]
    },
    {
     "name": "stderr",
     "output_type": "stream",
     "text": [
      " 65%|██████████████████████████▋              | 325/500 [40:05<21:01,  7.21s/it]"
     ]
    },
    {
     "name": "stdout",
     "output_type": "stream",
     "text": [
      "Epoch 325 has loss 2683.1360795560036\n"
     ]
    },
    {
     "name": "stderr",
     "output_type": "stream",
     "text": [
      " 70%|████████████████████████████▋            | 350/500 [43:06<18:12,  7.29s/it]"
     ]
    },
    {
     "name": "stdout",
     "output_type": "stream",
     "text": [
      "Epoch 350 has loss 2682.9293978200426\n"
     ]
    },
    {
     "name": "stderr",
     "output_type": "stream",
     "text": [
      " 75%|██████████████████████████████▊          | 375/500 [46:08<15:14,  7.31s/it]"
     ]
    },
    {
     "name": "stdout",
     "output_type": "stream",
     "text": [
      "Epoch 375 has loss 2682.741109648585\n"
     ]
    },
    {
     "name": "stderr",
     "output_type": "stream",
     "text": [
      " 80%|████████████████████████████████▊        | 400/500 [49:08<12:04,  7.25s/it]"
     ]
    },
    {
     "name": "stdout",
     "output_type": "stream",
     "text": [
      "Epoch 400 has loss 2682.573903183264\n"
     ]
    },
    {
     "name": "stderr",
     "output_type": "stream",
     "text": [
      " 85%|██████████████████████████████████▊      | 425/500 [52:11<09:04,  7.26s/it]"
     ]
    },
    {
     "name": "stdout",
     "output_type": "stream",
     "text": [
      "Epoch 425 has loss 2682.4151455044666\n"
     ]
    },
    {
     "name": "stderr",
     "output_type": "stream",
     "text": [
      " 90%|████████████████████████████████████▉    | 450/500 [55:14<06:03,  7.27s/it]"
     ]
    },
    {
     "name": "stdout",
     "output_type": "stream",
     "text": [
      "Epoch 450 has loss 2682.265117943924\n"
     ]
    },
    {
     "name": "stderr",
     "output_type": "stream",
     "text": [
      " 95%|██████████████████████████████████████▉  | 475/500 [58:15<03:01,  7.25s/it]"
     ]
    },
    {
     "name": "stdout",
     "output_type": "stream",
     "text": [
      "Epoch 475 has loss 2682.1273545553377\n"
     ]
    },
    {
     "name": "stderr",
     "output_type": "stream",
     "text": [
      "100%|███████████████████████████████████████| 500/500 [1:01:17<00:00,  7.35s/it]"
     ]
    },
    {
     "name": "stdout",
     "output_type": "stream",
     "text": [
      "Epoch 500 has loss 2682.0002170895723\n"
     ]
    },
    {
     "name": "stderr",
     "output_type": "stream",
     "text": [
      "\n"
     ]
    }
   ],
   "source": [
    "LR = 0.1\n",
    "net = NeuralNet(LR, batch_size)\n",
    "loss_list = training()"
   ]
  },
  {
   "cell_type": "code",
   "execution_count": 1,
   "id": "af80bc80",
   "metadata": {},
   "outputs": [],
   "source": [
    "# Testing\n",
    "def testing(test_loader, net):\n",
    "    total_corr = 0\n",
    "    for x, y in test_loader:\n",
    "        output = net.forward(x)\n",
    "\n",
    "        pred = torch.argmax(torch.Tensor(output), dim=1)\n",
    "        gt = torch.argmax(y, axis=1)\n",
    "\n",
    "        correct = torch.count_nonzero(pred == gt)\n",
    "        total_corr += correct\n",
    "\n",
    "    return (total_corr/len(test_dataset))"
   ]
  }
 ],
 "metadata": {
  "kernelspec": {
   "display_name": "Python 3",
   "language": "python",
   "name": "python3"
  },
  "language_info": {
   "codemirror_mode": {
    "name": "ipython",
    "version": 3
   },
   "file_extension": ".py",
   "mimetype": "text/x-python",
   "name": "python",
   "nbconvert_exporter": "python",
   "pygments_lexer": "ipython3",
   "version": "3.8.12"
  }
 },
 "nbformat": 4,
 "nbformat_minor": 5
}

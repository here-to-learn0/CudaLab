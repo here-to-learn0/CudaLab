{
 "cells": [
  {
   "cell_type": "code",
   "execution_count": 1,
   "id": "40fe6d60",
   "metadata": {},
   "outputs": [],
   "source": [
    "import torch\n",
    "import torch.nn as nn\n",
    "import torchvision.transforms as transforms\n",
    "import torchvision.datasets as datasets\n",
    "import torchvision\n",
    "\n",
    "import matplotlib.pyplot as plt\n",
    "from torch.utils.data import DataLoader\n",
    "import numpy as np\n",
    "import torch.nn.functional as F\n",
    "from tqdm import tqdm"
   ]
  },
  {
   "cell_type": "code",
   "execution_count": 2,
   "id": "dac51dfd",
   "metadata": {},
   "outputs": [],
   "source": [
    "transformations = transforms.Compose([transforms.ToTensor(), \n",
    "                        transforms.Lambda(lambda img: img.squeeze().reshape(784))])\n",
    "\n",
    "trans_target = lambda label: F.one_hot(torch.tensor(label), num_classes=10)\n",
    "\n",
    "\n",
    "train_dataset = torchvision.datasets.MNIST(root='./data', train=True, download=True, transform=transformations , target_transform=trans_target)\n",
    "test_dataset = torchvision.datasets.MNIST(root='./data', train=False, download=True, transform=transformations , target_transform=trans_target)\n",
    "\n",
    "%config Completer.use_jedi = False\n"
   ]
  },
  {
   "cell_type": "code",
   "execution_count": 380,
   "id": "6fb96a43",
   "metadata": {},
   "outputs": [
    {
     "name": "stdout",
     "output_type": "stream",
     "text": [
      "The label for this image is: 5\n"
     ]
    },
    {
     "data": {
      "image/png": "[encoded data removed]",
      "text/plain": [
       "<Figure size 1080x360 with 2 Axes>"
      ]
     },
     "metadata": {},
     "output_type": "display_data"
    }
   ],
   "source": [
    "# Visualizing the images and lables\n",
    "def visual(img):    \n",
    "    fig, ax = plt.subplots()\n",
    "    fig.set_size_inches(15,5)\n",
    "\n",
    "    img = img.numpy().reshape(28, 28)\n",
    "    im = ax.imshow(img, cmap=plt.cm.gray)\n",
    "    fig.colorbar(im)\n",
    "    ax.set_title(\"Image\")\n",
    "    \n",
    "    \n",
    "train_img = train_dataset[0][0]\n",
    "print(f\"The label for this image is: {train_dataset[0][1].argmax()}\")\n",
    "visual(train_img)"
   ]
  },
  {
   "cell_type": "code",
   "execution_count": 253,
   "id": "3873556c",
   "metadata": {},
   "outputs": [],
   "source": [
    "#Dataloader \n",
    "batch_size = 20\n",
    "train_loader = DataLoader(\n",
    "                dataset= train_dataset,\n",
    "                batch_size=batch_size,\n",
    "                shuffle=True) \n",
    "test_loader = DataLoader(\n",
    "                dataset = test_dataset,\n",
    "                batch_size=batch_size,\n",
    "                shuffle=True)\n"
   ]
  },
  {
   "cell_type": "code",
   "execution_count": 348,
   "id": "eac1692f",
   "metadata": {},
   "outputs": [],
   "source": [
    "class NeuralNet():\n",
    "    def __init__(self, LR, batch_size):\n",
    "        np.random.seed(0)\n",
    "\n",
    "        self.layer1 = np.random.uniform(-0.5, 0.5, (784, 64))\n",
    "        self.layer2 = np.random.uniform(-0.5, 0.5, (64, 10))\n",
    "        self.batch_size = batch_size\n",
    "        self.LR = LR\n",
    "        \n",
    "    def sigmoid(self, x):\n",
    "        return 1/(1+np.exp(-x))\n",
    "\n",
    "    def softmax(self, z):\n",
    "        ez = np.exp(z)\n",
    "\n",
    "        sum_ez = np.sum(ez, axis=1, keepdims=True)        \n",
    "        return ez / (sum_ez)\n",
    "    \n",
    "    def d_sigmoid(self, x):\n",
    "        return self.sigmoid(x) * (1 - self.sigmoid(x))\n",
    "    \n",
    "    def d_softmax(self, a, y):\n",
    "        result = np.sum((a-y).T * (np.diag(a.squeeze()) - np.multiply(a, a.T)), axis=0)\n",
    "        return result\n",
    "    \n",
    "    def forward(self, x):\n",
    "        self.x = x\n",
    "        self.m1 = np.dot(x, self.layer1)\n",
    "        self.z1 = self.sigmoid(self.m1)\n",
    "        self.z2 = np.dot(self.z1, self.layer2)\n",
    "        self.y_pred = self.softmax(self.z2)\n",
    "        return self.y_pred\n",
    "    \n",
    "    def backpass(self, y):\n",
    "        d_pred = np.empty((self.batch_size, 10))\n",
    "        for i in range(self.batch_size):\n",
    "            d_pred[i] = self.d_softmax(self.y_pred[i].reshape(1, -1), y[i].reshape(1, -1))\n",
    "        \n",
    "        d_m1 = self.d_sigmoid(self.m1) * (np.dot(d_pred, self.layer2.T))\n",
    "        d_layer1 = 1/self.batch_size * np.dot(self.x.T, d_m1)\n",
    "        d_layer2 = 1/self.batch_size * np.dot(self.z1.T, d_pred)\n",
    "\n",
    "\n",
    "        self.layer1 = self.layer1 - self.LR * d_layer1\n",
    "        self.layer2 = self.layer2 - self.LR * d_layer2\n",
    "\n",
    "    \n",
    "    def mse(self, y, pred):\n",
    "        result = np.mean((pred - y)**2)\n",
    "        return result"
   ]
  },
  {
   "cell_type": "code",
   "execution_count": 359,
   "id": "9af4c2ea",
   "metadata": {},
   "outputs": [],
   "source": [
    "# Training\n",
    "def training(EPOCHS = 500, print_every=25):\n",
    "    loss_list = []\n",
    "    for epoch in tqdm(range(EPOCHS)):\n",
    "        total_loss = 0.0\n",
    "        for x,y in train_loader:\n",
    "            x,y = x.numpy(), y.numpy()\n",
    "            pred = net.forward(x)\n",
    "            loss = net.mse(y, pred)\n",
    "            \n",
    "            net.backpass(y)\n",
    "            total_loss += loss\n",
    "\n",
    "        loss_list.append(total_loss)\n",
    "        \n",
    "        if (epoch+1) % print_every == 0 or epoch == 0:\n",
    "            print(f\"Epoch {epoch + 1} has loss {total_loss}\")\n",
    "    return loss_list"
   ]
  },
  {
   "cell_type": "code",
   "execution_count": 364,
   "id": "1fc25f3a",
   "metadata": {},
   "outputs": [
    {
     "name": "stderr",
     "output_type": "stream",
     "text": [
      "  0%|                                           | 1/500 [00:07<58:38,  7.05s/it]"
     ]
    },
    {
     "name": "stdout",
     "output_type": "stream",
     "text": [
      "Epoch 1 has loss 129.28114759256576\n"
     ]
    },
    {
     "name": "stderr",
     "output_type": "stream",
     "text": [
      "  5%|██                                        | 25/500 [02:56<56:13,  7.10s/it]"
     ]
    },
    {
     "name": "stdout",
     "output_type": "stream",
     "text": [
      "Epoch 25 has loss 18.420819511805803\n"
     ]
    },
    {
     "name": "stderr",
     "output_type": "stream",
     "text": [
      " 10%|████▏                                     | 50/500 [05:53<52:54,  7.05s/it]"
     ]
    },
    {
     "name": "stdout",
     "output_type": "stream",
     "text": [
      "Epoch 50 has loss 11.797625556962798\n"
     ]
    },
    {
     "name": "stderr",
     "output_type": "stream",
     "text": [
      " 15%|██████▎                                   | 75/500 [08:49<49:53,  7.04s/it]"
     ]
    },
    {
     "name": "stdout",
     "output_type": "stream",
     "text": [
      "Epoch 75 has loss 8.674718175199601\n"
     ]
    },
    {
     "name": "stderr",
     "output_type": "stream",
     "text": [
      " 20%|████████▏                                | 100/500 [11:46<47:02,  7.06s/it]"
     ]
    },
    {
     "name": "stdout",
     "output_type": "stream",
     "text": [
      "Epoch 100 has loss 6.794869413060973\n"
     ]
    },
    {
     "name": "stderr",
     "output_type": "stream",
     "text": [
      " 25%|██████████▎                              | 125/500 [14:43<43:53,  7.02s/it]"
     ]
    },
    {
     "name": "stdout",
     "output_type": "stream",
     "text": [
      "Epoch 125 has loss 5.567025445478976\n"
     ]
    },
    {
     "name": "stderr",
     "output_type": "stream",
     "text": [
      " 30%|████████████▎                            | 150/500 [17:38<40:45,  6.99s/it]"
     ]
    },
    {
     "name": "stdout",
     "output_type": "stream",
     "text": [
      "Epoch 150 has loss 4.7035805385338465\n"
     ]
    },
    {
     "name": "stderr",
     "output_type": "stream",
     "text": [
      " 35%|██████████████▎                          | 175/500 [20:33<38:06,  7.03s/it]"
     ]
    },
    {
     "name": "stdout",
     "output_type": "stream",
     "text": [
      "Epoch 175 has loss 4.05202213642856\n"
     ]
    },
    {
     "name": "stderr",
     "output_type": "stream",
     "text": [
      " 40%|████████████████▍                        | 200/500 [23:29<35:13,  7.04s/it]"
     ]
    },
    {
     "name": "stdout",
     "output_type": "stream",
     "text": [
      "Epoch 200 has loss 3.5689952891254575\n"
     ]
    },
    {
     "name": "stderr",
     "output_type": "stream",
     "text": [
      " 45%|██████████████████▍                      | 225/500 [26:25<32:26,  7.08s/it]"
     ]
    },
    {
     "name": "stdout",
     "output_type": "stream",
     "text": [
      "Epoch 225 has loss 3.1989918228979444\n"
     ]
    },
    {
     "name": "stderr",
     "output_type": "stream",
     "text": [
      " 50%|████████████████████▌                    | 250/500 [29:21<29:19,  7.04s/it]"
     ]
    },
    {
     "name": "stdout",
     "output_type": "stream",
     "text": [
      "Epoch 250 has loss 2.899951533626789\n"
     ]
    },
    {
     "name": "stderr",
     "output_type": "stream",
     "text": [
      " 55%|██████████████████████▌                  | 275/500 [32:17<26:29,  7.07s/it]"
     ]
    },
    {
     "name": "stdout",
     "output_type": "stream",
     "text": [
      "Epoch 275 has loss 2.6463649617855376\n"
     ]
    },
    {
     "name": "stderr",
     "output_type": "stream",
     "text": [
      " 60%|████████████████████████▌                | 300/500 [35:13<23:31,  7.06s/it]"
     ]
    },
    {
     "name": "stdout",
     "output_type": "stream",
     "text": [
      "Epoch 300 has loss 2.433261152780257\n"
     ]
    },
    {
     "name": "stderr",
     "output_type": "stream",
     "text": [
      " 65%|██████████████████████████▋              | 325/500 [38:08<20:26,  7.01s/it]"
     ]
    },
    {
     "name": "stdout",
     "output_type": "stream",
     "text": [
      "Epoch 325 has loss 2.254156477329811\n"
     ]
    },
    {
     "name": "stderr",
     "output_type": "stream",
     "text": [
      " 70%|████████████████████████████▋            | 350/500 [41:03<17:26,  6.98s/it]"
     ]
    },
    {
     "name": "stdout",
     "output_type": "stream",
     "text": [
      "Epoch 350 has loss 2.1029727515714325\n"
     ]
    },
    {
     "name": "stderr",
     "output_type": "stream",
     "text": [
      " 75%|██████████████████████████████▊          | 375/500 [43:59<14:33,  6.99s/it]"
     ]
    },
    {
     "name": "stdout",
     "output_type": "stream",
     "text": [
      "Epoch 375 has loss 1.9780972534069508\n"
     ]
    },
    {
     "name": "stderr",
     "output_type": "stream",
     "text": [
      " 80%|████████████████████████████████▊        | 400/500 [46:55<11:44,  7.05s/it]"
     ]
    },
    {
     "name": "stdout",
     "output_type": "stream",
     "text": [
      "Epoch 400 has loss 1.8796813565191925\n"
     ]
    },
    {
     "name": "stderr",
     "output_type": "stream",
     "text": [
      " 85%|██████████████████████████████████▊      | 425/500 [49:50<08:49,  7.07s/it]"
     ]
    },
    {
     "name": "stdout",
     "output_type": "stream",
     "text": [
      "Epoch 425 has loss 1.795682514136462\n"
     ]
    },
    {
     "name": "stderr",
     "output_type": "stream",
     "text": [
      " 90%|████████████████████████████████████▉    | 450/500 [52:46<05:51,  7.02s/it]"
     ]
    },
    {
     "name": "stdout",
     "output_type": "stream",
     "text": [
      "Epoch 450 has loss 1.720928905361394\n"
     ]
    },
    {
     "name": "stderr",
     "output_type": "stream",
     "text": [
      " 95%|██████████████████████████████████████▉  | 475/500 [55:42<02:56,  7.07s/it]"
     ]
    },
    {
     "name": "stdout",
     "output_type": "stream",
     "text": [
      "Epoch 475 has loss 1.658210597598081\n"
     ]
    },
    {
     "name": "stderr",
     "output_type": "stream",
     "text": [
      "100%|█████████████████████████████████████████| 500/500 [58:39<00:00,  7.04s/it]"
     ]
    },
    {
     "name": "stdout",
     "output_type": "stream",
     "text": [
      "Epoch 500 has loss 1.6097516689814966\n"
     ]
    },
    {
     "name": "stderr",
     "output_type": "stream",
     "text": [
      "\n"
     ]
    }
   ],
   "source": [
    "LR = 0.1\n",
    "net = NeuralNet(LR, batch_size)\n",
    "loss_list = training()"
   ]
  },
  {
   "cell_type": "code",
   "execution_count": 385,
   "id": "af80bc80",
   "metadata": {},
   "outputs": [],
   "source": [
    "# Testing\n",
    "def testing(test_loader, net):\n",
    "    total_corr = 0\n",
    "    for x, y in test_loader:\n",
    "        output = net.forward(x)\n",
    "        pred = torch.argmax(torch.Tensor(output), dim=1)\n",
    "        gt = torch.argmax(y, dim=1)\n",
    "\n",
    "        correct = torch.count_nonzero(pred == gt)\n",
    "        total_corr += correct\n",
    "\n",
    "    return (total_corr/len(test_dataset))"
   ]
  },
  {
   "cell_type": "code",
   "execution_count": 386,
   "id": "fitting-voltage",
   "metadata": {},
   "outputs": [
    {
     "name": "stdout",
     "output_type": "stream",
     "text": [
      "The accuracy of the mdoel is: 97.30\n"
     ]
    }
   ],
   "source": [
    "acc = testing(test_loader, net) * 100\n",
    "print(f\"The accuracy of the mdoel is: {acc:.2f}\")"
   ]
  },
  {
   "cell_type": "code",
   "execution_count": 387,
   "id": "ccf9b9d6",
   "metadata": {},
   "outputs": [
    {
     "name": "stdout",
     "output_type": "stream",
     "text": [
      "The label for this test image is: 7\n"
     ]
    },
    {
     "data": {
      "image/png": "[encoded data removed]",
      "text/plain": [
       "<Figure size 1080x360 with 2 Axes>"
      ]
     },
     "metadata": {},
     "output_type": "display_data"
    }
   ],
   "source": [
    "test_image = test_dataset[0][0]\n",
    "visual(test_image)\n",
    "\n",
    "output = net.forward(test_image.reshape(1, -1))\n",
    "pred = torch.argmax(torch.Tensor(output), dim=1)\n",
    "print(f\"The label for this test image is: {pred.item()}\")"
   ]
  },
  {
   "cell_type": "code",
   "execution_count": 388,
   "id": "nutritional-builder",
   "metadata": {},
   "outputs": [
    {
     "data": {
      "image/png": "[encoded data removed]",
      "text/plain": [
       "<Figure size 1296x360 with 2 Axes>"
      ]
     },
     "metadata": {},
     "output_type": "display_data"
    }
   ],
   "source": [
    "plt.style.use('seaborn')\n",
    "fig, ax = plt.subplots(1, 2)\n",
    "fig.set_size_inches(18, 5)\n",
    "\n",
    "ax[0].plot(loss_list, c=\"blue\", label=\"Training Loss\", linewidth=3, alpha=0.5)\n",
    "ax[0].legend(loc=\"best\")\n",
    "ax[0].set_xlabel(\"Iteration\")\n",
    "ax[0].set_ylabel(\"MSE Loss\")\n",
    "ax[0].set_title(\"Training Progress (linear)\")\n",
    "\n",
    "ax[1].plot(loss_list, c=\"blue\", label=\"Training Loss\", linewidth=3, alpha=0.5)\n",
    "ax[1].legend(loc=\"best\")\n",
    "ax[1].set_xlabel(\"Iteration\")\n",
    "ax[1].set_ylabel(\"MSE Loss\")\n",
    "ax[1].set_yscale(\"log\")\n",
    "ax[1].set_title(\"Training Progress (logscale)\")\n",
    "plt.show()"
   ]
  },
  {
   "cell_type": "code",
   "execution_count": null,
   "id": "ece5f1c6",
   "metadata": {},
   "outputs": [],
   "source": []
  }
 ],
 "metadata": {
  "kernelspec": {
   "display_name": "Python 3",
   "language": "python",
   "name": "python3"
  },
  "language_info": {
   "codemirror_mode": {
    "name": "ipython",
    "version": 3
   },
   "file_extension": ".py",
   "mimetype": "text/x-python",
   "name": "python",
   "nbconvert_exporter": "python",
   "pygments_lexer": "ipython3",
   "version": "3.8.12"
  }
 },
 "nbformat": 4,
 "nbformat_minor": 5
}

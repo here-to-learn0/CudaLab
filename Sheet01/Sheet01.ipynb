{
 "cells": [
  {
   "cell_type": "code",
   "execution_count": 5,
   "id": "40fe6d60",
   "metadata": {},
   "outputs": [],
   "source": [
    "import torch\n",
    "import torch.nn as nn\n",
    "import torchvision.transforms as transforms\n",
    "import torchvision.datasets as datasets\n",
    "import torchvision\n",
    "\n",
    "import matplotlib.pyplot as plt\n",
    "from torch.utils.data import DataLoader\n",
    "import numpy as np\n",
    "import torch.nn.functional as F\n",
    "from tqdm import tqdm"
   ]
  },
  {
   "cell_type": "code",
   "execution_count": 6,
   "id": "dac51dfd",
   "metadata": {},
   "outputs": [],
   "source": [
    "transformations = transforms.Compose([transforms.ToTensor(), \n",
    "                        transforms.Lambda(lambda img: img.squeeze().reshape(784))])\n",
    "\n",
    "trans_target = lambda label: F.one_hot(torch.tensor(label), num_classes=10)\n",
    "\n",
    "\n",
    "train_dataset = torchvision.datasets.MNIST(root='./data', train=True, download=True, transform=transformations , target_transform=trans_target)\n",
    "test_dataset = torchvision.datasets.MNIST(root='./data', train=False, download=True, transform=transformations , target_transform=trans_target)\n",
    "\n",
    "%config Completer.use_jedi = False\n"
   ]
  },
  {
   "cell_type": "code",
   "execution_count": 7,
   "id": "6fb96a43",
   "metadata": {},
   "outputs": [
    {
     "name": "stdout",
     "output_type": "stream",
     "text": [
      "The label for this image is: 5\n"
     ]
    },
    {
     "data": {
      "image/png": "[encoded data removed]",
      "text/plain": [
       "<Figure size 1080x360 with 2 Axes>"
      ]
     },
     "metadata": {
      "needs_background": "light"
     },
     "output_type": "display_data"
    }
   ],
   "source": [
    "# Visualizing the images and lables\n",
    "fig, ax = plt.subplots()\n",
    "fig.set_size_inches(15,5)\n",
    "\n",
    "img = train_dataset[0][0].numpy().reshape(28, 28)\n",
    "im = ax.imshow(img, cmap=plt.cm.gray)\n",
    "fig.colorbar(im)\n",
    "ax.set_title(\"Image\")\n",
    "print(f\"The label for this image is: {train_dataset[0][1].argmax()}\")"
   ]
  },
  {
   "cell_type": "code",
   "execution_count": 8,
   "id": "3873556c",
   "metadata": {},
   "outputs": [],
   "source": [
    "#Dataloader \n",
    "batch_size = 20\n",
    "train_loader = DataLoader(\n",
    "                dataset= train_dataset,\n",
    "                batch_size=batch_size,\n",
    "                shuffle=False) \n",
    "test_loader = DataLoader(\n",
    "                dataset = test_dataset,\n",
    "                batch_size=batch_size,\n",
    "                shuffle=True)\n"
   ]
  },
  {
   "cell_type": "code",
   "execution_count": 9,
   "id": "eac1692f",
   "metadata": {},
   "outputs": [],
   "source": [
    "class NeuralNet():\n",
    "    def __init__(self, LR, batch_size):\n",
    "        np.random.seed(0)\n",
    "\n",
    "        self.layer1 = np.random.uniform(-0.5, 0.5, (784, 64))\n",
    "        self.layer2 = np.random.uniform(-0.5, 0.5, (64, 10))\n",
    "#         self.bias1 = np.zeros((1, 64))\n",
    "#         self.bias2 = np.zeros((1,10))\n",
    "        self.batch_size = batch_size\n",
    "        self.LR = LR\n",
    "        \n",
    "    def sigmoid(self, x):\n",
    "        return 1/(1+np.exp(-x))\n",
    "\n",
    "    def softmax(self, z):\n",
    "        ez = np.exp(z/z.max())\n",
    "        sum_ez = np.sum(ez, axis=0)\n",
    "        return ez / (sum_ez)    \n",
    "    \n",
    "    def d_sigmoid(self, x):\n",
    "        return self.sigmoid(x) * (1 - self.sigmoid(x))\n",
    "    \n",
    "    def d_softmax(self, a, y):\n",
    "        result = np.sum((a-y).T * (np.diag(a.squeeze()) - np.multiply(a, a.T)), axis=1)\n",
    "        return result\n",
    "    \n",
    "    def forward(self, x):\n",
    "        self.x = x\n",
    "#         self.m1 = np.dot(x, self.layer1) + self.bias1\n",
    "        self.m1 = np.dot(x, self.layer1)\n",
    "        self.z1 = self.sigmoid(self.m1)\n",
    "#         self.z2 = np.dot(self.z1, self.layer2) + self.bias2\n",
    "        self.z2 = np.dot(self.z1, self.layer2)\n",
    "        self.y_pred = self.softmax(self.z2)\n",
    "        return self.y_pred\n",
    "    \n",
    "    def backpass(self, y):\n",
    "        d_pred = np.empty((self.batch_size, 10))\n",
    "        for i in range(self.batch_size):\n",
    "            d_pred[i] = self.d_softmax(self.y_pred[i], y[i])\n",
    "        \n",
    "        d_m1 = self.d_sigmoid(self.m1) * (np.dot(d_pred, self.layer2.T))\n",
    "        d_layer1 = 1/self.batch_size * np.dot(self.x.T, d_m1)\n",
    "        d_layer2 = 1/self.batch_size * np.dot(self.z1.T, d_pred)\n",
    "#         d_bias1 = 1/self.batch_size * (self.x @ self.layer1)* d_m1\n",
    "#         d_bias2 = 1/self.batch_size * (self.z1 @ self.layer2) * d_pred\n",
    "        \n",
    "#         assert d_bias1.shape == (self.batch_size, 64)\n",
    "#         assert d_bias2.shape == (self.batch_size, 10)\n",
    "        \n",
    "        self.layer1 = self.layer1 - self.LR * d_layer1\n",
    "        self.layer2 = self.layer2 - self.LR * d_layer2\n",
    "#         self.bias1 = self.bias1 - self.LR * d_bias1\n",
    "#         self.bias2 = self.bias2 - self.LR * d_bias2\n",
    "        \n",
    "    \n",
    "    def mse(self, y, pred):\n",
    "        return np.sum(np.sum((pred - y)**2, axis=1)/10)/self.batch_size "
   ]
  },
  {
   "cell_type": "code",
   "execution_count": 10,
   "id": "9af4c2ea",
   "metadata": {},
   "outputs": [],
   "source": [
    "# Training\n",
    "def training(EPOCHS = 500, print_every=25):\n",
    "    loss_list = []\n",
    "    for epoch in tqdm(range(EPOCHS)):\n",
    "        total_loss = 0.0\n",
    "        for x,y in train_loader:\n",
    "            x,y = x.numpy(), y.numpy()\n",
    "            pred = net.forward(x)\n",
    "\n",
    "            loss = net.mse(y, pred)\n",
    "            \n",
    "            net.backpass(y)\n",
    "#             print(loss)\n",
    "#             break\n",
    "#         break\n",
    "            total_loss += loss\n",
    "        loss_list.append(total_loss)\n",
    "        \n",
    "        if (epoch+1) % print_every == 0 or epoch == 0:\n",
    "            print(f\"Epoch {epoch + 1} has loss {total_loss}\")\n",
    "    return loss_list"
   ]
  },
  {
   "cell_type": "code",
   "execution_count": 11,
   "id": "1fc25f3a",
   "metadata": {},
   "outputs": [
    {
     "name": "stderr",
     "output_type": "stream",
     "text": [
      "  0%|                                           | 1/500 [00:06<58:02,  6.98s/it]"
     ]
    },
    {
     "name": "stdout",
     "output_type": "stream",
     "text": [
      "Epoch 1 has loss 274.0356952855269\n"
     ]
    },
    {
     "name": "stderr",
     "output_type": "stream",
     "text": [
      "  5%|██                                        | 25/500 [02:57<56:00,  7.07s/it]"
     ]
    },
    {
     "name": "stdout",
     "output_type": "stream",
     "text": [
      "Epoch 25 has loss 269.69328931722384\n"
     ]
    },
    {
     "name": "stderr",
     "output_type": "stream",
     "text": [
      " 10%|████▏                                     | 50/500 [05:57<55:40,  7.42s/it]"
     ]
    },
    {
     "name": "stdout",
     "output_type": "stream",
     "text": [
      "Epoch 50 has loss 269.14937071321555\n"
     ]
    },
    {
     "name": "stderr",
     "output_type": "stream",
     "text": [
      " 15%|██████▎                                   | 75/500 [08:52<48:47,  6.89s/it]"
     ]
    },
    {
     "name": "stdout",
     "output_type": "stream",
     "text": [
      "Epoch 75 has loss 268.90156091933477\n"
     ]
    },
    {
     "name": "stderr",
     "output_type": "stream",
     "text": [
      " 20%|████████▏                                | 100/500 [11:45<46:20,  6.95s/it]"
     ]
    },
    {
     "name": "stdout",
     "output_type": "stream",
     "text": [
      "Epoch 100 has loss 268.750697202982\n"
     ]
    },
    {
     "name": "stderr",
     "output_type": "stream",
     "text": [
      " 25%|██████████▎                              | 125/500 [14:40<43:35,  6.98s/it]"
     ]
    },
    {
     "name": "stdout",
     "output_type": "stream",
     "text": [
      "Epoch 125 has loss 268.64804618536124\n"
     ]
    },
    {
     "name": "stderr",
     "output_type": "stream",
     "text": [
      " 30%|████████████▎                            | 150/500 [17:36<41:19,  7.08s/it]"
     ]
    },
    {
     "name": "stdout",
     "output_type": "stream",
     "text": [
      "Epoch 150 has loss 268.5722606410221\n"
     ]
    },
    {
     "name": "stderr",
     "output_type": "stream",
     "text": [
      " 35%|██████████████▎                          | 175/500 [20:31<37:56,  7.01s/it]"
     ]
    },
    {
     "name": "stdout",
     "output_type": "stream",
     "text": [
      "Epoch 175 has loss 268.5139478972617\n"
     ]
    },
    {
     "name": "stderr",
     "output_type": "stream",
     "text": [
      " 40%|████████████████▍                        | 200/500 [23:26<34:50,  6.97s/it]"
     ]
    },
    {
     "name": "stdout",
     "output_type": "stream",
     "text": [
      "Epoch 200 has loss 268.46658889219543\n"
     ]
    },
    {
     "name": "stderr",
     "output_type": "stream",
     "text": [
      " 45%|██████████████████▍                      | 225/500 [26:23<32:02,  6.99s/it]"
     ]
    },
    {
     "name": "stdout",
     "output_type": "stream",
     "text": [
      "Epoch 225 has loss 268.42653831547625\n"
     ]
    },
    {
     "name": "stderr",
     "output_type": "stream",
     "text": [
      " 50%|████████████████████▌                    | 250/500 [29:18<29:17,  7.03s/it]"
     ]
    },
    {
     "name": "stdout",
     "output_type": "stream",
     "text": [
      "Epoch 250 has loss 268.3920336019738\n"
     ]
    },
    {
     "name": "stderr",
     "output_type": "stream",
     "text": [
      " 55%|██████████████████████▌                  | 275/500 [32:12<26:21,  7.03s/it]"
     ]
    },
    {
     "name": "stdout",
     "output_type": "stream",
     "text": [
      "Epoch 275 has loss 268.3622863367513\n"
     ]
    },
    {
     "name": "stderr",
     "output_type": "stream",
     "text": [
      " 60%|████████████████████████▌                | 300/500 [35:07<23:19,  7.00s/it]"
     ]
    },
    {
     "name": "stdout",
     "output_type": "stream",
     "text": [
      "Epoch 300 has loss 268.3364808038073\n"
     ]
    },
    {
     "name": "stderr",
     "output_type": "stream",
     "text": [
      " 65%|██████████████████████████▋              | 325/500 [38:09<21:40,  7.43s/it]"
     ]
    },
    {
     "name": "stdout",
     "output_type": "stream",
     "text": [
      "Epoch 325 has loss 268.31360795560045\n"
     ]
    },
    {
     "name": "stderr",
     "output_type": "stream",
     "text": [
      " 70%|████████████████████████████▋            | 350/500 [41:08<17:42,  7.08s/it]"
     ]
    },
    {
     "name": "stdout",
     "output_type": "stream",
     "text": [
      "Epoch 350 has loss 268.2929397820035\n"
     ]
    },
    {
     "name": "stderr",
     "output_type": "stream",
     "text": [
      " 75%|██████████████████████████████▊          | 375/500 [44:07<14:34,  7.00s/it]"
     ]
    },
    {
     "name": "stdout",
     "output_type": "stream",
     "text": [
      "Epoch 375 has loss 268.27411096485883\n"
     ]
    },
    {
     "name": "stderr",
     "output_type": "stream",
     "text": [
      " 80%|████████████████████████████████▊        | 400/500 [47:03<11:45,  7.05s/it]"
     ]
    },
    {
     "name": "stdout",
     "output_type": "stream",
     "text": [
      "Epoch 400 has loss 268.2573903183267\n"
     ]
    },
    {
     "name": "stderr",
     "output_type": "stream",
     "text": [
      " 85%|██████████████████████████████████▊      | 425/500 [49:59<08:48,  7.05s/it]"
     ]
    },
    {
     "name": "stdout",
     "output_type": "stream",
     "text": [
      "Epoch 425 has loss 268.24151455044654\n"
     ]
    },
    {
     "name": "stderr",
     "output_type": "stream",
     "text": [
      " 90%|████████████████████████████████████▉    | 450/500 [52:54<05:53,  7.06s/it]"
     ]
    },
    {
     "name": "stdout",
     "output_type": "stream",
     "text": [
      "Epoch 450 has loss 268.2265117943919\n"
     ]
    },
    {
     "name": "stderr",
     "output_type": "stream",
     "text": [
      " 95%|██████████████████████████████████████▉  | 475/500 [55:52<02:59,  7.19s/it]"
     ]
    },
    {
     "name": "stdout",
     "output_type": "stream",
     "text": [
      "Epoch 475 has loss 268.21273545553254\n"
     ]
    },
    {
     "name": "stderr",
     "output_type": "stream",
     "text": [
      "100%|█████████████████████████████████████████| 500/500 [58:51<00:00,  7.06s/it]"
     ]
    },
    {
     "name": "stdout",
     "output_type": "stream",
     "text": [
      "Epoch 500 has loss 268.2000217089569\n"
     ]
    },
    {
     "name": "stderr",
     "output_type": "stream",
     "text": [
      "\n"
     ]
    }
   ],
   "source": [
    "LR = 0.1\n",
    "net = NeuralNet(LR, batch_size)\n",
    "loss_list = training()"
   ]
  },
  {
   "cell_type": "code",
   "execution_count": 12,
   "id": "af80bc80",
   "metadata": {},
   "outputs": [],
   "source": [
    "# Testing\n",
    "def testing(test_loader, net):\n",
    "    total_corr = 0\n",
    "    for x, y in test_loader:\n",
    "        output = net.forward(x)\n",
    "        pred = torch.argmax(torch.Tensor(output), dim=1)\n",
    "        gt = torch.argmax(y, dim=1)\n",
    "\n",
    "        correct = torch.count_nonzero(pred == gt)\n",
    "        total_corr += correct\n",
    "\n",
    "    return (total_corr/len(test_dataset))"
   ]
  },
  {
   "cell_type": "code",
   "execution_count": 13,
   "id": "fitting-voltage",
   "metadata": {},
   "outputs": [
    {
     "data": {
      "text/plain": [
       "tensor(0.8479)"
      ]
     },
     "execution_count": 13,
     "metadata": {},
     "output_type": "execute_result"
    }
   ],
   "source": [
    "testing(test_loader, net)"
   ]
  },
  {
   "cell_type": "code",
   "execution_count": 15,
   "id": "nutritional-builder",
   "metadata": {},
   "outputs": [
    {
     "data": {
      "image/png": "[encoded data removed]",
      "text/plain": [
       "<Figure size 1296x360 with 2 Axes>"
      ]
     },
     "metadata": {},
     "output_type": "display_data"
    }
   ],
   "source": [
    "plt.style.use('seaborn')\n",
    "fig, ax = plt.subplots(1, 2)\n",
    "fig.set_size_inches(18, 5)\n",
    "\n",
    "ax[0].plot(loss_list, c=\"blue\", label=\"Training Loss\", linewidth=3, alpha=0.5)\n",
    "ax[0].legend(loc=\"best\")\n",
    "ax[0].set_xlabel(\"Iteration\")\n",
    "ax[0].set_ylabel(\"MSE Loss\")\n",
    "ax[0].set_title(\"Training Progress (linear)\")\n",
    "\n",
    "ax[1].plot(loss_list, c=\"blue\", label=\"Training Loss\", linewidth=3, alpha=0.5)\n",
    "ax[1].legend(loc=\"best\")\n",
    "ax[1].set_xlabel(\"Iteration\")\n",
    "ax[1].set_ylabel(\"MSE Loss\")\n",
    "ax[1].set_yscale(\"log\")\n",
    "ax[1].set_title(\"Training Progress (logscale)\")\n",
    "plt.show()"
   ]
  },
  {
   "cell_type": "code",
   "execution_count": 16,
   "id": "32c182a9",
   "metadata": {},
   "outputs": [
    {
     "data": {
      "text/plain": [
       "[274.0356952855269,\n",
       " 273.1015071964654,\n",
       " 272.6066527358886,\n",
       " 272.1865167962034,\n",
       " 271.85031589515296,\n",
       " 271.5830891090436,\n",
       " 271.35816437843613,\n",
       " 271.1642750435298,\n",
       " 270.97144297440065,\n",
       " 270.8159303081755,\n",
       " 270.6841907353311,\n",
       " 270.5541951840077,\n",
       " 270.44190138416644,\n",
       " 270.34736105960775,\n",
       " 270.26365341990567,\n",
       " 270.1884024118919,\n",
       " 270.1201344857274,\n",
       " 270.0575988901126,\n",
       " 269.99981863093495,\n",
       " 269.94434276855105,\n",
       " 269.8711962222729,\n",
       " 269.8164325157104,\n",
       " 269.7720025670296,\n",
       " 269.7311782198212,\n",
       " 269.69328931722384,\n",
       " 269.65777409466403,\n",
       " 269.6242939309633,\n",
       " 269.5926144775986,\n",
       " 269.5625743769608,\n",
       " 269.53394644367876,\n",
       " 269.506575242659,\n",
       " 269.4804475579089,\n",
       " 269.4555398865587,\n",
       " 269.43168808026434,\n",
       " 269.4088023845669,\n",
       " 269.3868280567556,\n",
       " 269.3656794183261,\n",
       " 269.3453079247109,\n",
       " 269.3257251178995,\n",
       " 269.30687436187986,\n",
       " 269.28868342170557,\n",
       " 269.27111124479444,\n",
       " 269.2541259376062,\n",
       " 269.23769183905733,\n",
       " 269.2217885681928,\n",
       " 269.2063982954309,\n",
       " 269.19148315942147,\n",
       " 269.1770182989892,\n",
       " 269.1629889285133,\n",
       " 269.14937071321555,\n",
       " 269.13616121718456,\n",
       " 269.12335071274964,\n",
       " 269.11090968334236,\n",
       " 269.0988287502934,\n",
       " 269.08707055460076,\n",
       " 269.07561682990996,\n",
       " 269.0644503820019,\n",
       " 269.05355507572335,\n",
       " 269.04292245212633,\n",
       " 269.0325360843247,\n",
       " 269.022383009321,\n",
       " 269.01245198678987,\n",
       " 269.00274293575825,\n",
       " 268.9932499489087,\n",
       " 268.9839760545996,\n",
       " 268.97491884933197,\n",
       " 268.96606391396404,\n",
       " 268.95740243682974,\n",
       " 268.9489271316731,\n",
       " 268.9406322067336,\n",
       " 268.9325020921103,\n",
       " 268.9245417187424,\n",
       " 268.91673031241254,\n",
       " 268.9090695402486,\n",
       " 268.90156091933477,\n",
       " 268.8941964266722,\n",
       " 268.8869714614814,\n",
       " 268.8798789659214,\n",
       " 268.8729111114994,\n",
       " 268.86606305452233,\n",
       " 268.85933077170614,\n",
       " 268.8527111713096,\n",
       " 268.8462021965423,\n",
       " 268.8398023056865,\n",
       " 268.8335099466329,\n",
       " 268.8273230631407,\n",
       " 268.82123921611077,\n",
       " 268.8152558959668,\n",
       " 268.80937050594963,\n",
       " 268.8035800527776,\n",
       " 268.79788148464246,\n",
       " 268.79227456049006,\n",
       " 268.7867914090248,\n",
       " 268.7813969644925,\n",
       " 268.77608252210507,\n",
       " 268.77084494367597,\n",
       " 268.76568658246725,\n",
       " 268.76061209712077,\n",
       " 268.7556129070633,\n",
       " 268.750697202982,\n",
       " 268.74585847000276,\n",
       " 268.74109229112,\n",
       " 268.73639807077484,\n",
       " 268.73177572757635,\n",
       " 268.72722476209435,\n",
       " 268.72274074906545,\n",
       " 268.7183213281353,\n",
       " 268.71396734775976,\n",
       " 268.70967407500115,\n",
       " 268.7054384155496,\n",
       " 268.7012580488944,\n",
       " 268.69713104164504,\n",
       " 268.69305792188567,\n",
       " 268.68903691549366,\n",
       " 268.68506678757427,\n",
       " 268.68114724515374,\n",
       " 268.67727781700296,\n",
       " 268.67345901247324,\n",
       " 268.6696892196602,\n",
       " 268.66596730925835,\n",
       " 268.6622923057165,\n",
       " 268.65866317185305,\n",
       " 268.65508014533106,\n",
       " 268.6515419067451,\n",
       " 268.64804618536124,\n",
       " 268.64459188962616,\n",
       " 268.64117791591093,\n",
       " 268.63780394057954,\n",
       " 268.63446911747656,\n",
       " 268.6311710329496,\n",
       " 268.6279086743185,\n",
       " 268.62468118080477,\n",
       " 268.62148793557566,\n",
       " 268.6183283233433,\n",
       " 268.61520189836835,\n",
       " 268.6121082433775,\n",
       " 268.6090469041765,\n",
       " 268.6060252781895,\n",
       " 268.6030358449457,\n",
       " 268.6000792555438,\n",
       " 268.59715673386734,\n",
       " 268.59426419891264,\n",
       " 268.5914041368747,\n",
       " 268.5885749015297,\n",
       " 268.58577643444363,\n",
       " 268.5830106268026,\n",
       " 268.5802795908816,\n",
       " 268.5775792944625,\n",
       " 268.57490665275503,\n",
       " 268.5722606410221,\n",
       " 268.569643271736,\n",
       " 268.56705197441386,\n",
       " 268.56448582344444,\n",
       " 268.561944654322,\n",
       " 268.55942832048925,\n",
       " 268.55693670969873,\n",
       " 268.55446977465624,\n",
       " 268.5520275079017,\n",
       " 268.5496099420983,\n",
       " 268.5472170588328,\n",
       " 268.54484871031883,\n",
       " 268.5425045881467,\n",
       " 268.5401842189742,\n",
       " 268.53788704807715,\n",
       " 268.53561224434424,\n",
       " 268.5333590129625,\n",
       " 268.5311265993246,\n",
       " 268.5289144058437,\n",
       " 268.5267219002569,\n",
       " 268.52454862788625,\n",
       " 268.522394096766,\n",
       " 268.52025758922986,\n",
       " 268.5181381755149,\n",
       " 268.51603512866046,\n",
       " 268.5139478972617,\n",
       " 268.51187601193,\n",
       " 268.5098194128726,\n",
       " 268.5077780573688,\n",
       " 268.5057518501133,\n",
       " 268.5037406266987,\n",
       " 268.501744114042,\n",
       " 268.49976193227735,\n",
       " 268.4977936165916,\n",
       " 268.4958386438727,\n",
       " 268.4938965924883,\n",
       " 268.4919673578741,\n",
       " 268.4900512964636,\n",
       " 268.4881520964048,\n",
       " 268.48626923157764,\n",
       " 268.4844068149384,\n",
       " 268.4825588801795,\n",
       " 268.4807250259679,\n",
       " 268.4789049569639,\n",
       " 268.4771007187938,\n",
       " 268.4753164437821,\n",
       " 268.4735456400884,\n",
       " 268.4717875978127,\n",
       " 268.47004227344627,\n",
       " 268.46830994010764,\n",
       " 268.46658889219543,\n",
       " 268.4648768772908,\n",
       " 268.4631735558348,\n",
       " 268.46148418813175,\n",
       " 268.4598073264077,\n",
       " 268.4581369647234,\n",
       " 268.4564733834349,\n",
       " 268.45481917657617,\n",
       " 268.45317330041064,\n",
       " 268.4515346200926,\n",
       " 268.4499036623982,\n",
       " 268.4482810292612,\n",
       " 268.44666707172,\n",
       " 268.445062142824,\n",
       " 268.44346663232017,\n",
       " 268.44188088466336,\n",
       " 268.4403051647484,\n",
       " 268.43873965521203,\n",
       " 268.4371843946855,\n",
       " 268.4356389605905,\n",
       " 268.43410220578335,\n",
       " 268.4325732426488,\n",
       " 268.4310520979915,\n",
       " 268.42953907541715,\n",
       " 268.4280344325141,\n",
       " 268.42653831547625,\n",
       " 268.4250507499958,\n",
       " 268.4235716306241,\n",
       " 268.4221007394336,\n",
       " 268.4206390701184,\n",
       " 268.4191852194462,\n",
       " 268.4177384857521,\n",
       " 268.41629878522593,\n",
       " 268.414866151575,\n",
       " 268.4134408121616,\n",
       " 268.4120232002849,\n",
       " 268.41061396877984,\n",
       " 268.4092232462599,\n",
       " 268.4078460580666,\n",
       " 268.4064780823475,\n",
       " 268.40511930783487,\n",
       " 268.4037697572354,\n",
       " 268.4024294934858,\n",
       " 268.4010984907157,\n",
       " 268.39977641512473,\n",
       " 268.39846282563946,\n",
       " 268.3971577972876,\n",
       " 268.3958618566135,\n",
       " 268.39457546277737,\n",
       " 268.3933002915235,\n",
       " 268.3920336019738,\n",
       " 268.390774341201,\n",
       " 268.3895215985957,\n",
       " 268.38827470579685,\n",
       " 268.38703329920577,\n",
       " 268.38579721641065,\n",
       " 268.38456637633743,\n",
       " 268.383340737625,\n",
       " 268.3821203109324,\n",
       " 268.3809051788232,\n",
       " 268.3796954729894,\n",
       " 268.3784913418666,\n",
       " 268.37729292622083,\n",
       " 268.37610034308324,\n",
       " 268.374913675767,\n",
       " 268.37373296771887,\n",
       " 268.37255821715434,\n",
       " 268.37138936941943,\n",
       " 268.3702263071612,\n",
       " 268.3690688577347,\n",
       " 268.36791923161775,\n",
       " 268.3667804146658,\n",
       " 268.3656473511373,\n",
       " 268.3645204782638,\n",
       " 268.36340013617007,\n",
       " 268.3622863367513,\n",
       " 268.361182752477,\n",
       " 268.3600884257967,\n",
       " 268.358999590828,\n",
       " 268.357916124836,\n",
       " 268.3568380726628,\n",
       " 268.3557655884991,\n",
       " 268.3546988756005,\n",
       " 268.35363810342005,\n",
       " 268.352583401074,\n",
       " 268.35153500211345,\n",
       " 268.35049331440234,\n",
       " 268.3494576186723,\n",
       " 268.3484274325935,\n",
       " 268.34740238264334,\n",
       " 268.34638240071934,\n",
       " 268.34536761442826,\n",
       " 268.34435813373295,\n",
       " 268.343353950723,\n",
       " 268.34235495824856,\n",
       " 268.34136099895005,\n",
       " 268.3403725982478,\n",
       " 268.3393908797644,\n",
       " 268.33841642633075,\n",
       " 268.3374465674841,\n",
       " 268.3364808038073,\n",
       " 268.33551896950087,\n",
       " 268.3345610118131,\n",
       " 268.3336069168593,\n",
       " 268.3326566377516,\n",
       " 268.33171004013315,\n",
       " 268.3307669250327,\n",
       " 268.3298271939498,\n",
       " 268.3288929779049,\n",
       " 268.32796366674324,\n",
       " 268.32703874213234,\n",
       " 268.32611812118097,\n",
       " 268.3252014524127,\n",
       " 268.3242882415755,\n",
       " 268.3233781045589,\n",
       " 268.322471243361,\n",
       " 268.3215688979781,\n",
       " 268.32067172125574,\n",
       " 268.31977825422854,\n",
       " 268.31888723462947,\n",
       " 268.31799850109786,\n",
       " 268.31711238575053,\n",
       " 268.3162299866067,\n",
       " 268.3153515299978,\n",
       " 268.31447732810625,\n",
       " 268.31360795560045,\n",
       " 268.3127437919931,\n",
       " 268.31188478123613,\n",
       " 268.3110303668952,\n",
       " 268.31017976418747,\n",
       " 268.30933234377187,\n",
       " 268.3084877016749,\n",
       " 268.3076456586361,\n",
       " 268.30680607929156,\n",
       " 268.30596882657926,\n",
       " 268.3051338603676,\n",
       " 268.3043011004633,\n",
       " 268.3034708898067,\n",
       " 268.30264353073096,\n",
       " 268.3018193953708,\n",
       " 268.3010011785814,\n",
       " 268.3001866199423,\n",
       " 268.299375568011,\n",
       " 268.2985672572061,\n",
       " 268.29776048573746,\n",
       " 268.2969543025065,\n",
       " 268.296148551366,\n",
       " 268.2953438359029,\n",
       " 268.2945408817289,\n",
       " 268.2937397653234,\n",
       " 268.2929397820035,\n",
       " 268.292139808788,\n",
       " 268.2913406045821,\n",
       " 268.2905467736083,\n",
       " 268.28975781363715,\n",
       " 268.2889728646908,\n",
       " 268.288193311647,\n",
       " 268.28741974094265,\n",
       " 268.286652119539,\n",
       " 268.28588853143145,\n",
       " 268.2851282005132,\n",
       " 268.2843699944389,\n",
       " 268.28361360298885,\n",
       " 268.2828589565444,\n",
       " 268.2821065706534,\n",
       " 268.281356815762,\n",
       " 268.2806096755083,\n",
       " 268.27986546353134,\n",
       " 268.2791244833839,\n",
       " 268.2783876698997,\n",
       " 268.2776561849129,\n",
       " 268.2769300536015,\n",
       " 268.2762096020505,\n",
       " 268.27549709947806,\n",
       " 268.2747964972655,\n",
       " 268.27411096485883,\n",
       " 268.27342976826185,\n",
       " 268.2727347907125,\n",
       " 268.27203073847033,\n",
       " 268.2713260392461,\n",
       " 268.2706229052288,\n",
       " 268.2699226561547,\n",
       " 268.2692257523502,\n",
       " 268.26853396226795,\n",
       " 268.26785032108836,\n",
       " 268.26717240567774,\n",
       " 268.2664991384614,\n",
       " 268.2658298094293,\n",
       " 268.2651638657176,\n",
       " 268.2645011218203,\n",
       " 268.2638415755277,\n",
       " 268.26318494338733,\n",
       " 268.26253138471674,\n",
       " 268.2618804999472,\n",
       " 268.2612319127373,\n",
       " 268.26058589822486,\n",
       " 268.25994265188797,\n",
       " 268.25930235051067,\n",
       " 268.25866477989416,\n",
       " 268.25802826654416,\n",
       " 268.2573903183267,\n",
       " 268.25675069312484,\n",
       " 268.25611056567914,\n",
       " 268.2554707198677,\n",
       " 268.2548316747299,\n",
       " 268.2541941116257,\n",
       " 268.2535591241426,\n",
       " 268.25292827716635,\n",
       " 268.25230425336696,\n",
       " 268.2516834068072,\n",
       " 268.2510630523789,\n",
       " 268.2504396130253,\n",
       " 268.249806993716,\n",
       " 268.2491674202039,\n",
       " 268.2485339037939,\n",
       " 268.2478979573638,\n",
       " 268.24724322682147,\n",
       " 268.2465854863602,\n",
       " 268.2459345535095,\n",
       " 268.24529199083634,\n",
       " 268.2446566209879,\n",
       " 268.24402460427297,\n",
       " 268.2433952021161,\n",
       " 268.24276887371707,\n",
       " 268.2421425090732,\n",
       " 268.24151455044654,\n",
       " 268.24088688975235,\n",
       " 268.2402579940784,\n",
       " 268.2396290025879,\n",
       " 268.2390011530173,\n",
       " 268.2383786269134,\n",
       " 268.2377632946966,\n",
       " 268.23715239892914,\n",
       " 268.2365458938515,\n",
       " 268.23594483781,\n",
       " 268.23534620111377,\n",
       " 268.23474478773034,\n",
       " 268.2341475193996,\n",
       " 268.2335520329691,\n",
       " 268.23296431523835,\n",
       " 268.23237417344666,\n",
       " 268.23178270800764,\n",
       " 268.2311914791653,\n",
       " 268.2305996300968,\n",
       " 268.2300089852336,\n",
       " 268.2294207457084,\n",
       " 268.2288351583117,\n",
       " 268.2282520900431,\n",
       " 268.22767085277616,\n",
       " 268.22709073819374,\n",
       " 268.2265117943919,\n",
       " 268.22593392964853,\n",
       " 268.2253565319108,\n",
       " 268.2247787785163,\n",
       " 268.2242009180557,\n",
       " 268.2236250412444,\n",
       " 268.2230499274091,\n",
       " 268.2224784957904,\n",
       " 268.22191360465905,\n",
       " 268.22135542942124,\n",
       " 268.2208027890191,\n",
       " 268.22025353827183,\n",
       " 268.2197058634858,\n",
       " 268.21915946373423,\n",
       " 268.21861534009344,\n",
       " 268.21807429978713,\n",
       " 268.2175370226171,\n",
       " 268.21700096038717,\n",
       " 268.21646543369496,\n",
       " 268.21592973945775,\n",
       " 268.21539241995526,\n",
       " 268.214853312985,\n",
       " 268.21431563169807,\n",
       " 268.2137823673818,\n",
       " 268.2132548238719,\n",
       " 268.21273545553254,\n",
       " 268.2122198156441,\n",
       " 268.2117021032477,\n",
       " 268.2111823400666,\n",
       " 268.21066403999737,\n",
       " 268.21015142125344,\n",
       " 268.2096462093569,\n",
       " 268.2091358280346,\n",
       " 268.2086219808846,\n",
       " 268.20810998188585,\n",
       " 268.20759991747275,\n",
       " 268.2070939641757,\n",
       " 268.20658276946756,\n",
       " 268.2060700241184,\n",
       " 268.205558373105,\n",
       " 268.20505125212213,\n",
       " 268.2045416928164,\n",
       " 268.2040304043634,\n",
       " 268.2035205694156,\n",
       " 268.203013723806,\n",
       " 268.2025117980152,\n",
       " 268.20201186017175,\n",
       " 268.20151325550523,\n",
       " 268.2010154483806,\n",
       " 268.20051814618904,\n",
       " 268.2000217089569]"
      ]
     },
     "execution_count": 16,
     "metadata": {},
     "output_type": "execute_result"
    }
   ],
   "source": [
    "loss_list"
   ]
  },
  {
   "cell_type": "code",
   "execution_count": null,
   "id": "d4409665",
   "metadata": {},
   "outputs": [],
   "source": []
  }
 ],
 "metadata": {
  "kernelspec": {
   "display_name": "Python 3",
   "language": "python",
   "name": "python3"
  },
  "language_info": {
   "codemirror_mode": {
    "name": "ipython",
    "version": 3
   },
   "file_extension": ".py",
   "mimetype": "text/x-python",
   "name": "python",
   "nbconvert_exporter": "python",
   "pygments_lexer": "ipython3",
   "version": "3.8.12"
  }
 },
 "nbformat": 4,
 "nbformat_minor": 5
}
